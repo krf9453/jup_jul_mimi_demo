{
 "cells": [
  {
   "cell_type": "code",
   "execution_count": 1,
   "metadata": {},
   "outputs": [
    {
     "data": {
      "text/plain": [
       "20-element Vector{Union{Missing, Float64}}:\n",
       " 0.0006665021679208962\n",
       " 0.001685252607895144\n",
       " 0.0066365250004638094\n",
       " 0.03152990011066583\n",
       " 0.04820290338429678\n",
       " 0.055376926044734286\n",
       " 0.0608845042740465\n",
       " 0.06271985386656528\n",
       " 0.06273364632202484\n",
       " 0.05962544353200111\n",
       " 0.06269404109612917\n",
       " 0.06498804269587775\n",
       " 0.0687781324182431\n",
       " 0.07231560704855108\n",
       " 0.07523991975094899\n",
       " 0.0789508106581279\n",
       " 0.08250375735492096\n",
       " 0.08240755470176922\n",
       " 0.0851518351752692\n",
       " 0.08554850554222129"
      ]
     },
     "execution_count": 1,
     "metadata": {},
     "output_type": "execute_result"
    }
   ],
   "source": [
    "\n",
    "#running MimiCIAM\n",
    "using MimiCIAM\n",
    "using Mimi\n",
    "#using plots\n",
    "m = MimiCIAM.get_model()\n",
    "run(m)\n",
    "\n",
    "\n",
    "\n",
    "\n",
    "m[:slrcost, :NoAdaptCost][:,1]\n",
    "\n"
   ]
  },
  {
   "cell_type": "code",
   "execution_count": 3,
   "metadata": {},
   "outputs": [
    {
     "data": {
      "text/plain": [
       "20-element Vector{Union{Missing, Float64}}:\n",
       " 0.0006665021679208962\n",
       " 0.001685252607895144\n",
       " 0.0066365250004638094\n",
       " 0.03152990011066583\n",
       " 0.04820290338429678\n",
       " 0.055376926044734286\n",
       " 0.0608845042740465\n",
       " 0.06271985386656528\n",
       " 0.06273364632202484\n",
       " 0.05962544353200111\n",
       " 0.06269404109612917\n",
       " 0.06498804269587775\n",
       " 0.0687781324182431\n",
       " 0.07231560704855108\n",
       " 0.07523991975094899\n",
       " 0.0789508106581279\n",
       " 0.08250375735492096\n",
       " 0.08240755470176922\n",
       " 0.0851518351752692\n",
       " 0.08554850554222129"
      ]
     },
     "execution_count": 3,
     "metadata": {},
     "output_type": "execute_result"
    }
   ],
   "source": [
    "cost5 = m[:slrcost, :NoAdaptCost][:,1]"
   ]
  },
  {
   "cell_type": "code",
   "execution_count": 2,
   "metadata": {},
   "outputs": [
    {
     "data": {
      "text/plain": [
       "60"
      ]
     },
     "execution_count": 2,
     "metadata": {},
     "output_type": "execute_result"
    }
   ],
   "source": [
    "run_name = \"change_ssp\"\n",
    "\n",
    "init_settings = Dict(\n",
    "        :init_filename   => string(\"$run_name\", \"_init.csv\"),\n",
    "        :lslrfile        => \"lsl_rcp85_p50.csv\",\n",
    "        :subset          => false,\n",
    "        :ssp             => \"IIASAGDP_SSP1_v9_130219\",\n",
    "        :ssp_simplified  => 1\n",
    "    )\n",
    "\n",
    "MimiCIAM.write_init_file(run_name, \"..\", init_settings)\n"
   ]
  },
  {
   "cell_type": "code",
   "execution_count": 8,
   "metadata": {},
   "outputs": [
    {
     "data": {
      "text/plain": [
       "20-element Vector{Union{Missing, Float64}}:\n",
       " 0.0006665021679208962\n",
       " 0.0016979776847001068\n",
       " 0.006751398774696817\n",
       " 0.031954105113484774\n",
       " 0.0484221394292956\n",
       " 0.0552027964381485\n",
       " 0.06037390655059208\n",
       " 0.0619215226826376\n",
       " 0.06182315280883782\n",
       " 0.05859481365504485\n",
       " 0.06178383964217872\n",
       " 0.06415883353767046\n",
       " 0.06812561961390444\n",
       " 0.07182736771838981\n",
       " 0.07488325453840446\n",
       " 0.07877811727579666\n",
       " 0.08250776412989264\n",
       " 0.08237417658191018\n",
       " 0.08526645907678702\n",
       " 0.08576257282795888"
      ]
     },
     "execution_count": 8,
     "metadata": {},
     "output_type": "execute_result"
    }
   ],
   "source": [
    "m1 = MimiCIAM.get_model(initfile=\"/Users/krfek/Downloads/gitdemo/change_ssp_init.csv\")\n",
    "run(m1)\n",
    "cost1 = m1[:slrcost, :NoAdaptCost][:,1]"
   ]
  },
  {
   "cell_type": "code",
   "execution_count": 9,
   "metadata": {},
   "outputs": [
    {
     "data": {
      "text/plain": [
       "74"
      ]
     },
     "execution_count": 9,
     "metadata": {},
     "output_type": "execute_result"
    }
   ],
   "source": [
    "run_name = \"my_subset_run\"\n",
    "subset_name = \"segments_usa.csv\"\n",
    "\n",
    "\n",
    "init_settings = Dict(\n",
    "        :init_filename   => string(\"$run_name\", \"_init.csv\"),\n",
    "        :lslrfile        => \"lsl_rcp85_p50.csv\",\n",
    "        :subset          => subset_name,\n",
    "        :ssp             => \"IIASAGDP_SSP5_v9_130219\",\n",
    "        :ssp_simplified  => 5\n",
    "    )\n",
    "\n",
    "MimiCIAM.write_init_file(run_name, \"..\", init_settings)\n",
    "\n"
   ]
  },
  {
   "cell_type": "code",
   "execution_count": 10,
   "metadata": {},
   "outputs": [
    {
     "data": {
      "text/plain": [
       "Mimi.Model\n",
       "  Module: Mimi\n",
       "  Components:\n",
       "    ComponentId(MimiCIAM.slrcost)\n",
       "  Built: false\n"
      ]
     },
     "execution_count": 10,
     "metadata": {},
     "output_type": "execute_result"
    }
   ],
   "source": [
    "m1 = MimiCIAM.get_model(initfile=\"/Users/krfek/Downloads/gitdemo/my_subset_run_init.csv\")"
   ]
  },
  {
   "cell_type": "code",
   "execution_count": 11,
   "metadata": {},
   "outputs": [],
   "source": [
    "run(m1)"
   ]
  },
  {
   "cell_type": "code",
   "execution_count": 12,
   "metadata": {},
   "outputs": [
    {
     "data": {
      "text/plain": [
       "20×1077 Matrix{Union{Missing, Float64}}:\n",
       " 0.0346601  0.00524383  0.00448586  …  0.00291525  0.00514672  0.00660525\n",
       " 0.0597209  0.0113183   0.00920726     0.00406398  0.00827324  0.0106829\n",
       " 0.118471   0.0588036   0.0490733      0.00579766  0.0126749   0.0164186\n",
       " 0.238768   0.242482    0.304296       0.00920497  0.0231145   0.0300781\n",
       " 0.324924   0.293247    0.387907       0.0129333   0.0358226   0.0466995\n",
       " 0.415451   0.350144    0.460095    …  0.0123417   0.0475967   0.0614994\n",
       " 0.401058   0.389165    0.519014       0.0167124   0.0614235   0.0783192\n",
       " 0.497484   0.446366    0.593097       0.0216128   0.0793264   0.0978889\n",
       " 0.53599    0.492897    0.655721       0.0216539   0.066889    0.0791765\n",
       " 0.624448   0.541141    0.717649       0.0260571   0.080165    0.0925851\n",
       " 0.717917   0.555364    0.730971    …  0.0318871   0.122227    0.133709\n",
       " 0.74796    0.558039    0.733422       0.034807    0.134916    0.142465\n",
       " 0.752311   0.560743    0.735901       0.0346147   0.139818    0.140615\n",
       " 0.751384   0.561016    0.736151       0.0303501   0.147545    0.143092\n",
       " 0.426079   0.524978    0.706911       0.0212984   0.152301    0.142618\n",
       " 0.407462   0.50754     0.692932    …  0.021821    0.154703    0.136125\n",
       " 0.406025   0.507604    0.693061       0.0223595   0.154189    0.128221\n",
       " 0.415046   0.50785     0.69509        0.0221987   0.151881    0.125084\n",
       " 0.420122   0.508008    0.710356       0.0268405   0.164548    0.132393\n",
       " 0.420122   0.508008    0.710356       0.0268405   0.168025    0.132393"
      ]
     },
     "execution_count": 12,
     "metadata": {},
     "output_type": "execute_result"
    }
   ],
   "source": [
    "m1[:slrcost,:NoAdaptCost]"
   ]
  },
  {
   "cell_type": "code",
   "execution_count": 47,
   "metadata": {},
   "outputs": [
    {
     "ename": "LoadError",
     "evalue": "BoundsError: attempt to access 20×4 view(::Matrix{Union{Missing, Float64}}, 1:20, :) with eltype Union{Missing, Float64} at index [1, 0]",
     "output_type": "error",
     "traceback": [
      "BoundsError: attempt to access 20×4 view(::Matrix{Union{Missing, Float64}}, 1:20, :) with eltype Union{Missing, Float64} at index [1, 0]",
      "",
      "Stacktrace:",
      "  [1] throw_boundserror(A::SubArray{Union{Missing, Float64}, 2, Matrix{Union{Missing, Float64}}, Tuple{UnitRange{Int64}, Base.Slice{Base.OneTo{Int64}}}, false}, I::Tuple{Int64, Int64})",
      "    @ Base .\\abstractarray.jl:703",
      "  [2] checkbounds",
      "    @ .\\abstractarray.jl:668 [inlined]",
      "  [3] getindex",
      "    @ .\\subarray.jl:281 [inlined]",
      "  [4] getindex",
      "    @ C:\\Users\\krfek\\.julia\\packages\\Mimi\\OClro\\src\\core\\time_arrays.jl:278 [inlined]",
      "  [5] macro expansion",
      "    @ C:\\Users\\krfek\\.julia\\packages\\MimiCIAM\\dbhiy\\src\\slrcost.jl:266 [inlined]",
      "  [6] run_timestep_MimiCIAM_slrcost(p::Mimi.ComponentInstanceParameters{NamedTuple{(:segID, :xsc, :rcp, :percentile, :ssp, :tstep, :at, :ntsteps, :fixed, :noRetreat, :allowMaintain, :popinput, :pop, :refpopdens, :rgn_ind_usa, :popdens, :ypcc, :refA_R, :refA_H, :landinput, :gtapland, :dvbm, :kgdp, :discountrate, :depr, :rgn_ind_canada, :length, :cci, :pcfixed, :mc, :pc0, :mobcapfrac, :movefactor, :capmovefactor, :democost, :psig0, :psig0coef, :psigA, :psigB, :rsig0, :rsigA, :rsigB, :floodmortality, :vsl_exogenous, :vsl_ciam_country, :vslel, :vslmult, :wvbm, :wetland, :wmaxrate, :wvel, :wvpdl, :lslr, :adaptoptions, :surgeexposure, :area1, :area2, :area3, :area4, :area5, :area6, :area7, :area8, :area9, :area10, :area11, :area12, :area13, :area14, :area15), Tuple{Vector{Union{Missing, Float64}}, Mimi.ScalarModelParameter{Dict{Int64, Tuple{Int64, Int64, Int64}}}, Mimi.ScalarModelParameter{Int64}, Mimi.ScalarModelParameter{Int64}, Mimi.ScalarModelParameter{Int64}, Mimi.ScalarModelParameter{Float64}, Vector{Union{Missing, Float64}}, Mimi.ScalarModelParameter{Int64}, Mimi.ScalarModelParameter{Bool}, Mimi.ScalarModelParameter{Bool}, Mimi.ScalarModelParameter{Bool}, Mimi.ScalarModelParameter{Int64}, Mimi.TimestepArray{Mimi.FixedTimestep{1, 1, 20}, Union{Missing, Float64}, 2, 1, SubArray{Union{Missing, Float64}, 2, Matrix{Union{Missing, Float64}}, Tuple{UnitRange{Int64}, Base.Slice{Base.OneTo{Int64}}}, false}}, Vector{Union{Missing, Float64}}, Mimi.ScalarModelParameter{Int64}, Vector{Union{Missing, Float64}}, Mimi.TimestepArray{Mimi.FixedTimestep{1, 1, 20}, Union{Missing, Float64}, 2, 1, SubArray{Union{Missing, Float64}, 2, Matrix{Union{Missing, Float64}}, Tuple{UnitRange{Int64}, Base.Slice{Base.OneTo{Int64}}}, false}}, Vector{Union{Missing, Float64}}, Vector{Union{Missing, Float64}}, Mimi.ScalarModelParameter{Bool}, Vector{Union{Missing, Float64}}, Mimi.ScalarModelParameter{Float64}, Mimi.ScalarModelParameter{Float64}, Mimi.ScalarModelParameter{Float64}, Mimi.ScalarModelParameter{Float64}, Mimi.ScalarModelParameter{Int64}, Vector{Union{Missing, Float64}}, Vector{Union{Missing, Float64}}, Mimi.ScalarModelParameter{Float64}, Mimi.ScalarModelParameter{Float64}, Mimi.ScalarModelParameter{Float64}, Mimi.ScalarModelParameter{Float64}, Mimi.ScalarModelParameter{Float64}, Mimi.ScalarModelParameter{Float64}, Mimi.ScalarModelParameter{Float64}, Vector{Union{Missing, Float64}}, Vector{Union{Missing, Float64}}, Vector{Union{Missing, Float64}}, Vector{Union{Missing, Float64}}, Vector{Union{Missing, Float64}}, Vector{Union{Missing, Float64}}, Vector{Union{Missing, Float64}}, Mimi.ScalarModelParameter{Float64}, Mimi.ScalarModelParameter{Bool}, Mimi.TimestepArray{Mimi.FixedTimestep{1, 1, 20}, Union{Missing, Float64}, 2, 1, SubArray{Union{Missing, Float64}, 2, Matrix{Union{Missing, Float64}}, Tuple{UnitRange{Int64}, Base.Slice{Base.OneTo{Int64}}}, false}}, Mimi.ScalarModelParameter{Float64}, Mimi.ScalarModelParameter{Float64}, Mimi.ScalarModelParameter{Float64}, Vector{Union{Missing, Float64}}, Mimi.ScalarModelParameter{Float64}, Mimi.ScalarModelParameter{Float64}, Mimi.ScalarModelParameter{Float64}, Mimi.TimestepArray{Mimi.FixedTimestep{1, 1, 20}, Union{Missing, Float64}, 2, 1, SubArray{Union{Missing, Float64}, 2, Matrix{Union{Missing, Float64}}, Tuple{UnitRange{Int64}, Base.Slice{Base.OneTo{Int64}}}, false}}, Vector{Union{Missing, Float64}}, Matrix{Union{Missing, Float64}}, Vector{Union{Missing, Float64}}, Vector{Union{Missing, Float64}}, Vector{Union{Missing, Float64}}, Vector{Union{Missing, Float64}}, Vector{Union{Missing, Float64}}, Vector{Union{Missing, Float64}}, Vector{Union{Missing, Float64}}, Vector{Union{Missing, Float64}}, Vector{Union{Missing, Float64}}, Vector{Union{Missing, Float64}}, Vector{Union{Missing, Float64}}, Vector{Union{Missing, Float64}}, Vector{Union{Missing, Float64}}, Vector{Union{Missing, Float64}}, Vector{Union{Missing, Float64}}}}}, v::Mimi.ComponentInstanceVariables{NamedTuple{(:popdens_seg, :ypc_seg, :landdata, :fundland, :land_appr, :coastland, :landvalue, :landrent, :ρ, :capital, :discountfactor, :vsl, :wetlandservice, :wetlandloss, :areaparams, :coastArea, :WetlandNoAdapt, :FloodNoAdapt, :StormCapitalNoAdapt, :StormPopNoAdapt, :RelocateNoAdapt, :StormLossNoAdapt, :DryLandLossNoAdapt, :Construct, :WetlandProtect, :StormCapitalProtect, :StormPopProtect, :StormLossProtect, :FloodProtect, :WetlandRetreat, :StormCapitalRetreat, :StormPopRetreat, :StormLossRetreat, :FloodRetreat, :RelocateRetreat, :DryLandLossRetreat, :coastAreaRetreat, :coastAreaNoAdapt, :H, :R, :SIGMA, :OptimalH, :OptimalR, :WetlandLossOptimal, :DryLandLossOptimal, :WetlandLost, :NoAdaptCost, :ProtectCost, :RetreatCost, :OptimalRetreatLevel, :OptimalProtectLevel, :OptimalCost, :OptimalLevel, :OptimalOption, :NPVRetreat, :NPVProtect, :NPVNoAdapt, :NPVOptimal, :NPVOptimalTotal, :StormLossOptimal, :OptimalStormCapital, :OptimalStormPop, :OptimalConstruct, :OptimalWetland, :OptimalFlood, :OptimalRelocate), Tuple{Mimi.TimestepArray{Mimi.FixedTimestep{1, 1, 20}, Union{Missing, Float64}, 2, 1, SubArray{Union{Missing, Float64}, 2, Matrix{Union{Missing, Float64}}, Tuple{UnitRange{Int64}, Base.Slice{Base.OneTo{Int64}}}, false}}, Mimi.TimestepArray{Mimi.FixedTimestep{1, 1, 20}, Union{Missing, Float64}, 2, 1, SubArray{Union{Missing, Float64}, 2, Matrix{Union{Missing, Float64}}, Tuple{UnitRange{Int64}, Base.Slice{Base.OneTo{Int64}}}, false}}, Vector{Float64}, Vector{Float64}, Mimi.TimestepArray{Mimi.FixedTimestep{1, 1, 20}, Union{Missing, Float64}, 2, 1, SubArray{Union{Missing, Float64}, 2, Matrix{Union{Missing, Float64}}, Tuple{UnitRange{Int64}, Base.Slice{Base.OneTo{Int64}}}, false}}, Mimi.TimestepArray{Mimi.FixedTimestep{1, 1, 20}, Union{Missing, Float64}, 2, 1, SubArray{Union{Missing, Float64}, 2, Matrix{Union{Missing, Float64}}, Tuple{UnitRange{Int64}, Base.Slice{Base.OneTo{Int64}}}, false}}, Mimi.TimestepArray{Mimi.FixedTimestep{1, 1, 20}, Union{Missing, Float64}, 2, 1, SubArray{Union{Missing, Float64}, 2, Matrix{Union{Missing, Float64}}, Tuple{UnitRange{Int64}, Base.Slice{Base.OneTo{Int64}}}, false}}, Mimi.TimestepArray{Mimi.FixedTimestep{1, 1, 20}, Union{Missing, Float64}, 2, 1, SubArray{Union{Missing, Float64}, 2, Matrix{Union{Missing, Float64}}, Tuple{UnitRange{Int64}, Base.Slice{Base.OneTo{Int64}}}, false}}, Mimi.TimestepArray{Mimi.FixedTimestep{1, 1, 20}, Union{Missing, Float64}, 2, 1, SubArray{Union{Missing, Float64}, 2, Matrix{Union{Missing, Float64}}, Tuple{UnitRange{Int64}, Base.Slice{Base.OneTo{Int64}}}, false}}, Mimi.TimestepArray{Mimi.FixedTimestep{1, 1, 20}, Union{Missing, Float64}, 2, 1, SubArray{Union{Missing, Float64}, 2, Matrix{Union{Missing, Float64}}, Tuple{UnitRange{Int64}, Base.Slice{Base.OneTo{Int64}}}, false}}, Mimi.TimestepArray{Mimi.FixedTimestep{1, 1, 20}, Union{Missing, Float64}, 1, 1, SubArray{Union{Missing, Float64}, 1, Vector{Union{Missing, Float64}}, Tuple{UnitRange{Int64}}, true}}, Mimi.TimestepArray{Mimi.FixedTimestep{1, 1, 20}, Union{Missing, Float64}, 2, 1, SubArray{Union{Missing, Float64}, 2, Matrix{Union{Missing, Float64}}, Tuple{UnitRange{Int64}, Base.Slice{Base.OneTo{Int64}}}, false}}, Mimi.TimestepArray{Mimi.FixedTimestep{1, 1, 20}, Union{Missing, Float64}, 2, 1, SubArray{Union{Missing, Float64}, 2, Matrix{Union{Missing, Float64}}, Tuple{UnitRange{Int64}, Base.Slice{Base.OneTo{Int64}}}, false}}, Mimi.TimestepArray{Mimi.FixedTimestep{1, 1, 20}, Union{Missing, Float64}, 2, 1, SubArray{Union{Missing, Float64}, 2, Matrix{Union{Missing, Float64}}, Tuple{UnitRange{Int64}, Base.Slice{Base.OneTo{Int64}}}, false}}, Matrix{Float64}, Mimi.TimestepArray{Mimi.FixedTimestep{1, 1, 20}, Union{Missing, Float64}, 2, 1, SubArray{Union{Missing, Float64}, 2, Matrix{Union{Missing, Float64}}, Tuple{UnitRange{Int64}, Base.Slice{Base.OneTo{Int64}}}, false}}, Mimi.TimestepArray{Mimi.FixedTimestep{1, 1, 20}, Union{Missing, Float64}, 2, 1, SubArray{Union{Missing, Float64}, 2, Matrix{Union{Missing, Float64}}, Tuple{UnitRange{Int64}, Base.Slice{Base.OneTo{Int64}}}, false}}, Mimi.TimestepArray{Mimi.FixedTimestep{1, 1, 20}, Union{Missing, Float64}, 2, 1, SubArray{Union{Missing, Float64}, 2, Matrix{Union{Missing, Float64}}, Tuple{UnitRange{Int64}, Base.Slice{Base.OneTo{Int64}}}, false}}, Mimi.TimestepArray{Mimi.FixedTimestep{1, 1, 20}, Union{Missing, Float64}, 2, 1, SubArray{Union{Missing, Float64}, 2, Matrix{Union{Missing, Float64}}, Tuple{UnitRange{Int64}, Base.Slice{Base.OneTo{Int64}}}, false}}, Mimi.TimestepArray{Mimi.FixedTimestep{1, 1, 20}, Union{Missing, Float64}, 2, 1, SubArray{Union{Missing, Float64}, 2, Matrix{Union{Missing, Float64}}, Tuple{UnitRange{Int64}, Base.Slice{Base.OneTo{Int64}}}, false}}, Mimi.TimestepArray{Mimi.FixedTimestep{1, 1, 20}, Union{Missing, Float64}, 2, 1, SubArray{Union{Missing, Float64}, 2, Matrix{Union{Missing, Float64}}, Tuple{UnitRange{Int64}, Base.Slice{Base.OneTo{Int64}}}, false}}, Mimi.TimestepArray{Mimi.FixedTimestep{1, 1, 20}, Union{Missing, Float64}, 2, 1, SubArray{Union{Missing, Float64}, 2, Matrix{Union{Missing, Float64}}, Tuple{UnitRange{Int64}, Base.Slice{Base.OneTo{Int64}}}, false}}, Mimi.TimestepArray{Mimi.FixedTimestep{1, 1, 20}, Union{Missing, Float64}, 2, 1, SubArray{Union{Missing, Float64}, 2, Matrix{Union{Missing, Float64}}, Tuple{UnitRange{Int64}, Base.Slice{Base.OneTo{Int64}}}, false}}, Mimi.TimestepArray{Mimi.FixedTimestep{1, 1, 20}, Union{Missing, Float64}, 3, 1, SubArray{Union{Missing, Float64}, 3, Array{Union{Missing, Float64}, 3}, Tuple{UnitRange{Int64}, Base.Slice{Base.OneTo{Int64}}, Base.Slice{Base.OneTo{Int64}}}, false}}, Mimi.TimestepArray{Mimi.FixedTimestep{1, 1, 20}, Union{Missing, Float64}, 2, 1, SubArray{Union{Missing, Float64}, 2, Matrix{Union{Missing, Float64}}, Tuple{UnitRange{Int64}, Base.Slice{Base.OneTo{Int64}}}, false}}, Mimi.TimestepArray{Mimi.FixedTimestep{1, 1, 20}, Union{Missing, Float64}, 3, 1, SubArray{Union{Missing, Float64}, 3, Array{Union{Missing, Float64}, 3}, Tuple{UnitRange{Int64}, Base.Slice{Base.OneTo{Int64}}, Base.Slice{Base.OneTo{Int64}}}, false}}, Mimi.TimestepArray{Mimi.FixedTimestep{1, 1, 20}, Union{Missing, Float64}, 3, 1, SubArray{Union{Missing, Float64}, 3, Array{Union{Missing, Float64}, 3}, Tuple{UnitRange{Int64}, Base.Slice{Base.OneTo{Int64}}, Base.Slice{Base.OneTo{Int64}}}, false}}, Mimi.TimestepArray{Mimi.FixedTimestep{1, 1, 20}, Union{Missing, Float64}, 3, 1, SubArray{Union{Missing, Float64}, 3, Array{Union{Missing, Float64}, 3}, Tuple{UnitRange{Int64}, Base.Slice{Base.OneTo{Int64}}, Base.Slice{Base.OneTo{Int64}}}, false}}, Mimi.TimestepArray{Mimi.FixedTimestep{1, 1, 20}, Union{Missing, Float64}, 2, 1, SubArray{Union{Missing, Float64}, 2, Matrix{Union{Missing, Float64}}, Tuple{UnitRange{Int64}, Base.Slice{Base.OneTo{Int64}}}, false}}, Mimi.TimestepArray{Mimi.FixedTimestep{1, 1, 20}, Union{Missing, Float64}, 2, 1, SubArray{Union{Missing, Float64}, 2, Matrix{Union{Missing, Float64}}, Tuple{UnitRange{Int64}, Base.Slice{Base.OneTo{Int64}}}, false}}, Mimi.TimestepArray{Mimi.FixedTimestep{1, 1, 20}, Union{Missing, Float64}, 3, 1, SubArray{Union{Missing, Float64}, 3, Array{Union{Missing, Float64}, 3}, Tuple{UnitRange{Int64}, Base.Slice{Base.OneTo{Int64}}, Base.Slice{Base.OneTo{Int64}}}, false}}, Mimi.TimestepArray{Mimi.FixedTimestep{1, 1, 20}, Union{Missing, Float64}, 3, 1, SubArray{Union{Missing, Float64}, 3, Array{Union{Missing, Float64}, 3}, Tuple{UnitRange{Int64}, Base.Slice{Base.OneTo{Int64}}, Base.Slice{Base.OneTo{Int64}}}, false}}, Mimi.TimestepArray{Mimi.FixedTimestep{1, 1, 20}, Union{Missing, Float64}, 3, 1, SubArray{Union{Missing, Float64}, 3, Array{Union{Missing, Float64}, 3}, Tuple{UnitRange{Int64}, Base.Slice{Base.OneTo{Int64}}, Base.Slice{Base.OneTo{Int64}}}, false}}, Mimi.TimestepArray{Mimi.FixedTimestep{1, 1, 20}, Union{Missing, Float64}, 3, 1, SubArray{Union{Missing, Float64}, 3, Array{Union{Missing, Float64}, 3}, Tuple{UnitRange{Int64}, Base.Slice{Base.OneTo{Int64}}, Base.Slice{Base.OneTo{Int64}}}, false}}, Mimi.TimestepArray{Mimi.FixedTimestep{1, 1, 20}, Union{Missing, Float64}, 3, 1, SubArray{Union{Missing, Float64}, 3, Array{Union{Missing, Float64}, 3}, Tuple{UnitRange{Int64}, Base.Slice{Base.OneTo{Int64}}, Base.Slice{Base.OneTo{Int64}}}, false}}, Mimi.TimestepArray{Mimi.FixedTimestep{1, 1, 20}, Union{Missing, Float64}, 3, 1, SubArray{Union{Missing, Float64}, 3, Array{Union{Missing, Float64}, 3}, Tuple{UnitRange{Int64}, Base.Slice{Base.OneTo{Int64}}, Base.Slice{Base.OneTo{Int64}}}, false}}, Mimi.TimestepArray{Mimi.FixedTimestep{1, 1, 20}, Union{Missing, Float64}, 3, 1, SubArray{Union{Missing, Float64}, 3, Array{Union{Missing, Float64}, 3}, Tuple{UnitRange{Int64}, Base.Slice{Base.OneTo{Int64}}, Base.Slice{Base.OneTo{Int64}}}, false}}, Mimi.TimestepArray{Mimi.FixedTimestep{1, 1, 20}, Union{Missing, Float64}, 2, 1, SubArray{Union{Missing, Float64}, 2, Matrix{Union{Missing, Float64}}, Tuple{UnitRange{Int64}, Base.Slice{Base.OneTo{Int64}}}, false}}, Mimi.TimestepArray{Mimi.FixedTimestep{1, 1, 20}, Union{Missing, Float64}, 3, 1, SubArray{Union{Missing, Float64}, 3, Array{Union{Missing, Float64}, 3}, Tuple{UnitRange{Int64}, Base.Slice{Base.OneTo{Int64}}, Base.Slice{Base.OneTo{Int64}}}, false}}, Mimi.TimestepArray{Mimi.FixedTimestep{1, 1, 20}, Union{Missing, Float64}, 3, 1, SubArray{Union{Missing, Float64}, 3, Array{Union{Missing, Float64}, 3}, Tuple{UnitRange{Int64}, Base.Slice{Base.OneTo{Int64}}, Base.Slice{Base.OneTo{Int64}}}, false}}, Mimi.TimestepArray{Mimi.FixedTimestep{1, 1, 20}, Union{Missing, Float64}, 3, 1, SubArray{Union{Missing, Float64}, 3, Array{Union{Missing, Float64}, 3}, Tuple{UnitRange{Int64}, Base.Slice{Base.OneTo{Int64}}, Base.Slice{Base.OneTo{Int64}}}, false}}, Mimi.TimestepArray{Mimi.FixedTimestep{1, 1, 20}, Union{Missing, Float64}, 2, 1, SubArray{Union{Missing, Float64}, 2, Matrix{Union{Missing, Float64}}, Tuple{UnitRange{Int64}, Base.Slice{Base.OneTo{Int64}}}, false}}, Mimi.TimestepArray{Mimi.FixedTimestep{1, 1, 20}, Union{Missing, Float64}, 2, 1, SubArray{Union{Missing, Float64}, 2, Matrix{Union{Missing, Float64}}, Tuple{UnitRange{Int64}, Base.Slice{Base.OneTo{Int64}}}, false}}, Mimi.TimestepArray{Mimi.FixedTimestep{1, 1, 20}, Union{Missing, Float64}, 2, 1, SubArray{Union{Missing, Float64}, 2, Matrix{Union{Missing, Float64}}, Tuple{UnitRange{Int64}, Base.Slice{Base.OneTo{Int64}}}, false}}, Mimi.TimestepArray{Mimi.FixedTimestep{1, 1, 20}, Union{Missing, Float64}, 2, 1, SubArray{Union{Missing, Float64}, 2, Matrix{Union{Missing, Float64}}, Tuple{UnitRange{Int64}, Base.Slice{Base.OneTo{Int64}}}, false}}, Mimi.TimestepArray{Mimi.FixedTimestep{1, 1, 20}, Union{Missing, Float64}, 2, 1, SubArray{Union{Missing, Float64}, 2, Matrix{Union{Missing, Float64}}, Tuple{UnitRange{Int64}, Base.Slice{Base.OneTo{Int64}}}, false}}, Mimi.TimestepArray{Mimi.FixedTimestep{1, 1, 20}, Union{Missing, Float64}, 2, 1, SubArray{Union{Missing, Float64}, 2, Matrix{Union{Missing, Float64}}, Tuple{UnitRange{Int64}, Base.Slice{Base.OneTo{Int64}}}, false}}, Mimi.TimestepArray{Mimi.FixedTimestep{1, 1, 20}, Union{Missing, Float64}, 3, 1, SubArray{Union{Missing, Float64}, 3, Array{Union{Missing, Float64}, 3}, Tuple{UnitRange{Int64}, Base.Slice{Base.OneTo{Int64}}, Base.Slice{Base.OneTo{Int64}}}, false}}, Mimi.TimestepArray{Mimi.FixedTimestep{1, 1, 20}, Union{Missing, Float64}, 3, 1, SubArray{Union{Missing, Float64}, 3, Array{Union{Missing, Float64}, 3}, Tuple{UnitRange{Int64}, Base.Slice{Base.OneTo{Int64}}, Base.Slice{Base.OneTo{Int64}}}, false}}, Mimi.TimestepArray{Mimi.FixedTimestep{1, 1, 20}, Union{Missing, Float64}, 2, 1, SubArray{Union{Missing, Float64}, 2, Matrix{Union{Missing, Float64}}, Tuple{UnitRange{Int64}, Base.Slice{Base.OneTo{Int64}}}, false}}, Mimi.TimestepArray{Mimi.FixedTimestep{1, 1, 20}, Union{Missing, Float64}, 2, 1, SubArray{Union{Missing, Float64}, 2, Matrix{Union{Missing, Float64}}, Tuple{UnitRange{Int64}, Base.Slice{Base.OneTo{Int64}}}, false}}, Mimi.TimestepArray{Mimi.FixedTimestep{1, 1, 20}, Union{Missing, Float64}, 2, 1, SubArray{Union{Missing, Float64}, 2, Matrix{Union{Missing, Float64}}, Tuple{UnitRange{Int64}, Base.Slice{Base.OneTo{Int64}}}, false}}, Mimi.TimestepArray{Mimi.FixedTimestep{1, 1, 20}, Union{Missing, Float64}, 2, 1, SubArray{Union{Missing, Float64}, 2, Matrix{Union{Missing, Float64}}, Tuple{UnitRange{Int64}, Base.Slice{Base.OneTo{Int64}}}, false}}, Mimi.TimestepArray{Mimi.FixedTimestep{1, 1, 20}, Union{Missing, Float64}, 2, 1, SubArray{Union{Missing, Float64}, 2, Matrix{Union{Missing, Float64}}, Tuple{UnitRange{Int64}, Base.Slice{Base.OneTo{Int64}}}, false}}, Mimi.TimestepArray{Mimi.FixedTimestep{1, 1, 20}, Union{Missing, Float64}, 3, 1, SubArray{Union{Missing, Float64}, 3, Array{Union{Missing, Float64}, 3}, Tuple{UnitRange{Int64}, Base.Slice{Base.OneTo{Int64}}, Base.Slice{Base.OneTo{Int64}}}, false}}, Mimi.TimestepArray{Mimi.FixedTimestep{1, 1, 20}, Union{Missing, Float64}, 3, 1, SubArray{Union{Missing, Float64}, 3, Array{Union{Missing, Float64}, 3}, Tuple{UnitRange{Int64}, Base.Slice{Base.OneTo{Int64}}, Base.Slice{Base.OneTo{Int64}}}, false}}, Mimi.TimestepArray{Mimi.FixedTimestep{1, 1, 20}, Union{Missing, Float64}, 2, 1, SubArray{Union{Missing, Float64}, 2, Matrix{Union{Missing, Float64}}, Tuple{UnitRange{Int64}, Base.Slice{Base.OneTo{Int64}}}, false}}, Vector{Float64}, Mimi.ScalarModelParameter{Float64}, Mimi.TimestepArray{Mimi.FixedTimestep{1, 1, 20}, Union{Missing, Float64}, 2, 1, SubArray{Union{Missing, Float64}, 2, Matrix{Union{Missing, Float64}}, Tuple{UnitRange{Int64}, Base.Slice{Base.OneTo{Int64}}}, false}}, Mimi.TimestepArray{Mimi.FixedTimestep{1, 1, 20}, Union{Missing, Float64}, 2, 1, SubArray{Union{Missing, Float64}, 2, Matrix{Union{Missing, Float64}}, Tuple{UnitRange{Int64}, Base.Slice{Base.OneTo{Int64}}}, false}}, Mimi.TimestepArray{Mimi.FixedTimestep{1, 1, 20}, Union{Missing, Float64}, 2, 1, SubArray{Union{Missing, Float64}, 2, Matrix{Union{Missing, Float64}}, Tuple{UnitRange{Int64}, Base.Slice{Base.OneTo{Int64}}}, false}}, Mimi.TimestepArray{Mimi.FixedTimestep{1, 1, 20}, Union{Missing, Float64}, 2, 1, SubArray{Union{Missing, Float64}, 2, Matrix{Union{Missing, Float64}}, Tuple{UnitRange{Int64}, Base.Slice{Base.OneTo{Int64}}}, false}}, Mimi.TimestepArray{Mimi.FixedTimestep{1, 1, 20}, Union{Missing, Float64}, 2, 1, SubArray{Union{Missing, Float64}, 2, Matrix{Union{Missing, Float64}}, Tuple{UnitRange{Int64}, Base.Slice{Base.OneTo{Int64}}}, false}}, Mimi.TimestepArray{Mimi.FixedTimestep{1, 1, 20}, Union{Missing, Float64}, 2, 1, SubArray{Union{Missing, Float64}, 2, Matrix{Union{Missing, Float64}}, Tuple{UnitRange{Int64}, Base.Slice{Base.OneTo{Int64}}}, false}}, Mimi.TimestepArray{Mimi.FixedTimestep{1, 1, 20}, Union{Missing, Float64}, 2, 1, SubArray{Union{Missing, Float64}, 2, Matrix{Union{Missing, Float64}}, Tuple{UnitRange{Int64}, Base.Slice{Base.OneTo{Int64}}}, false}}}}}, d::NamedTuple{(:time, :adaptPers, :ciam_country, :segments, Symbol(\"6\"), Symbol(\"5\"), Symbol(\"15\"), Symbol(\"12\")), Tuple{Vector{Mimi.AbstractTimestep}, Vector{Int64}, Vector{Int64}, Vector{Int64}, Vector{Int64}, Vector{Int64}, Vector{Int64}, Vector{Int64}}}, t::Mimi.FixedTimestep{1, 1, 20})",
      "    @ MimiCIAM C:\\Users\\krfek\\.julia\\packages\\Mimi\\OClro\\src\\core\\defcomp.jl:216",
      "  [7] run_timestep(ci::Mimi.LeafComponentInstance{Mimi.ComponentInstanceVariables{NamedTuple{(:popdens_seg, :ypc_seg, :landdata, :fundland, :land_appr, :coastland, :landvalue, :landrent, :ρ, :capital, :discountfactor, :vsl, :wetlandservice, :wetlandloss, :areaparams, :coastArea, :WetlandNoAdapt, :FloodNoAdapt, :StormCapitalNoAdapt, :StormPopNoAdapt, :RelocateNoAdapt, :StormLossNoAdapt, :DryLandLossNoAdapt, :Construct, :WetlandProtect, :StormCapitalProtect, :StormPopProtect, :StormLossProtect, :FloodProtect, :WetlandRetreat, :StormCapitalRetreat, :StormPopRetreat, :StormLossRetreat, :FloodRetreat, :RelocateRetreat, :DryLandLossRetreat, :coastAreaRetreat, :coastAreaNoAdapt, :H, :R, :SIGMA, :OptimalH, :OptimalR, :WetlandLossOptimal, :DryLandLossOptimal, :WetlandLost, :NoAdaptCost, :ProtectCost, :RetreatCost, :OptimalRetreatLevel, :OptimalProtectLevel, :OptimalCost, :OptimalLevel, :OptimalOption, :NPVRetreat, :NPVProtect, :NPVNoAdapt, :NPVOptimal, :NPVOptimalTotal, :StormLossOptimal, :OptimalStormCapital, :OptimalStormPop, :OptimalConstruct, :OptimalWetland, :OptimalFlood, :OptimalRelocate), Tuple{Mimi.TimestepArray{Mimi.FixedTimestep{1, 1, 20}, Union{Missing, Float64}, 2, 1, SubArray{Union{Missing, Float64}, 2, Matrix{Union{Missing, Float64}}, Tuple{UnitRange{Int64}, Base.Slice{Base.OneTo{Int64}}}, false}}, Mimi.TimestepArray{Mimi.FixedTimestep{1, 1, 20}, Union{Missing, Float64}, 2, 1, SubArray{Union{Missing, Float64}, 2, Matrix{Union{Missing, Float64}}, Tuple{UnitRange{Int64}, Base.Slice{Base.OneTo{Int64}}}, false}}, Vector{Float64}, Vector{Float64}, Mimi.TimestepArray{Mimi.FixedTimestep{1, 1, 20}, Union{Missing, Float64}, 2, 1, SubArray{Union{Missing, Float64}, 2, Matrix{Union{Missing, Float64}}, Tuple{UnitRange{Int64}, Base.Slice{Base.OneTo{Int64}}}, false}}, Mimi.TimestepArray{Mimi.FixedTimestep{1, 1, 20}, Union{Missing, Float64}, 2, 1, SubArray{Union{Missing, Float64}, 2, Matrix{Union{Missing, Float64}}, Tuple{UnitRange{Int64}, Base.Slice{Base.OneTo{Int64}}}, false}}, Mimi.TimestepArray{Mimi.FixedTimestep{1, 1, 20}, Union{Missing, Float64}, 2, 1, SubArray{Union{Missing, Float64}, 2, Matrix{Union{Missing, Float64}}, Tuple{UnitRange{Int64}, Base.Slice{Base.OneTo{Int64}}}, false}}, Mimi.TimestepArray{Mimi.FixedTimestep{1, 1, 20}, Union{Missing, Float64}, 2, 1, SubArray{Union{Missing, Float64}, 2, Matrix{Union{Missing, Float64}}, Tuple{UnitRange{Int64}, Base.Slice{Base.OneTo{Int64}}}, false}}, Mimi.TimestepArray{Mimi.FixedTimestep{1, 1, 20}, Union{Missing, Float64}, 2, 1, SubArray{Union{Missing, Float64}, 2, Matrix{Union{Missing, Float64}}, Tuple{UnitRange{Int64}, Base.Slice{Base.OneTo{Int64}}}, false}}, Mimi.TimestepArray{Mimi.FixedTimestep{1, 1, 20}, Union{Missing, Float64}, 2, 1, SubArray{Union{Missing, Float64}, 2, Matrix{Union{Missing, Float64}}, Tuple{UnitRange{Int64}, Base.Slice{Base.OneTo{Int64}}}, false}}, Mimi.TimestepArray{Mimi.FixedTimestep{1, 1, 20}, Union{Missing, Float64}, 1, 1, SubArray{Union{Missing, Float64}, 1, Vector{Union{Missing, Float64}}, Tuple{UnitRange{Int64}}, true}}, Mimi.TimestepArray{Mimi.FixedTimestep{1, 1, 20}, Union{Missing, Float64}, 2, 1, SubArray{Union{Missing, Float64}, 2, Matrix{Union{Missing, Float64}}, Tuple{UnitRange{Int64}, Base.Slice{Base.OneTo{Int64}}}, false}}, Mimi.TimestepArray{Mimi.FixedTimestep{1, 1, 20}, Union{Missing, Float64}, 2, 1, SubArray{Union{Missing, Float64}, 2, Matrix{Union{Missing, Float64}}, Tuple{UnitRange{Int64}, Base.Slice{Base.OneTo{Int64}}}, false}}, Mimi.TimestepArray{Mimi.FixedTimestep{1, 1, 20}, Union{Missing, Float64}, 2, 1, SubArray{Union{Missing, Float64}, 2, Matrix{Union{Missing, Float64}}, Tuple{UnitRange{Int64}, Base.Slice{Base.OneTo{Int64}}}, false}}, Matrix{Float64}, Mimi.TimestepArray{Mimi.FixedTimestep{1, 1, 20}, Union{Missing, Float64}, 2, 1, SubArray{Union{Missing, Float64}, 2, Matrix{Union{Missing, Float64}}, Tuple{UnitRange{Int64}, Base.Slice{Base.OneTo{Int64}}}, false}}, Mimi.TimestepArray{Mimi.FixedTimestep{1, 1, 20}, Union{Missing, Float64}, 2, 1, SubArray{Union{Missing, Float64}, 2, Matrix{Union{Missing, Float64}}, Tuple{UnitRange{Int64}, Base.Slice{Base.OneTo{Int64}}}, false}}, Mimi.TimestepArray{Mimi.FixedTimestep{1, 1, 20}, Union{Missing, Float64}, 2, 1, SubArray{Union{Missing, Float64}, 2, Matrix{Union{Missing, Float64}}, Tuple{UnitRange{Int64}, Base.Slice{Base.OneTo{Int64}}}, false}}, Mimi.TimestepArray{Mimi.FixedTimestep{1, 1, 20}, Union{Missing, Float64}, 2, 1, SubArray{Union{Missing, Float64}, 2, Matrix{Union{Missing, Float64}}, Tuple{UnitRange{Int64}, Base.Slice{Base.OneTo{Int64}}}, false}}, Mimi.TimestepArray{Mimi.FixedTimestep{1, 1, 20}, Union{Missing, Float64}, 2, 1, SubArray{Union{Missing, Float64}, 2, Matrix{Union{Missing, Float64}}, Tuple{UnitRange{Int64}, Base.Slice{Base.OneTo{Int64}}}, false}}, Mimi.TimestepArray{Mimi.FixedTimestep{1, 1, 20}, Union{Missing, Float64}, 2, 1, SubArray{Union{Missing, Float64}, 2, Matrix{Union{Missing, Float64}}, Tuple{UnitRange{Int64}, Base.Slice{Base.OneTo{Int64}}}, false}}, Mimi.TimestepArray{Mimi.FixedTimestep{1, 1, 20}, Union{Missing, Float64}, 2, 1, SubArray{Union{Missing, Float64}, 2, Matrix{Union{Missing, Float64}}, Tuple{UnitRange{Int64}, Base.Slice{Base.OneTo{Int64}}}, false}}, Mimi.TimestepArray{Mimi.FixedTimestep{1, 1, 20}, Union{Missing, Float64}, 2, 1, SubArray{Union{Missing, Float64}, 2, Matrix{Union{Missing, Float64}}, Tuple{UnitRange{Int64}, Base.Slice{Base.OneTo{Int64}}}, false}}, Mimi.TimestepArray{Mimi.FixedTimestep{1, 1, 20}, Union{Missing, Float64}, 3, 1, SubArray{Union{Missing, Float64}, 3, Array{Union{Missing, Float64}, 3}, Tuple{UnitRange{Int64}, Base.Slice{Base.OneTo{Int64}}, Base.Slice{Base.OneTo{Int64}}}, false}}, Mimi.TimestepArray{Mimi.FixedTimestep{1, 1, 20}, Union{Missing, Float64}, 2, 1, SubArray{Union{Missing, Float64}, 2, Matrix{Union{Missing, Float64}}, Tuple{UnitRange{Int64}, Base.Slice{Base.OneTo{Int64}}}, false}}, Mimi.TimestepArray{Mimi.FixedTimestep{1, 1, 20}, Union{Missing, Float64}, 3, 1, SubArray{Union{Missing, Float64}, 3, Array{Union{Missing, Float64}, 3}, Tuple{UnitRange{Int64}, Base.Slice{Base.OneTo{Int64}}, Base.Slice{Base.OneTo{Int64}}}, false}}, Mimi.TimestepArray{Mimi.FixedTimestep{1, 1, 20}, Union{Missing, Float64}, 3, 1, SubArray{Union{Missing, Float64}, 3, Array{Union{Missing, Float64}, 3}, Tuple{UnitRange{Int64}, Base.Slice{Base.OneTo{Int64}}, Base.Slice{Base.OneTo{Int64}}}, false}}, Mimi.TimestepArray{Mimi.FixedTimestep{1, 1, 20}, Union{Missing, Float64}, 3, 1, SubArray{Union{Missing, Float64}, 3, Array{Union{Missing, Float64}, 3}, Tuple{UnitRange{Int64}, Base.Slice{Base.OneTo{Int64}}, Base.Slice{Base.OneTo{Int64}}}, false}}, Mimi.TimestepArray{Mimi.FixedTimestep{1, 1, 20}, Union{Missing, Float64}, 2, 1, SubArray{Union{Missing, Float64}, 2, Matrix{Union{Missing, Float64}}, Tuple{UnitRange{Int64}, Base.Slice{Base.OneTo{Int64}}}, false}}, Mimi.TimestepArray{Mimi.FixedTimestep{1, 1, 20}, Union{Missing, Float64}, 2, 1, SubArray{Union{Missing, Float64}, 2, Matrix{Union{Missing, Float64}}, Tuple{UnitRange{Int64}, Base.Slice{Base.OneTo{Int64}}}, false}}, Mimi.TimestepArray{Mimi.FixedTimestep{1, 1, 20}, Union{Missing, Float64}, 3, 1, SubArray{Union{Missing, Float64}, 3, Array{Union{Missing, Float64}, 3}, Tuple{UnitRange{Int64}, Base.Slice{Base.OneTo{Int64}}, Base.Slice{Base.OneTo{Int64}}}, false}}, Mimi.TimestepArray{Mimi.FixedTimestep{1, 1, 20}, Union{Missing, Float64}, 3, 1, SubArray{Union{Missing, Float64}, 3, Array{Union{Missing, Float64}, 3}, Tuple{UnitRange{Int64}, Base.Slice{Base.OneTo{Int64}}, Base.Slice{Base.OneTo{Int64}}}, false}}, Mimi.TimestepArray{Mimi.FixedTimestep{1, 1, 20}, Union{Missing, Float64}, 3, 1, SubArray{Union{Missing, Float64}, 3, Array{Union{Missing, Float64}, 3}, Tuple{UnitRange{Int64}, Base.Slice{Base.OneTo{Int64}}, Base.Slice{Base.OneTo{Int64}}}, false}}, Mimi.TimestepArray{Mimi.FixedTimestep{1, 1, 20}, Union{Missing, Float64}, 3, 1, SubArray{Union{Missing, Float64}, 3, Array{Union{Missing, Float64}, 3}, Tuple{UnitRange{Int64}, Base.Slice{Base.OneTo{Int64}}, Base.Slice{Base.OneTo{Int64}}}, false}}, Mimi.TimestepArray{Mimi.FixedTimestep{1, 1, 20}, Union{Missing, Float64}, 3, 1, SubArray{Union{Missing, Float64}, 3, Array{Union{Missing, Float64}, 3}, Tuple{UnitRange{Int64}, Base.Slice{Base.OneTo{Int64}}, Base.Slice{Base.OneTo{Int64}}}, false}}, Mimi.TimestepArray{Mimi.FixedTimestep{1, 1, 20}, Union{Missing, Float64}, 3, 1, SubArray{Union{Missing, Float64}, 3, Array{Union{Missing, Float64}, 3}, Tuple{UnitRange{Int64}, Base.Slice{Base.OneTo{Int64}}, Base.Slice{Base.OneTo{Int64}}}, false}}, Mimi.TimestepArray{Mimi.FixedTimestep{1, 1, 20}, Union{Missing, Float64}, 3, 1, SubArray{Union{Missing, Float64}, 3, Array{Union{Missing, Float64}, 3}, Tuple{UnitRange{Int64}, Base.Slice{Base.OneTo{Int64}}, Base.Slice{Base.OneTo{Int64}}}, false}}, Mimi.TimestepArray{Mimi.FixedTimestep{1, 1, 20}, Union{Missing, Float64}, 2, 1, SubArray{Union{Missing, Float64}, 2, Matrix{Union{Missing, Float64}}, Tuple{UnitRange{Int64}, Base.Slice{Base.OneTo{Int64}}}, false}}, Mimi.TimestepArray{Mimi.FixedTimestep{1, 1, 20}, Union{Missing, Float64}, 3, 1, SubArray{Union{Missing, Float64}, 3, Array{Union{Missing, Float64}, 3}, Tuple{UnitRange{Int64}, Base.Slice{Base.OneTo{Int64}}, Base.Slice{Base.OneTo{Int64}}}, false}}, Mimi.TimestepArray{Mimi.FixedTimestep{1, 1, 20}, Union{Missing, Float64}, 3, 1, SubArray{Union{Missing, Float64}, 3, Array{Union{Missing, Float64}, 3}, Tuple{UnitRange{Int64}, Base.Slice{Base.OneTo{Int64}}, Base.Slice{Base.OneTo{Int64}}}, false}}, Mimi.TimestepArray{Mimi.FixedTimestep{1, 1, 20}, Union{Missing, Float64}, 3, 1, SubArray{Union{Missing, Float64}, 3, Array{Union{Missing, Float64}, 3}, Tuple{UnitRange{Int64}, Base.Slice{Base.OneTo{Int64}}, Base.Slice{Base.OneTo{Int64}}}, false}}, Mimi.TimestepArray{Mimi.FixedTimestep{1, 1, 20}, Union{Missing, Float64}, 2, 1, SubArray{Union{Missing, Float64}, 2, Matrix{Union{Missing, Float64}}, Tuple{UnitRange{Int64}, Base.Slice{Base.OneTo{Int64}}}, false}}, Mimi.TimestepArray{Mimi.FixedTimestep{1, 1, 20}, Union{Missing, Float64}, 2, 1, SubArray{Union{Missing, Float64}, 2, Matrix{Union{Missing, Float64}}, Tuple{UnitRange{Int64}, Base.Slice{Base.OneTo{Int64}}}, false}}, Mimi.TimestepArray{Mimi.FixedTimestep{1, 1, 20}, Union{Missing, Float64}, 2, 1, SubArray{Union{Missing, Float64}, 2, Matrix{Union{Missing, Float64}}, Tuple{UnitRange{Int64}, Base.Slice{Base.OneTo{Int64}}}, false}}, Mimi.TimestepArray{Mimi.FixedTimestep{1, 1, 20}, Union{Missing, Float64}, 2, 1, SubArray{Union{Missing, Float64}, 2, Matrix{Union{Missing, Float64}}, Tuple{UnitRange{Int64}, Base.Slice{Base.OneTo{Int64}}}, false}}, Mimi.TimestepArray{Mimi.FixedTimestep{1, 1, 20}, Union{Missing, Float64}, 2, 1, SubArray{Union{Missing, Float64}, 2, Matrix{Union{Missing, Float64}}, Tuple{UnitRange{Int64}, Base.Slice{Base.OneTo{Int64}}}, false}}, Mimi.TimestepArray{Mimi.FixedTimestep{1, 1, 20}, Union{Missing, Float64}, 2, 1, SubArray{Union{Missing, Float64}, 2, Matrix{Union{Missing, Float64}}, Tuple{UnitRange{Int64}, Base.Slice{Base.OneTo{Int64}}}, false}}, Mimi.TimestepArray{Mimi.FixedTimestep{1, 1, 20}, Union{Missing, Float64}, 3, 1, SubArray{Union{Missing, Float64}, 3, Array{Union{Missing, Float64}, 3}, Tuple{UnitRange{Int64}, Base.Slice{Base.OneTo{Int64}}, Base.Slice{Base.OneTo{Int64}}}, false}}, Mimi.TimestepArray{Mimi.FixedTimestep{1, 1, 20}, Union{Missing, Float64}, 3, 1, SubArray{Union{Missing, Float64}, 3, Array{Union{Missing, Float64}, 3}, Tuple{UnitRange{Int64}, Base.Slice{Base.OneTo{Int64}}, Base.Slice{Base.OneTo{Int64}}}, false}}, Mimi.TimestepArray{Mimi.FixedTimestep{1, 1, 20}, Union{Missing, Float64}, 2, 1, SubArray{Union{Missing, Float64}, 2, Matrix{Union{Missing, Float64}}, Tuple{UnitRange{Int64}, Base.Slice{Base.OneTo{Int64}}}, false}}, Mimi.TimestepArray{Mimi.FixedTimestep{1, 1, 20}, Union{Missing, Float64}, 2, 1, SubArray{Union{Missing, Float64}, 2, Matrix{Union{Missing, Float64}}, Tuple{UnitRange{Int64}, Base.Slice{Base.OneTo{Int64}}}, false}}, Mimi.TimestepArray{Mimi.FixedTimestep{1, 1, 20}, Union{Missing, Float64}, 2, 1, SubArray{Union{Missing, Float64}, 2, Matrix{Union{Missing, Float64}}, Tuple{UnitRange{Int64}, Base.Slice{Base.OneTo{Int64}}}, false}}, Mimi.TimestepArray{Mimi.FixedTimestep{1, 1, 20}, Union{Missing, Float64}, 2, 1, SubArray{Union{Missing, Float64}, 2, Matrix{Union{Missing, Float64}}, Tuple{UnitRange{Int64}, Base.Slice{Base.OneTo{Int64}}}, false}}, Mimi.TimestepArray{Mimi.FixedTimestep{1, 1, 20}, Union{Missing, Float64}, 2, 1, SubArray{Union{Missing, Float64}, 2, Matrix{Union{Missing, Float64}}, Tuple{UnitRange{Int64}, Base.Slice{Base.OneTo{Int64}}}, false}}, Mimi.TimestepArray{Mimi.FixedTimestep{1, 1, 20}, Union{Missing, Float64}, 3, 1, SubArray{Union{Missing, Float64}, 3, Array{Union{Missing, Float64}, 3}, Tuple{UnitRange{Int64}, Base.Slice{Base.OneTo{Int64}}, Base.Slice{Base.OneTo{Int64}}}, false}}, Mimi.TimestepArray{Mimi.FixedTimestep{1, 1, 20}, Union{Missing, Float64}, 3, 1, SubArray{Union{Missing, Float64}, 3, Array{Union{Missing, Float64}, 3}, Tuple{UnitRange{Int64}, Base.Slice{Base.OneTo{Int64}}, Base.Slice{Base.OneTo{Int64}}}, false}}, Mimi.TimestepArray{Mimi.FixedTimestep{1, 1, 20}, Union{Missing, Float64}, 2, 1, SubArray{Union{Missing, Float64}, 2, Matrix{Union{Missing, Float64}}, Tuple{UnitRange{Int64}, Base.Slice{Base.OneTo{Int64}}}, false}}, Vector{Float64}, Mimi.ScalarModelParameter{Float64}, Mimi.TimestepArray{Mimi.FixedTimestep{1, 1, 20}, Union{Missing, Float64}, 2, 1, SubArray{Union{Missing, Float64}, 2, Matrix{Union{Missing, Float64}}, Tuple{UnitRange{Int64}, Base.Slice{Base.OneTo{Int64}}}, false}}, Mimi.TimestepArray{Mimi.FixedTimestep{1, 1, 20}, Union{Missing, Float64}, 2, 1, SubArray{Union{Missing, Float64}, 2, Matrix{Union{Missing, Float64}}, Tuple{UnitRange{Int64}, Base.Slice{Base.OneTo{Int64}}}, false}}, Mimi.TimestepArray{Mimi.FixedTimestep{1, 1, 20}, Union{Missing, Float64}, 2, 1, SubArray{Union{Missing, Float64}, 2, Matrix{Union{Missing, Float64}}, Tuple{UnitRange{Int64}, Base.Slice{Base.OneTo{Int64}}}, false}}, Mimi.TimestepArray{Mimi.FixedTimestep{1, 1, 20}, Union{Missing, Float64}, 2, 1, SubArray{Union{Missing, Float64}, 2, Matrix{Union{Missing, Float64}}, Tuple{UnitRange{Int64}, Base.Slice{Base.OneTo{Int64}}}, false}}, Mimi.TimestepArray{Mimi.FixedTimestep{1, 1, 20}, Union{Missing, Float64}, 2, 1, SubArray{Union{Missing, Float64}, 2, Matrix{Union{Missing, Float64}}, Tuple{UnitRange{Int64}, Base.Slice{Base.OneTo{Int64}}}, false}}, Mimi.TimestepArray{Mimi.FixedTimestep{1, 1, 20}, Union{Missing, Float64}, 2, 1, SubArray{Union{Missing, Float64}, 2, Matrix{Union{Missing, Float64}}, Tuple{UnitRange{Int64}, Base.Slice{Base.OneTo{Int64}}}, false}}, Mimi.TimestepArray{Mimi.FixedTimestep{1, 1, 20}, Union{Missing, Float64}, 2, 1, SubArray{Union{Missing, Float64}, 2, Matrix{Union{Missing, Float64}}, Tuple{UnitRange{Int64}, Base.Slice{Base.OneTo{Int64}}}, false}}}}}, Mimi.ComponentInstanceParameters{NamedTuple{(:segID, :xsc, :rcp, :percentile, :ssp, :tstep, :at, :ntsteps, :fixed, :noRetreat, :allowMaintain, :popinput, :pop, :refpopdens, :rgn_ind_usa, :popdens, :ypcc, :refA_R, :refA_H, :landinput, :gtapland, :dvbm, :kgdp, :discountrate, :depr, :rgn_ind_canada, :length, :cci, :pcfixed, :mc, :pc0, :mobcapfrac, :movefactor, :capmovefactor, :democost, :psig0, :psig0coef, :psigA, :psigB, :rsig0, :rsigA, :rsigB, :floodmortality, :vsl_exogenous, :vsl_ciam_country, :vslel, :vslmult, :wvbm, :wetland, :wmaxrate, :wvel, :wvpdl, :lslr, :adaptoptions, :surgeexposure, :area1, :area2, :area3, :area4, :area5, :area6, :area7, :area8, :area9, :area10, :area11, :area12, :area13, :area14, :area15), Tuple{Vector{Union{Missing, Float64}}, Mimi.ScalarModelParameter{Dict{Int64, Tuple{Int64, Int64, Int64}}}, Mimi.ScalarModelParameter{Int64}, Mimi.ScalarModelParameter{Int64}, Mimi.ScalarModelParameter{Int64}, Mimi.ScalarModelParameter{Float64}, Vector{Union{Missing, Float64}}, Mimi.ScalarModelParameter{Int64}, Mimi.ScalarModelParameter{Bool}, Mimi.ScalarModelParameter{Bool}, Mimi.ScalarModelParameter{Bool}, Mimi.ScalarModelParameter{Int64}, Mimi.TimestepArray{Mimi.FixedTimestep{1, 1, 20}, Union{Missing, Float64}, 2, 1, SubArray{Union{Missing, Float64}, 2, Matrix{Union{Missing, Float64}}, Tuple{UnitRange{Int64}, Base.Slice{Base.OneTo{Int64}}}, false}}, Vector{Union{Missing, Float64}}, Mimi.ScalarModelParameter{Int64}, Vector{Union{Missing, Float64}}, Mimi.TimestepArray{Mimi.FixedTimestep{1, 1, 20}, Union{Missing, Float64}, 2, 1, SubArray{Union{Missing, Float64}, 2, Matrix{Union{Missing, Float64}}, Tuple{UnitRange{Int64}, Base.Slice{Base.OneTo{Int64}}}, false}}, Vector{Union{Missing, Float64}}, Vector{Union{Missing, Float64}}, Mimi.ScalarModelParameter{Bool}, Vector{Union{Missing, Float64}}, Mimi.ScalarModelParameter{Float64}, Mimi.ScalarModelParameter{Float64}, Mimi.ScalarModelParameter{Float64}, Mimi.ScalarModelParameter{Float64}, Mimi.ScalarModelParameter{Int64}, Vector{Union{Missing, Float64}}, Vector{Union{Missing, Float64}}, Mimi.ScalarModelParameter{Float64}, Mimi.ScalarModelParameter{Float64}, Mimi.ScalarModelParameter{Float64}, Mimi.ScalarModelParameter{Float64}, Mimi.ScalarModelParameter{Float64}, Mimi.ScalarModelParameter{Float64}, Mimi.ScalarModelParameter{Float64}, Vector{Union{Missing, Float64}}, Vector{Union{Missing, Float64}}, Vector{Union{Missing, Float64}}, Vector{Union{Missing, Float64}}, Vector{Union{Missing, Float64}}, Vector{Union{Missing, Float64}}, Vector{Union{Missing, Float64}}, Mimi.ScalarModelParameter{Float64}, Mimi.ScalarModelParameter{Bool}, Mimi.TimestepArray{Mimi.FixedTimestep{1, 1, 20}, Union{Missing, Float64}, 2, 1, SubArray{Union{Missing, Float64}, 2, Matrix{Union{Missing, Float64}}, Tuple{UnitRange{Int64}, Base.Slice{Base.OneTo{Int64}}}, false}}, Mimi.ScalarModelParameter{Float64}, Mimi.ScalarModelParameter{Float64}, Mimi.ScalarModelParameter{Float64}, Vector{Union{Missing, Float64}}, Mimi.ScalarModelParameter{Float64}, Mimi.ScalarModelParameter{Float64}, Mimi.ScalarModelParameter{Float64}, Mimi.TimestepArray{Mimi.FixedTimestep{1, 1, 20}, Union{Missing, Float64}, 2, 1, SubArray{Union{Missing, Float64}, 2, Matrix{Union{Missing, Float64}}, Tuple{UnitRange{Int64}, Base.Slice{Base.OneTo{Int64}}}, false}}, Vector{Union{Missing, Float64}}, Matrix{Union{Missing, Float64}}, Vector{Union{Missing, Float64}}, Vector{Union{Missing, Float64}}, Vector{Union{Missing, Float64}}, Vector{Union{Missing, Float64}}, Vector{Union{Missing, Float64}}, Vector{Union{Missing, Float64}}, Vector{Union{Missing, Float64}}, Vector{Union{Missing, Float64}}, Vector{Union{Missing, Float64}}, Vector{Union{Missing, Float64}}, Vector{Union{Missing, Float64}}, Vector{Union{Missing, Float64}}, Vector{Union{Missing, Float64}}, Vector{Union{Missing, Float64}}, Vector{Union{Missing, Float64}}}}}}, clock::Mimi.Clock{Mimi.FixedTimestep}, dims::NamedTuple{(:time, :adaptPers, :ciam_country, :segments, Symbol(\"6\"), Symbol(\"5\"), Symbol(\"15\"), Symbol(\"12\")), Tuple{Vector{Mimi.AbstractTimestep}, Vector{Int64}, Vector{Int64}, Vector{Int64}, Vector{Int64}, Vector{Int64}, Vector{Int64}, Vector{Int64}}})",
      "    @ Mimi C:\\Users\\krfek\\.julia\\packages\\Mimi\\OClro\\src\\core\\instances.jl:317",
      "  [8] run_timestep(cci::Mimi.ModelInstance, clock::Mimi.Clock{Mimi.FixedTimestep}, dims::NamedTuple{(:time, :adaptPers, :ciam_country, :segments, Symbol(\"6\"), Symbol(\"5\"), Symbol(\"15\"), Symbol(\"12\")), Tuple{Vector{Mimi.AbstractTimestep}, Vector{Int64}, Vector{Int64}, Vector{Int64}, Vector{Int64}, Vector{Int64}, Vector{Int64}, Vector{Int64}}})",
      "    @ Mimi C:\\Users\\krfek\\.julia\\packages\\Mimi\\OClro\\src\\core\\instances.jl:326",
      "  [9] run(mi::Mimi.ModelInstance, ntimesteps::Int64, dimkeys::Nothing)",
      "    @ Mimi C:\\Users\\krfek\\.julia\\packages\\Mimi\\OClro\\src\\core\\instances.jl:366",
      " [10] run(m::Model; ntimesteps::Int64, rebuild::Bool, dim_keys::Nothing)",
      "    @ Mimi C:\\Users\\krfek\\.julia\\packages\\Mimi\\OClro\\src\\core\\model.jl:539",
      " [11] run(m::Model)",
      "    @ Mimi C:\\Users\\krfek\\.julia\\packages\\Mimi\\OClro\\src\\core\\model.jl:527",
      " [12] top-level scope",
      "    @ In[47]:2"
     ]
    }
   ],
   "source": [
    "test = MimiCIAM.get_model(initfile=\"../my_subset_run_init.csv\")\n",
    "run(test)\n",
    "#test[:slrcost, :NoAdaptCost]"
   ]
  }
 ],
 "metadata": {
  "kernelspec": {
   "display_name": "Julia 1.8.5",
   "language": "julia",
   "name": "julia-1.8"
  },
  "language_info": {
   "file_extension": ".jl",
   "mimetype": "application/julia",
   "name": "julia",
   "version": "1.8.5"
  },
  "orig_nbformat": 4
 },
 "nbformat": 4,
 "nbformat_minor": 2
}
