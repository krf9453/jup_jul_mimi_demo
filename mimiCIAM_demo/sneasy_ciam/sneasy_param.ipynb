{
 "cells": [
  {
   "cell_type": "code",
   "execution_count": 3,
   "metadata": {},
   "outputs": [],
   "source": [
    "#1\n",
    "#=\n",
    "sneasy_param.ipynb: from slr data from Sneasy Brick, downscale segments in the US Gulf coast then run them through \n",
    "CIAM, creating CSV's of data output including net present value optimal, optimal cost,\n",
    "no adapt cost, and optimal adaptation strategy\n",
    "run this for 10000 trials of parameters, save parameter data\n",
    "for the outputs, the rows are the segements, and the columns are typically models/trials from Sneasy's data\n",
    "=#\n",
    "\n",
    "\n",
    "using MimiCIAM\n",
    "using Mimi\n",
    "using PlotlyJS\n",
    "using NetCDF\n",
    "using CSV\n",
    "using DataFrames\n",
    "using Distributions"
   ]
  },
  {
   "cell_type": "code",
   "execution_count": 4,
   "metadata": {},
   "outputs": [
    {
     "data": {
      "text/plain": [
       "run_ciam_data_f (generic function with 3 methods)"
      ]
     },
     "metadata": {},
     "output_type": "display_data"
    }
   ],
   "source": [
    "#2\n",
    "include(\"../downscaling.jl\")\n",
    "include(\"../run_ciam_data_function.jl\")\n"
   ]
  },
  {
   "attachments": {},
   "cell_type": "markdown",
   "metadata": {},
   "source": [
    "Reading data"
   ]
  },
  {
   "cell_type": "code",
   "execution_count": 5,
   "metadata": {},
   "outputs": [
    {
     "data": {
      "text/html": [
       "<div><div style = \"float: left;\"><span>451×10000 DataFrame</span></div><div style = \"float: right;\"><span style = \"font-style: italic;\">9900 columns and 426 rows omitted</span></div><div style = \"clear: both;\"></div></div><div class = \"data-frame\" style = \"overflow-x: scroll;\"><table class = \"data-frame\" style = \"margin-bottom: 6px;\"><thead><tr class = \"header\"><th class = \"rowNumber\" style = \"font-weight: bold; text-align: right;\">Row</th><th style = \"text-align: left;\">x1</th><th style = \"text-align: left;\">x2</th><th style = \"text-align: left;\">x3</th><th style = \"text-align: left;\">x4</th><th style = \"text-align: left;\">x5</th><th style = \"text-align: left;\">x6</th><th style = \"text-align: left;\">x7</th><th style = \"text-align: left;\">x8</th><th style = \"text-align: left;\">x9</th><th style = \"text-align: left;\">x10</th><th style = \"text-align: left;\">x11</th><th style = \"text-align: left;\">x12</th><th style = \"text-align: left;\">x13</th><th style = \"text-align: left;\">x14</th><th style = \"text-align: left;\">x15</th><th style = \"text-align: left;\">x16</th><th style = \"text-align: left;\">x17</th><th style = \"text-align: left;\">x18</th><th style = \"text-align: left;\">x19</th><th style = \"text-align: left;\">x20</th><th style = \"text-align: left;\">x21</th><th style = \"text-align: left;\">x22</th><th style = \"text-align: left;\">x23</th><th style = \"text-align: left;\">x24</th><th style = \"text-align: left;\">x25</th><th style = \"text-align: left;\">x26</th><th style = \"text-align: left;\">x27</th><th style = \"text-align: left;\">x28</th><th style = \"text-align: left;\">x29</th><th style = \"text-align: left;\">x30</th><th style = \"text-align: left;\">x31</th><th style = \"text-align: left;\">x32</th><th style = \"text-align: left;\">x33</th><th style = \"text-align: left;\">x34</th><th style = \"text-align: left;\">x35</th><th style = \"text-align: left;\">x36</th><th style = \"text-align: left;\">x37</th><th style = \"text-align: left;\">x38</th><th style = \"text-align: left;\">x39</th><th style = \"text-align: left;\">x40</th><th style = \"text-align: left;\">x41</th><th style = \"text-align: left;\">x42</th><th style = \"text-align: left;\">x43</th><th style = \"text-align: left;\">x44</th><th style = \"text-align: left;\">x45</th><th style = \"text-align: left;\">x46</th><th style = \"text-align: left;\">x47</th><th style = \"text-align: left;\">x48</th><th style = \"text-align: left;\">x49</th><th style = \"text-align: left;\">x50</th><th style = \"text-align: left;\">x51</th><th style = \"text-align: left;\">x52</th><th style = \"text-align: left;\">x53</th><th style = \"text-align: left;\">x54</th><th style = \"text-align: left;\">x55</th><th style = \"text-align: left;\">x56</th><th style = \"text-align: left;\">x57</th><th style = \"text-align: left;\">x58</th><th style = \"text-align: left;\">x59</th><th style = \"text-align: left;\">x60</th><th style = \"text-align: left;\">x61</th><th style = \"text-align: left;\">x62</th><th style = \"text-align: left;\">x63</th><th style = \"text-align: left;\">x64</th><th style = \"text-align: left;\">x65</th><th style = \"text-align: left;\">x66</th><th style = \"text-align: left;\">x67</th><th style = \"text-align: left;\">x68</th><th style = \"text-align: left;\">x69</th><th style = \"text-align: left;\">x70</th><th style = \"text-align: left;\">x71</th><th style = \"text-align: left;\">x72</th><th style = \"text-align: left;\">x73</th><th style = \"text-align: left;\">x74</th><th style = \"text-align: left;\">x75</th><th style = \"text-align: left;\">x76</th><th style = \"text-align: left;\">x77</th><th style = \"text-align: left;\">x78</th><th style = \"text-align: left;\">x79</th><th style = \"text-align: left;\">x80</th><th style = \"text-align: left;\">x81</th><th style = \"text-align: left;\">x82</th><th style = \"text-align: left;\">x83</th><th style = \"text-align: left;\">x84</th><th style = \"text-align: left;\">x85</th><th style = \"text-align: left;\">x86</th><th style = \"text-align: left;\">x87</th><th style = \"text-align: left;\">x88</th><th style = \"text-align: left;\">x89</th><th style = \"text-align: left;\">x90</th><th style = \"text-align: left;\">x91</th><th style = \"text-align: left;\">x92</th><th style = \"text-align: left;\">x93</th><th style = \"text-align: left;\">x94</th><th style = \"text-align: left;\">x95</th><th style = \"text-align: left;\">x96</th><th style = \"text-align: left;\">x97</th><th style = \"text-align: left;\">x98</th><th style = \"text-align: left;\">x99</th><th style = \"text-align: left;\">x100</th><th style = \"text-align: right;\">&ctdot;</th></tr><tr class = \"subheader headerLastRow\"><th class = \"rowNumber\" style = \"font-weight: bold; text-align: right;\"></th><th title = \"Float64\" style = \"text-align: left;\">Float64</th><th title = \"Float64\" style = \"text-align: left;\">Float64</th><th title = \"Float64\" style = \"text-align: left;\">Float64</th><th title = \"Float64\" style = \"text-align: left;\">Float64</th><th title = \"Float64\" style = \"text-align: left;\">Float64</th><th title = \"Float64\" style = \"text-align: left;\">Float64</th><th title = \"Float64\" style = \"text-align: left;\">Float64</th><th title = \"Float64\" style = \"text-align: left;\">Float64</th><th title = \"Float64\" style = \"text-align: left;\">Float64</th><th title = \"Float64\" style = \"text-align: left;\">Float64</th><th title = \"Float64\" style = \"text-align: left;\">Float64</th><th title = \"Float64\" style = \"text-align: left;\">Float64</th><th title = \"Float64\" style = \"text-align: left;\">Float64</th><th title = \"Float64\" style = \"text-align: left;\">Float64</th><th title = \"Float64\" style = \"text-align: left;\">Float64</th><th title = \"Float64\" style = \"text-align: left;\">Float64</th><th title = \"Float64\" style = \"text-align: left;\">Float64</th><th title = \"Float64\" style = \"text-align: left;\">Float64</th><th title = \"Float64\" style = \"text-align: left;\">Float64</th><th title = \"Float64\" style = \"text-align: left;\">Float64</th><th title = \"Float64\" style = \"text-align: left;\">Float64</th><th title = \"Float64\" style = \"text-align: left;\">Float64</th><th title = \"Float64\" style = \"text-align: left;\">Float64</th><th title = \"Float64\" style = \"text-align: left;\">Float64</th><th title = \"Float64\" style = \"text-align: left;\">Float64</th><th title = \"Float64\" style = \"text-align: left;\">Float64</th><th title = \"Float64\" style = \"text-align: left;\">Float64</th><th title = \"Float64\" style = \"text-align: left;\">Float64</th><th title = \"Float64\" style = \"text-align: left;\">Float64</th><th title = \"Float64\" style = \"text-align: left;\">Float64</th><th title = \"Float64\" style = \"text-align: left;\">Float64</th><th title = \"Float64\" style = \"text-align: left;\">Float64</th><th title = \"Float64\" style = \"text-align: left;\">Float64</th><th title = \"Float64\" style = \"text-align: left;\">Float64</th><th title = \"Float64\" style = \"text-align: left;\">Float64</th><th title = \"Float64\" style = \"text-align: left;\">Float64</th><th title = \"Float64\" style = \"text-align: left;\">Float64</th><th title = \"Float64\" style = \"text-align: left;\">Float64</th><th title = \"Float64\" style = \"text-align: left;\">Float64</th><th title = \"Float64\" style = \"text-align: left;\">Float64</th><th title = \"Float64\" style = \"text-align: left;\">Float64</th><th title = \"Float64\" style = \"text-align: left;\">Float64</th><th title = \"Float64\" style = \"text-align: left;\">Float64</th><th title = \"Float64\" style = \"text-align: left;\">Float64</th><th title = \"Float64\" style = \"text-align: left;\">Float64</th><th title = \"Float64\" style = \"text-align: left;\">Float64</th><th title = \"Float64\" style = \"text-align: left;\">Float64</th><th title = \"Float64\" style = \"text-align: left;\">Float64</th><th title = \"Float64\" style = \"text-align: left;\">Float64</th><th title = \"Float64\" style = \"text-align: left;\">Float64</th><th title = \"Float64\" style = \"text-align: left;\">Float64</th><th title = \"Float64\" style = \"text-align: left;\">Float64</th><th title = \"Float64\" style = \"text-align: left;\">Float64</th><th title = \"Float64\" style = \"text-align: left;\">Float64</th><th title = \"Float64\" style = \"text-align: left;\">Float64</th><th title = \"Float64\" style = \"text-align: left;\">Float64</th><th title = \"Float64\" style = \"text-align: left;\">Float64</th><th title = \"Float64\" style = \"text-align: left;\">Float64</th><th title = \"Float64\" style = \"text-align: left;\">Float64</th><th title = \"Float64\" style = \"text-align: left;\">Float64</th><th title = \"Float64\" style = \"text-align: left;\">Float64</th><th title = \"Float64\" style = \"text-align: left;\">Float64</th><th title = \"Float64\" style = \"text-align: left;\">Float64</th><th title = \"Float64\" style = \"text-align: left;\">Float64</th><th title = \"Float64\" style = \"text-align: left;\">Float64</th><th title = \"Float64\" style = \"text-align: left;\">Float64</th><th title = \"Float64\" style = \"text-align: left;\">Float64</th><th title = \"Float64\" style = \"text-align: left;\">Float64</th><th title = \"Float64\" style = \"text-align: left;\">Float64</th><th title = \"Float64\" style = \"text-align: left;\">Float64</th><th title = \"Float64\" style = \"text-align: left;\">Float64</th><th title = \"Float64\" style = \"text-align: left;\">Float64</th><th title = \"Float64\" style = \"text-align: left;\">Float64</th><th title = \"Float64\" style = \"text-align: left;\">Float64</th><th title = \"Float64\" style = \"text-align: left;\">Float64</th><th title = \"Float64\" style = \"text-align: left;\">Float64</th><th title = \"Float64\" style = \"text-align: left;\">Float64</th><th title = \"Float64\" style = \"text-align: left;\">Float64</th><th title = \"Float64\" style = \"text-align: left;\">Float64</th><th title = \"Float64\" style = \"text-align: left;\">Float64</th><th title = \"Float64\" style = \"text-align: left;\">Float64</th><th title = \"Float64\" style = \"text-align: left;\">Float64</th><th title = \"Float64\" style = \"text-align: left;\">Float64</th><th title = \"Float64\" style = \"text-align: left;\">Float64</th><th title = \"Float64\" style = \"text-align: left;\">Float64</th><th title = \"Float64\" style = \"text-align: left;\">Float64</th><th title = \"Float64\" style = \"text-align: left;\">Float64</th><th title = \"Float64\" style = \"text-align: left;\">Float64</th><th title = \"Float64\" style = \"text-align: left;\">Float64</th><th title = \"Float64\" style = \"text-align: left;\">Float64</th><th title = \"Float64\" style = \"text-align: left;\">Float64</th><th title = \"Float64\" style = \"text-align: left;\">Float64</th><th title = \"Float64\" style = \"text-align: left;\">Float64</th><th title = \"Float64\" style = \"text-align: left;\">Float64</th><th title = \"Float64\" style = \"text-align: left;\">Float64</th><th title = \"Float64\" style = \"text-align: left;\">Float64</th><th title = \"Float64\" style = \"text-align: left;\">Float64</th><th title = \"Float64\" style = \"text-align: left;\">Float64</th><th title = \"Float64\" style = \"text-align: left;\">Float64</th><th title = \"Float64\" style = \"text-align: left;\">Float64</th><th title = \"Float64\" style = \"text-align: right;\">&ctdot;</th></tr></thead><tbody><tr><td class = \"rowNumber\" style = \"font-weight: bold; text-align: right;\">1</td><td style = \"text-align: right;\">-0.154001</td><td style = \"text-align: right;\">-0.152378</td><td style = \"text-align: right;\">-0.13832</td><td style = \"text-align: right;\">-0.190903</td><td style = \"text-align: right;\">-0.0909671</td><td style = \"text-align: right;\">-0.107157</td><td style = \"text-align: right;\">-0.107471</td><td style = \"text-align: right;\">-0.175071</td><td style = \"text-align: right;\">0.00329118</td><td style = \"text-align: right;\">-0.124439</td><td style = \"text-align: right;\">-0.241963</td><td style = \"text-align: right;\">-0.191096</td><td style = \"text-align: right;\">-0.0374594</td><td style = \"text-align: right;\">-0.107977</td><td style = \"text-align: right;\">-0.171806</td><td style = \"text-align: right;\">-0.0406856</td><td style = \"text-align: right;\">-0.132156</td><td style = \"text-align: right;\">-0.0386427</td><td style = \"text-align: right;\">-0.0776097</td><td style = \"text-align: right;\">-0.157261</td><td style = \"text-align: right;\">-0.196005</td><td style = \"text-align: right;\">-0.139731</td><td style = \"text-align: right;\">-0.171433</td><td style = \"text-align: right;\">-0.219722</td><td style = \"text-align: right;\">-0.0861081</td><td style = \"text-align: right;\">-0.126549</td><td style = \"text-align: right;\">-0.170693</td><td style = \"text-align: right;\">-0.0727316</td><td style = \"text-align: right;\">-0.138534</td><td style = \"text-align: right;\">-0.132613</td><td style = \"text-align: right;\">-0.0442634</td><td style = \"text-align: right;\">-0.167135</td><td style = \"text-align: right;\">-0.135552</td><td style = \"text-align: right;\">-0.13552</td><td style = \"text-align: right;\">-0.15154</td><td style = \"text-align: right;\">-0.195733</td><td style = \"text-align: right;\">-0.0503788</td><td style = \"text-align: right;\">-0.137933</td><td style = \"text-align: right;\">-0.056919</td><td style = \"text-align: right;\">-0.110344</td><td style = \"text-align: right;\">-0.174851</td><td style = \"text-align: right;\">-0.121954</td><td style = \"text-align: right;\">-0.0261881</td><td style = \"text-align: right;\">-0.190627</td><td style = \"text-align: right;\">-0.102319</td><td style = \"text-align: right;\">-0.186949</td><td style = \"text-align: right;\">-0.0985081</td><td style = \"text-align: right;\">-0.219043</td><td style = \"text-align: right;\">-0.125521</td><td style = \"text-align: right;\">-0.0765</td><td style = \"text-align: right;\">-0.192236</td><td style = \"text-align: right;\">-0.113795</td><td style = \"text-align: right;\">-0.123018</td><td style = \"text-align: right;\">-0.135911</td><td style = \"text-align: right;\">-0.0999893</td><td style = \"text-align: right;\">-0.0635513</td><td style = \"text-align: right;\">-0.125339</td><td style = \"text-align: right;\">-0.161951</td><td style = \"text-align: right;\">-0.143</td><td style = \"text-align: right;\">-0.198579</td><td style = \"text-align: right;\">-0.128625</td><td style = \"text-align: right;\">-0.0947574</td><td style = \"text-align: right;\">-0.183687</td><td style = \"text-align: right;\">-0.0602605</td><td style = \"text-align: right;\">-0.148709</td><td style = \"text-align: right;\">-0.17422</td><td style = \"text-align: right;\">-0.190984</td><td style = \"text-align: right;\">-0.0113189</td><td style = \"text-align: right;\">-0.206109</td><td style = \"text-align: right;\">-0.141493</td><td style = \"text-align: right;\">-0.164335</td><td style = \"text-align: right;\">-0.24565</td><td style = \"text-align: right;\">-0.071948</td><td style = \"text-align: right;\">-0.135471</td><td style = \"text-align: right;\">-0.180145</td><td style = \"text-align: right;\">-0.0694726</td><td style = \"text-align: right;\">-0.15152</td><td style = \"text-align: right;\">-0.152766</td><td style = \"text-align: right;\">-0.0279172</td><td style = \"text-align: right;\">-0.129846</td><td style = \"text-align: right;\">-0.128634</td><td style = \"text-align: right;\">-0.144433</td><td style = \"text-align: right;\">-0.151635</td><td style = \"text-align: right;\">-0.170574</td><td style = \"text-align: right;\">-0.109084</td><td style = \"text-align: right;\">-0.179444</td><td style = \"text-align: right;\">-0.118101</td><td style = \"text-align: right;\">-0.183775</td><td style = \"text-align: right;\">-0.138527</td><td style = \"text-align: right;\">-0.197735</td><td style = \"text-align: right;\">-0.122748</td><td style = \"text-align: right;\">-0.0633126</td><td style = \"text-align: right;\">-0.105614</td><td style = \"text-align: right;\">-0.158245</td><td style = \"text-align: right;\">-0.135082</td><td style = \"text-align: right;\">-0.161152</td><td style = \"text-align: right;\">-0.198097</td><td style = \"text-align: right;\">-0.0942303</td><td style = \"text-align: right;\">-0.0169109</td><td style = \"text-align: right;\">-0.17072</td><td style = \"text-align: right;\">&ctdot;</td></tr><tr><td class = \"rowNumber\" style = \"font-weight: bold; text-align: right;\">2</td><td style = \"text-align: right;\">-0.173539</td><td style = \"text-align: right;\">-0.126757</td><td style = \"text-align: right;\">-0.167549</td><td style = \"text-align: right;\">-0.144453</td><td style = \"text-align: right;\">-0.138944</td><td style = \"text-align: right;\">-0.122211</td><td style = \"text-align: right;\">-0.0880347</td><td style = \"text-align: right;\">-0.182372</td><td style = \"text-align: right;\">-0.0798365</td><td style = \"text-align: right;\">-0.0993328</td><td style = \"text-align: right;\">-0.17468</td><td style = \"text-align: right;\">-0.13596</td><td style = \"text-align: right;\">-0.104102</td><td style = \"text-align: right;\">-0.133068</td><td style = \"text-align: right;\">-0.12258</td><td style = \"text-align: right;\">-0.10387</td><td style = \"text-align: right;\">-0.124668</td><td style = \"text-align: right;\">-0.115195</td><td style = \"text-align: right;\">-0.148217</td><td style = \"text-align: right;\">-0.193955</td><td style = \"text-align: right;\">-0.145567</td><td style = \"text-align: right;\">-0.181728</td><td style = \"text-align: right;\">-0.105204</td><td style = \"text-align: right;\">-0.13488</td><td style = \"text-align: right;\">-0.105452</td><td style = \"text-align: right;\">-0.163376</td><td style = \"text-align: right;\">-0.140655</td><td style = \"text-align: right;\">-0.0947886</td><td style = \"text-align: right;\">-0.131438</td><td style = \"text-align: right;\">-0.0729415</td><td style = \"text-align: right;\">-0.090269</td><td style = \"text-align: right;\">-0.172844</td><td style = \"text-align: right;\">-0.182573</td><td style = \"text-align: right;\">-0.171943</td><td style = \"text-align: right;\">-0.1445</td><td style = \"text-align: right;\">-0.168406</td><td style = \"text-align: right;\">-0.101705</td><td style = \"text-align: right;\">-0.185707</td><td style = \"text-align: right;\">-0.108433</td><td style = \"text-align: right;\">-0.155026</td><td style = \"text-align: right;\">-0.118469</td><td style = \"text-align: right;\">-0.0990595</td><td style = \"text-align: right;\">-0.0828548</td><td style = \"text-align: right;\">-0.134144</td><td style = \"text-align: right;\">-0.14257</td><td style = \"text-align: right;\">-0.156891</td><td style = \"text-align: right;\">-0.181147</td><td style = \"text-align: right;\">-0.209676</td><td style = \"text-align: right;\">-0.0102027</td><td style = \"text-align: right;\">-0.0733447</td><td style = \"text-align: right;\">-0.177543</td><td style = \"text-align: right;\">-0.157737</td><td style = \"text-align: right;\">-0.0881197</td><td style = \"text-align: right;\">-0.124282</td><td style = \"text-align: right;\">-0.0906836</td><td style = \"text-align: right;\">-0.111802</td><td style = \"text-align: right;\">-0.164702</td><td style = \"text-align: right;\">-0.168881</td><td style = \"text-align: right;\">-0.142494</td><td style = \"text-align: right;\">-0.139035</td><td style = \"text-align: right;\">-0.134444</td><td style = \"text-align: right;\">-0.142102</td><td style = \"text-align: right;\">-0.146924</td><td style = \"text-align: right;\">-0.0903349</td><td style = \"text-align: right;\">-0.17394</td><td style = \"text-align: right;\">-0.189283</td><td style = \"text-align: right;\">-0.147293</td><td style = \"text-align: right;\">-0.0909113</td><td style = \"text-align: right;\">-0.20083</td><td style = \"text-align: right;\">-0.128393</td><td style = \"text-align: right;\">-0.0951324</td><td style = \"text-align: right;\">-0.161506</td><td style = \"text-align: right;\">-0.159845</td><td style = \"text-align: right;\">-0.0795949</td><td style = \"text-align: right;\">-0.181114</td><td style = \"text-align: right;\">-0.0650037</td><td style = \"text-align: right;\">-0.170889</td><td style = \"text-align: right;\">-0.151751</td><td style = \"text-align: right;\">-0.0732168</td><td style = \"text-align: right;\">-0.11555</td><td style = \"text-align: right;\">-0.129708</td><td style = \"text-align: right;\">-0.119998</td><td style = \"text-align: right;\">-0.114972</td><td style = \"text-align: right;\">-0.171302</td><td style = \"text-align: right;\">-0.103899</td><td style = \"text-align: right;\">-0.113348</td><td style = \"text-align: right;\">-0.098487</td><td style = \"text-align: right;\">-0.137117</td><td style = \"text-align: right;\">-0.106738</td><td style = \"text-align: right;\">-0.177524</td><td style = \"text-align: right;\">-0.191751</td><td style = \"text-align: right;\">-0.0954137</td><td style = \"text-align: right;\">-0.179396</td><td style = \"text-align: right;\">-0.148827</td><td style = \"text-align: right;\">-0.137466</td><td style = \"text-align: right;\">-0.180131</td><td style = \"text-align: right;\">-0.207205</td><td style = \"text-align: right;\">-0.0676596</td><td style = \"text-align: right;\">-0.0527101</td><td style = \"text-align: right;\">-0.136927</td><td style = \"text-align: right;\">&ctdot;</td></tr><tr><td class = \"rowNumber\" style = \"font-weight: bold; text-align: right;\">3</td><td style = \"text-align: right;\">-0.184835</td><td style = \"text-align: right;\">-0.155199</td><td style = \"text-align: right;\">-0.130034</td><td style = \"text-align: right;\">-0.140501</td><td style = \"text-align: right;\">-0.148099</td><td style = \"text-align: right;\">-0.151268</td><td style = \"text-align: right;\">-0.105485</td><td style = \"text-align: right;\">-0.172311</td><td style = \"text-align: right;\">-0.0764371</td><td style = \"text-align: right;\">-0.113145</td><td style = \"text-align: right;\">-0.199371</td><td style = \"text-align: right;\">-0.187471</td><td style = \"text-align: right;\">-0.0547421</td><td style = \"text-align: right;\">-0.145373</td><td style = \"text-align: right;\">-0.101868</td><td style = \"text-align: right;\">-0.077927</td><td style = \"text-align: right;\">-0.134934</td><td style = \"text-align: right;\">-0.0892489</td><td style = \"text-align: right;\">-0.109227</td><td style = \"text-align: right;\">-0.160074</td><td style = \"text-align: right;\">-0.190971</td><td style = \"text-align: right;\">-0.145237</td><td style = \"text-align: right;\">-0.117072</td><td style = \"text-align: right;\">-0.151532</td><td style = \"text-align: right;\">-0.121563</td><td style = \"text-align: right;\">-0.144616</td><td style = \"text-align: right;\">-0.154828</td><td style = \"text-align: right;\">-0.0738653</td><td style = \"text-align: right;\">-0.136788</td><td style = \"text-align: right;\">-0.0541951</td><td style = \"text-align: right;\">-0.0951703</td><td style = \"text-align: right;\">-0.225584</td><td style = \"text-align: right;\">-0.136964</td><td style = \"text-align: right;\">-0.19739</td><td style = \"text-align: right;\">-0.114792</td><td style = \"text-align: right;\">-0.153573</td><td style = \"text-align: right;\">-0.0889946</td><td style = \"text-align: right;\">-0.16675</td><td style = \"text-align: right;\">-0.135063</td><td style = \"text-align: right;\">-0.152177</td><td style = \"text-align: right;\">-0.162135</td><td style = \"text-align: right;\">-0.0911389</td><td style = \"text-align: right;\">-0.123353</td><td style = \"text-align: right;\">-0.143582</td><td style = \"text-align: right;\">-0.103151</td><td style = \"text-align: right;\">-0.191191</td><td style = \"text-align: right;\">-0.138561</td><td style = \"text-align: right;\">-0.212993</td><td style = \"text-align: right;\">-0.0740284</td><td style = \"text-align: right;\">-0.0714797</td><td style = \"text-align: right;\">-0.187682</td><td style = \"text-align: right;\">-0.126082</td><td style = \"text-align: right;\">-0.0842235</td><td style = \"text-align: right;\">-0.106103</td><td style = \"text-align: right;\">-0.0974829</td><td style = \"text-align: right;\">-0.121622</td><td style = \"text-align: right;\">-0.171157</td><td style = \"text-align: right;\">-0.209023</td><td style = \"text-align: right;\">-0.166238</td><td style = \"text-align: right;\">-0.131618</td><td style = \"text-align: right;\">-0.18495</td><td style = \"text-align: right;\">-0.13683</td><td style = \"text-align: right;\">-0.164666</td><td style = \"text-align: right;\">-0.0708538</td><td style = \"text-align: right;\">-0.189106</td><td style = \"text-align: right;\">-0.136018</td><td style = \"text-align: right;\">-0.185622</td><td style = \"text-align: right;\">-0.109764</td><td style = \"text-align: right;\">-0.206188</td><td style = \"text-align: right;\">-0.159123</td><td style = \"text-align: right;\">-0.1073</td><td style = \"text-align: right;\">-0.12601</td><td style = \"text-align: right;\">-0.146892</td><td style = \"text-align: right;\">-0.0694727</td><td style = \"text-align: right;\">-0.132867</td><td style = \"text-align: right;\">-0.0538786</td><td style = \"text-align: right;\">-0.163077</td><td style = \"text-align: right;\">-0.118613</td><td style = \"text-align: right;\">-0.0855937</td><td style = \"text-align: right;\">-0.0906806</td><td style = \"text-align: right;\">-0.0882107</td><td style = \"text-align: right;\">-0.160172</td><td style = \"text-align: right;\">-0.109639</td><td style = \"text-align: right;\">-0.172302</td><td style = \"text-align: right;\">-0.0996794</td><td style = \"text-align: right;\">-0.129978</td><td style = \"text-align: right;\">-0.0894284</td><td style = \"text-align: right;\">-0.162968</td><td style = \"text-align: right;\">-0.150768</td><td style = \"text-align: right;\">-0.158937</td><td style = \"text-align: right;\">-0.196062</td><td style = \"text-align: right;\">-0.0739909</td><td style = \"text-align: right;\">-0.143063</td><td style = \"text-align: right;\">-0.149406</td><td style = \"text-align: right;\">-0.136617</td><td style = \"text-align: right;\">-0.146251</td><td style = \"text-align: right;\">-0.161901</td><td style = \"text-align: right;\">-0.0783323</td><td style = \"text-align: right;\">-0.0464093</td><td style = \"text-align: right;\">-0.170224</td><td style = \"text-align: right;\">&ctdot;</td></tr><tr><td class = \"rowNumber\" style = \"font-weight: bold; text-align: right;\">4</td><td style = \"text-align: right;\">-0.155084</td><td style = \"text-align: right;\">-0.164368</td><td style = \"text-align: right;\">-0.117407</td><td style = \"text-align: right;\">-0.169473</td><td style = \"text-align: right;\">-0.152078</td><td style = \"text-align: right;\">-0.181704</td><td style = \"text-align: right;\">-0.0956532</td><td style = \"text-align: right;\">-0.168806</td><td style = \"text-align: right;\">-0.0842963</td><td style = \"text-align: right;\">-0.0850679</td><td style = \"text-align: right;\">-0.16177</td><td style = \"text-align: right;\">-0.124053</td><td style = \"text-align: right;\">-0.103611</td><td style = \"text-align: right;\">-0.174626</td><td style = \"text-align: right;\">-0.123222</td><td style = \"text-align: right;\">-0.135617</td><td style = \"text-align: right;\">-0.130086</td><td style = \"text-align: right;\">-0.115879</td><td style = \"text-align: right;\">-0.102411</td><td style = \"text-align: right;\">-0.173453</td><td style = \"text-align: right;\">-0.136709</td><td style = \"text-align: right;\">-0.173595</td><td style = \"text-align: right;\">-0.145021</td><td style = \"text-align: right;\">-0.134245</td><td style = \"text-align: right;\">-0.125683</td><td style = \"text-align: right;\">-0.163984</td><td style = \"text-align: right;\">-0.176607</td><td style = \"text-align: right;\">-0.117412</td><td style = \"text-align: right;\">-0.145716</td><td style = \"text-align: right;\">-0.0847348</td><td style = \"text-align: right;\">-0.0421558</td><td style = \"text-align: right;\">-0.164353</td><td style = \"text-align: right;\">-0.154707</td><td style = \"text-align: right;\">-0.132999</td><td style = \"text-align: right;\">-0.139177</td><td style = \"text-align: right;\">-0.136499</td><td style = \"text-align: right;\">-0.0933934</td><td style = \"text-align: right;\">-0.17312</td><td style = \"text-align: right;\">-0.0990656</td><td style = \"text-align: right;\">-0.146363</td><td style = \"text-align: right;\">-0.139441</td><td style = \"text-align: right;\">-0.118028</td><td style = \"text-align: right;\">-0.075789</td><td style = \"text-align: right;\">-0.142454</td><td style = \"text-align: right;\">-0.0873734</td><td style = \"text-align: right;\">-0.117407</td><td style = \"text-align: right;\">-0.15529</td><td style = \"text-align: right;\">-0.222092</td><td style = \"text-align: right;\">-0.0810361</td><td style = \"text-align: right;\">-0.0865959</td><td style = \"text-align: right;\">-0.147411</td><td style = \"text-align: right;\">-0.155455</td><td style = \"text-align: right;\">-0.0547867</td><td style = \"text-align: right;\">-0.137105</td><td style = \"text-align: right;\">-0.109923</td><td style = \"text-align: right;\">-0.137679</td><td style = \"text-align: right;\">-0.146268</td><td style = \"text-align: right;\">-0.150019</td><td style = \"text-align: right;\">-0.180614</td><td style = \"text-align: right;\">-0.154874</td><td style = \"text-align: right;\">-0.174261</td><td style = \"text-align: right;\">-0.132452</td><td style = \"text-align: right;\">-0.129205</td><td style = \"text-align: right;\">-0.073878</td><td style = \"text-align: right;\">-0.124901</td><td style = \"text-align: right;\">-0.141202</td><td style = \"text-align: right;\">-0.1277</td><td style = \"text-align: right;\">-0.106623</td><td style = \"text-align: right;\">-0.157555</td><td style = \"text-align: right;\">-0.15377</td><td style = \"text-align: right;\">-0.0814618</td><td style = \"text-align: right;\">-0.190372</td><td style = \"text-align: right;\">-0.137244</td><td style = \"text-align: right;\">-0.0577279</td><td style = \"text-align: right;\">-0.16299</td><td style = \"text-align: right;\">-0.0479502</td><td style = \"text-align: right;\">-0.134992</td><td style = \"text-align: right;\">-0.172659</td><td style = \"text-align: right;\">-0.0963491</td><td style = \"text-align: right;\">-0.112794</td><td style = \"text-align: right;\">-0.115957</td><td style = \"text-align: right;\">-0.0937496</td><td style = \"text-align: right;\">-0.0914317</td><td style = \"text-align: right;\">-0.187159</td><td style = \"text-align: right;\">-0.0796374</td><td style = \"text-align: right;\">-0.104367</td><td style = \"text-align: right;\">-0.130714</td><td style = \"text-align: right;\">-0.153754</td><td style = \"text-align: right;\">-0.114869</td><td style = \"text-align: right;\">-0.148351</td><td style = \"text-align: right;\">-0.146821</td><td style = \"text-align: right;\">-0.0199721</td><td style = \"text-align: right;\">-0.183135</td><td style = \"text-align: right;\">-0.130716</td><td style = \"text-align: right;\">-0.111472</td><td style = \"text-align: right;\">-0.134449</td><td style = \"text-align: right;\">-0.156214</td><td style = \"text-align: right;\">-0.101565</td><td style = \"text-align: right;\">-0.0453873</td><td style = \"text-align: right;\">-0.143175</td><td style = \"text-align: right;\">&ctdot;</td></tr><tr><td class = \"rowNumber\" style = \"font-weight: bold; text-align: right;\">5</td><td style = \"text-align: right;\">-0.137784</td><td style = \"text-align: right;\">-0.121335</td><td style = \"text-align: right;\">-0.181226</td><td style = \"text-align: right;\">-0.176309</td><td style = \"text-align: right;\">-0.115678</td><td style = \"text-align: right;\">-0.139628</td><td style = \"text-align: right;\">-0.0875131</td><td style = \"text-align: right;\">-0.173432</td><td style = \"text-align: right;\">-0.0686118</td><td style = \"text-align: right;\">-0.108595</td><td style = \"text-align: right;\">-0.159161</td><td style = \"text-align: right;\">-0.14983</td><td style = \"text-align: right;\">-0.0440605</td><td style = \"text-align: right;\">-0.204792</td><td style = \"text-align: right;\">-0.119764</td><td style = \"text-align: right;\">-0.0752106</td><td style = \"text-align: right;\">-0.165004</td><td style = \"text-align: right;\">-0.0806858</td><td style = \"text-align: right;\">-0.104284</td><td style = \"text-align: right;\">-0.157607</td><td style = \"text-align: right;\">-0.175034</td><td style = \"text-align: right;\">-0.153344</td><td style = \"text-align: right;\">-0.110477</td><td style = \"text-align: right;\">-0.175386</td><td style = \"text-align: right;\">-0.181112</td><td style = \"text-align: right;\">-0.182344</td><td style = \"text-align: right;\">-0.153247</td><td style = \"text-align: right;\">-0.0869757</td><td style = \"text-align: right;\">-0.16163</td><td style = \"text-align: right;\">-0.0585377</td><td style = \"text-align: right;\">-0.0667439</td><td style = \"text-align: right;\">-0.129862</td><td style = \"text-align: right;\">-0.153651</td><td style = \"text-align: right;\">-0.138594</td><td style = \"text-align: right;\">-0.109132</td><td style = \"text-align: right;\">-0.182265</td><td style = \"text-align: right;\">-0.100878</td><td style = \"text-align: right;\">-0.167251</td><td style = \"text-align: right;\">-0.0532016</td><td style = \"text-align: right;\">-0.131102</td><td style = \"text-align: right;\">-0.121549</td><td style = \"text-align: right;\">-0.111821</td><td style = \"text-align: right;\">-0.115622</td><td style = \"text-align: right;\">-0.185038</td><td style = \"text-align: right;\">-0.132545</td><td style = \"text-align: right;\">-0.170935</td><td style = \"text-align: right;\">-0.115131</td><td style = \"text-align: right;\">-0.173329</td><td style = \"text-align: right;\">-0.0389489</td><td style = \"text-align: right;\">-0.0729686</td><td style = \"text-align: right;\">-0.146744</td><td style = \"text-align: right;\">-0.14096</td><td style = \"text-align: right;\">-0.030941</td><td style = \"text-align: right;\">-0.126387</td><td style = \"text-align: right;\">-0.0875305</td><td style = \"text-align: right;\">-0.0902872</td><td style = \"text-align: right;\">-0.192429</td><td style = \"text-align: right;\">-0.180619</td><td style = \"text-align: right;\">-0.164429</td><td style = \"text-align: right;\">-0.160178</td><td style = \"text-align: right;\">-0.171533</td><td style = \"text-align: right;\">-0.0985168</td><td style = \"text-align: right;\">-0.149446</td><td style = \"text-align: right;\">-0.0694782</td><td style = \"text-align: right;\">-0.124567</td><td style = \"text-align: right;\">-0.165514</td><td style = \"text-align: right;\">-0.122724</td><td style = \"text-align: right;\">-0.0831668</td><td style = \"text-align: right;\">-0.128792</td><td style = \"text-align: right;\">-0.119888</td><td style = \"text-align: right;\">-0.0715825</td><td style = \"text-align: right;\">-0.151199</td><td style = \"text-align: right;\">-0.161202</td><td style = \"text-align: right;\">-0.0944836</td><td style = \"text-align: right;\">-0.14763</td><td style = \"text-align: right;\">-0.0979453</td><td style = \"text-align: right;\">-0.15466</td><td style = \"text-align: right;\">-0.169453</td><td style = \"text-align: right;\">-0.0592433</td><td style = \"text-align: right;\">-0.120097</td><td style = \"text-align: right;\">-0.114924</td><td style = \"text-align: right;\">-0.154227</td><td style = \"text-align: right;\">-0.113707</td><td style = \"text-align: right;\">-0.147269</td><td style = \"text-align: right;\">-0.105639</td><td style = \"text-align: right;\">-0.146294</td><td style = \"text-align: right;\">-0.126097</td><td style = \"text-align: right;\">-0.14245</td><td style = \"text-align: right;\">-0.127111</td><td style = \"text-align: right;\">-0.228116</td><td style = \"text-align: right;\">-0.155746</td><td style = \"text-align: right;\">-0.0509239</td><td style = \"text-align: right;\">-0.143146</td><td style = \"text-align: right;\">-0.164353</td><td style = \"text-align: right;\">-0.141344</td><td style = \"text-align: right;\">-0.132908</td><td style = \"text-align: right;\">-0.17663</td><td style = \"text-align: right;\">-0.123817</td><td style = \"text-align: right;\">-0.0599855</td><td style = \"text-align: right;\">-0.147171</td><td style = \"text-align: right;\">&ctdot;</td></tr><tr><td class = \"rowNumber\" style = \"font-weight: bold; text-align: right;\">6</td><td style = \"text-align: right;\">-0.139165</td><td style = \"text-align: right;\">-0.159095</td><td style = \"text-align: right;\">-0.136612</td><td style = \"text-align: right;\">-0.204615</td><td style = \"text-align: right;\">-0.163828</td><td style = \"text-align: right;\">-0.183259</td><td style = \"text-align: right;\">-0.13766</td><td style = \"text-align: right;\">-0.13785</td><td style = \"text-align: right;\">-0.0641029</td><td style = \"text-align: right;\">-0.121622</td><td style = \"text-align: right;\">-0.12888</td><td style = \"text-align: right;\">-0.127583</td><td style = \"text-align: right;\">-0.0368511</td><td style = \"text-align: right;\">-0.175565</td><td style = \"text-align: right;\">-0.114276</td><td style = \"text-align: right;\">-0.0416053</td><td style = \"text-align: right;\">-0.155668</td><td style = \"text-align: right;\">-0.102744</td><td style = \"text-align: right;\">-0.116008</td><td style = \"text-align: right;\">-0.158772</td><td style = \"text-align: right;\">-0.105987</td><td style = \"text-align: right;\">-0.202258</td><td style = \"text-align: right;\">-0.0831214</td><td style = \"text-align: right;\">-0.16646</td><td style = \"text-align: right;\">-0.136103</td><td style = \"text-align: right;\">-0.137832</td><td style = \"text-align: right;\">-0.124013</td><td style = \"text-align: right;\">-0.100218</td><td style = \"text-align: right;\">-0.131777</td><td style = \"text-align: right;\">-0.0755905</td><td style = \"text-align: right;\">-0.0650349</td><td style = \"text-align: right;\">-0.131729</td><td style = \"text-align: right;\">-0.136527</td><td style = \"text-align: right;\">-0.174284</td><td style = \"text-align: right;\">-0.100283</td><td style = \"text-align: right;\">-0.199157</td><td style = \"text-align: right;\">-0.0652848</td><td style = \"text-align: right;\">-0.147665</td><td style = \"text-align: right;\">-0.137093</td><td style = \"text-align: right;\">-0.151434</td><td style = \"text-align: right;\">-0.118905</td><td style = \"text-align: right;\">-0.0960078</td><td style = \"text-align: right;\">-0.0640447</td><td style = \"text-align: right;\">-0.188663</td><td style = \"text-align: right;\">-0.0790517</td><td style = \"text-align: right;\">-0.178444</td><td style = \"text-align: right;\">-0.125121</td><td style = \"text-align: right;\">-0.153903</td><td style = \"text-align: right;\">-0.05367</td><td style = \"text-align: right;\">-0.0688549</td><td style = \"text-align: right;\">-0.13437</td><td style = \"text-align: right;\">-0.127216</td><td style = \"text-align: right;\">-0.0587889</td><td style = \"text-align: right;\">-0.0937922</td><td style = \"text-align: right;\">-0.108447</td><td style = \"text-align: right;\">-0.0734949</td><td style = \"text-align: right;\">-0.196215</td><td style = \"text-align: right;\">-0.183343</td><td style = \"text-align: right;\">-0.145039</td><td style = \"text-align: right;\">-0.200285</td><td style = \"text-align: right;\">-0.203478</td><td style = \"text-align: right;\">-0.143343</td><td style = \"text-align: right;\">-0.144847</td><td style = \"text-align: right;\">-0.0818919</td><td style = \"text-align: right;\">-0.165896</td><td style = \"text-align: right;\">-0.117324</td><td style = \"text-align: right;\">-0.117778</td><td style = \"text-align: right;\">-0.123506</td><td style = \"text-align: right;\">-0.189034</td><td style = \"text-align: right;\">-0.156601</td><td style = \"text-align: right;\">-0.0740784</td><td style = \"text-align: right;\">-0.176147</td><td style = \"text-align: right;\">-0.150701</td><td style = \"text-align: right;\">-0.0790204</td><td style = \"text-align: right;\">-0.174142</td><td style = \"text-align: right;\">-0.0725029</td><td style = \"text-align: right;\">-0.167577</td><td style = \"text-align: right;\">-0.136343</td><td style = \"text-align: right;\">-0.0856207</td><td style = \"text-align: right;\">-0.0995356</td><td style = \"text-align: right;\">-0.0431061</td><td style = \"text-align: right;\">-0.130081</td><td style = \"text-align: right;\">-0.112511</td><td style = \"text-align: right;\">-0.185082</td><td style = \"text-align: right;\">-0.0522342</td><td style = \"text-align: right;\">-0.15912</td><td style = \"text-align: right;\">-0.0955369</td><td style = \"text-align: right;\">-0.144515</td><td style = \"text-align: right;\">-0.123211</td><td style = \"text-align: right;\">-0.163457</td><td style = \"text-align: right;\">-0.147588</td><td style = \"text-align: right;\">-0.0277393</td><td style = \"text-align: right;\">-0.149691</td><td style = \"text-align: right;\">-0.141994</td><td style = \"text-align: right;\">-0.1592</td><td style = \"text-align: right;\">-0.187581</td><td style = \"text-align: right;\">-0.194326</td><td style = \"text-align: right;\">-0.102133</td><td style = \"text-align: right;\">0.00262459</td><td style = \"text-align: right;\">-0.159164</td><td style = \"text-align: right;\">&ctdot;</td></tr><tr><td class = \"rowNumber\" style = \"font-weight: bold; text-align: right;\">7</td><td style = \"text-align: right;\">-0.163325</td><td style = \"text-align: right;\">-0.19532</td><td style = \"text-align: right;\">-0.139058</td><td style = \"text-align: right;\">-0.135127</td><td style = \"text-align: right;\">-0.145705</td><td style = \"text-align: right;\">-0.150772</td><td style = \"text-align: right;\">-0.0879053</td><td style = \"text-align: right;\">-0.136251</td><td style = \"text-align: right;\">-0.0595364</td><td style = \"text-align: right;\">-0.0868903</td><td style = \"text-align: right;\">-0.15516</td><td style = \"text-align: right;\">-0.123732</td><td style = \"text-align: right;\">-0.114047</td><td style = \"text-align: right;\">-0.164677</td><td style = \"text-align: right;\">-0.128714</td><td style = \"text-align: right;\">-0.0720562</td><td style = \"text-align: right;\">-0.183437</td><td style = \"text-align: right;\">-0.141342</td><td style = \"text-align: right;\">-0.134147</td><td style = \"text-align: right;\">-0.129046</td><td style = \"text-align: right;\">-0.174934</td><td style = \"text-align: right;\">-0.149481</td><td style = \"text-align: right;\">-0.094915</td><td style = \"text-align: right;\">-0.147721</td><td style = \"text-align: right;\">-0.123245</td><td style = \"text-align: right;\">-0.166836</td><td style = \"text-align: right;\">-0.155693</td><td style = \"text-align: right;\">-0.0960613</td><td style = \"text-align: right;\">-0.0983034</td><td style = \"text-align: right;\">-0.0537109</td><td style = \"text-align: right;\">-0.0894556</td><td style = \"text-align: right;\">-0.183212</td><td style = \"text-align: right;\">-0.155272</td><td style = \"text-align: right;\">-0.177186</td><td style = \"text-align: right;\">-0.164735</td><td style = \"text-align: right;\">-0.164493</td><td style = \"text-align: right;\">-0.0548797</td><td style = \"text-align: right;\">-0.155286</td><td style = \"text-align: right;\">-0.125106</td><td style = \"text-align: right;\">-0.207144</td><td style = \"text-align: right;\">-0.16646</td><td style = \"text-align: right;\">-0.124361</td><td style = \"text-align: right;\">-0.0607949</td><td style = \"text-align: right;\">-0.147316</td><td style = \"text-align: right;\">-0.110745</td><td style = \"text-align: right;\">-0.171727</td><td style = \"text-align: right;\">-0.14196</td><td style = \"text-align: right;\">-0.189435</td><td style = \"text-align: right;\">-0.107921</td><td style = \"text-align: right;\">-0.0980048</td><td style = \"text-align: right;\">-0.165925</td><td style = \"text-align: right;\">-0.165501</td><td style = \"text-align: right;\">-0.073854</td><td style = \"text-align: right;\">-0.111795</td><td style = \"text-align: right;\">-0.0523365</td><td style = \"text-align: right;\">-0.145602</td><td style = \"text-align: right;\">-0.153874</td><td style = \"text-align: right;\">-0.186974</td><td style = \"text-align: right;\">-0.142059</td><td style = \"text-align: right;\">-0.184244</td><td style = \"text-align: right;\">-0.135566</td><td style = \"text-align: right;\">-0.14153</td><td style = \"text-align: right;\">-0.161517</td><td style = \"text-align: right;\">-0.0751022</td><td style = \"text-align: right;\">-0.142886</td><td style = \"text-align: right;\">-0.150826</td><td style = \"text-align: right;\">-0.118386</td><td style = \"text-align: right;\">-0.113463</td><td style = \"text-align: right;\">-0.151443</td><td style = \"text-align: right;\">-0.111318</td><td style = \"text-align: right;\">-0.0607333</td><td style = \"text-align: right;\">-0.166295</td><td style = \"text-align: right;\">-0.114106</td><td style = \"text-align: right;\">-0.0729096</td><td style = \"text-align: right;\">-0.13301</td><td style = \"text-align: right;\">-0.0640247</td><td style = \"text-align: right;\">-0.190457</td><td style = \"text-align: right;\">-0.129648</td><td style = \"text-align: right;\">-0.123205</td><td style = \"text-align: right;\">-0.0791174</td><td style = \"text-align: right;\">-0.12514</td><td style = \"text-align: right;\">-0.115446</td><td style = \"text-align: right;\">-0.131461</td><td style = \"text-align: right;\">-0.176944</td><td style = \"text-align: right;\">-0.154944</td><td style = \"text-align: right;\">-0.117103</td><td style = \"text-align: right;\">-0.0729026</td><td style = \"text-align: right;\">-0.11911</td><td style = \"text-align: right;\">-0.101187</td><td style = \"text-align: right;\">-0.148366</td><td style = \"text-align: right;\">-0.129962</td><td style = \"text-align: right;\">-0.0696974</td><td style = \"text-align: right;\">-0.194376</td><td style = \"text-align: right;\">-0.127009</td><td style = \"text-align: right;\">-0.132988</td><td style = \"text-align: right;\">-0.1447</td><td style = \"text-align: right;\">-0.176673</td><td style = \"text-align: right;\">-0.0682903</td><td style = \"text-align: right;\">-0.029654</td><td style = \"text-align: right;\">-0.162602</td><td style = \"text-align: right;\">&ctdot;</td></tr><tr><td class = \"rowNumber\" style = \"font-weight: bold; text-align: right;\">8</td><td style = \"text-align: right;\">-0.19317</td><td style = \"text-align: right;\">-0.100132</td><td style = \"text-align: right;\">-0.14843</td><td style = \"text-align: right;\">-0.128129</td><td style = \"text-align: right;\">-0.165428</td><td style = \"text-align: right;\">-0.15924</td><td style = \"text-align: right;\">-0.0675193</td><td style = \"text-align: right;\">-0.144744</td><td style = \"text-align: right;\">-0.0488299</td><td style = \"text-align: right;\">-0.104744</td><td style = \"text-align: right;\">-0.130621</td><td style = \"text-align: right;\">-0.173852</td><td style = \"text-align: right;\">-0.0907693</td><td style = \"text-align: right;\">-0.166453</td><td style = \"text-align: right;\">-0.0824145</td><td style = \"text-align: right;\">-0.0721566</td><td style = \"text-align: right;\">-0.13334</td><td style = \"text-align: right;\">-0.0938485</td><td style = \"text-align: right;\">-0.0906418</td><td style = \"text-align: right;\">-0.161774</td><td style = \"text-align: right;\">-0.13762</td><td style = \"text-align: right;\">-0.147076</td><td style = \"text-align: right;\">-0.127431</td><td style = \"text-align: right;\">-0.115344</td><td style = \"text-align: right;\">-0.123988</td><td style = \"text-align: right;\">-0.1479</td><td style = \"text-align: right;\">-0.145864</td><td style = \"text-align: right;\">-0.088884</td><td style = \"text-align: right;\">-0.123942</td><td style = \"text-align: right;\">-0.051843</td><td style = \"text-align: right;\">-0.0679523</td><td style = \"text-align: right;\">-0.187665</td><td style = \"text-align: right;\">-0.165554</td><td style = \"text-align: right;\">-0.112206</td><td style = \"text-align: right;\">-0.144667</td><td style = \"text-align: right;\">-0.106271</td><td style = \"text-align: right;\">-0.094158</td><td style = \"text-align: right;\">-0.178467</td><td style = \"text-align: right;\">-0.108601</td><td style = \"text-align: right;\">-0.193796</td><td style = \"text-align: right;\">-0.165966</td><td style = \"text-align: right;\">-0.131213</td><td style = \"text-align: right;\">-0.0876579</td><td style = \"text-align: right;\">-0.128071</td><td style = \"text-align: right;\">-0.0791597</td><td style = \"text-align: right;\">-0.163785</td><td style = \"text-align: right;\">-0.156683</td><td style = \"text-align: right;\">-0.169433</td><td style = \"text-align: right;\">-0.0525917</td><td style = \"text-align: right;\">-0.105848</td><td style = \"text-align: right;\">-0.150676</td><td style = \"text-align: right;\">-0.151805</td><td style = \"text-align: right;\">-0.0175938</td><td style = \"text-align: right;\">-0.130156</td><td style = \"text-align: right;\">-0.0577375</td><td style = \"text-align: right;\">-0.0752792</td><td style = \"text-align: right;\">-0.146656</td><td style = \"text-align: right;\">-0.148846</td><td style = \"text-align: right;\">-0.104037</td><td style = \"text-align: right;\">-0.181049</td><td style = \"text-align: right;\">-0.161558</td><td style = \"text-align: right;\">-0.140428</td><td style = \"text-align: right;\">-0.164796</td><td style = \"text-align: right;\">-0.0987698</td><td style = \"text-align: right;\">-0.143692</td><td style = \"text-align: right;\">-0.171766</td><td style = \"text-align: right;\">-0.148825</td><td style = \"text-align: right;\">-0.089556</td><td style = \"text-align: right;\">-0.166774</td><td style = \"text-align: right;\">-0.161993</td><td style = \"text-align: right;\">-0.0763678</td><td style = \"text-align: right;\">-0.172734</td><td style = \"text-align: right;\">-0.136146</td><td style = \"text-align: right;\">-0.0919106</td><td style = \"text-align: right;\">-0.176406</td><td style = \"text-align: right;\">-0.0719853</td><td style = \"text-align: right;\">-0.167375</td><td style = \"text-align: right;\">-0.18192</td><td style = \"text-align: right;\">-0.080621</td><td style = \"text-align: right;\">-0.121732</td><td style = \"text-align: right;\">-0.0789935</td><td style = \"text-align: right;\">-0.116419</td><td style = \"text-align: right;\">-0.098133</td><td style = \"text-align: right;\">-0.136499</td><td style = \"text-align: right;\">-0.11324</td><td style = \"text-align: right;\">-0.0933942</td><td style = \"text-align: right;\">-0.110652</td><td style = \"text-align: right;\">-0.0961811</td><td style = \"text-align: right;\">-0.126271</td><td style = \"text-align: right;\">-0.150134</td><td style = \"text-align: right;\">-0.145907</td><td style = \"text-align: right;\">-0.0651816</td><td style = \"text-align: right;\">-0.156009</td><td style = \"text-align: right;\">-0.183835</td><td style = \"text-align: right;\">-0.157876</td><td style = \"text-align: right;\">-0.158448</td><td style = \"text-align: right;\">-0.156678</td><td style = \"text-align: right;\">-0.133693</td><td style = \"text-align: right;\">-0.0759585</td><td style = \"text-align: right;\">-0.118431</td><td style = \"text-align: right;\">&ctdot;</td></tr><tr><td class = \"rowNumber\" style = \"font-weight: bold; text-align: right;\">9</td><td style = \"text-align: right;\">-0.168399</td><td style = \"text-align: right;\">-0.0976384</td><td style = \"text-align: right;\">-0.119822</td><td style = \"text-align: right;\">-0.15877</td><td style = \"text-align: right;\">-0.173959</td><td style = \"text-align: right;\">-0.174924</td><td style = \"text-align: right;\">-0.110146</td><td style = \"text-align: right;\">-0.130929</td><td style = \"text-align: right;\">-0.0503572</td><td style = \"text-align: right;\">-0.10583</td><td style = \"text-align: right;\">-0.151084</td><td style = \"text-align: right;\">-0.175151</td><td style = \"text-align: right;\">-0.0709992</td><td style = \"text-align: right;\">-0.123477</td><td style = \"text-align: right;\">-0.157049</td><td style = \"text-align: right;\">-0.10695</td><td style = \"text-align: right;\">-0.143987</td><td style = \"text-align: right;\">-0.099184</td><td style = \"text-align: right;\">-0.0960136</td><td style = \"text-align: right;\">-0.169096</td><td style = \"text-align: right;\">-0.192636</td><td style = \"text-align: right;\">-0.154486</td><td style = \"text-align: right;\">-0.137373</td><td style = \"text-align: right;\">-0.137054</td><td style = \"text-align: right;\">-0.113087</td><td style = \"text-align: right;\">-0.16273</td><td style = \"text-align: right;\">-0.158945</td><td style = \"text-align: right;\">-0.0596863</td><td style = \"text-align: right;\">-0.148087</td><td style = \"text-align: right;\">-0.0927558</td><td style = \"text-align: right;\">-0.0902827</td><td style = \"text-align: right;\">-0.122235</td><td style = \"text-align: right;\">-0.152527</td><td style = \"text-align: right;\">-0.151364</td><td style = \"text-align: right;\">-0.119873</td><td style = \"text-align: right;\">-0.121385</td><td style = \"text-align: right;\">-0.119973</td><td style = \"text-align: right;\">-0.169298</td><td style = \"text-align: right;\">-0.105409</td><td style = \"text-align: right;\">-0.207082</td><td style = \"text-align: right;\">-0.177996</td><td style = \"text-align: right;\">-0.0811596</td><td style = \"text-align: right;\">-0.0766568</td><td style = \"text-align: right;\">-0.161537</td><td style = \"text-align: right;\">-0.0977037</td><td style = \"text-align: right;\">-0.127222</td><td style = \"text-align: right;\">-0.142005</td><td style = \"text-align: right;\">-0.11403</td><td style = \"text-align: right;\">-0.0762355</td><td style = \"text-align: right;\">-0.0988078</td><td style = \"text-align: right;\">-0.176528</td><td style = \"text-align: right;\">-0.115129</td><td style = \"text-align: right;\">-0.0774131</td><td style = \"text-align: right;\">-0.109001</td><td style = \"text-align: right;\">-0.0910319</td><td style = \"text-align: right;\">-0.105467</td><td style = \"text-align: right;\">-0.169543</td><td style = \"text-align: right;\">-0.138418</td><td style = \"text-align: right;\">-0.151175</td><td style = \"text-align: right;\">-0.121977</td><td style = \"text-align: right;\">-0.15731</td><td style = \"text-align: right;\">-0.0937963</td><td style = \"text-align: right;\">-0.159092</td><td style = \"text-align: right;\">-0.102671</td><td style = \"text-align: right;\">-0.137564</td><td style = \"text-align: right;\">-0.145207</td><td style = \"text-align: right;\">-0.123814</td><td style = \"text-align: right;\">-0.0813203</td><td style = \"text-align: right;\">-0.164971</td><td style = \"text-align: right;\">-0.144771</td><td style = \"text-align: right;\">-0.123176</td><td style = \"text-align: right;\">-0.131258</td><td style = \"text-align: right;\">-0.14364</td><td style = \"text-align: right;\">-0.108973</td><td style = \"text-align: right;\">-0.194645</td><td style = \"text-align: right;\">-0.0405764</td><td style = \"text-align: right;\">-0.149921</td><td style = \"text-align: right;\">-0.159033</td><td style = \"text-align: right;\">-0.0977278</td><td style = \"text-align: right;\">-0.122878</td><td style = \"text-align: right;\">-0.091325</td><td style = \"text-align: right;\">-0.122359</td><td style = \"text-align: right;\">-0.145522</td><td style = \"text-align: right;\">-0.157752</td><td style = \"text-align: right;\">-0.0710309</td><td style = \"text-align: right;\">-0.116565</td><td style = \"text-align: right;\">-0.105167</td><td style = \"text-align: right;\">-0.149303</td><td style = \"text-align: right;\">-0.124596</td><td style = \"text-align: right;\">-0.133077</td><td style = \"text-align: right;\">-0.149385</td><td style = \"text-align: right;\">-0.0513426</td><td style = \"text-align: right;\">-0.154139</td><td style = \"text-align: right;\">-0.152786</td><td style = \"text-align: right;\">-0.14151</td><td style = \"text-align: right;\">-0.132403</td><td style = \"text-align: right;\">-0.154267</td><td style = \"text-align: right;\">-0.098801</td><td style = \"text-align: right;\">-0.0461517</td><td style = \"text-align: right;\">-0.132296</td><td style = \"text-align: right;\">&ctdot;</td></tr><tr><td class = \"rowNumber\" style = \"font-weight: bold; text-align: right;\">10</td><td style = \"text-align: right;\">-0.196747</td><td style = \"text-align: right;\">-0.121188</td><td style = \"text-align: right;\">-0.119694</td><td style = \"text-align: right;\">-0.190348</td><td style = \"text-align: right;\">-0.168843</td><td style = \"text-align: right;\">-0.146539</td><td style = \"text-align: right;\">-0.0610044</td><td style = \"text-align: right;\">-0.158383</td><td style = \"text-align: right;\">-0.0540815</td><td style = \"text-align: right;\">-0.0824444</td><td style = \"text-align: right;\">-0.171244</td><td style = \"text-align: right;\">-0.131012</td><td style = \"text-align: right;\">-0.0819977</td><td style = \"text-align: right;\">-0.121041</td><td style = \"text-align: right;\">-0.115272</td><td style = \"text-align: right;\">-0.0781296</td><td style = \"text-align: right;\">-0.153128</td><td style = \"text-align: right;\">-0.0809114</td><td style = \"text-align: right;\">-0.163108</td><td style = \"text-align: right;\">-0.161143</td><td style = \"text-align: right;\">-0.152042</td><td style = \"text-align: right;\">-0.141221</td><td style = \"text-align: right;\">-0.106881</td><td style = \"text-align: right;\">-0.13822</td><td style = \"text-align: right;\">-0.122558</td><td style = \"text-align: right;\">-0.156047</td><td style = \"text-align: right;\">-0.133203</td><td style = \"text-align: right;\">-0.0909268</td><td style = \"text-align: right;\">-0.10522</td><td style = \"text-align: right;\">-0.075541</td><td style = \"text-align: right;\">-0.0515012</td><td style = \"text-align: right;\">-0.164346</td><td style = \"text-align: right;\">-0.165832</td><td style = \"text-align: right;\">-0.163712</td><td style = \"text-align: right;\">-0.11242</td><td style = \"text-align: right;\">-0.129834</td><td style = \"text-align: right;\">-0.0723687</td><td style = \"text-align: right;\">-0.167872</td><td style = \"text-align: right;\">-0.134165</td><td style = \"text-align: right;\">-0.145938</td><td style = \"text-align: right;\">-0.143542</td><td style = \"text-align: right;\">-0.0740792</td><td style = \"text-align: right;\">-0.114995</td><td style = \"text-align: right;\">-0.143901</td><td style = \"text-align: right;\">-0.100597</td><td style = \"text-align: right;\">-0.170788</td><td style = \"text-align: right;\">-0.152258</td><td style = \"text-align: right;\">-0.16265</td><td style = \"text-align: right;\">-0.0707383</td><td style = \"text-align: right;\">-0.105831</td><td style = \"text-align: right;\">-0.178042</td><td style = \"text-align: right;\">-0.144514</td><td style = \"text-align: right;\">-0.066489</td><td style = \"text-align: right;\">-0.118481</td><td style = \"text-align: right;\">-0.0794923</td><td style = \"text-align: right;\">-0.0681597</td><td style = \"text-align: right;\">-0.137524</td><td style = \"text-align: right;\">-0.170488</td><td style = \"text-align: right;\">-0.149083</td><td style = \"text-align: right;\">-0.12447</td><td style = \"text-align: right;\">-0.203259</td><td style = \"text-align: right;\">-0.133295</td><td style = \"text-align: right;\">-0.179433</td><td style = \"text-align: right;\">-0.114603</td><td style = \"text-align: right;\">-0.141388</td><td style = \"text-align: right;\">-0.127557</td><td style = \"text-align: right;\">-0.137846</td><td style = \"text-align: right;\">-0.0885946</td><td style = \"text-align: right;\">-0.159981</td><td style = \"text-align: right;\">-0.137104</td><td style = \"text-align: right;\">-0.0656455</td><td style = \"text-align: right;\">-0.187454</td><td style = \"text-align: right;\">-0.147707</td><td style = \"text-align: right;\">-0.0811182</td><td style = \"text-align: right;\">-0.182841</td><td style = \"text-align: right;\">-0.0527232</td><td style = \"text-align: right;\">-0.182777</td><td style = \"text-align: right;\">-0.150937</td><td style = \"text-align: right;\">-0.0576562</td><td style = \"text-align: right;\">-0.0936447</td><td style = \"text-align: right;\">-0.0890228</td><td style = \"text-align: right;\">-0.10304</td><td style = \"text-align: right;\">-0.103985</td><td style = \"text-align: right;\">-0.120431</td><td style = \"text-align: right;\">-0.095416</td><td style = \"text-align: right;\">-0.155871</td><td style = \"text-align: right;\">-0.0943242</td><td style = \"text-align: right;\">-0.188744</td><td style = \"text-align: right;\">-0.0846288</td><td style = \"text-align: right;\">-0.15063</td><td style = \"text-align: right;\">-0.181751</td><td style = \"text-align: right;\">-0.0523979</td><td style = \"text-align: right;\">-0.15384</td><td style = \"text-align: right;\">-0.121397</td><td style = \"text-align: right;\">-0.112246</td><td style = \"text-align: right;\">-0.106104</td><td style = \"text-align: right;\">-0.185657</td><td style = \"text-align: right;\">-0.0688479</td><td style = \"text-align: right;\">-0.0703411</td><td style = \"text-align: right;\">-0.190577</td><td style = \"text-align: right;\">&ctdot;</td></tr><tr><td class = \"rowNumber\" style = \"font-weight: bold; text-align: right;\">11</td><td style = \"text-align: right;\">-0.141016</td><td style = \"text-align: right;\">-0.148645</td><td style = \"text-align: right;\">-0.0929364</td><td style = \"text-align: right;\">-0.133066</td><td style = \"text-align: right;\">-0.126453</td><td style = \"text-align: right;\">-0.128454</td><td style = \"text-align: right;\">-0.109507</td><td style = \"text-align: right;\">-0.16292</td><td style = \"text-align: right;\">-0.0462789</td><td style = \"text-align: right;\">-0.130296</td><td style = \"text-align: right;\">-0.125788</td><td style = \"text-align: right;\">-0.170829</td><td style = \"text-align: right;\">-0.115005</td><td style = \"text-align: right;\">-0.150258</td><td style = \"text-align: right;\">-0.106094</td><td style = \"text-align: right;\">-0.0900385</td><td style = \"text-align: right;\">-0.165809</td><td style = \"text-align: right;\">-0.0960551</td><td style = \"text-align: right;\">-0.0992275</td><td style = \"text-align: right;\">-0.161961</td><td style = \"text-align: right;\">-0.148529</td><td style = \"text-align: right;\">-0.10234</td><td style = \"text-align: right;\">-0.111046</td><td style = \"text-align: right;\">-0.114996</td><td style = \"text-align: right;\">-0.115891</td><td style = \"text-align: right;\">-0.142174</td><td style = \"text-align: right;\">-0.134095</td><td style = \"text-align: right;\">-0.0903331</td><td style = \"text-align: right;\">-0.123903</td><td style = \"text-align: right;\">-0.0761511</td><td style = \"text-align: right;\">-0.0998691</td><td style = \"text-align: right;\">-0.180524</td><td style = \"text-align: right;\">-0.134214</td><td style = \"text-align: right;\">-0.189569</td><td style = \"text-align: right;\">-0.104691</td><td style = \"text-align: right;\">-0.131789</td><td style = \"text-align: right;\">-0.0831285</td><td style = \"text-align: right;\">-0.176567</td><td style = \"text-align: right;\">-0.0970461</td><td style = \"text-align: right;\">-0.156706</td><td style = \"text-align: right;\">-0.133396</td><td style = \"text-align: right;\">-0.0952772</td><td style = \"text-align: right;\">-0.0993855</td><td style = \"text-align: right;\">-0.124325</td><td style = \"text-align: right;\">-0.170246</td><td style = \"text-align: right;\">-0.117772</td><td style = \"text-align: right;\">-0.127626</td><td style = \"text-align: right;\">-0.14343</td><td style = \"text-align: right;\">-0.087622</td><td style = \"text-align: right;\">-0.0911616</td><td style = \"text-align: right;\">-0.139542</td><td style = \"text-align: right;\">-0.178594</td><td style = \"text-align: right;\">-0.0322891</td><td style = \"text-align: right;\">-0.079571</td><td style = \"text-align: right;\">-0.0884933</td><td style = \"text-align: right;\">-0.0759605</td><td style = \"text-align: right;\">-0.154157</td><td style = \"text-align: right;\">-0.196473</td><td style = \"text-align: right;\">-0.15594</td><td style = \"text-align: right;\">-0.12763</td><td style = \"text-align: right;\">-0.148966</td><td style = \"text-align: right;\">-0.136122</td><td style = \"text-align: right;\">-0.163343</td><td style = \"text-align: right;\">-0.05243</td><td style = \"text-align: right;\">-0.13277</td><td style = \"text-align: right;\">-0.147427</td><td style = \"text-align: right;\">-0.125237</td><td style = \"text-align: right;\">-0.0926409</td><td style = \"text-align: right;\">-0.167177</td><td style = \"text-align: right;\">-0.142745</td><td style = \"text-align: right;\">-0.103852</td><td style = \"text-align: right;\">-0.151366</td><td style = \"text-align: right;\">-0.112051</td><td style = \"text-align: right;\">-0.057879</td><td style = \"text-align: right;\">-0.126225</td><td style = \"text-align: right;\">-0.0409222</td><td style = \"text-align: right;\">-0.118581</td><td style = \"text-align: right;\">-0.126683</td><td style = \"text-align: right;\">-0.108331</td><td style = \"text-align: right;\">-0.127932</td><td style = \"text-align: right;\">-0.0904347</td><td style = \"text-align: right;\">-0.120003</td><td style = \"text-align: right;\">-0.112704</td><td style = \"text-align: right;\">-0.151358</td><td style = \"text-align: right;\">-0.0913267</td><td style = \"text-align: right;\">-0.137015</td><td style = \"text-align: right;\">-0.0782405</td><td style = \"text-align: right;\">-0.157124</td><td style = \"text-align: right;\">-0.147441</td><td style = \"text-align: right;\">-0.150221</td><td style = \"text-align: right;\">-0.167207</td><td style = \"text-align: right;\">-0.0502122</td><td style = \"text-align: right;\">-0.141537</td><td style = \"text-align: right;\">-0.151426</td><td style = \"text-align: right;\">-0.142525</td><td style = \"text-align: right;\">-0.120501</td><td style = \"text-align: right;\">-0.136877</td><td style = \"text-align: right;\">-0.0926085</td><td style = \"text-align: right;\">-0.0382452</td><td style = \"text-align: right;\">-0.104646</td><td style = \"text-align: right;\">&ctdot;</td></tr><tr><td class = \"rowNumber\" style = \"font-weight: bold; text-align: right;\">12</td><td style = \"text-align: right;\">-0.199431</td><td style = \"text-align: right;\">-0.106908</td><td style = \"text-align: right;\">-0.133042</td><td style = \"text-align: right;\">-0.114235</td><td style = \"text-align: right;\">-0.17997</td><td style = \"text-align: right;\">-0.116149</td><td style = \"text-align: right;\">-0.0694605</td><td style = \"text-align: right;\">-0.151082</td><td style = \"text-align: right;\">-0.100052</td><td style = \"text-align: right;\">-0.0671388</td><td style = \"text-align: right;\">-0.128648</td><td style = \"text-align: right;\">-0.171168</td><td style = \"text-align: right;\">-0.059455</td><td style = \"text-align: right;\">-0.18493</td><td style = \"text-align: right;\">-0.111782</td><td style = \"text-align: right;\">-0.0748051</td><td style = \"text-align: right;\">-0.164037</td><td style = \"text-align: right;\">-0.0929295</td><td style = \"text-align: right;\">-0.106915</td><td style = \"text-align: right;\">-0.184064</td><td style = \"text-align: right;\">-0.155464</td><td style = \"text-align: right;\">-0.151776</td><td style = \"text-align: right;\">-0.100399</td><td style = \"text-align: right;\">-0.191773</td><td style = \"text-align: right;\">-0.148314</td><td style = \"text-align: right;\">-0.189369</td><td style = \"text-align: right;\">-0.1566</td><td style = \"text-align: right;\">-0.102287</td><td style = \"text-align: right;\">-0.136678</td><td style = \"text-align: right;\">-0.0857014</td><td style = \"text-align: right;\">-0.0752253</td><td style = \"text-align: right;\">-0.178305</td><td style = \"text-align: right;\">-0.14691</td><td style = \"text-align: right;\">-0.11983</td><td style = \"text-align: right;\">-0.116605</td><td style = \"text-align: right;\">-0.115803</td><td style = \"text-align: right;\">-0.0896938</td><td style = \"text-align: right;\">-0.142241</td><td style = \"text-align: right;\">-0.105511</td><td style = \"text-align: right;\">-0.142778</td><td style = \"text-align: right;\">-0.143858</td><td style = \"text-align: right;\">-0.107564</td><td style = \"text-align: right;\">-0.0598521</td><td style = \"text-align: right;\">-0.12756</td><td style = \"text-align: right;\">-0.0800609</td><td style = \"text-align: right;\">-0.144459</td><td style = \"text-align: right;\">-0.138852</td><td style = \"text-align: right;\">-0.136744</td><td style = \"text-align: right;\">-0.0511922</td><td style = \"text-align: right;\">-0.106176</td><td style = \"text-align: right;\">-0.176377</td><td style = \"text-align: right;\">-0.110125</td><td style = \"text-align: right;\">-0.0292576</td><td style = \"text-align: right;\">-0.111601</td><td style = \"text-align: right;\">-0.0852044</td><td style = \"text-align: right;\">-0.0889157</td><td style = \"text-align: right;\">-0.150324</td><td style = \"text-align: right;\">-0.16518</td><td style = \"text-align: right;\">-0.113861</td><td style = \"text-align: right;\">-0.195456</td><td style = \"text-align: right;\">-0.138474</td><td style = \"text-align: right;\">-0.0644138</td><td style = \"text-align: right;\">-0.169622</td><td style = \"text-align: right;\">-0.0754516</td><td style = \"text-align: right;\">-0.105573</td><td style = \"text-align: right;\">-0.169882</td><td style = \"text-align: right;\">-0.114067</td><td style = \"text-align: right;\">-0.0993188</td><td style = \"text-align: right;\">-0.145241</td><td style = \"text-align: right;\">-0.170224</td><td style = \"text-align: right;\">-0.0506482</td><td style = \"text-align: right;\">-0.172366</td><td style = \"text-align: right;\">-0.121721</td><td style = \"text-align: right;\">-0.0954397</td><td style = \"text-align: right;\">-0.163742</td><td style = \"text-align: right;\">-0.0482825</td><td style = \"text-align: right;\">-0.171481</td><td style = \"text-align: right;\">-0.157936</td><td style = \"text-align: right;\">-0.0953745</td><td style = \"text-align: right;\">-0.136614</td><td style = \"text-align: right;\">-0.0999553</td><td style = \"text-align: right;\">-0.0805213</td><td style = \"text-align: right;\">-0.117767</td><td style = \"text-align: right;\">-0.115512</td><td style = \"text-align: right;\">-0.147022</td><td style = \"text-align: right;\">-0.136934</td><td style = \"text-align: right;\">-0.0964505</td><td style = \"text-align: right;\">-0.16614</td><td style = \"text-align: right;\">-0.114995</td><td style = \"text-align: right;\">-0.178307</td><td style = \"text-align: right;\">-0.123817</td><td style = \"text-align: right;\">-0.0397946</td><td style = \"text-align: right;\">-0.143182</td><td style = \"text-align: right;\">-0.12789</td><td style = \"text-align: right;\">-0.168569</td><td style = \"text-align: right;\">-0.108523</td><td style = \"text-align: right;\">-0.183101</td><td style = \"text-align: right;\">-0.0747375</td><td style = \"text-align: right;\">-0.0520515</td><td style = \"text-align: right;\">-0.168965</td><td style = \"text-align: right;\">&ctdot;</td></tr><tr><td class = \"rowNumber\" style = \"font-weight: bold; text-align: right;\">13</td><td style = \"text-align: right;\">-0.128</td><td style = \"text-align: right;\">-0.170452</td><td style = \"text-align: right;\">-0.154527</td><td style = \"text-align: right;\">-0.184135</td><td style = \"text-align: right;\">-0.124355</td><td style = \"text-align: right;\">-0.15536</td><td style = \"text-align: right;\">-0.0973488</td><td style = \"text-align: right;\">-0.113158</td><td style = \"text-align: right;\">-0.0376225</td><td style = \"text-align: right;\">-0.0817857</td><td style = \"text-align: right;\">-0.165549</td><td style = \"text-align: right;\">-0.100856</td><td style = \"text-align: right;\">-0.114208</td><td style = \"text-align: right;\">-0.118883</td><td style = \"text-align: right;\">-0.121085</td><td style = \"text-align: right;\">-0.079396</td><td style = \"text-align: right;\">-0.107901</td><td style = \"text-align: right;\">-0.110177</td><td style = \"text-align: right;\">-0.112565</td><td style = \"text-align: right;\">-0.14097</td><td style = \"text-align: right;\">-0.155077</td><td style = \"text-align: right;\">-0.125984</td><td style = \"text-align: right;\">-0.0911632</td><td style = \"text-align: right;\">-0.138896</td><td style = \"text-align: right;\">-0.101772</td><td style = \"text-align: right;\">-0.188345</td><td style = \"text-align: right;\">-0.134922</td><td style = \"text-align: right;\">-0.0546282</td><td style = \"text-align: right;\">-0.0649832</td><td style = \"text-align: right;\">-0.101957</td><td style = \"text-align: right;\">-0.119951</td><td style = \"text-align: right;\">-0.124414</td><td style = \"text-align: right;\">-0.146706</td><td style = \"text-align: right;\">-0.194177</td><td style = \"text-align: right;\">-0.0893026</td><td style = \"text-align: right;\">-0.149337</td><td style = \"text-align: right;\">-0.079159</td><td style = \"text-align: right;\">-0.148219</td><td style = \"text-align: right;\">-0.0978605</td><td style = \"text-align: right;\">-0.0820568</td><td style = \"text-align: right;\">-0.170558</td><td style = \"text-align: right;\">-0.0835301</td><td style = \"text-align: right;\">-0.0671204</td><td style = \"text-align: right;\">-0.145133</td><td style = \"text-align: right;\">-0.0963315</td><td style = \"text-align: right;\">-0.153271</td><td style = \"text-align: right;\">-0.177094</td><td style = \"text-align: right;\">-0.156346</td><td style = \"text-align: right;\">-0.0578718</td><td style = \"text-align: right;\">-0.118773</td><td style = \"text-align: right;\">-0.11308</td><td style = \"text-align: right;\">-0.158038</td><td style = \"text-align: right;\">-0.0463027</td><td style = \"text-align: right;\">-0.103586</td><td style = \"text-align: right;\">-0.066882</td><td style = \"text-align: right;\">-0.0561868</td><td style = \"text-align: right;\">-0.175137</td><td style = \"text-align: right;\">-0.153195</td><td style = \"text-align: right;\">-0.170735</td><td style = \"text-align: right;\">-0.134864</td><td style = \"text-align: right;\">-0.126625</td><td style = \"text-align: right;\">-0.106594</td><td style = \"text-align: right;\">-0.142548</td><td style = \"text-align: right;\">-0.0780575</td><td style = \"text-align: right;\">-0.182704</td><td style = \"text-align: right;\">-0.130144</td><td style = \"text-align: right;\">-0.15374</td><td style = \"text-align: right;\">-0.106072</td><td style = \"text-align: right;\">-0.146091</td><td style = \"text-align: right;\">-0.160315</td><td style = \"text-align: right;\">-0.0720864</td><td style = \"text-align: right;\">-0.140966</td><td style = \"text-align: right;\">-0.147729</td><td style = \"text-align: right;\">-0.0724005</td><td style = \"text-align: right;\">-0.162328</td><td style = \"text-align: right;\">-0.0629786</td><td style = \"text-align: right;\">-0.159936</td><td style = \"text-align: right;\">-0.156275</td><td style = \"text-align: right;\">-0.117427</td><td style = \"text-align: right;\">-0.135501</td><td style = \"text-align: right;\">-0.0633066</td><td style = \"text-align: right;\">-0.0992882</td><td style = \"text-align: right;\">-0.11285</td><td style = \"text-align: right;\">-0.171431</td><td style = \"text-align: right;\">-0.0718763</td><td style = \"text-align: right;\">-0.172683</td><td style = \"text-align: right;\">-0.124447</td><td style = \"text-align: right;\">-0.127012</td><td style = \"text-align: right;\">-0.143089</td><td style = \"text-align: right;\">-0.159262</td><td style = \"text-align: right;\">-0.126198</td><td style = \"text-align: right;\">-0.0132336</td><td style = \"text-align: right;\">-0.16413</td><td style = \"text-align: right;\">-0.161416</td><td style = \"text-align: right;\">-0.142931</td><td style = \"text-align: right;\">-0.0991532</td><td style = \"text-align: right;\">-0.162816</td><td style = \"text-align: right;\">-0.108025</td><td style = \"text-align: right;\">-0.0569223</td><td style = \"text-align: right;\">-0.15378</td><td style = \"text-align: right;\">&ctdot;</td></tr><tr><td style = \"text-align: right;\">&vellip;</td><td style = \"text-align: right;\">&vellip;</td><td style = \"text-align: right;\">&vellip;</td><td style = \"text-align: right;\">&vellip;</td><td style = \"text-align: right;\">&vellip;</td><td style = \"text-align: right;\">&vellip;</td><td style = \"text-align: right;\">&vellip;</td><td style = \"text-align: right;\">&vellip;</td><td style = \"text-align: right;\">&vellip;</td><td style = \"text-align: right;\">&vellip;</td><td style = \"text-align: right;\">&vellip;</td><td style = \"text-align: right;\">&vellip;</td><td style = \"text-align: right;\">&vellip;</td><td style = \"text-align: right;\">&vellip;</td><td style = \"text-align: right;\">&vellip;</td><td style = \"text-align: right;\">&vellip;</td><td style = \"text-align: right;\">&vellip;</td><td style = \"text-align: right;\">&vellip;</td><td style = \"text-align: right;\">&vellip;</td><td style = \"text-align: right;\">&vellip;</td><td style = \"text-align: right;\">&vellip;</td><td style = \"text-align: right;\">&vellip;</td><td style = \"text-align: right;\">&vellip;</td><td style = \"text-align: right;\">&vellip;</td><td style = \"text-align: right;\">&vellip;</td><td style = \"text-align: right;\">&vellip;</td><td style = \"text-align: right;\">&vellip;</td><td style = \"text-align: right;\">&vellip;</td><td style = \"text-align: right;\">&vellip;</td><td style = \"text-align: right;\">&vellip;</td><td style = \"text-align: right;\">&vellip;</td><td style = \"text-align: right;\">&vellip;</td><td style = \"text-align: right;\">&vellip;</td><td style = \"text-align: right;\">&vellip;</td><td style = \"text-align: right;\">&vellip;</td><td style = \"text-align: right;\">&vellip;</td><td style = \"text-align: right;\">&vellip;</td><td style = \"text-align: right;\">&vellip;</td><td style = \"text-align: right;\">&vellip;</td><td style = \"text-align: right;\">&vellip;</td><td style = \"text-align: right;\">&vellip;</td><td style = \"text-align: right;\">&vellip;</td><td style = \"text-align: right;\">&vellip;</td><td style = \"text-align: right;\">&vellip;</td><td style = \"text-align: right;\">&vellip;</td><td style = \"text-align: right;\">&vellip;</td><td style = \"text-align: right;\">&vellip;</td><td style = \"text-align: right;\">&vellip;</td><td style = \"text-align: right;\">&vellip;</td><td style = \"text-align: right;\">&vellip;</td><td style = \"text-align: right;\">&vellip;</td><td style = \"text-align: right;\">&vellip;</td><td style = \"text-align: right;\">&vellip;</td><td style = \"text-align: right;\">&vellip;</td><td style = \"text-align: right;\">&vellip;</td><td style = \"text-align: right;\">&vellip;</td><td style = \"text-align: right;\">&vellip;</td><td style = \"text-align: right;\">&vellip;</td><td style = \"text-align: right;\">&vellip;</td><td style = \"text-align: right;\">&vellip;</td><td style = \"text-align: right;\">&vellip;</td><td style = \"text-align: right;\">&vellip;</td><td style = \"text-align: right;\">&vellip;</td><td style = \"text-align: right;\">&vellip;</td><td style = \"text-align: right;\">&vellip;</td><td style = \"text-align: right;\">&vellip;</td><td style = \"text-align: right;\">&vellip;</td><td style = \"text-align: right;\">&vellip;</td><td style = \"text-align: right;\">&vellip;</td><td style = \"text-align: right;\">&vellip;</td><td style = \"text-align: right;\">&vellip;</td><td style = \"text-align: right;\">&vellip;</td><td style = \"text-align: right;\">&vellip;</td><td style = \"text-align: right;\">&vellip;</td><td style = \"text-align: right;\">&vellip;</td><td style = \"text-align: right;\">&vellip;</td><td style = \"text-align: right;\">&vellip;</td><td style = \"text-align: right;\">&vellip;</td><td style = \"text-align: right;\">&vellip;</td><td style = \"text-align: right;\">&vellip;</td><td style = \"text-align: right;\">&vellip;</td><td style = \"text-align: right;\">&vellip;</td><td style = \"text-align: right;\">&vellip;</td><td style = \"text-align: right;\">&vellip;</td><td style = \"text-align: right;\">&vellip;</td><td style = \"text-align: right;\">&vellip;</td><td style = \"text-align: right;\">&vellip;</td><td style = \"text-align: right;\">&vellip;</td><td style = \"text-align: right;\">&vellip;</td><td style = \"text-align: right;\">&vellip;</td><td style = \"text-align: right;\">&vellip;</td><td style = \"text-align: right;\">&vellip;</td><td style = \"text-align: right;\">&vellip;</td><td style = \"text-align: right;\">&vellip;</td><td style = \"text-align: right;\">&vellip;</td><td style = \"text-align: right;\">&vellip;</td><td style = \"text-align: right;\">&vellip;</td><td style = \"text-align: right;\">&vellip;</td><td style = \"text-align: right;\">&vellip;</td><td style = \"text-align: right;\">&vellip;</td><td style = \"text-align: right;\">&vellip;</td><td style = \"text-align: right;\">&dtdot;</td></tr><tr><td class = \"rowNumber\" style = \"font-weight: bold; text-align: right;\">440</td><td style = \"text-align: right;\">10.1663</td><td style = \"text-align: right;\">6.31982</td><td style = \"text-align: right;\">11.0771</td><td style = \"text-align: right;\">9.29572</td><td style = \"text-align: right;\">8.17167</td><td style = \"text-align: right;\">9.69718</td><td style = \"text-align: right;\">7.69521</td><td style = \"text-align: right;\">5.5409</td><td style = \"text-align: right;\">11.2941</td><td style = \"text-align: right;\">10.0433</td><td style = \"text-align: right;\">8.55076</td><td style = \"text-align: right;\">10.8429</td><td style = \"text-align: right;\">8.84789</td><td style = \"text-align: right;\">11.5623</td><td style = \"text-align: right;\">9.82291</td><td style = \"text-align: right;\">11.316</td><td style = \"text-align: right;\">9.36658</td><td style = \"text-align: right;\">8.43442</td><td style = \"text-align: right;\">8.66028</td><td style = \"text-align: right;\">9.75162</td><td style = \"text-align: right;\">9.45372</td><td style = \"text-align: right;\">8.17494</td><td style = \"text-align: right;\">9.09862</td><td style = \"text-align: right;\">8.88275</td><td style = \"text-align: right;\">8.96807</td><td style = \"text-align: right;\">6.47643</td><td style = \"text-align: right;\">8.38073</td><td style = \"text-align: right;\">7.83533</td><td style = \"text-align: right;\">4.52647</td><td style = \"text-align: right;\">12.3811</td><td style = \"text-align: right;\">10.3595</td><td style = \"text-align: right;\">8.5825</td><td style = \"text-align: right;\">11.1979</td><td style = \"text-align: right;\">9.46315</td><td style = \"text-align: right;\">9.64986</td><td style = \"text-align: right;\">6.86166</td><td style = \"text-align: right;\">7.55568</td><td style = \"text-align: right;\">5.70982</td><td style = \"text-align: right;\">8.97657</td><td style = \"text-align: right;\">9.01807</td><td style = \"text-align: right;\">8.69202</td><td style = \"text-align: right;\">8.08517</td><td style = \"text-align: right;\">8.34577</td><td style = \"text-align: right;\">7.17466</td><td style = \"text-align: right;\">6.17913</td><td style = \"text-align: right;\">7.4552</td><td style = \"text-align: right;\">9.58418</td><td style = \"text-align: right;\">9.35175</td><td style = \"text-align: right;\">9.32307</td><td style = \"text-align: right;\">12.5189</td><td style = \"text-align: right;\">8.1921</td><td style = \"text-align: right;\">6.76746</td><td style = \"text-align: right;\">11.2268</td><td style = \"text-align: right;\">6.79438</td><td style = \"text-align: right;\">9.3799</td><td style = \"text-align: right;\">8.16198</td><td style = \"text-align: right;\">8.0676</td><td style = \"text-align: right;\">7.30341</td><td style = \"text-align: right;\">6.57995</td><td style = \"text-align: right;\">9.50873</td><td style = \"text-align: right;\">9.46133</td><td style = \"text-align: right;\">8.64059</td><td style = \"text-align: right;\">8.99241</td><td style = \"text-align: right;\">8.17359</td><td style = \"text-align: right;\">9.49277</td><td style = \"text-align: right;\">6.92163</td><td style = \"text-align: right;\">8.06323</td><td style = \"text-align: right;\">11.38</td><td style = \"text-align: right;\">6.62309</td><td style = \"text-align: right;\">6.57515</td><td style = \"text-align: right;\">10.6461</td><td style = \"text-align: right;\">10.2245</td><td style = \"text-align: right;\">9.29199</td><td style = \"text-align: right;\">8.51432</td><td style = \"text-align: right;\">11.4316</td><td style = \"text-align: right;\">9.34614</td><td style = \"text-align: right;\">10.1276</td><td style = \"text-align: right;\">8.57112</td><td style = \"text-align: right;\">9.60712</td><td style = \"text-align: right;\">9.39353</td><td style = \"text-align: right;\">10.1536</td><td style = \"text-align: right;\">8.95531</td><td style = \"text-align: right;\">7.84458</td><td style = \"text-align: right;\">9.33648</td><td style = \"text-align: right;\">9.85689</td><td style = \"text-align: right;\">10.1208</td><td style = \"text-align: right;\">8.57224</td><td style = \"text-align: right;\">6.64998</td><td style = \"text-align: right;\">8.15951</td><td style = \"text-align: right;\">9.893</td><td style = \"text-align: right;\">9.40235</td><td style = \"text-align: right;\">8.2279</td><td style = \"text-align: right;\">8.63316</td><td style = \"text-align: right;\">6.6891</td><td style = \"text-align: right;\">6.93717</td><td style = \"text-align: right;\">9.85039</td><td style = \"text-align: right;\">15.9586</td><td style = \"text-align: right;\">9.94968</td><td style = \"text-align: right;\">9.90219</td><td style = \"text-align: right;\">8.57193</td><td style = \"text-align: right;\">&ctdot;</td></tr><tr><td class = \"rowNumber\" style = \"font-weight: bold; text-align: right;\">441</td><td style = \"text-align: right;\">10.2017</td><td style = \"text-align: right;\">6.33711</td><td style = \"text-align: right;\">11.117</td><td style = \"text-align: right;\">9.29691</td><td style = \"text-align: right;\">8.20771</td><td style = \"text-align: right;\">9.71552</td><td style = \"text-align: right;\">7.72369</td><td style = \"text-align: right;\">5.55098</td><td style = \"text-align: right;\">11.3305</td><td style = \"text-align: right;\">10.0766</td><td style = \"text-align: right;\">8.59258</td><td style = \"text-align: right;\">10.8655</td><td style = \"text-align: right;\">8.90462</td><td style = \"text-align: right;\">11.6072</td><td style = \"text-align: right;\">9.8481</td><td style = \"text-align: right;\">11.3527</td><td style = \"text-align: right;\">9.39987</td><td style = \"text-align: right;\">8.44517</td><td style = \"text-align: right;\">8.68081</td><td style = \"text-align: right;\">9.78314</td><td style = \"text-align: right;\">9.49363</td><td style = \"text-align: right;\">8.20062</td><td style = \"text-align: right;\">9.14964</td><td style = \"text-align: right;\">8.91013</td><td style = \"text-align: right;\">8.9908</td><td style = \"text-align: right;\">6.51076</td><td style = \"text-align: right;\">8.40134</td><td style = \"text-align: right;\">7.87309</td><td style = \"text-align: right;\">4.5443</td><td style = \"text-align: right;\">12.4091</td><td style = \"text-align: right;\">10.4061</td><td style = \"text-align: right;\">8.60608</td><td style = \"text-align: right;\">11.2464</td><td style = \"text-align: right;\">9.50262</td><td style = \"text-align: right;\">9.69711</td><td style = \"text-align: right;\">6.89202</td><td style = \"text-align: right;\">7.5576</td><td style = \"text-align: right;\">5.72088</td><td style = \"text-align: right;\">9.00083</td><td style = \"text-align: right;\">9.05504</td><td style = \"text-align: right;\">8.71988</td><td style = \"text-align: right;\">8.10968</td><td style = \"text-align: right;\">8.36776</td><td style = \"text-align: right;\">7.20907</td><td style = \"text-align: right;\">6.20656</td><td style = \"text-align: right;\">7.4754</td><td style = \"text-align: right;\">9.6383</td><td style = \"text-align: right;\">9.37727</td><td style = \"text-align: right;\">9.36072</td><td style = \"text-align: right;\">12.5572</td><td style = \"text-align: right;\">8.21777</td><td style = \"text-align: right;\">6.77888</td><td style = \"text-align: right;\">11.267</td><td style = \"text-align: right;\">6.81768</td><td style = \"text-align: right;\">9.41242</td><td style = \"text-align: right;\">8.19217</td><td style = \"text-align: right;\">8.10058</td><td style = \"text-align: right;\">7.33253</td><td style = \"text-align: right;\">6.60074</td><td style = \"text-align: right;\">9.54745</td><td style = \"text-align: right;\">9.49591</td><td style = \"text-align: right;\">8.67312</td><td style = \"text-align: right;\">9.01276</td><td style = \"text-align: right;\">8.20056</td><td style = \"text-align: right;\">9.54501</td><td style = \"text-align: right;\">6.95092</td><td style = \"text-align: right;\">8.08144</td><td style = \"text-align: right;\">11.3993</td><td style = \"text-align: right;\">6.63556</td><td style = \"text-align: right;\">6.60234</td><td style = \"text-align: right;\">10.6728</td><td style = \"text-align: right;\">10.2722</td><td style = \"text-align: right;\">9.31676</td><td style = \"text-align: right;\">8.53936</td><td style = \"text-align: right;\">11.4783</td><td style = \"text-align: right;\">9.39412</td><td style = \"text-align: right;\">10.184</td><td style = \"text-align: right;\">8.6016</td><td style = \"text-align: right;\">9.65874</td><td style = \"text-align: right;\">9.41187</td><td style = \"text-align: right;\">10.179</td><td style = \"text-align: right;\">8.9795</td><td style = \"text-align: right;\">7.85437</td><td style = \"text-align: right;\">9.37062</td><td style = \"text-align: right;\">9.89088</td><td style = \"text-align: right;\">10.1503</td><td style = \"text-align: right;\">8.62017</td><td style = \"text-align: right;\">6.69287</td><td style = \"text-align: right;\">8.1919</td><td style = \"text-align: right;\">9.93795</td><td style = \"text-align: right;\">9.44228</td><td style = \"text-align: right;\">8.26989</td><td style = \"text-align: right;\">8.6594</td><td style = \"text-align: right;\">6.72863</td><td style = \"text-align: right;\">6.94899</td><td style = \"text-align: right;\">9.87697</td><td style = \"text-align: right;\">16.0395</td><td style = \"text-align: right;\">10.0017</td><td style = \"text-align: right;\">9.95435</td><td style = \"text-align: right;\">8.60423</td><td style = \"text-align: right;\">&ctdot;</td></tr><tr><td class = \"rowNumber\" style = \"font-weight: bold; text-align: right;\">442</td><td style = \"text-align: right;\">10.2347</td><td style = \"text-align: right;\">6.36615</td><td style = \"text-align: right;\">11.167</td><td style = \"text-align: right;\">9.34545</td><td style = \"text-align: right;\">8.23567</td><td style = \"text-align: right;\">9.76919</td><td style = \"text-align: right;\">7.75459</td><td style = \"text-align: right;\">5.56664</td><td style = \"text-align: right;\">11.372</td><td style = \"text-align: right;\">10.0997</td><td style = \"text-align: right;\">8.63025</td><td style = \"text-align: right;\">10.913</td><td style = \"text-align: right;\">8.90165</td><td style = \"text-align: right;\">11.6497</td><td style = \"text-align: right;\">9.86651</td><td style = \"text-align: right;\">11.4031</td><td style = \"text-align: right;\">9.43998</td><td style = \"text-align: right;\">8.48095</td><td style = \"text-align: right;\">8.72828</td><td style = \"text-align: right;\">9.81224</td><td style = \"text-align: right;\">9.52629</td><td style = \"text-align: right;\">8.23132</td><td style = \"text-align: right;\">9.17911</td><td style = \"text-align: right;\">8.9342</td><td style = \"text-align: right;\">9.04526</td><td style = \"text-align: right;\">6.5023</td><td style = \"text-align: right;\">8.42042</td><td style = \"text-align: right;\">7.90423</td><td style = \"text-align: right;\">4.56642</td><td style = \"text-align: right;\">12.4527</td><td style = \"text-align: right;\">10.4492</td><td style = \"text-align: right;\">8.62768</td><td style = \"text-align: right;\">11.2866</td><td style = \"text-align: right;\">9.5429</td><td style = \"text-align: right;\">9.73498</td><td style = \"text-align: right;\">6.9234</td><td style = \"text-align: right;\">7.59653</td><td style = \"text-align: right;\">5.74037</td><td style = \"text-align: right;\">9.04236</td><td style = \"text-align: right;\">9.07769</td><td style = \"text-align: right;\">8.74419</td><td style = \"text-align: right;\">8.13389</td><td style = \"text-align: right;\">8.38495</td><td style = \"text-align: right;\">7.24202</td><td style = \"text-align: right;\">6.23171</td><td style = \"text-align: right;\">7.51133</td><td style = \"text-align: right;\">9.66452</td><td style = \"text-align: right;\">9.40983</td><td style = \"text-align: right;\">9.36362</td><td style = \"text-align: right;\">12.591</td><td style = \"text-align: right;\">8.23626</td><td style = \"text-align: right;\">6.80707</td><td style = \"text-align: right;\">11.298</td><td style = \"text-align: right;\">6.83057</td><td style = \"text-align: right;\">9.4392</td><td style = \"text-align: right;\">8.2076</td><td style = \"text-align: right;\">8.1145</td><td style = \"text-align: right;\">7.38291</td><td style = \"text-align: right;\">6.63082</td><td style = \"text-align: right;\">9.55686</td><td style = \"text-align: right;\">9.52487</td><td style = \"text-align: right;\">8.69389</td><td style = \"text-align: right;\">9.05685</td><td style = \"text-align: right;\">8.23821</td><td style = \"text-align: right;\">9.5574</td><td style = \"text-align: right;\">6.95371</td><td style = \"text-align: right;\">8.11743</td><td style = \"text-align: right;\">11.4258</td><td style = \"text-align: right;\">6.65549</td><td style = \"text-align: right;\">6.61085</td><td style = \"text-align: right;\">10.707</td><td style = \"text-align: right;\">10.3126</td><td style = \"text-align: right;\">9.33689</td><td style = \"text-align: right;\">8.57049</td><td style = \"text-align: right;\">11.5249</td><td style = \"text-align: right;\">9.41602</td><td style = \"text-align: right;\">10.2054</td><td style = \"text-align: right;\">8.6194</td><td style = \"text-align: right;\">9.66715</td><td style = \"text-align: right;\">9.44695</td><td style = \"text-align: right;\">10.1965</td><td style = \"text-align: right;\">9.00514</td><td style = \"text-align: right;\">7.88083</td><td style = \"text-align: right;\">9.41201</td><td style = \"text-align: right;\">9.91292</td><td style = \"text-align: right;\">10.2089</td><td style = \"text-align: right;\">8.63413</td><td style = \"text-align: right;\">6.68816</td><td style = \"text-align: right;\">8.20839</td><td style = \"text-align: right;\">9.96321</td><td style = \"text-align: right;\">9.46866</td><td style = \"text-align: right;\">8.28721</td><td style = \"text-align: right;\">8.69123</td><td style = \"text-align: right;\">6.75698</td><td style = \"text-align: right;\">6.96904</td><td style = \"text-align: right;\">9.90894</td><td style = \"text-align: right;\">16.1064</td><td style = \"text-align: right;\">10.023</td><td style = \"text-align: right;\">9.98207</td><td style = \"text-align: right;\">8.63725</td><td style = \"text-align: right;\">&ctdot;</td></tr><tr><td class = \"rowNumber\" style = \"font-weight: bold; text-align: right;\">443</td><td style = \"text-align: right;\">10.2492</td><td style = \"text-align: right;\">6.38215</td><td style = \"text-align: right;\">11.2095</td><td style = \"text-align: right;\">9.35174</td><td style = \"text-align: right;\">8.27247</td><td style = \"text-align: right;\">9.79647</td><td style = \"text-align: right;\">7.76441</td><td style = \"text-align: right;\">5.58742</td><td style = \"text-align: right;\">11.4117</td><td style = \"text-align: right;\">10.1348</td><td style = \"text-align: right;\">8.64847</td><td style = \"text-align: right;\">10.9562</td><td style = \"text-align: right;\">8.93917</td><td style = \"text-align: right;\">11.7095</td><td style = \"text-align: right;\">9.88918</td><td style = \"text-align: right;\">11.4266</td><td style = \"text-align: right;\">9.47298</td><td style = \"text-align: right;\">8.48956</td><td style = \"text-align: right;\">8.74397</td><td style = \"text-align: right;\">9.84836</td><td style = \"text-align: right;\">9.56896</td><td style = \"text-align: right;\">8.23748</td><td style = \"text-align: right;\">9.1586</td><td style = \"text-align: right;\">8.95901</td><td style = \"text-align: right;\">9.0695</td><td style = \"text-align: right;\">6.5452</td><td style = \"text-align: right;\">8.44302</td><td style = \"text-align: right;\">7.91723</td><td style = \"text-align: right;\">4.60027</td><td style = \"text-align: right;\">12.4957</td><td style = \"text-align: right;\">10.4986</td><td style = \"text-align: right;\">8.64263</td><td style = \"text-align: right;\">11.3187</td><td style = \"text-align: right;\">9.5731</td><td style = \"text-align: right;\">9.76411</td><td style = \"text-align: right;\">6.92801</td><td style = \"text-align: right;\">7.62943</td><td style = \"text-align: right;\">5.75309</td><td style = \"text-align: right;\">9.06734</td><td style = \"text-align: right;\">9.11198</td><td style = \"text-align: right;\">8.78938</td><td style = \"text-align: right;\">8.15063</td><td style = \"text-align: right;\">8.43346</td><td style = \"text-align: right;\">7.27185</td><td style = \"text-align: right;\">6.25801</td><td style = \"text-align: right;\">7.54494</td><td style = \"text-align: right;\">9.6944</td><td style = \"text-align: right;\">9.43105</td><td style = \"text-align: right;\">9.41624</td><td style = \"text-align: right;\">12.6506</td><td style = \"text-align: right;\">8.26999</td><td style = \"text-align: right;\">6.83098</td><td style = \"text-align: right;\">11.3446</td><td style = \"text-align: right;\">6.86171</td><td style = \"text-align: right;\">9.49614</td><td style = \"text-align: right;\">8.22901</td><td style = \"text-align: right;\">8.15374</td><td style = \"text-align: right;\">7.37521</td><td style = \"text-align: right;\">6.64762</td><td style = \"text-align: right;\">9.59091</td><td style = \"text-align: right;\">9.55925</td><td style = \"text-align: right;\">8.73532</td><td style = \"text-align: right;\">9.09061</td><td style = \"text-align: right;\">8.27312</td><td style = \"text-align: right;\">9.57496</td><td style = \"text-align: right;\">6.99192</td><td style = \"text-align: right;\">8.11693</td><td style = \"text-align: right;\">11.4618</td><td style = \"text-align: right;\">6.66784</td><td style = \"text-align: right;\">6.64613</td><td style = \"text-align: right;\">10.7504</td><td style = \"text-align: right;\">10.3305</td><td style = \"text-align: right;\">9.36366</td><td style = \"text-align: right;\">8.5916</td><td style = \"text-align: right;\">11.5558</td><td style = \"text-align: right;\">9.45363</td><td style = \"text-align: right;\">10.233</td><td style = \"text-align: right;\">8.66439</td><td style = \"text-align: right;\">9.71222</td><td style = \"text-align: right;\">9.48182</td><td style = \"text-align: right;\">10.2496</td><td style = \"text-align: right;\">9.02853</td><td style = \"text-align: right;\">7.90171</td><td style = \"text-align: right;\">9.4244</td><td style = \"text-align: right;\">9.94195</td><td style = \"text-align: right;\">10.2205</td><td style = \"text-align: right;\">8.66269</td><td style = \"text-align: right;\">6.6991</td><td style = \"text-align: right;\">8.24313</td><td style = \"text-align: right;\">10.009</td><td style = \"text-align: right;\">9.50184</td><td style = \"text-align: right;\">8.31851</td><td style = \"text-align: right;\">8.71893</td><td style = \"text-align: right;\">6.77758</td><td style = \"text-align: right;\">7.00243</td><td style = \"text-align: right;\">9.94342</td><td style = \"text-align: right;\">16.1684</td><td style = \"text-align: right;\">10.0653</td><td style = \"text-align: right;\">10.0418</td><td style = \"text-align: right;\">8.66001</td><td style = \"text-align: right;\">&ctdot;</td></tr><tr><td class = \"rowNumber\" style = \"font-weight: bold; text-align: right;\">444</td><td style = \"text-align: right;\">10.2882</td><td style = \"text-align: right;\">6.42186</td><td style = \"text-align: right;\">11.2507</td><td style = \"text-align: right;\">9.36938</td><td style = \"text-align: right;\">8.28792</td><td style = \"text-align: right;\">9.81275</td><td style = \"text-align: right;\">7.78487</td><td style = \"text-align: right;\">5.59849</td><td style = \"text-align: right;\">11.4557</td><td style = \"text-align: right;\">10.1773</td><td style = \"text-align: right;\">8.6859</td><td style = \"text-align: right;\">11.0023</td><td style = \"text-align: right;\">8.98664</td><td style = \"text-align: right;\">11.7615</td><td style = \"text-align: right;\">9.90646</td><td style = \"text-align: right;\">11.4666</td><td style = \"text-align: right;\">9.49471</td><td style = \"text-align: right;\">8.53039</td><td style = \"text-align: right;\">8.76846</td><td style = \"text-align: right;\">9.88853</td><td style = \"text-align: right;\">9.60451</td><td style = \"text-align: right;\">8.28695</td><td style = \"text-align: right;\">9.20399</td><td style = \"text-align: right;\">8.99376</td><td style = \"text-align: right;\">9.10356</td><td style = \"text-align: right;\">6.56969</td><td style = \"text-align: right;\">8.47275</td><td style = \"text-align: right;\">7.95813</td><td style = \"text-align: right;\">4.60428</td><td style = \"text-align: right;\">12.5219</td><td style = \"text-align: right;\">10.5377</td><td style = \"text-align: right;\">8.6871</td><td style = \"text-align: right;\">11.3508</td><td style = \"text-align: right;\">9.60118</td><td style = \"text-align: right;\">9.80625</td><td style = \"text-align: right;\">6.95585</td><td style = \"text-align: right;\">7.63686</td><td style = \"text-align: right;\">5.78107</td><td style = \"text-align: right;\">9.10687</td><td style = \"text-align: right;\">9.14416</td><td style = \"text-align: right;\">8.82076</td><td style = \"text-align: right;\">8.18514</td><td style = \"text-align: right;\">8.46273</td><td style = \"text-align: right;\">7.28298</td><td style = \"text-align: right;\">6.28468</td><td style = \"text-align: right;\">7.57832</td><td style = \"text-align: right;\">9.72998</td><td style = \"text-align: right;\">9.45753</td><td style = \"text-align: right;\">9.42886</td><td style = \"text-align: right;\">12.6898</td><td style = \"text-align: right;\">8.3024</td><td style = \"text-align: right;\">6.8526</td><td style = \"text-align: right;\">11.4048</td><td style = \"text-align: right;\">6.87465</td><td style = \"text-align: right;\">9.50732</td><td style = \"text-align: right;\">8.26893</td><td style = \"text-align: right;\">8.15243</td><td style = \"text-align: right;\">7.39946</td><td style = \"text-align: right;\">6.66067</td><td style = \"text-align: right;\">9.62714</td><td style = \"text-align: right;\">9.6096</td><td style = \"text-align: right;\">8.7697</td><td style = \"text-align: right;\">9.11704</td><td style = \"text-align: right;\">8.30041</td><td style = \"text-align: right;\">9.59689</td><td style = \"text-align: right;\">7.00394</td><td style = \"text-align: right;\">8.15695</td><td style = \"text-align: right;\">11.4821</td><td style = \"text-align: right;\">6.68806</td><td style = \"text-align: right;\">6.67496</td><td style = \"text-align: right;\">10.7813</td><td style = \"text-align: right;\">10.3669</td><td style = \"text-align: right;\">9.38137</td><td style = \"text-align: right;\">8.62695</td><td style = \"text-align: right;\">11.5977</td><td style = \"text-align: right;\">9.49082</td><td style = \"text-align: right;\">10.2785</td><td style = \"text-align: right;\">8.69166</td><td style = \"text-align: right;\">9.7252</td><td style = \"text-align: right;\">9.49889</td><td style = \"text-align: right;\">10.2724</td><td style = \"text-align: right;\">9.06569</td><td style = \"text-align: right;\">7.93463</td><td style = \"text-align: right;\">9.44597</td><td style = \"text-align: right;\">9.97395</td><td style = \"text-align: right;\">10.2474</td><td style = \"text-align: right;\">8.67443</td><td style = \"text-align: right;\">6.71709</td><td style = \"text-align: right;\">8.26296</td><td style = \"text-align: right;\">10.0448</td><td style = \"text-align: right;\">9.53768</td><td style = \"text-align: right;\">8.33995</td><td style = \"text-align: right;\">8.75733</td><td style = \"text-align: right;\">6.7945</td><td style = \"text-align: right;\">7.00952</td><td style = \"text-align: right;\">9.97754</td><td style = \"text-align: right;\">16.2471</td><td style = \"text-align: right;\">10.1173</td><td style = \"text-align: right;\">10.0572</td><td style = \"text-align: right;\">8.68394</td><td style = \"text-align: right;\">&ctdot;</td></tr><tr><td class = \"rowNumber\" style = \"font-weight: bold; text-align: right;\">445</td><td style = \"text-align: right;\">10.3242</td><td style = \"text-align: right;\">6.41757</td><td style = \"text-align: right;\">11.3104</td><td style = \"text-align: right;\">9.37504</td><td style = \"text-align: right;\">8.3046</td><td style = \"text-align: right;\">9.86023</td><td style = \"text-align: right;\">7.78677</td><td style = \"text-align: right;\">5.62081</td><td style = \"text-align: right;\">11.4963</td><td style = \"text-align: right;\">10.2041</td><td style = \"text-align: right;\">8.7121</td><td style = \"text-align: right;\">11.048</td><td style = \"text-align: right;\">9.01932</td><td style = \"text-align: right;\">11.8189</td><td style = \"text-align: right;\">9.92611</td><td style = \"text-align: right;\">11.5036</td><td style = \"text-align: right;\">9.52688</td><td style = \"text-align: right;\">8.5617</td><td style = \"text-align: right;\">8.8003</td><td style = \"text-align: right;\">9.91274</td><td style = \"text-align: right;\">9.64359</td><td style = \"text-align: right;\">8.31148</td><td style = \"text-align: right;\">9.24121</td><td style = \"text-align: right;\">9.00558</td><td style = \"text-align: right;\">9.11763</td><td style = \"text-align: right;\">6.58943</td><td style = \"text-align: right;\">8.5028</td><td style = \"text-align: right;\">7.97497</td><td style = \"text-align: right;\">4.61948</td><td style = \"text-align: right;\">12.5617</td><td style = \"text-align: right;\">10.575</td><td style = \"text-align: right;\">8.7134</td><td style = \"text-align: right;\">11.3884</td><td style = \"text-align: right;\">9.65822</td><td style = \"text-align: right;\">9.82795</td><td style = \"text-align: right;\">6.98269</td><td style = \"text-align: right;\">7.67548</td><td style = \"text-align: right;\">5.78257</td><td style = \"text-align: right;\">9.11329</td><td style = \"text-align: right;\">9.15133</td><td style = \"text-align: right;\">8.85737</td><td style = \"text-align: right;\">8.23772</td><td style = \"text-align: right;\">8.50348</td><td style = \"text-align: right;\">7.31435</td><td style = \"text-align: right;\">6.28714</td><td style = \"text-align: right;\">7.60179</td><td style = \"text-align: right;\">9.75885</td><td style = \"text-align: right;\">9.48634</td><td style = \"text-align: right;\">9.46055</td><td style = \"text-align: right;\">12.7289</td><td style = \"text-align: right;\">8.34713</td><td style = \"text-align: right;\">6.865</td><td style = \"text-align: right;\">11.4647</td><td style = \"text-align: right;\">6.89917</td><td style = \"text-align: right;\">9.54948</td><td style = \"text-align: right;\">8.28861</td><td style = \"text-align: right;\">8.1945</td><td style = \"text-align: right;\">7.44253</td><td style = \"text-align: right;\">6.68895</td><td style = \"text-align: right;\">9.65786</td><td style = \"text-align: right;\">9.62166</td><td style = \"text-align: right;\">8.77798</td><td style = \"text-align: right;\">9.11973</td><td style = \"text-align: right;\">8.33073</td><td style = \"text-align: right;\">9.62158</td><td style = \"text-align: right;\">7.02828</td><td style = \"text-align: right;\">8.15491</td><td style = \"text-align: right;\">11.5195</td><td style = \"text-align: right;\">6.72067</td><td style = \"text-align: right;\">6.70423</td><td style = \"text-align: right;\">10.8243</td><td style = \"text-align: right;\">10.3909</td><td style = \"text-align: right;\">9.40741</td><td style = \"text-align: right;\">8.63694</td><td style = \"text-align: right;\">11.6306</td><td style = \"text-align: right;\">9.50109</td><td style = \"text-align: right;\">10.3255</td><td style = \"text-align: right;\">8.71792</td><td style = \"text-align: right;\">9.76606</td><td style = \"text-align: right;\">9.5449</td><td style = \"text-align: right;\">10.2933</td><td style = \"text-align: right;\">9.08426</td><td style = \"text-align: right;\">7.95977</td><td style = \"text-align: right;\">9.4747</td><td style = \"text-align: right;\">10.011</td><td style = \"text-align: right;\">10.2979</td><td style = \"text-align: right;\">8.71116</td><td style = \"text-align: right;\">6.74694</td><td style = \"text-align: right;\">8.30053</td><td style = \"text-align: right;\">10.0821</td><td style = \"text-align: right;\">9.56828</td><td style = \"text-align: right;\">8.38457</td><td style = \"text-align: right;\">8.80156</td><td style = \"text-align: right;\">6.82837</td><td style = \"text-align: right;\">7.04174</td><td style = \"text-align: right;\">10.0058</td><td style = \"text-align: right;\">16.3136</td><td style = \"text-align: right;\">10.1233</td><td style = \"text-align: right;\">10.0959</td><td style = \"text-align: right;\">8.72443</td><td style = \"text-align: right;\">&ctdot;</td></tr><tr><td class = \"rowNumber\" style = \"font-weight: bold; text-align: right;\">446</td><td style = \"text-align: right;\">10.3428</td><td style = \"text-align: right;\">6.46264</td><td style = \"text-align: right;\">11.3355</td><td style = \"text-align: right;\">9.40392</td><td style = \"text-align: right;\">8.341</td><td style = \"text-align: right;\">9.8817</td><td style = \"text-align: right;\">7.82564</td><td style = \"text-align: right;\">5.63377</td><td style = \"text-align: right;\">11.5365</td><td style = \"text-align: right;\">10.2404</td><td style = \"text-align: right;\">8.74219</td><td style = \"text-align: right;\">11.0763</td><td style = \"text-align: right;\">9.03286</td><td style = \"text-align: right;\">11.8666</td><td style = \"text-align: right;\">9.95137</td><td style = \"text-align: right;\">11.5421</td><td style = \"text-align: right;\">9.55429</td><td style = \"text-align: right;\">8.57485</td><td style = \"text-align: right;\">8.83582</td><td style = \"text-align: right;\">9.95805</td><td style = \"text-align: right;\">9.65754</td><td style = \"text-align: right;\">8.34055</td><td style = \"text-align: right;\">9.25794</td><td style = \"text-align: right;\">9.04567</td><td style = \"text-align: right;\">9.15738</td><td style = \"text-align: right;\">6.62119</td><td style = \"text-align: right;\">8.5396</td><td style = \"text-align: right;\">8.02115</td><td style = \"text-align: right;\">4.61823</td><td style = \"text-align: right;\">12.6066</td><td style = \"text-align: right;\">10.6233</td><td style = \"text-align: right;\">8.73444</td><td style = \"text-align: right;\">11.4273</td><td style = \"text-align: right;\">9.69692</td><td style = \"text-align: right;\">9.86302</td><td style = \"text-align: right;\">7.00203</td><td style = \"text-align: right;\">7.68231</td><td style = \"text-align: right;\">5.78267</td><td style = \"text-align: right;\">9.14909</td><td style = \"text-align: right;\">9.19687</td><td style = \"text-align: right;\">8.88282</td><td style = \"text-align: right;\">8.24476</td><td style = \"text-align: right;\">8.50804</td><td style = \"text-align: right;\">7.33191</td><td style = \"text-align: right;\">6.31308</td><td style = \"text-align: right;\">7.60682</td><td style = \"text-align: right;\">9.79695</td><td style = \"text-align: right;\">9.50323</td><td style = \"text-align: right;\">9.50096</td><td style = \"text-align: right;\">12.7521</td><td style = \"text-align: right;\">8.35667</td><td style = \"text-align: right;\">6.89626</td><td style = \"text-align: right;\">11.5019</td><td style = \"text-align: right;\">6.92901</td><td style = \"text-align: right;\">9.57433</td><td style = \"text-align: right;\">8.31787</td><td style = \"text-align: right;\">8.21421</td><td style = \"text-align: right;\">7.45725</td><td style = \"text-align: right;\">6.70581</td><td style = \"text-align: right;\">9.70536</td><td style = \"text-align: right;\">9.65043</td><td style = \"text-align: right;\">8.83098</td><td style = \"text-align: right;\">9.16041</td><td style = \"text-align: right;\">8.34045</td><td style = \"text-align: right;\">9.65057</td><td style = \"text-align: right;\">7.06591</td><td style = \"text-align: right;\">8.19002</td><td style = \"text-align: right;\">11.5405</td><td style = \"text-align: right;\">6.74167</td><td style = \"text-align: right;\">6.70496</td><td style = \"text-align: right;\">10.8614</td><td style = \"text-align: right;\">10.4345</td><td style = \"text-align: right;\">9.44263</td><td style = \"text-align: right;\">8.66437</td><td style = \"text-align: right;\">11.6849</td><td style = \"text-align: right;\">9.55547</td><td style = \"text-align: right;\">10.3671</td><td style = \"text-align: right;\">8.73072</td><td style = \"text-align: right;\">9.78416</td><td style = \"text-align: right;\">9.57002</td><td style = \"text-align: right;\">10.3206</td><td style = \"text-align: right;\">9.12101</td><td style = \"text-align: right;\">7.98865</td><td style = \"text-align: right;\">9.50203</td><td style = \"text-align: right;\">10.038</td><td style = \"text-align: right;\">10.3096</td><td style = \"text-align: right;\">8.75025</td><td style = \"text-align: right;\">6.76493</td><td style = \"text-align: right;\">8.31651</td><td style = \"text-align: right;\">10.1126</td><td style = \"text-align: right;\">9.58943</td><td style = \"text-align: right;\">8.41345</td><td style = \"text-align: right;\">8.82168</td><td style = \"text-align: right;\">6.84421</td><td style = \"text-align: right;\">7.05972</td><td style = \"text-align: right;\">10.0234</td><td style = \"text-align: right;\">16.3888</td><td style = \"text-align: right;\">10.1733</td><td style = \"text-align: right;\">10.1397</td><td style = \"text-align: right;\">8.75459</td><td style = \"text-align: right;\">&ctdot;</td></tr><tr><td class = \"rowNumber\" style = \"font-weight: bold; text-align: right;\">447</td><td style = \"text-align: right;\">10.3917</td><td style = \"text-align: right;\">6.48672</td><td style = \"text-align: right;\">11.3937</td><td style = \"text-align: right;\">9.43908</td><td style = \"text-align: right;\">8.36307</td><td style = \"text-align: right;\">9.90512</td><td style = \"text-align: right;\">7.8413</td><td style = \"text-align: right;\">5.65721</td><td style = \"text-align: right;\">11.5731</td><td style = \"text-align: right;\">10.2636</td><td style = \"text-align: right;\">8.77036</td><td style = \"text-align: right;\">11.1197</td><td style = \"text-align: right;\">9.08372</td><td style = \"text-align: right;\">11.9125</td><td style = \"text-align: right;\">9.97814</td><td style = \"text-align: right;\">11.5832</td><td style = \"text-align: right;\">9.60483</td><td style = \"text-align: right;\">8.60022</td><td style = \"text-align: right;\">8.8675</td><td style = \"text-align: right;\">9.97584</td><td style = \"text-align: right;\">9.71948</td><td style = \"text-align: right;\">8.33365</td><td style = \"text-align: right;\">9.27289</td><td style = \"text-align: right;\">9.07739</td><td style = \"text-align: right;\">9.19408</td><td style = \"text-align: right;\">6.64309</td><td style = \"text-align: right;\">8.56568</td><td style = \"text-align: right;\">8.03794</td><td style = \"text-align: right;\">4.63239</td><td style = \"text-align: right;\">12.6255</td><td style = \"text-align: right;\">10.6633</td><td style = \"text-align: right;\">8.77004</td><td style = \"text-align: right;\">11.4738</td><td style = \"text-align: right;\">9.73127</td><td style = \"text-align: right;\">9.91274</td><td style = \"text-align: right;\">7.02606</td><td style = \"text-align: right;\">7.72032</td><td style = \"text-align: right;\">5.81753</td><td style = \"text-align: right;\">9.17382</td><td style = \"text-align: right;\">9.23651</td><td style = \"text-align: right;\">8.91506</td><td style = \"text-align: right;\">8.26854</td><td style = \"text-align: right;\">8.54064</td><td style = \"text-align: right;\">7.35165</td><td style = \"text-align: right;\">6.33679</td><td style = \"text-align: right;\">7.64356</td><td style = \"text-align: right;\">9.8295</td><td style = \"text-align: right;\">9.53711</td><td style = \"text-align: right;\">9.53917</td><td style = \"text-align: right;\">12.7799</td><td style = \"text-align: right;\">8.38303</td><td style = \"text-align: right;\">6.89932</td><td style = \"text-align: right;\">11.5597</td><td style = \"text-align: right;\">6.95075</td><td style = \"text-align: right;\">9.60392</td><td style = \"text-align: right;\">8.33522</td><td style = \"text-align: right;\">8.23745</td><td style = \"text-align: right;\">7.48164</td><td style = \"text-align: right;\">6.72466</td><td style = \"text-align: right;\">9.7333</td><td style = \"text-align: right;\">9.6743</td><td style = \"text-align: right;\">8.85195</td><td style = \"text-align: right;\">9.183</td><td style = \"text-align: right;\">8.37562</td><td style = \"text-align: right;\">9.66942</td><td style = \"text-align: right;\">7.07464</td><td style = \"text-align: right;\">8.19406</td><td style = \"text-align: right;\">11.5561</td><td style = \"text-align: right;\">6.75368</td><td style = \"text-align: right;\">6.74134</td><td style = \"text-align: right;\">10.8777</td><td style = \"text-align: right;\">10.4564</td><td style = \"text-align: right;\">9.46029</td><td style = \"text-align: right;\">8.69419</td><td style = \"text-align: right;\">11.7187</td><td style = \"text-align: right;\">9.57811</td><td style = \"text-align: right;\">10.4012</td><td style = \"text-align: right;\">8.75476</td><td style = \"text-align: right;\">9.83665</td><td style = \"text-align: right;\">9.60628</td><td style = \"text-align: right;\">10.349</td><td style = \"text-align: right;\">9.12743</td><td style = \"text-align: right;\">8.00407</td><td style = \"text-align: right;\">9.53918</td><td style = \"text-align: right;\">10.0683</td><td style = \"text-align: right;\">10.3485</td><td style = \"text-align: right;\">8.76056</td><td style = \"text-align: right;\">6.78325</td><td style = \"text-align: right;\">8.32349</td><td style = \"text-align: right;\">10.1494</td><td style = \"text-align: right;\">9.60992</td><td style = \"text-align: right;\">8.4346</td><td style = \"text-align: right;\">8.8571</td><td style = \"text-align: right;\">6.87441</td><td style = \"text-align: right;\">7.06893</td><td style = \"text-align: right;\">10.0672</td><td style = \"text-align: right;\">16.4509</td><td style = \"text-align: right;\">10.2248</td><td style = \"text-align: right;\">10.1821</td><td style = \"text-align: right;\">8.80558</td><td style = \"text-align: right;\">&ctdot;</td></tr><tr><td class = \"rowNumber\" style = \"font-weight: bold; text-align: right;\">448</td><td style = \"text-align: right;\">10.4078</td><td style = \"text-align: right;\">6.48986</td><td style = \"text-align: right;\">11.431</td><td style = \"text-align: right;\">9.45514</td><td style = \"text-align: right;\">8.38349</td><td style = \"text-align: right;\">9.9523</td><td style = \"text-align: right;\">7.87723</td><td style = \"text-align: right;\">5.68298</td><td style = \"text-align: right;\">11.6184</td><td style = \"text-align: right;\">10.3157</td><td style = \"text-align: right;\">8.79352</td><td style = \"text-align: right;\">11.154</td><td style = \"text-align: right;\">9.09637</td><td style = \"text-align: right;\">11.9689</td><td style = \"text-align: right;\">10.0037</td><td style = \"text-align: right;\">11.6303</td><td style = \"text-align: right;\">9.63404</td><td style = \"text-align: right;\">8.62383</td><td style = \"text-align: right;\">8.90019</td><td style = \"text-align: right;\">10.0222</td><td style = \"text-align: right;\">9.7388</td><td style = \"text-align: right;\">8.37879</td><td style = \"text-align: right;\">9.30471</td><td style = \"text-align: right;\">9.08942</td><td style = \"text-align: right;\">9.21949</td><td style = \"text-align: right;\">6.6726</td><td style = \"text-align: right;\">8.57963</td><td style = \"text-align: right;\">8.07417</td><td style = \"text-align: right;\">4.66817</td><td style = \"text-align: right;\">12.6592</td><td style = \"text-align: right;\">10.7187</td><td style = \"text-align: right;\">8.80307</td><td style = \"text-align: right;\">11.503</td><td style = \"text-align: right;\">9.77982</td><td style = \"text-align: right;\">9.93552</td><td style = \"text-align: right;\">7.0512</td><td style = \"text-align: right;\">7.75782</td><td style = \"text-align: right;\">5.82622</td><td style = \"text-align: right;\">9.21217</td><td style = \"text-align: right;\">9.26459</td><td style = \"text-align: right;\">8.94312</td><td style = \"text-align: right;\">8.29589</td><td style = \"text-align: right;\">8.56</td><td style = \"text-align: right;\">7.382</td><td style = \"text-align: right;\">6.35157</td><td style = \"text-align: right;\">7.68274</td><td style = \"text-align: right;\">9.85959</td><td style = \"text-align: right;\">9.58029</td><td style = \"text-align: right;\">9.56597</td><td style = \"text-align: right;\">12.8414</td><td style = \"text-align: right;\">8.41626</td><td style = \"text-align: right;\">6.91328</td><td style = \"text-align: right;\">11.5926</td><td style = \"text-align: right;\">6.96342</td><td style = \"text-align: right;\">9.62773</td><td style = \"text-align: right;\">8.37081</td><td style = \"text-align: right;\">8.27127</td><td style = \"text-align: right;\">7.51585</td><td style = \"text-align: right;\">6.74518</td><td style = \"text-align: right;\">9.76486</td><td style = \"text-align: right;\">9.71853</td><td style = \"text-align: right;\">8.90187</td><td style = \"text-align: right;\">9.19437</td><td style = \"text-align: right;\">8.4105</td><td style = \"text-align: right;\">9.67968</td><td style = \"text-align: right;\">7.08331</td><td style = \"text-align: right;\">8.23005</td><td style = \"text-align: right;\">11.6009</td><td style = \"text-align: right;\">6.78836</td><td style = \"text-align: right;\">6.75339</td><td style = \"text-align: right;\">10.9089</td><td style = \"text-align: right;\">10.4962</td><td style = \"text-align: right;\">9.47018</td><td style = \"text-align: right;\">8.74408</td><td style = \"text-align: right;\">11.7699</td><td style = \"text-align: right;\">9.62273</td><td style = \"text-align: right;\">10.4499</td><td style = \"text-align: right;\">8.80758</td><td style = \"text-align: right;\">9.85677</td><td style = \"text-align: right;\">9.6333</td><td style = \"text-align: right;\">10.3809</td><td style = \"text-align: right;\">9.14733</td><td style = \"text-align: right;\">8.02031</td><td style = \"text-align: right;\">9.55802</td><td style = \"text-align: right;\">10.0915</td><td style = \"text-align: right;\">10.4073</td><td style = \"text-align: right;\">8.78732</td><td style = \"text-align: right;\">6.78499</td><td style = \"text-align: right;\">8.35966</td><td style = \"text-align: right;\">10.1884</td><td style = \"text-align: right;\">9.64203</td><td style = \"text-align: right;\">8.47256</td><td style = \"text-align: right;\">8.87561</td><td style = \"text-align: right;\">6.90616</td><td style = \"text-align: right;\">7.10176</td><td style = \"text-align: right;\">10.0926</td><td style = \"text-align: right;\">16.5185</td><td style = \"text-align: right;\">10.2558</td><td style = \"text-align: right;\">10.2223</td><td style = \"text-align: right;\">8.80649</td><td style = \"text-align: right;\">&ctdot;</td></tr><tr><td class = \"rowNumber\" style = \"font-weight: bold; text-align: right;\">449</td><td style = \"text-align: right;\">10.4465</td><td style = \"text-align: right;\">6.53409</td><td style = \"text-align: right;\">11.4743</td><td style = \"text-align: right;\">9.46894</td><td style = \"text-align: right;\">8.42457</td><td style = \"text-align: right;\">9.96872</td><td style = \"text-align: right;\">7.88261</td><td style = \"text-align: right;\">5.70536</td><td style = \"text-align: right;\">11.6571</td><td style = \"text-align: right;\">10.3338</td><td style = \"text-align: right;\">8.83851</td><td style = \"text-align: right;\">11.1859</td><td style = \"text-align: right;\">9.13004</td><td style = \"text-align: right;\">12.0062</td><td style = \"text-align: right;\">10.0015</td><td style = \"text-align: right;\">11.6862</td><td style = \"text-align: right;\">9.64587</td><td style = \"text-align: right;\">8.64802</td><td style = \"text-align: right;\">8.9322</td><td style = \"text-align: right;\">10.051</td><td style = \"text-align: right;\">9.76194</td><td style = \"text-align: right;\">8.40929</td><td style = \"text-align: right;\">9.30821</td><td style = \"text-align: right;\">9.12203</td><td style = \"text-align: right;\">9.24928</td><td style = \"text-align: right;\">6.70061</td><td style = \"text-align: right;\">8.60457</td><td style = \"text-align: right;\">8.09343</td><td style = \"text-align: right;\">4.65614</td><td style = \"text-align: right;\">12.6851</td><td style = \"text-align: right;\">10.7511</td><td style = \"text-align: right;\">8.82964</td><td style = \"text-align: right;\">11.5331</td><td style = \"text-align: right;\">9.81312</td><td style = \"text-align: right;\">9.95968</td><td style = \"text-align: right;\">7.07664</td><td style = \"text-align: right;\">7.76299</td><td style = \"text-align: right;\">5.86891</td><td style = \"text-align: right;\">9.23314</td><td style = \"text-align: right;\">9.28835</td><td style = \"text-align: right;\">8.98292</td><td style = \"text-align: right;\">8.33522</td><td style = \"text-align: right;\">8.58682</td><td style = \"text-align: right;\">7.41947</td><td style = \"text-align: right;\">6.38567</td><td style = \"text-align: right;\">7.71038</td><td style = \"text-align: right;\">9.90263</td><td style = \"text-align: right;\">9.60604</td><td style = \"text-align: right;\">9.57476</td><td style = \"text-align: right;\">12.8759</td><td style = \"text-align: right;\">8.44143</td><td style = \"text-align: right;\">6.92822</td><td style = \"text-align: right;\">11.6342</td><td style = \"text-align: right;\">6.99688</td><td style = \"text-align: right;\">9.68103</td><td style = \"text-align: right;\">8.40749</td><td style = \"text-align: right;\">8.2942</td><td style = \"text-align: right;\">7.51852</td><td style = \"text-align: right;\">6.76185</td><td style = \"text-align: right;\">9.7813</td><td style = \"text-align: right;\">9.73626</td><td style = \"text-align: right;\">8.91361</td><td style = \"text-align: right;\">9.22418</td><td style = \"text-align: right;\">8.43415</td><td style = \"text-align: right;\">9.70616</td><td style = \"text-align: right;\">7.11191</td><td style = \"text-align: right;\">8.2289</td><td style = \"text-align: right;\">11.6217</td><td style = \"text-align: right;\">6.81059</td><td style = \"text-align: right;\">6.78186</td><td style = \"text-align: right;\">10.9279</td><td style = \"text-align: right;\">10.5281</td><td style = \"text-align: right;\">9.49532</td><td style = \"text-align: right;\">8.75085</td><td style = \"text-align: right;\">11.8088</td><td style = \"text-align: right;\">9.66038</td><td style = \"text-align: right;\">10.4796</td><td style = \"text-align: right;\">8.82024</td><td style = \"text-align: right;\">9.89402</td><td style = \"text-align: right;\">9.64303</td><td style = \"text-align: right;\">10.4027</td><td style = \"text-align: right;\">9.18146</td><td style = \"text-align: right;\">8.06927</td><td style = \"text-align: right;\">9.595</td><td style = \"text-align: right;\">10.1256</td><td style = \"text-align: right;\">10.4287</td><td style = \"text-align: right;\">8.81547</td><td style = \"text-align: right;\">6.8236</td><td style = \"text-align: right;\">8.37995</td><td style = \"text-align: right;\">10.2243</td><td style = \"text-align: right;\">9.66363</td><td style = \"text-align: right;\">8.5164</td><td style = \"text-align: right;\">8.91376</td><td style = \"text-align: right;\">6.93647</td><td style = \"text-align: right;\">7.11669</td><td style = \"text-align: right;\">10.1322</td><td style = \"text-align: right;\">16.5872</td><td style = \"text-align: right;\">10.3052</td><td style = \"text-align: right;\">10.2662</td><td style = \"text-align: right;\">8.84113</td><td style = \"text-align: right;\">&ctdot;</td></tr><tr><td class = \"rowNumber\" style = \"font-weight: bold; text-align: right;\">450</td><td style = \"text-align: right;\">10.4712</td><td style = \"text-align: right;\">6.53404</td><td style = \"text-align: right;\">11.5252</td><td style = \"text-align: right;\">9.49906</td><td style = \"text-align: right;\">8.44274</td><td style = \"text-align: right;\">10.0237</td><td style = \"text-align: right;\">7.92233</td><td style = \"text-align: right;\">5.72997</td><td style = \"text-align: right;\">11.6819</td><td style = \"text-align: right;\">10.3627</td><td style = \"text-align: right;\">8.8688</td><td style = \"text-align: right;\">11.2176</td><td style = \"text-align: right;\">9.17084</td><td style = \"text-align: right;\">12.0651</td><td style = \"text-align: right;\">10.0377</td><td style = \"text-align: right;\">11.7075</td><td style = \"text-align: right;\">9.68227</td><td style = \"text-align: right;\">8.66939</td><td style = \"text-align: right;\">8.96988</td><td style = \"text-align: right;\">10.0794</td><td style = \"text-align: right;\">9.80965</td><td style = \"text-align: right;\">8.43746</td><td style = \"text-align: right;\">9.34243</td><td style = \"text-align: right;\">9.15839</td><td style = \"text-align: right;\">9.28824</td><td style = \"text-align: right;\">6.71361</td><td style = \"text-align: right;\">8.62531</td><td style = \"text-align: right;\">8.11039</td><td style = \"text-align: right;\">4.68323</td><td style = \"text-align: right;\">12.7244</td><td style = \"text-align: right;\">10.7899</td><td style = \"text-align: right;\">8.84587</td><td style = \"text-align: right;\">11.5795</td><td style = \"text-align: right;\">9.82952</td><td style = \"text-align: right;\">10.0062</td><td style = \"text-align: right;\">7.07439</td><td style = \"text-align: right;\">7.80015</td><td style = \"text-align: right;\">5.86748</td><td style = \"text-align: right;\">9.26538</td><td style = \"text-align: right;\">9.31616</td><td style = \"text-align: right;\">9.00763</td><td style = \"text-align: right;\">8.3549</td><td style = \"text-align: right;\">8.60679</td><td style = \"text-align: right;\">7.42867</td><td style = \"text-align: right;\">6.39719</td><td style = \"text-align: right;\">7.73809</td><td style = \"text-align: right;\">9.93296</td><td style = \"text-align: right;\">9.62001</td><td style = \"text-align: right;\">9.63367</td><td style = \"text-align: right;\">12.9071</td><td style = \"text-align: right;\">8.47072</td><td style = \"text-align: right;\">6.97222</td><td style = \"text-align: right;\">11.6658</td><td style = \"text-align: right;\">7.01332</td><td style = \"text-align: right;\">9.71415</td><td style = \"text-align: right;\">8.42423</td><td style = \"text-align: right;\">8.32214</td><td style = \"text-align: right;\">7.53786</td><td style = \"text-align: right;\">6.77322</td><td style = \"text-align: right;\">9.82226</td><td style = \"text-align: right;\">9.76766</td><td style = \"text-align: right;\">8.95396</td><td style = \"text-align: right;\">9.24272</td><td style = \"text-align: right;\">8.46516</td><td style = \"text-align: right;\">9.72486</td><td style = \"text-align: right;\">7.13421</td><td style = \"text-align: right;\">8.2625</td><td style = \"text-align: right;\">11.6583</td><td style = \"text-align: right;\">6.8274</td><td style = \"text-align: right;\">6.78367</td><td style = \"text-align: right;\">10.973</td><td style = \"text-align: right;\">10.5463</td><td style = \"text-align: right;\">9.51381</td><td style = \"text-align: right;\">8.77905</td><td style = \"text-align: right;\">11.8507</td><td style = \"text-align: right;\">9.67801</td><td style = \"text-align: right;\">10.5095</td><td style = \"text-align: right;\">8.8445</td><td style = \"text-align: right;\">9.90934</td><td style = \"text-align: right;\">9.67019</td><td style = \"text-align: right;\">10.4352</td><td style = \"text-align: right;\">9.20486</td><td style = \"text-align: right;\">8.07804</td><td style = \"text-align: right;\">9.62753</td><td style = \"text-align: right;\">10.1539</td><td style = \"text-align: right;\">10.4654</td><td style = \"text-align: right;\">8.84847</td><td style = \"text-align: right;\">6.81392</td><td style = \"text-align: right;\">8.40208</td><td style = \"text-align: right;\">10.2593</td><td style = \"text-align: right;\">9.70924</td><td style = \"text-align: right;\">8.53506</td><td style = \"text-align: right;\">8.94581</td><td style = \"text-align: right;\">6.9431</td><td style = \"text-align: right;\">7.14362</td><td style = \"text-align: right;\">10.1653</td><td style = \"text-align: right;\">16.6577</td><td style = \"text-align: right;\">10.3361</td><td style = \"text-align: right;\">10.2985</td><td style = \"text-align: right;\">8.86789</td><td style = \"text-align: right;\">&ctdot;</td></tr><tr><td class = \"rowNumber\" style = \"font-weight: bold; text-align: right;\">451</td><td style = \"text-align: right;\">10.5192</td><td style = \"text-align: right;\">6.56772</td><td style = \"text-align: right;\">11.5505</td><td style = \"text-align: right;\">9.49928</td><td style = \"text-align: right;\">8.46023</td><td style = \"text-align: right;\">10.0401</td><td style = \"text-align: right;\">7.93011</td><td style = \"text-align: right;\">5.72434</td><td style = \"text-align: right;\">11.7309</td><td style = \"text-align: right;\">10.4025</td><td style = \"text-align: right;\">8.88636</td><td style = \"text-align: right;\">11.2636</td><td style = \"text-align: right;\">9.18067</td><td style = \"text-align: right;\">12.1326</td><td style = \"text-align: right;\">10.0498</td><td style = \"text-align: right;\">11.7449</td><td style = \"text-align: right;\">9.72445</td><td style = \"text-align: right;\">8.70031</td><td style = \"text-align: right;\">8.98179</td><td style = \"text-align: right;\">10.1173</td><td style = \"text-align: right;\">9.8294</td><td style = \"text-align: right;\">8.46354</td><td style = \"text-align: right;\">9.37227</td><td style = \"text-align: right;\">9.17233</td><td style = \"text-align: right;\">9.30581</td><td style = \"text-align: right;\">6.72734</td><td style = \"text-align: right;\">8.64296</td><td style = \"text-align: right;\">8.14493</td><td style = \"text-align: right;\">4.68896</td><td style = \"text-align: right;\">12.7509</td><td style = \"text-align: right;\">10.8271</td><td style = \"text-align: right;\">8.85952</td><td style = \"text-align: right;\">11.6111</td><td style = \"text-align: right;\">9.88669</td><td style = \"text-align: right;\">10.0347</td><td style = \"text-align: right;\">7.10092</td><td style = \"text-align: right;\">7.82724</td><td style = \"text-align: right;\">5.87836</td><td style = \"text-align: right;\">9.28408</td><td style = \"text-align: right;\">9.34857</td><td style = \"text-align: right;\">9.03281</td><td style = \"text-align: right;\">8.39446</td><td style = \"text-align: right;\">8.64775</td><td style = \"text-align: right;\">7.46332</td><td style = \"text-align: right;\">6.41517</td><td style = \"text-align: right;\">7.76007</td><td style = \"text-align: right;\">9.95734</td><td style = \"text-align: right;\">9.6576</td><td style = \"text-align: right;\">9.649</td><td style = \"text-align: right;\">12.9678</td><td style = \"text-align: right;\">8.50302</td><td style = \"text-align: right;\">6.96991</td><td style = \"text-align: right;\">11.7259</td><td style = \"text-align: right;\">7.03772</td><td style = \"text-align: right;\">9.73377</td><td style = \"text-align: right;\">8.44391</td><td style = \"text-align: right;\">8.33552</td><td style = \"text-align: right;\">7.57962</td><td style = \"text-align: right;\">6.79406</td><td style = \"text-align: right;\">9.85893</td><td style = \"text-align: right;\">9.78569</td><td style = \"text-align: right;\">8.98403</td><td style = \"text-align: right;\">9.30016</td><td style = \"text-align: right;\">8.48182</td><td style = \"text-align: right;\">9.75634</td><td style = \"text-align: right;\">7.15629</td><td style = \"text-align: right;\">8.28069</td><td style = \"text-align: right;\">11.6757</td><td style = \"text-align: right;\">6.83945</td><td style = \"text-align: right;\">6.8276</td><td style = \"text-align: right;\">11.0033</td><td style = \"text-align: right;\">10.5782</td><td style = \"text-align: right;\">9.54977</td><td style = \"text-align: right;\">8.80705</td><td style = \"text-align: right;\">11.8824</td><td style = \"text-align: right;\">9.72773</td><td style = \"text-align: right;\">10.5662</td><td style = \"text-align: right;\">8.86374</td><td style = \"text-align: right;\">9.96239</td><td style = \"text-align: right;\">9.69</td><td style = \"text-align: right;\">10.4472</td><td style = \"text-align: right;\">9.22543</td><td style = \"text-align: right;\">8.1177</td><td style = \"text-align: right;\">9.637</td><td style = \"text-align: right;\">10.1906</td><td style = \"text-align: right;\">10.5003</td><td style = \"text-align: right;\">8.85623</td><td style = \"text-align: right;\">6.8436</td><td style = \"text-align: right;\">8.43427</td><td style = \"text-align: right;\">10.301</td><td style = \"text-align: right;\">9.72899</td><td style = \"text-align: right;\">8.56336</td><td style = \"text-align: right;\">8.97333</td><td style = \"text-align: right;\">6.98181</td><td style = \"text-align: right;\">7.16647</td><td style = \"text-align: right;\">10.2036</td><td style = \"text-align: right;\">16.7184</td><td style = \"text-align: right;\">10.3576</td><td style = \"text-align: right;\">10.346</td><td style = \"text-align: right;\">8.89769</td><td style = \"text-align: right;\">&ctdot;</td></tr></tbody></table></div>"
      ],
      "text/latex": [
       "\\begin{tabular}{r|cccccccc}\n",
       "\t& x1 & x2 & x3 & x4 & x5 & x6 & x7 & \\\\\n",
       "\t\\hline\n",
       "\t& Float64 & Float64 & Float64 & Float64 & Float64 & Float64 & Float64 & \\\\\n",
       "\t\\hline\n",
       "\t1 & -0.154001 & -0.152378 & -0.13832 & -0.190903 & -0.0909671 & -0.107157 & -0.107471 & $\\dots$ \\\\\n",
       "\t2 & -0.173539 & -0.126757 & -0.167549 & -0.144453 & -0.138944 & -0.122211 & -0.0880347 & $\\dots$ \\\\\n",
       "\t3 & -0.184835 & -0.155199 & -0.130034 & -0.140501 & -0.148099 & -0.151268 & -0.105485 & $\\dots$ \\\\\n",
       "\t4 & -0.155084 & -0.164368 & -0.117407 & -0.169473 & -0.152078 & -0.181704 & -0.0956532 & $\\dots$ \\\\\n",
       "\t5 & -0.137784 & -0.121335 & -0.181226 & -0.176309 & -0.115678 & -0.139628 & -0.0875131 & $\\dots$ \\\\\n",
       "\t6 & -0.139165 & -0.159095 & -0.136612 & -0.204615 & -0.163828 & -0.183259 & -0.13766 & $\\dots$ \\\\\n",
       "\t7 & -0.163325 & -0.19532 & -0.139058 & -0.135127 & -0.145705 & -0.150772 & -0.0879053 & $\\dots$ \\\\\n",
       "\t8 & -0.19317 & -0.100132 & -0.14843 & -0.128129 & -0.165428 & -0.15924 & -0.0675193 & $\\dots$ \\\\\n",
       "\t9 & -0.168399 & -0.0976384 & -0.119822 & -0.15877 & -0.173959 & -0.174924 & -0.110146 & $\\dots$ \\\\\n",
       "\t10 & -0.196747 & -0.121188 & -0.119694 & -0.190348 & -0.168843 & -0.146539 & -0.0610044 & $\\dots$ \\\\\n",
       "\t11 & -0.141016 & -0.148645 & -0.0929364 & -0.133066 & -0.126453 & -0.128454 & -0.109507 & $\\dots$ \\\\\n",
       "\t12 & -0.199431 & -0.106908 & -0.133042 & -0.114235 & -0.17997 & -0.116149 & -0.0694605 & $\\dots$ \\\\\n",
       "\t13 & -0.128 & -0.170452 & -0.154527 & -0.184135 & -0.124355 & -0.15536 & -0.0973488 & $\\dots$ \\\\\n",
       "\t14 & -0.126702 & -0.121785 & -0.104315 & -0.175706 & -0.166217 & -0.187457 & -0.090823 & $\\dots$ \\\\\n",
       "\t15 & -0.138411 & -0.135118 & -0.138117 & -0.112585 & -0.126128 & -0.116197 & -0.102214 & $\\dots$ \\\\\n",
       "\t16 & -0.137552 & -0.165198 & -0.104681 & -0.135924 & -0.16416 & -0.140681 & -0.0880302 & $\\dots$ \\\\\n",
       "\t17 & -0.125447 & -0.173008 & -0.146395 & -0.134516 & -0.175872 & -0.181596 & -0.0699193 & $\\dots$ \\\\\n",
       "\t18 & -0.110961 & -0.133963 & -0.105265 & -0.178135 & -0.126113 & -0.179758 & -0.074428 & $\\dots$ \\\\\n",
       "\t19 & -0.183835 & -0.108924 & -0.140718 & -0.12366 & -0.0921367 & -0.152079 & -0.12895 & $\\dots$ \\\\\n",
       "\t20 & -0.102672 & -0.105025 & -0.139324 & -0.165061 & -0.133835 & -0.155477 & -0.0737309 & $\\dots$ \\\\\n",
       "\t21 & -0.164843 & -0.133219 & -0.132053 & -0.165631 & -0.129005 & -0.163501 & -0.0747702 & $\\dots$ \\\\\n",
       "\t22 & -0.0973699 & -0.165543 & -0.0709427 & -0.154681 & -0.195311 & -0.110941 & -0.0772753 & $\\dots$ \\\\\n",
       "\t23 & -0.144846 & -0.129247 & -0.0956547 & -0.140742 & -0.160858 & -0.160866 & -0.130818 & $\\dots$ \\\\\n",
       "\t24 & -0.151894 & -0.123813 & -0.138143 & -0.102766 & -0.181723 & -0.151607 & -0.112748 & $\\dots$ \\\\\n",
       "\t$\\dots$ & $\\dots$ & $\\dots$ & $\\dots$ & $\\dots$ & $\\dots$ & $\\dots$ & $\\dots$ &  \\\\\n",
       "\\end{tabular}\n"
      ],
      "text/plain": [
       "\u001b[1m451×10000 DataFrame\u001b[0m\n",
       "\u001b[1m Row \u001b[0m│\u001b[1m x1        \u001b[0m\u001b[1m x2         \u001b[0m\u001b[1m x3         \u001b[0m\u001b[1m x4        \u001b[0m\u001b[1m x5         \u001b[0m\u001b[1m x6        \u001b[0m\u001b[1m x7\u001b[0m ⋯\n",
       "     │\u001b[90m Float64   \u001b[0m\u001b[90m Float64    \u001b[0m\u001b[90m Float64    \u001b[0m\u001b[90m Float64   \u001b[0m\u001b[90m Float64    \u001b[0m\u001b[90m Float64   \u001b[0m\u001b[90m Fl\u001b[0m ⋯\n",
       "─────┼──────────────────────────────────────────────────────────────────────────\n",
       "   1 │ -0.154001  -0.152378   -0.13832    -0.190903  -0.0909671  -0.107157  -0 ⋯\n",
       "   2 │ -0.173539  -0.126757   -0.167549   -0.144453  -0.138944   -0.122211  -0\n",
       "   3 │ -0.184835  -0.155199   -0.130034   -0.140501  -0.148099   -0.151268  -0\n",
       "   4 │ -0.155084  -0.164368   -0.117407   -0.169473  -0.152078   -0.181704  -0\n",
       "   5 │ -0.137784  -0.121335   -0.181226   -0.176309  -0.115678   -0.139628  -0 ⋯\n",
       "   6 │ -0.139165  -0.159095   -0.136612   -0.204615  -0.163828   -0.183259  -0\n",
       "   7 │ -0.163325  -0.19532    -0.139058   -0.135127  -0.145705   -0.150772  -0\n",
       "   8 │ -0.19317   -0.100132   -0.14843    -0.128129  -0.165428   -0.15924   -0\n",
       "  ⋮  │     ⋮          ⋮           ⋮           ⋮          ⋮           ⋮         ⋱\n",
       " 445 │ 10.3242     6.41757    11.3104      9.37504    8.3046      9.86023    7 ⋯\n",
       " 446 │ 10.3428     6.46264    11.3355      9.40392    8.341       9.8817     7\n",
       " 447 │ 10.3917     6.48672    11.3937      9.43908    8.36307     9.90512    7\n",
       " 448 │ 10.4078     6.48986    11.431       9.45514    8.38349     9.9523     7\n",
       " 449 │ 10.4465     6.53409    11.4743      9.46894    8.42457     9.96872    7 ⋯\n",
       " 450 │ 10.4712     6.53404    11.5252      9.49906    8.44274    10.0237     7\n",
       " 451 │ 10.5192     6.56772    11.5505      9.49928    8.46023    10.0401     7\n",
       "\u001b[36m                                               9994 columns and 436 rows omitted\u001b[0m"
      ]
     },
     "metadata": {},
     "output_type": "display_data"
    }
   ],
   "source": [
    "#4\n",
    "ais_26_s = CSV.read(\"projections_csv/RCP26/projections_antarctic_RCP26_sneasybrick.csv\", DataFrame)\n",
    "ais_45_s = CSV.read(\"projections_csv/RCP45/projections_antarctic_RCP45_sneasybrick.csv\", DataFrame)\n",
    "ais_60_s = CSV.read(\"projections_csv/RCP60/projections_antarctic_RCP60_sneasybrick.csv\", DataFrame)\n",
    "ais_85_s = CSV.read(\"projections_csv/RCP85/projections_antarctic_RCP85_sneasybrick.csv\", DataFrame)\n",
    "\n",
    "gsic_26_s = CSV.read(\"projections_csv/RCP26/projections_glaciers_RCP26_sneasybrick.csv\", DataFrame)\n",
    "gsic_45_s = CSV.read(\"projections_csv/RCP45/projections_glaciers_RCP45_sneasybrick.csv\", DataFrame)\n",
    "gsic_60_s = CSV.read(\"projections_csv/RCP60/projections_glaciers_RCP60_sneasybrick.csv\", DataFrame)\n",
    "gsic_85_s = CSV.read(\"projections_csv/RCP85/projections_glaciers_RCP85_sneasybrick.csv\", DataFrame)\n",
    "\n",
    "gis_26_s = CSV.read(\"projections_csv/RCP26/projections_greenland_RCP26_sneasybrick.csv\", DataFrame)\n",
    "gis_45_s = CSV.read(\"projections_csv/RCP45/projections_greenland_RCP45_sneasybrick.csv\", DataFrame)\n",
    "gis_60_s = CSV.read(\"projections_csv/RCP60/projections_greenland_RCP60_sneasybrick.csv\", DataFrame)\n",
    "gis_85_s = CSV.read(\"projections_csv/RCP85/projections_greenland_RCP85_sneasybrick.csv\", DataFrame)\n",
    "\n",
    "te_26_s = CSV.read(\"projections_csv/RCP26/projections_thermal_RCP26_sneasybrick.csv\", DataFrame)\n",
    "te_45_s = CSV.read(\"projections_csv/RCP45/projections_thermal_RCP45_sneasybrick.csv\", DataFrame)\n",
    "te_60_s = CSV.read(\"projections_csv/RCP60/projections_thermal_RCP60_sneasybrick.csv\", DataFrame)\n",
    "te_85_s = CSV.read(\"projections_csv/RCP85/projections_thermal_RCP85_sneasybrick.csv\", DataFrame)\n",
    "\n",
    "lws_26_s = CSV.read(\"projections_csv/RCP26/projections_landwater_storage_sl_RCP26_sneasybrick.csv\", DataFrame)\n",
    "lws_45_s = CSV.read(\"projections_csv/RCP45/projections_landwater_storage_sl_RCP45_sneasybrick.csv\", DataFrame)\n",
    "lws_60_s = CSV.read(\"projections_csv/RCP60/projections_landwater_storage_sl_RCP60_sneasybrick.csv\", DataFrame)\n",
    "lws_85_s = CSV.read(\"projections_csv/RCP85/projections_landwater_storage_sl_RCP85_sneasybrick.csv\", DataFrame)\n",
    "\n",
    "gmsl_26_s = CSV.read(\"projections_csv/RCP26/projections_gmsl_RCP26_sneasybrick.csv\", DataFrame)\n",
    "gmsl_45_s = CSV.read(\"projections_csv/RCP45/projections_gmsl_RCP45_sneasybrick.csv\", DataFrame)\n",
    "gmsl_60_s = CSV.read(\"projections_csv/RCP60/projections_gmsl_RCP60_sneasybrick.csv\", DataFrame)\n",
    "gmsl_85_s = CSV.read(\"projections_csv/RCP85/projections_gmsl_RCP85_sneasybrick.csv\", DataFrame)"
   ]
  },
  {
   "cell_type": "code",
   "execution_count": 6,
   "metadata": {},
   "outputs": [
    {
     "data": {
      "text/plain": [
       "451-element Vector{Any}:\n",
       " 1850\n",
       " 1851\n",
       " 1852\n",
       " 1853\n",
       " 1854\n",
       " 1855\n",
       " 1856\n",
       " 1857\n",
       " 1858\n",
       " 1859\n",
       "    ⋮\n",
       " 2292\n",
       " 2293\n",
       " 2294\n",
       " 2295\n",
       " 2296\n",
       " 2297\n",
       " 2298\n",
       " 2299\n",
       " 2300"
      ]
     },
     "metadata": {},
     "output_type": "display_data"
    }
   ],
   "source": [
    "#5\n",
    "years_s = []\n",
    "for i in range(1850, 2300)\n",
    "    push!(years_s, i)\n",
    "end\n",
    "years_s"
   ]
  },
  {
   "cell_type": "code",
   "execution_count": 7,
   "metadata": {},
   "outputs": [
    {
     "data": {
      "text/plain": [
       "(Any[2000, 2001, 2002, 2003, 2004, 2005, 2006, 2007, 2008, 2009  …  2190, 2191, 2192, 2193, 2194, 2195, 2196, 2197, 2198, 2199], [0.003568475575939025 0.0023496230725262544 … 0.0011961308207884365 0.0026841393843157783; 0.0023874803488068523 0.0018642127724811854 … 0.0022569410688024925 0.002687111784238036; … ; 1.7337918733960032 1.0759793689310837 … 0.6504331483701105 1.2496706286419603; 1.743637820287714 1.0864254579803856 … 0.6576981036992867 1.2595298333414888], [0.012126232438020046 0.016145607112018612 … 0.01651255797056682 0.014577790553246334; 0.014185049971868681 0.015030933595367123 … 0.014332823661283012 0.010919150295025002; … ; 0.42600727234555585 0.29446418157233045 … 0.3226782833341778 0.36212619634632953; 0.42817482167469556 0.2959996252694101 … 0.3240051585545623 0.3683543888140833], [0.0005097017216186828 0.00021134137765874524 … -0.00018817416415430955 0.000567818739648517; 0.0010858101947455602 0.001318770981534159 … 0.00012454760005189307 0.0005407267793038367; … ; 3.3275234199902526 1.6559803798405979 … 3.3096117631372204 3.9523932668655255; 3.3577346476733765 1.6716100436092138 … 3.3400581120181703 3.9869372455610512], [0.06546995377724353 0.07309008748548668 … 0.05130885266578402 0.054147458338816845; 0.06736771469562253 0.07508780998919706 … 0.05319718840915291 0.05589350107007452; … ; 1.0694095925942917 0.8171778615580637 … 1.1947250853310976 1.1523442235744819; 1.075636149406556 0.8214518227655501 … 1.202125195846258 1.1595925613041103], [0.0005791299456836324 0.00029264180144813676 … 0.0003318864243208211 0.0002371942091075673; 0.00016634943347268444 0.000341848274943308 … 0.0002913119811241008 0.00023631482697313404; … ; 0.0005177821508355722 0.00011720903931646359 … -7.938660842300851e-5 0.00010627023361618019; 0.0004270892697618644 0.00021262148011004007 … 0.0001937029502171584 0.0005607737934126881], [0.04633341545050536 0.059850573796736375 … 0.0594551209378615 0.04302171327904992; 0.05738267109487304 0.05259140802827831 … 0.060700183549418946 0.05000747730673909; … ; 6.582524098862626 3.865779701875175 … 5.518766623486864 6.7627793975073285; 6.638353339938418 3.8862746691443353 … 5.561536359809802 6.8270110503117785])"
      ]
     },
     "metadata": {},
     "output_type": "display_data"
    }
   ],
   "source": [
    "#6\n",
    "comp_26_s = (years_s[151:350], Matrix(ais_26_s)[151:350, :], Matrix(gsic_26_s)[151:350, :], Matrix(gis_26_s)[151:350, :], Matrix(te_26_s)[151:350, :], Matrix(lws_26_s)[151:350, :], Matrix(gmsl_26_s)[151:350, :])\n",
    "comp_45_s = (years_s[151:350], Matrix(ais_45_s)[151:350, :], Matrix(gsic_45_s)[151:350, :], Matrix(gis_45_s)[151:350, :], Matrix(te_45_s)[151:350, :], Matrix(lws_45_s)[151:350, :], Matrix(gmsl_45_s)[151:350, :])\n",
    "comp_60_s = (years_s[151:350], Matrix(ais_60_s)[151:350, :], Matrix(gsic_60_s)[151:350, :], Matrix(gis_60_s)[151:350, :], Matrix(te_60_s)[151:350, :], Matrix(lws_60_s)[151:350, :], Matrix(gmsl_60_s)[151:350, :])\n",
    "comp_85_s = (years_s[151:350], Matrix(ais_85_s)[151:350, :], Matrix(gsic_85_s)[151:350, :], Matrix(gis_85_s)[151:350, :], Matrix(te_85_s)[151:350, :], Matrix(lws_85_s)[151:350, :], Matrix(gmsl_85_s)[151:350, :])\n"
   ]
  },
  {
   "cell_type": "code",
   "execution_count": 8,
   "metadata": {},
   "outputs": [
    {
     "data": {
      "text/plain": [
       "create_lonlat_tuples (generic function with 1 method)"
      ]
     },
     "metadata": {},
     "output_type": "display_data"
    }
   ],
   "source": [
    "#7\n",
    "lonlat_gulf = []\n",
    "function create_lonlat_tuples(lonlat_data)\n",
    "    for i in range(1, size(lonlat_data, 1))\n",
    "        push!(lonlat_gulf, (lonlat_data[i,1], lonlat_data[i,2]))\n",
    "    end\n",
    "end"
   ]
  },
  {
   "cell_type": "code",
   "execution_count": 9,
   "metadata": {},
   "outputs": [
    {
     "data": {
      "text/plain": [
       "177×1 Matrix{String31}:\n",
       " \"UnitedStates4592\"\n",
       " \"UnitedStates4593\"\n",
       " \"UnitedStates4594\"\n",
       " \"UnitedStates4595\"\n",
       " \"UnitedStates4596\"\n",
       " \"UnitedStates4599\"\n",
       " \"UnitedStates4600\"\n",
       " \"UnitedStates4601\"\n",
       " \"UnitedStates4615\"\n",
       " \"UnitedStates4603\"\n",
       " ⋮\n",
       " \"UnitedStates4653\"\n",
       " \"UnitedStates4654\"\n",
       " \"UnitedStates5591\"\n",
       " \"UnitedStates5592\"\n",
       " \"UnitedStates5593\"\n",
       " \"UnitedStates5594\"\n",
       " \"UnitedStates5595\"\n",
       " \"UnitedStates5596\"\n",
       " \"UnitedStates5597\""
      ]
     },
     "metadata": {},
     "output_type": "display_data"
    }
   ],
   "source": [
    "#8\n",
    "gulf_segments = Matrix(CSV.read(\"../gulf_segments.csv\", DataFrame))"
   ]
  },
  {
   "cell_type": "code",
   "execution_count": 11,
   "metadata": {},
   "outputs": [],
   "source": [
    "#9\n",
    "lonlat_gulf_list = Matrix(CSV.read(\"../lonlat_gulf_list.csv\", DataFrame))\n",
    "create_lonlat_tuples(lonlat_gulf_list)"
   ]
  },
  {
   "attachments": {},
   "cell_type": "markdown",
   "metadata": {},
   "source": [
    "Testing downscale with smaller segment file"
   ]
  },
  {
   "cell_type": "code",
   "execution_count": 128,
   "metadata": {},
   "outputs": [
    {
     "data": {
      "text/plain": [
       "\"lslr_45_downscale_sneasy_gulf_test.csv\""
      ]
     },
     "execution_count": 128,
     "metadata": {},
     "output_type": "execute_result"
    }
   ],
   "source": [
    "#11\n",
    "#testing with smaller segment file\n",
    "ensembles_run = 1:10000\n",
    "lonlat_test = lonlat_gulf[1:10]\n",
    "segments_test = gulf_segments[1:10]\n",
    "\n",
    "\n",
    "result_45_s_gulf_t = downscale_brick(comp_45_s, lonlat_test, ensembles_run, 2000, 2199, 10)\n",
    "run_45_s_gulf_t = result_45_s_gulf_t[1]\n",
    "lslr_45_s_gulf_t = run_45_s_gulf_t[:,:,1]\n",
    "for i in range(2, length(segments_test))\n",
    "    lslr_45_s_gulf_t = vcat(lslr_45_s_gulf_t, run_45_s_gulf_t[:,:,i])\n",
    "end\n",
    "CSV.write(\"lslr_45_downscale_sneasy_gulf_test.csv\", DataFrame(lslr_45_s_gulf_t, :auto))"
   ]
  },
  {
   "cell_type": "code",
   "execution_count": 36,
   "metadata": {},
   "outputs": [
    {
     "data": {
      "text/plain": [
       "100000×20 Matrix{Float64}:\n",
       " 0.0  0.0327748  0.0656825  0.107939   …  2.31508   2.55334   2.78475\n",
       " 0.0  0.0277928  0.0633695  0.0933073     0.626198  0.657333  0.687004\n",
       " 0.0  0.0300052  0.0694709  0.113434      2.15447   2.3567    2.55667\n",
       " 0.0  0.0321379  0.0682109  0.116568      2.20001   2.38775   2.57973\n",
       " 0.0  0.0293177  0.062918   0.106256      0.894612  0.946435  0.992823\n",
       " 0.0  0.0261152  0.0640378  0.109149   …  1.06846   1.13175   1.18401\n",
       " 0.0  0.0242169  0.0570668  0.0900779     0.905094  0.960437  1.00412\n",
       " 0.0  0.0339226  0.0652524  0.106727      0.633387  0.661437  0.693557\n",
       " 0.0  0.0298352  0.065485   0.105365      2.3739    2.61154   2.84244\n",
       " 0.0  0.0230413  0.0489919  0.0841285     0.827912  0.870003  0.912476\n",
       " 0.0  0.0306619  0.0655434  0.108904   …  1.82091   1.98974   2.1538\n",
       " 0.0  0.028915   0.062003   0.107752      1.12961   1.24382   1.46217\n",
       " 0.0  0.0244536  0.0543215  0.0976346     1.73073   1.88947   2.05429\n",
       " ⋮                                     ⋱                      \n",
       " 0.0  0.0253872  0.0554618  0.0895523     1.80752   1.9897    2.17144\n",
       " 0.0  0.0238681  0.061116   0.103557      1.13187   1.20188   1.2669\n",
       " 0.0  0.0337868  0.0703673  0.108952   …  1.05882   1.12378   1.18507\n",
       " 0.0  0.0309853  0.0636604  0.103038      0.986994  1.04312   1.09575\n",
       " 0.0  0.0273224  0.066971   0.115034      1.6575    1.78178   1.91247\n",
       " 0.0  0.0272838  0.0684561  0.110379      1.35036   1.46457   1.57604\n",
       " 0.0  0.0215347  0.0550536  0.0872667     0.827797  0.872747  0.91818\n",
       " 0.0  0.0290316  0.0603054  0.0978609  …  0.771612  0.810545  0.850379\n",
       " 0.0  0.0322992  0.0730706  0.113431      2.16358   2.33773   2.50541\n",
       " 0.0  0.0278158  0.0643981  0.101132      1.9924    2.15243   2.30485\n",
       " 0.0  0.034506   0.070081   0.11478       1.79013   1.91134   2.02713\n",
       " 0.0  0.0277352  0.063068   0.112107      2.46397   2.64945   2.83303"
      ]
     },
     "execution_count": 36,
     "metadata": {},
     "output_type": "execute_result"
    }
   ],
   "source": [
    "#12\n",
    "lslr_45_s_gulf_t = Matrix(CSV.read(\"lslr_45_downscale_sneasy_gulf_test.csv\", DataFrame))"
   ]
  },
  {
   "cell_type": "code",
   "execution_count": 32,
   "metadata": {},
   "outputs": [],
   "source": [
    "#13\n",
    "run_name = \"Sneasy_Gulf_245_test\"\n",
    "subset_name = \"C:/Users/krfek/Downloads/gitdemo/mimiCIAM_demo/gulf_segments_test.csv\"\n",
    "\n",
    "init_settings = Dict(\n",
    "        :init_filename   => string(\"$run_name\", \"_init.csv\"),\n",
    "        :lslrfile        => \"lsl_rcp85_p50.csv\",\n",
    "        :subset          => subset_name,\n",
    "        :ssp             => \"IIASAGDP_SSP2_v9_130219\",\n",
    "        :ssp_simplified  => 2\n",
    "    )\n",
    "\n",
    "MimiCIAM.write_init_file(run_name, \"..\", init_settings)\n",
    "\n",
    "\n",
    "model_245_gulf_s_t = MimiCIAM.get_model(initfile=\"../Sneasy_Gulf_245_test_init.csv\")\n",
    "MimiCIAM.run(model_245_gulf_s_t)   \n",
    "\n",
    "\n"
   ]
  },
  {
   "attachments": {},
   "cell_type": "markdown",
   "metadata": {},
   "source": [
    "Distribution "
   ]
  },
  {
   "cell_type": "code",
   "execution_count": 106,
   "metadata": {},
   "outputs": [
    {
     "data": {
      "text/plain": [
       "Truncated(Normal{Float64}(μ=0.47, σ=0.12); lower=0.0, upper=1.0)"
      ]
     },
     "execution_count": 106,
     "metadata": {},
     "output_type": "execute_result"
    }
   ],
   "source": [
    "#15 (dont rerun!)\n",
    "movefactor_d  = truncated(Normal(1,1),0.5,3)\n",
    "dvbm_d        = truncated(Normal(5.376,2.688),0.0,Inf)\n",
    "vslel_d       = truncated(Normal(0.47,0.15),0.0,Inf)\n",
    "vslmult_d     = truncated(Normal(200,100),0.0,Inf)\n",
    "wvel_d        = truncated(Normal(1.16, 0.46),0.0,Inf)\n",
    "wvpdl_d       = truncated(Normal(0.47,0.12),0.0,1.0)"
   ]
  },
  {
   "cell_type": "code",
   "execution_count": 142,
   "metadata": {},
   "outputs": [
    {
     "data": {
      "text/plain": [
       "\"wvpdl_s.csv\""
      ]
     },
     "execution_count": 142,
     "metadata": {},
     "output_type": "execute_result"
    }
   ],
   "source": [
    "#16 (dont rerun!)\n",
    "CSV.write(\"movefactor_s.csv\", DataFrame(hcat(rand(movefactor_d, 10000)), :auto))\n",
    "CSV.write(\"dvbm_s.csv\", DataFrame(hcat(rand(dvbm_d, 10000)), :auto))\n",
    "CSV.write(\"vslel_s.csv\", DataFrame(hcat(rand(vslel_d, 10000)), :auto))\n",
    "CSV.write(\"vslmult_s.csv\", DataFrame(hcat(rand(vslmult_d, 10000)), :auto))\n",
    "CSV.write(\"wvel_s.csv\", DataFrame(hcat(rand(wvel_d, 10000)), :auto))\n",
    "CSV.write(\"wvpdl_s.csv\", DataFrame(hcat(rand(wvpdl_d, 10000)), :auto))\n",
    "\n"
   ]
  },
  {
   "cell_type": "code",
   "execution_count": 12,
   "metadata": {},
   "outputs": [
    {
     "data": {
      "text/plain": [
       "10000×1 Matrix{Float64}:\n",
       " 0.41671323309870717\n",
       " 0.4821939726167196\n",
       " 0.6237254399934304\n",
       " 0.5053948117930075\n",
       " 0.2958500370680113\n",
       " 0.6246427002165509\n",
       " 0.34763429372773286\n",
       " 0.6690333421844861\n",
       " 0.3762825256190186\n",
       " 0.4473939417728137\n",
       " ⋮\n",
       " 0.46608293317405347\n",
       " 0.4254755047206367\n",
       " 0.6182180415526795\n",
       " 0.5963427144596648\n",
       " 0.3918061599165659\n",
       " 0.549363211642908\n",
       " 0.41902066094074675\n",
       " 0.3787435497564034\n",
       " 0.4601614149303505"
      ]
     },
     "metadata": {},
     "output_type": "display_data"
    }
   ],
   "source": [
    "#17\n",
    "move_factor_s = Matrix(CSV.read(\"movefactor_s.csv\", DataFrame))\n",
    "dvbm_s = Matrix(CSV.read(\"dvbm_s.csv\", DataFrame))\n",
    "vslel_s = Matrix(CSV.read(\"vslel_s.csv\", DataFrame))\n",
    "vslmult_s = Matrix(CSV.read(\"vslmult_s.csv\", DataFrame))\n",
    "wvel_s = Matrix(CSV.read(\"wvel_s.csv\", DataFrame))\n",
    "wvpdl_s = Matrix(CSV.read(\"wvpdl_s.csv\", DataFrame))"
   ]
  },
  {
   "cell_type": "code",
   "execution_count": 13,
   "metadata": {},
   "outputs": [
    {
     "data": {
      "text/plain": [
       "6-element Vector{Matrix{Float64}}:\n",
       " [1.3616907543094252; 2.71563850742377; … ; 1.1325443598832952; 0.8825423643085583;;]\n",
       " [1.9926451375371466; 4.150807733636418; … ; 8.419424359517823; 5.221219436781835;;]\n",
       " [0.3013050487881483; 0.5283196079473862; … ; 0.4133267896269778; 0.6223936423686056;;]\n",
       " [208.80264972285923; 136.09810674813542; … ; 97.30664265643591; 134.17843658074852;;]\n",
       " [1.0694361428473813; 1.6942784286877195; … ; 1.1500307171475552; 1.4865910127217257;;]\n",
       " [0.41671323309870717; 0.4821939726167196; … ; 0.3787435497564034; 0.4601614149303505;;]"
      ]
     },
     "metadata": {},
     "output_type": "display_data"
    }
   ],
   "source": [
    "#18\n",
    "params = [move_factor_s, dvbm_s, vslel_s, vslmult_s, wvel_s, wvpdl_s]"
   ]
  },
  {
   "attachments": {},
   "cell_type": "markdown",
   "metadata": {},
   "source": [
    "test ciam with smaller data"
   ]
  },
  {
   "cell_type": "code",
   "execution_count": 39,
   "metadata": {},
   "outputs": [
    {
     "data": {
      "text/plain": [
       "6-element Vector{Vector{Float64}}:\n",
       " [1.3616907543094252, 2.71563850742377, 1.4953319826602258]\n",
       " [1.3616907543094252, 2.71563850742377, 1.4953319826602258]\n",
       " [1.3616907543094252, 2.71563850742377, 1.4953319826602258]\n",
       " [1.3616907543094252, 2.71563850742377, 1.4953319826602258]\n",
       " [1.3616907543094252, 2.71563850742377, 1.4953319826602258]\n",
       " [0.41671323309870717, 0.4821939726167196, 0.6237254399934304]"
      ]
     },
     "execution_count": 39,
     "metadata": {},
     "output_type": "execute_result"
    }
   ],
   "source": [
    "#20\n",
    "params_test = [move_factor_s[1:3], dvbm_s[1:3], vslel_s[1:3], vslmult_s[1:3], wvel_s[1:3], wvpdl_s[1:3]]"
   ]
  },
  {
   "cell_type": "code",
   "execution_count": 42,
   "metadata": {},
   "outputs": [
    {
     "data": {
      "text/plain": [
       "10×1 Matrix{String31}:\n",
       " \"UnitedStates4569\"\n",
       " \"UnitedStates4592\"\n",
       " \"UnitedStates4593\"\n",
       " \"UnitedStates4594\"\n",
       " \"UnitedStates4595\"\n",
       " \"UnitedStates4596\"\n",
       " \"UnitedStates4599\"\n",
       " \"UnitedStates4600\"\n",
       " \"UnitedStates4601\"\n",
       " \"UnitedStates4615\""
      ]
     },
     "execution_count": 42,
     "metadata": {},
     "output_type": "execute_result"
    }
   ],
   "source": [
    "#21\n",
    "segments_test = Matrix(CSV.read(\"../gulf_segments_test.csv\", DataFrame))"
   ]
  },
  {
   "cell_type": "code",
   "execution_count": 55,
   "metadata": {},
   "outputs": [
    {
     "data": {
      "text/plain": [
       "(Union{Missing, Float64}[8.324731777900893e-5 0.00016055618522857015 … 0.0003249424044820551 0.00018433118761535235; 0.004616797492587578 0.0052164885585773485 … 0.009028083208864505 0.008140416883616395; … ; 0.0016966279975844233 0.0019161056974080057 … 0.003332443413753421 0.0030047173212566004; 0.012927580585243046 0.02049710741480213 … 0.03354963387893558 0.023871496613175495], Union{Missing, Float64}[0.0004639747624838094 0.0008905533558776865 … 0.0009009692166587421 0.0005102626274797858; 0.016054028510468804 0.0183778148183244 … 0.021266972701951683 0.018821335578335485; … ; 0.0059561417940729 0.006819087356000006 … 0.007906157153080212 0.0069967408824185276; 0.045775710043507514 0.07135610185838494 … 0.06594738646862855 0.047715396778700334], Union{Missing, Float64}[0.00035580452205255373 0.0005853709487377644 … 0.0007752312033357275 0.000505039327335693; 0.05410989446662053 0.09408416856800335 … 0.12382988167597003 0.07643430322034268; … ; 0.045551675669250474 0.078794865420007 … 0.10392531780330386 0.06437313457423226; 0.0288979333003468 0.046966246141761175 … 0.06333711813636259 0.04337536219426434], Union{Missing, Float64}[0.0023042010061749434 0.003880595240944428 … 0.0031338051089309276 0.0019909761897082866; 0.25881019012409756 0.4500273780229594 … 0.3517577901263052 0.21643743649982222; … ; 0.23414456221969376 0.40607084132226545 … 0.31373333643398593 0.19374576953228348; 0.11698666647581457 0.19130275562176394 … 0.16149695629022806 0.10800450491589839], [0.001686190130820134 0.0030121858166973032 … 0.00391616133165384 0.0022854945157051933; 0.10947203079145248 0.1198563374390179 … 0.14536750728442024 0.13359376495944342; … ; 0.04030784959944257 0.04407469252687038 … 0.053466977934209646 0.049168528814306764; 0.17534752610543766 0.2841459471104225 … 0.36696526047003114 0.2562458906544955], Any[\"Retreat-1\" \"Retreat-1\" … \"Retreat-1\" \"Retreat-1\"; \"Protect-1\" \"Protect-1\" … \"Protect-1\" \"Protect-1\"; … ; \"Protect-1\" \"Protect-1\" … \"Protect-1\" \"Protect-1\"; \"Retreat-1\" \"Retreat-1\" … \"Retreat-1\" \"Retreat-1\"])"
      ]
     },
     "execution_count": 55,
     "metadata": {},
     "output_type": "execute_result"
    }
   ],
   "source": [
    "#22\n",
    "data_245_gulf_s_t = run_ciam_data_f(model_245_gulf_s_t, 245, lslr_45_s_gulf_t, segments_test, 10000, 20, [1; 5; 10; 15; 19], params_test, 3)"
   ]
  },
  {
   "attachments": {},
   "cell_type": "markdown",
   "metadata": {},
   "source": [
    "Run all gulf segments"
   ]
  },
  {
   "cell_type": "code",
   "execution_count": 14,
   "metadata": {},
   "outputs": [
    {
     "data": {
      "text/plain": [
       "\"lslr_85_downscale_sneasy_gulf.csv\""
      ]
     },
     "metadata": {},
     "output_type": "display_data"
    }
   ],
   "source": [
    "#24\n",
    "ensembles_run = 1:10000\n",
    "\n",
    "result_26_s_gulf = downscale_brick(comp_26_s, lonlat_gulf, ensembles_run, 2000, 2199, 10)\n",
    "run_26_s_gulf = result_26_s_gulf[1]\n",
    "lslr_26_s_gulf = run_26_s_gulf[:,:,1]\n",
    "for i in range(2, length(gulf_segments))\n",
    "    lslr_26_s_gulf = vcat(lslr_26_s_gulf, run_26_s_gulf[:,:,i])\n",
    "end\n",
    "CSV.write(\"lslr_26_downscale_sneasy_gulf.csv\", DataFrame(lslr_26_s_gulf, :auto))\n",
    "\n",
    "result_45_s_gulf = downscale_brick(comp_45_s, lonlat_gulf, ensembles_run, 2000, 2199, 10)\n",
    "run_45_s_gulf = result_45_s_gulf[1]\n",
    "lslr_45_s_gulf = run_45_s_gulf[:,:,1]\n",
    "for i in range(2, length(gulf_segments))\n",
    "    lslr_45_s_gulf = vcat(lslr_45_s_gulf, run_45_s_gulf[:,:,i])\n",
    "end\n",
    "CSV.write(\"lslr_45_downscale_sneasy_gulf.csv\", DataFrame(lslr_45_s_gulf, :auto))\n",
    "\n",
    "result_60_s_gulf = downscale_brick(comp_60_s, lonlat_gulf, ensembles_run, 2000, 2199, 10)\n",
    "run_60_s_gulf = result_60_s_gulf[1]\n",
    "lslr_60_s_gulf = run_60_s_gulf[:,:,1]\n",
    "for i in range(2, length(gulf_segments))\n",
    "    lslr_60_s_gulf = vcat(lslr_60_s_gulf, run_60_s_gulf[:,:,i])\n",
    "end\n",
    "CSV.write(\"lslr_60_downscale_sneasy_gulf.csv\", DataFrame(lslr_60_s_gulf, :auto))\n",
    "\n",
    "result_85_s_gulf = downscale_brick(comp_85_s, lonlat_gulf, ensembles_run, 2000, 2199, 10)\n",
    "run_85_s_gulf = result_85_s_gulf[1]\n",
    "lslr_85_s_gulf = run_85_s_gulf[:,:,1]\n",
    "for i in range(2, length(gulf_segments))\n",
    "    lslr_85_s_gulf = vcat(lslr_85_s_gulf, run_85_s_gulf[:,:,i])\n",
    "end\n",
    "CSV.write(\"lslr_85_downscale_sneasy_gulf.csv\", DataFrame(lslr_85_s_gulf, :auto))"
   ]
  },
  {
   "cell_type": "code",
   "execution_count": 15,
   "metadata": {},
   "outputs": [
    {
     "data": {
      "text/plain": [
       "1770000×20 Matrix{Float64}:\n",
       " 0.0  0.0252765  0.0639127  0.109012   …  4.30233  4.75799  5.21503  5.65582\n",
       " 0.0  0.0230202  0.0592376  0.0975785     2.45967  2.74076  3.02252  3.30897\n",
       " 0.0  0.0342594  0.0714959  0.116678      4.13645  4.63548  5.13537  5.64941\n",
       " 0.0  0.0348236  0.0722657  0.121926      3.98152  4.41224  4.83549  5.23153\n",
       " 0.0  0.0338532  0.068564   0.106911      3.38116  3.73737  4.09441  4.44837\n",
       " 0.0  0.033536   0.0671182  0.11326    …  3.78812  4.22639  4.67001  5.10645\n",
       " 0.0  0.0280038  0.0586526  0.0977554     3.11895  3.46614  3.80591  4.13976\n",
       " 0.0  0.0254675  0.0632913  0.0941817     2.46908  2.71036  2.94248  3.18068\n",
       " 0.0  0.0277933  0.0646743  0.109653      4.61912  5.13486  5.65936  6.17029\n",
       " 0.0  0.0238459  0.0553402  0.0911487     4.15669  4.63582  5.10577  5.56837\n",
       " ⋮                                     ⋱                             \n",
       " 0.0  0.0275253  0.0555687  0.103505      3.13455  3.48943  3.84986  4.20606\n",
       " 0.0  0.0269264  0.0708148  0.121172      3.36059  3.74385  4.12331  4.50685\n",
       " 0.0  0.0343382  0.0673916  0.120294      2.99069  3.3535   3.72574  4.10077\n",
       " 0.0  0.0190093  0.0578983  0.091484      2.46074  2.74931  3.04277  3.32965\n",
       " 0.0  0.026507   0.0612648  0.10319    …  2.94858  3.2545   3.56574  3.86596\n",
       " 0.0  0.0312264  0.0718218  0.116084      3.65517  4.07087  4.49002  4.91516\n",
       " 0.0  0.0297426  0.0628138  0.108211      3.71307  4.11201  4.50895  4.90254\n",
       " 0.0  0.0305912  0.067956   0.118586      3.35689  3.75248  4.15144  4.55459\n",
       " 0.0  0.0289957  0.0656627  0.115744      4.27037  4.7538   5.22896  5.70551"
      ]
     },
     "metadata": {},
     "output_type": "display_data"
    }
   ],
   "source": [
    "#25\n",
    "lslr_26_s_gulf = Matrix(CSV.read(\"lslr_26_downscale_sneasy_gulf.csv\", DataFrame))\n",
    "lslr_45_s_gulf = Matrix(CSV.read(\"lslr_45_downscale_sneasy_gulf.csv\", DataFrame))\n",
    "lslr_60_s_gulf = Matrix(CSV.read(\"lslr_60_downscale_sneasy_gulf.csv\", DataFrame))\n",
    "lslr_85_s_gulf = Matrix(CSV.read(\"lslr_85_downscale_sneasy_gulf.csv\", DataFrame))"
   ]
  },
  {
   "cell_type": "code",
   "execution_count": 21,
   "metadata": {},
   "outputs": [
    {
     "ename": "UndefVarError",
     "evalue": "UndefVarError: segments not defined",
     "output_type": "error",
     "traceback": [
      "UndefVarError: segments not defined\n",
      "\n",
      "Stacktrace:\n",
      " [1] top-level scope\n",
      "   @ ~/codes/jup_jul_mimi_demo/mimiCIAM_demo/sneasy_ciam/sneasy_param.ipynb:19"
     ]
    }
   ],
   "source": [
    "#26\n",
    "run_name = \"Sneasy_Gulf_126\"\n",
    "subset_name = \"/Users/aewsma/codes/jup_jul_mimi_demo/mimiCIAM_demo/gulf_segments.csv\"\n",
    "\n",
    "init_settings = Dict(\n",
    "        :init_filename   => string(\"$run_name\", \"_init.csv\"),\n",
    "        :lslrfile        => \"lsl_rcp85_p50.csv\",\n",
    "        :subset          => subset_name,\n",
    "        :ssp             => \"IIASAGDP_SSP1_v9_130219\",\n",
    "        :ssp_simplified  => 1\n",
    "    )\n",
    "\n",
    "MimiCIAM.write_init_file(run_name, \"..\", init_settings)\n",
    "\n",
    "\n",
    "model_126_gulf_s = MimiCIAM.get_model(initfile=\"../Sneasy_Gulf_126_init.csv\")\n",
    "MimiCIAM.run(model_126_gulf_s) \n",
    "\n",
    "data_126_gulf_s = run_ciam_data_f(model_126_gulf_s, 126, lslr_26_s_gulf, segments, 10000, 20, [1; 5; 10; 15; 19], params, 10000)"
   ]
  },
  {
   "cell_type": "code",
   "execution_count": 17,
   "metadata": {},
   "outputs": [
    {
     "ename": "SystemError",
     "evalue": "SystemError: opening file \"/Users/aewsma/.julia/packages/MimiCIAM/dbhiy/src/../data/subsets/C:/Users/krfek/Downloads/gitdemo/mimiCIAM_demo/gulf_segments.csv\": No such file or directory",
     "output_type": "error",
     "traceback": [
      "SystemError: opening file \"/Users/aewsma/.julia/packages/MimiCIAM/dbhiy/src/../data/subsets/C:/Users/krfek/Downloads/gitdemo/mimiCIAM_demo/gulf_segments.csv\": No such file or directory\n",
      "\n",
      "Stacktrace:\n",
      "  [1] systemerror(p::String, errno::Int32; extrainfo::Nothing)\n",
      "    @ Base ./error.jl:176\n",
      "  [2] #systemerror#80\n",
      "    @ ./error.jl:175 [inlined]\n",
      "  [3] systemerror\n",
      "    @ ./error.jl:175 [inlined]\n",
      "  [4] open(fname::String; lock::Bool, read::Nothing, write::Nothing, create::Nothing, truncate::Nothing, append::Nothing)\n",
      "    @ Base ./iostream.jl:293\n",
      "  [5] open\n",
      "    @ ./iostream.jl:275 [inlined]\n",
      "  [6] open(f::Base.var\"#399#400\"{Base.Pairs{Symbol, Union{}, Tuple{}, NamedTuple{(), Tuple{}}}}, args::String; kwargs::Base.Pairs{Symbol, Union{}, Tuple{}, NamedTuple{(), Tuple{}}})\n",
      "    @ Base ./io.jl:382\n",
      "  [7] open\n",
      "    @ ./io.jl:381 [inlined]\n",
      "  [8] #readlines#398\n",
      "    @ ./io.jl:584 [inlined]\n",
      "  [9] readlines\n",
      "    @ ./io.jl:583 [inlined]\n",
      " [10] load_subset\n",
      "    @ ~/.julia/packages/MimiCIAM/dbhiy/src/ciamhelper.jl:336 [inlined]\n",
      " [11] import_model_data(lslfile::String31, sub::String, ssp::String31, ssp_simplified::Int64, popinput::Int64, surgeoption::Int64)\n",
      "    @ MimiCIAM ~/.julia/packages/MimiCIAM/dbhiy/src/ciamhelper.jl:365\n",
      " [12] get_model(; initfile::String, fixed::Bool, t::Int64, noRetreat::Bool, allowMaintain::Bool, popinput::Int64, GAMSmatch::Bool, surgeoption::Int64)\n",
      "    @ MimiCIAM ~/.julia/packages/MimiCIAM/dbhiy/src/ciam.jl:92\n",
      " [13] top-level scope\n",
      "    @ ~/codes/jup_jul_mimi_demo/mimiCIAM_demo/sneasy_ciam/sneasy_param.ipynb:16"
     ]
    }
   ],
   "source": [
    "#27\n",
    "run_name = \"Sneasy_Gulf_245\"\n",
    "subset_name = \"/Users/aewsma/codes/jup_jul_mimi_demo/mimiCIAM_demo/gulf_segments.csv\"\n",
    "\n",
    "init_settings = Dict(\n",
    "        :init_filename   => string(\"$run_name\", \"_init.csv\"),\n",
    "        :lslrfile        => \"lsl_rcp85_p50.csv\",\n",
    "        :subset          => subset_name,\n",
    "        :ssp             => \"IIASAGDP_SSP2_v9_130219\",\n",
    "        :ssp_simplified  => 2\n",
    "    )\n",
    "\n",
    "MimiCIAM.write_init_file(run_name, \"..\", init_settings)\n",
    "\n",
    "\n",
    "model_245_gulf_s = MimiCIAM.get_model(initfile=\"../Sneasy_Gulf_245_init.csv\")\n",
    "MimiCIAM.run(model_245_gulf_s) \n",
    "\n",
    "data_245_gulf_s = run_ciam_data_f(model_245_gulf_s, 245, lslr_45_s_gulf, segments, 10000, 20, [1; 5; 10; 15; 19], params, 10000)"
   ]
  },
  {
   "cell_type": "code",
   "execution_count": 18,
   "metadata": {},
   "outputs": [
    {
     "ename": "SystemError",
     "evalue": "SystemError: opening file \"/Users/aewsma/.julia/packages/MimiCIAM/dbhiy/src/../data/subsets/C:/Users/krfek/Downloads/gitdemo/mimiCIAM_demo/gulf_segments.csv\": No such file or directory",
     "output_type": "error",
     "traceback": [
      "SystemError: opening file \"/Users/aewsma/.julia/packages/MimiCIAM/dbhiy/src/../data/subsets/C:/Users/krfek/Downloads/gitdemo/mimiCIAM_demo/gulf_segments.csv\": No such file or directory\n",
      "\n",
      "Stacktrace:\n",
      "  [1] systemerror(p::String, errno::Int32; extrainfo::Nothing)\n",
      "    @ Base ./error.jl:176\n",
      "  [2] #systemerror#80\n",
      "    @ ./error.jl:175 [inlined]\n",
      "  [3] systemerror\n",
      "    @ ./error.jl:175 [inlined]\n",
      "  [4] open(fname::String; lock::Bool, read::Nothing, write::Nothing, create::Nothing, truncate::Nothing, append::Nothing)\n",
      "    @ Base ./iostream.jl:293\n",
      "  [5] open\n",
      "    @ ./iostream.jl:275 [inlined]\n",
      "  [6] open(f::Base.var\"#399#400\"{Base.Pairs{Symbol, Union{}, Tuple{}, NamedTuple{(), Tuple{}}}}, args::String; kwargs::Base.Pairs{Symbol, Union{}, Tuple{}, NamedTuple{(), Tuple{}}})\n",
      "    @ Base ./io.jl:382\n",
      "  [7] open\n",
      "    @ ./io.jl:381 [inlined]\n",
      "  [8] #readlines#398\n",
      "    @ ./io.jl:584 [inlined]\n",
      "  [9] readlines\n",
      "    @ ./io.jl:583 [inlined]\n",
      " [10] load_subset\n",
      "    @ ~/.julia/packages/MimiCIAM/dbhiy/src/ciamhelper.jl:336 [inlined]\n",
      " [11] import_model_data(lslfile::String31, sub::String, ssp::String31, ssp_simplified::Int64, popinput::Int64, surgeoption::Int64)\n",
      "    @ MimiCIAM ~/.julia/packages/MimiCIAM/dbhiy/src/ciamhelper.jl:365\n",
      " [12] get_model(; initfile::String, fixed::Bool, t::Int64, noRetreat::Bool, allowMaintain::Bool, popinput::Int64, GAMSmatch::Bool, surgeoption::Int64)\n",
      "    @ MimiCIAM ~/.julia/packages/MimiCIAM/dbhiy/src/ciam.jl:92\n",
      " [13] top-level scope\n",
      "    @ ~/codes/jup_jul_mimi_demo/mimiCIAM_demo/sneasy_ciam/sneasy_param.ipynb:16"
     ]
    }
   ],
   "source": [
    "#28\n",
    "run_name = \"Sneasy_Gulf_460\"\n",
    "subset_name = \"/Users/aewsma/codes/jup_jul_mimi_demo/mimiCIAM_demo/gulf_segments.csv\"\n",
    "\n",
    "init_settings = Dict(\n",
    "        :init_filename   => string(\"$run_name\", \"_init.csv\"),\n",
    "        :lslrfile        => \"lsl_rcp85_p50.csv\",\n",
    "        :subset          => subset_name,\n",
    "        :ssp             => \"IIASAGDP_SSP4_v9_130219\",\n",
    "        :ssp_simplified  => 4\n",
    "    )\n",
    "\n",
    "MimiCIAM.write_init_file(run_name, \"..\", init_settings)\n",
    "\n",
    "\n",
    "model_460_gulf_s = MimiCIAM.get_model(initfile=\"../Sneasy_Gulf_460_init.csv\")\n",
    "MimiCIAM.run(model_460_gulf_s) \n",
    "\n",
    "data_460_gulf_s = run_ciam_data_f(model_460_gulf_s, 460, lslr_60_s_gulf, segments, 10000, 20, [1; 5; 10; 15; 19], params, 10000)"
   ]
  },
  {
   "cell_type": "code",
   "execution_count": 19,
   "metadata": {},
   "outputs": [
    {
     "ename": "SystemError",
     "evalue": "SystemError: opening file \"/Users/aewsma/.julia/packages/MimiCIAM/dbhiy/src/../data/subsets/C:/Users/krfek/Downloads/gitdemo/mimiCIAM_demo/gulf_segments.csv\": No such file or directory",
     "output_type": "error",
     "traceback": [
      "SystemError: opening file \"/Users/aewsma/.julia/packages/MimiCIAM/dbhiy/src/../data/subsets/C:/Users/krfek/Downloads/gitdemo/mimiCIAM_demo/gulf_segments.csv\": No such file or directory\n",
      "\n",
      "Stacktrace:\n",
      "  [1] systemerror(p::String, errno::Int32; extrainfo::Nothing)\n",
      "    @ Base ./error.jl:176\n",
      "  [2] #systemerror#80\n",
      "    @ ./error.jl:175 [inlined]\n",
      "  [3] systemerror\n",
      "    @ ./error.jl:175 [inlined]\n",
      "  [4] open(fname::String; lock::Bool, read::Nothing, write::Nothing, create::Nothing, truncate::Nothing, append::Nothing)\n",
      "    @ Base ./iostream.jl:293\n",
      "  [5] open\n",
      "    @ ./iostream.jl:275 [inlined]\n",
      "  [6] open(f::Base.var\"#399#400\"{Base.Pairs{Symbol, Union{}, Tuple{}, NamedTuple{(), Tuple{}}}}, args::String; kwargs::Base.Pairs{Symbol, Union{}, Tuple{}, NamedTuple{(), Tuple{}}})\n",
      "    @ Base ./io.jl:382\n",
      "  [7] open\n",
      "    @ ./io.jl:381 [inlined]\n",
      "  [8] #readlines#398\n",
      "    @ ./io.jl:584 [inlined]\n",
      "  [9] readlines\n",
      "    @ ./io.jl:583 [inlined]\n",
      " [10] load_subset\n",
      "    @ ~/.julia/packages/MimiCIAM/dbhiy/src/ciamhelper.jl:336 [inlined]\n",
      " [11] import_model_data(lslfile::String31, sub::String, ssp::String31, ssp_simplified::Int64, popinput::Int64, surgeoption::Int64)\n",
      "    @ MimiCIAM ~/.julia/packages/MimiCIAM/dbhiy/src/ciamhelper.jl:365\n",
      " [12] get_model(; initfile::String, fixed::Bool, t::Int64, noRetreat::Bool, allowMaintain::Bool, popinput::Int64, GAMSmatch::Bool, surgeoption::Int64)\n",
      "    @ MimiCIAM ~/.julia/packages/MimiCIAM/dbhiy/src/ciam.jl:92\n",
      " [13] top-level scope\n",
      "    @ ~/codes/jup_jul_mimi_demo/mimiCIAM_demo/sneasy_ciam/sneasy_param.ipynb:16"
     ]
    }
   ],
   "source": [
    "#29\n",
    "run_name = \"Sneasy_Gulf_585\"\n",
    "subset_name = \"/Users/aewsma/codes/jup_jul_mimi_demo/mimiCIAM_demo/gulf_segments.csv\"\n",
    "\n",
    "init_settings = Dict(\n",
    "        :init_filename   => string(\"$run_name\", \"_init.csv\"),\n",
    "        :lslrfile        => \"lsl_rcp85_p50.csv\",\n",
    "        :subset          => subset_name,\n",
    "        :ssp             => \"IIASAGDP_SSP5_v9_130219\",\n",
    "        :ssp_simplified  => 5\n",
    "    )\n",
    "\n",
    "MimiCIAM.write_init_file(run_name, \"..\", init_settings)\n",
    "\n",
    "\n",
    "model_585_gulf_s = MimiCIAM.get_model(initfile=\"../Sneasy_Gulf_585_init.csv\")\n",
    "MimiCIAM.run(model_585_gulf_s) \n",
    "\n",
    "data_585_gulf_s = run_ciam_data_f(model_585_gulf_s, 585, lslr_85_s_gulf, segments, 10000, 20, [1; 5; 10; 15; 19], params, 10000)"
   ]
  },
  {
   "cell_type": "code",
   "execution_count": null,
   "metadata": {},
   "outputs": [],
   "source": []
  }
 ],
 "metadata": {
  "kernelspec": {
   "display_name": "Julia 1.8.2",
   "language": "julia",
   "name": "julia-1.8"
  },
  "language_info": {
   "file_extension": ".jl",
   "mimetype": "application/julia",
   "name": "julia",
   "version": "1.8.2"
  },
  "orig_nbformat": 4
 },
 "nbformat": 4,
 "nbformat_minor": 2
}
