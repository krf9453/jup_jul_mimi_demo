{
 "cells": [
  {
   "cell_type": "code",
   "execution_count": 1,
   "metadata": {},
   "outputs": [
    {
     "data": {
      "text/html": [
       "<div><div style = \"float: left;\"><span>12148×4 DataFrame</span></div><div style = \"float: right;\"><span style = \"font-style: italic;\">12123 rows omitted</span></div><div style = \"clear: both;\"></div></div><div class = \"data-frame\" style = \"overflow-x: scroll;\"><table class = \"data-frame\" style = \"margin-bottom: 6px;\"><thead><tr class = \"header\"><th class = \"rowNumber\" style = \"font-weight: bold; text-align: right;\">Row</th><th style = \"text-align: left;\">segments</th><th style = \"text-align: left;\">segid</th><th style = \"text-align: left;\">longi</th><th style = \"text-align: left;\">lati</th></tr><tr class = \"subheader headerLastRow\"><th class = \"rowNumber\" style = \"font-weight: bold; text-align: right;\"></th><th title = \"String31\" style = \"text-align: left;\">String31</th><th title = \"Int64\" style = \"text-align: left;\">Int64</th><th title = \"Float64\" style = \"text-align: left;\">Float64</th><th title = \"Float64\" style = \"text-align: left;\">Float64</th></tr></thead><tbody><tr><td class = \"rowNumber\" style = \"font-weight: bold; text-align: right;\">1</td><td style = \"text-align: left;\">Canada5106</td><td style = \"text-align: right;\">5106</td><td style = \"text-align: right;\">-122.645</td><td style = \"text-align: right;\">75.918</td></tr><tr><td class = \"rowNumber\" style = \"font-weight: bold; text-align: right;\">2</td><td style = \"text-align: left;\">Canada5115</td><td style = \"text-align: right;\">5115</td><td style = \"text-align: right;\">-121.031</td><td style = \"text-align: right;\">75.891</td></tr><tr><td class = \"rowNumber\" style = \"font-weight: bold; text-align: right;\">3</td><td style = \"text-align: left;\">Canada5120</td><td style = \"text-align: right;\">5120</td><td style = \"text-align: right;\">-116.799</td><td style = \"text-align: right;\">77.534</td></tr><tr><td class = \"rowNumber\" style = \"font-weight: bold; text-align: right;\">4</td><td style = \"text-align: left;\">Canada5132</td><td style = \"text-align: right;\">5132</td><td style = \"text-align: right;\">-118.191</td><td style = \"text-align: right;\">75.968</td></tr><tr><td class = \"rowNumber\" style = \"font-weight: bold; text-align: right;\">5</td><td style = \"text-align: left;\">Canada5166</td><td style = \"text-align: right;\">5166</td><td style = \"text-align: right;\">-115.022</td><td style = \"text-align: right;\">74.963</td></tr><tr><td class = \"rowNumber\" style = \"font-weight: bold; text-align: right;\">6</td><td style = \"text-align: left;\">Canada5167</td><td style = \"text-align: right;\">5167</td><td style = \"text-align: right;\">-114.982</td><td style = \"text-align: right;\">75.853</td></tr><tr><td class = \"rowNumber\" style = \"font-weight: bold; text-align: right;\">7</td><td style = \"text-align: left;\">Canada5202</td><td style = \"text-align: right;\">5202</td><td style = \"text-align: right;\">-115.077</td><td style = \"text-align: right;\">77.939</td></tr><tr><td class = \"rowNumber\" style = \"font-weight: bold; text-align: right;\">8</td><td style = \"text-align: left;\">Canada5168</td><td style = \"text-align: right;\">5168</td><td style = \"text-align: right;\">-112.533</td><td style = \"text-align: right;\">74.995</td></tr><tr><td class = \"rowNumber\" style = \"font-weight: bold; text-align: right;\">9</td><td style = \"text-align: left;\">Canada5169</td><td style = \"text-align: right;\">5169</td><td style = \"text-align: right;\">-112.433</td><td style = \"text-align: right;\">76.163</td></tr><tr><td class = \"rowNumber\" style = \"font-weight: bold; text-align: right;\">10</td><td style = \"text-align: left;\">Canada5171</td><td style = \"text-align: right;\">5171</td><td style = \"text-align: right;\">-111.468</td><td style = \"text-align: right;\">75.838</td></tr><tr><td class = \"rowNumber\" style = \"font-weight: bold; text-align: right;\">11</td><td style = \"text-align: left;\">Canada5172</td><td style = \"text-align: right;\">5172</td><td style = \"text-align: right;\">-110.497</td><td style = \"text-align: right;\">75.569</td></tr><tr><td class = \"rowNumber\" style = \"font-weight: bold; text-align: right;\">12</td><td style = \"text-align: left;\">Canada5173</td><td style = \"text-align: right;\">5173</td><td style = \"text-align: right;\">-109.424</td><td style = \"text-align: right;\">75.518</td></tr><tr><td class = \"rowNumber\" style = \"font-weight: bold; text-align: right;\">13</td><td style = \"text-align: left;\">Canada5175</td><td style = \"text-align: right;\">5175</td><td style = \"text-align: right;\">-109.938</td><td style = \"text-align: right;\">75.857</td></tr><tr><td style = \"text-align: right;\">&vellip;</td><td style = \"text-align: right;\">&vellip;</td><td style = \"text-align: right;\">&vellip;</td><td style = \"text-align: right;\">&vellip;</td><td style = \"text-align: right;\">&vellip;</td></tr><tr><td class = \"rowNumber\" style = \"font-weight: bold; text-align: right;\">12137</td><td style = \"text-align: left;\">Peru3952</td><td style = \"text-align: right;\">3952</td><td style = \"text-align: right;\">-77.147</td><td style = \"text-align: right;\">-12.011</td></tr><tr><td class = \"rowNumber\" style = \"font-weight: bold; text-align: right;\">12138</td><td style = \"text-align: left;\">Peru3953</td><td style = \"text-align: right;\">3953</td><td style = \"text-align: right;\">-77.041</td><td style = \"text-align: right;\">-12.136</td></tr><tr><td class = \"rowNumber\" style = \"font-weight: bold; text-align: right;\">12139</td><td style = \"text-align: left;\">Peru3954</td><td style = \"text-align: right;\">3954</td><td style = \"text-align: right;\">-76.841</td><td style = \"text-align: right;\">-12.338</td></tr><tr><td class = \"rowNumber\" style = \"font-weight: bold; text-align: right;\">12140</td><td style = \"text-align: left;\">Peru3955</td><td style = \"text-align: right;\">3955</td><td style = \"text-align: right;\">-76.657</td><td style = \"text-align: right;\">-12.711</td></tr><tr><td class = \"rowNumber\" style = \"font-weight: bold; text-align: right;\">12141</td><td style = \"text-align: left;\">Peru3956</td><td style = \"text-align: right;\">3956</td><td style = \"text-align: right;\">-76.415</td><td style = \"text-align: right;\">-13.124</td></tr><tr><td class = \"rowNumber\" style = \"font-weight: bold; text-align: right;\">12142</td><td style = \"text-align: left;\">Peru3957</td><td style = \"text-align: right;\">3957</td><td style = \"text-align: right;\">-76.198</td><td style = \"text-align: right;\">-13.416</td></tr><tr><td class = \"rowNumber\" style = \"font-weight: bold; text-align: right;\">12143</td><td style = \"text-align: left;\">Peru3958</td><td style = \"text-align: right;\">3958</td><td style = \"text-align: right;\">-76.204</td><td style = \"text-align: right;\">-13.644</td></tr><tr><td class = \"rowNumber\" style = \"font-weight: bold; text-align: right;\">12144</td><td style = \"text-align: left;\">Peru3959</td><td style = \"text-align: right;\">3959</td><td style = \"text-align: right;\">-75.938</td><td style = \"text-align: right;\">-14.61</td></tr><tr><td class = \"rowNumber\" style = \"font-weight: bold; text-align: right;\">12145</td><td style = \"text-align: left;\">Peru3960</td><td style = \"text-align: right;\">3960</td><td style = \"text-align: right;\">-73.441</td><td style = \"text-align: right;\">-16.288</td></tr><tr><td class = \"rowNumber\" style = \"font-weight: bold; text-align: right;\">12146</td><td style = \"text-align: left;\">Peru3961</td><td style = \"text-align: right;\">3961</td><td style = \"text-align: right;\">-71.65</td><td style = \"text-align: right;\">-17.231</td></tr><tr><td class = \"rowNumber\" style = \"font-weight: bold; text-align: right;\">12147</td><td style = \"text-align: left;\">Peru3962</td><td style = \"text-align: right;\">3962</td><td style = \"text-align: right;\">-71.43</td><td style = \"text-align: right;\">-17.38</td></tr><tr><td class = \"rowNumber\" style = \"font-weight: bold; text-align: right;\">12148</td><td style = \"text-align: left;\">Peru3963</td><td style = \"text-align: right;\">3963</td><td style = \"text-align: right;\">-71.336</td><td style = \"text-align: right;\">-17.656</td></tr></tbody></table></div>"
      ],
      "text/latex": [
       "\\begin{tabular}{r|cccc}\n",
       "\t& segments & segid & longi & lati\\\\\n",
       "\t\\hline\n",
       "\t& String31 & Int64 & Float64 & Float64\\\\\n",
       "\t\\hline\n",
       "\t1 & Canada5106 & 5106 & -122.645 & 75.918 \\\\\n",
       "\t2 & Canada5115 & 5115 & -121.031 & 75.891 \\\\\n",
       "\t3 & Canada5120 & 5120 & -116.799 & 77.534 \\\\\n",
       "\t4 & Canada5132 & 5132 & -118.191 & 75.968 \\\\\n",
       "\t5 & Canada5166 & 5166 & -115.022 & 74.963 \\\\\n",
       "\t6 & Canada5167 & 5167 & -114.982 & 75.853 \\\\\n",
       "\t7 & Canada5202 & 5202 & -115.077 & 77.939 \\\\\n",
       "\t8 & Canada5168 & 5168 & -112.533 & 74.995 \\\\\n",
       "\t9 & Canada5169 & 5169 & -112.433 & 76.163 \\\\\n",
       "\t10 & Canada5171 & 5171 & -111.468 & 75.838 \\\\\n",
       "\t11 & Canada5172 & 5172 & -110.497 & 75.569 \\\\\n",
       "\t12 & Canada5173 & 5173 & -109.424 & 75.518 \\\\\n",
       "\t13 & Canada5175 & 5175 & -109.938 & 75.857 \\\\\n",
       "\t14 & Canada5177 & 5177 & -110.052 & 75.893 \\\\\n",
       "\t15 & Canada5178 & 5178 & -108.458 & 76.735 \\\\\n",
       "\t16 & Canada5179 & 5179 & -110.388 & 76.36 \\\\\n",
       "\t17 & Canada5180 & 5180 & -109.381 & 76.128 \\\\\n",
       "\t18 & Canada5181 & 5181 & -109.938 & 75.924 \\\\\n",
       "\t19 & Canada5203 & 5203 & -114.238 & 78.047 \\\\\n",
       "\t20 & Canada5204 & 5204 & -113.605 & 77.835 \\\\\n",
       "\t21 & Canada5218 & 5218 & -114.262 & 76.88 \\\\\n",
       "\t22 & Canada5221 & 5221 & -113.817 & 77.152 \\\\\n",
       "\t23 & Canada5265 & 5265 & -110.104 & 77.548 \\\\\n",
       "\t24 & Canada5266 & 5266 & -112.483 & 77.991 \\\\\n",
       "\t25 & Canada5267 & 5267 & -109.583 & 78.039 \\\\\n",
       "\t26 & Canada5268 & 5268 & -110.781 & 78.306 \\\\\n",
       "\t27 & Canada5269 & 5269 & -112.593 & 78.501 \\\\\n",
       "\t28 & Canada5270 & 5270 & -109.263 & 78.452 \\\\\n",
       "\t29 & Canada5170 & 5170 & -108.036 & 74.929 \\\\\n",
       "\t30 & Canada5353 & 5353 & -100.031 & 80.098 \\\\\n",
       "\t$\\dots$ & $\\dots$ & $\\dots$ & $\\dots$ & $\\dots$ \\\\\n",
       "\\end{tabular}\n"
      ],
      "text/plain": [
       "\u001b[1m12148×4 DataFrame\u001b[0m\n",
       "\u001b[1m   Row \u001b[0m│\u001b[1m segments   \u001b[0m\u001b[1m segid \u001b[0m\u001b[1m longi    \u001b[0m\u001b[1m lati    \u001b[0m\n",
       "       │\u001b[90m String31   \u001b[0m\u001b[90m Int64 \u001b[0m\u001b[90m Float64  \u001b[0m\u001b[90m Float64 \u001b[0m\n",
       "───────┼──────────────────────────────────────\n",
       "     1 │ Canada5106   5106  -122.645   75.918\n",
       "     2 │ Canada5115   5115  -121.031   75.891\n",
       "     3 │ Canada5120   5120  -116.799   77.534\n",
       "     4 │ Canada5132   5132  -118.191   75.968\n",
       "     5 │ Canada5166   5166  -115.022   74.963\n",
       "     6 │ Canada5167   5167  -114.982   75.853\n",
       "     7 │ Canada5202   5202  -115.077   77.939\n",
       "     8 │ Canada5168   5168  -112.533   74.995\n",
       "     9 │ Canada5169   5169  -112.433   76.163\n",
       "    10 │ Canada5171   5171  -111.468   75.838\n",
       "    11 │ Canada5172   5172  -110.497   75.569\n",
       "   ⋮   │     ⋮         ⋮       ⋮         ⋮\n",
       " 12139 │ Peru3954     3954   -76.841  -12.338\n",
       " 12140 │ Peru3955     3955   -76.657  -12.711\n",
       " 12141 │ Peru3956     3956   -76.415  -13.124\n",
       " 12142 │ Peru3957     3957   -76.198  -13.416\n",
       " 12143 │ Peru3958     3958   -76.204  -13.644\n",
       " 12144 │ Peru3959     3959   -75.938  -14.61\n",
       " 12145 │ Peru3960     3960   -73.441  -16.288\n",
       " 12146 │ Peru3961     3961   -71.65   -17.231\n",
       " 12147 │ Peru3962     3962   -71.43   -17.38\n",
       " 12148 │ Peru3963     3963   -71.336  -17.656\n",
       "\u001b[36m                            12127 rows omitted\u001b[0m"
      ]
     },
     "execution_count": 1,
     "metadata": {},
     "output_type": "execute_result"
    }
   ],
   "source": [
    "using CSV\n",
    "using DataFrames\n",
    "\n",
    "segment_file = CSV.read(\"C:/Users/krfek/Downloads/gitdemo/mimiCIAM_demo/data/diva_segment_latlon.csv\", DataFrame)\n"
   ]
  },
  {
   "cell_type": "code",
   "execution_count": 24,
   "metadata": {},
   "outputs": [
    {
     "data": {
      "text/plain": [
       "\"UnitedStates3391\""
      ]
     },
     "execution_count": 24,
     "metadata": {},
     "output_type": "execute_result"
    }
   ],
   "source": [
    "segment_file[857,1]"
   ]
  },
  {
   "cell_type": "code",
   "execution_count": 22,
   "metadata": {},
   "outputs": [
    {
     "name": "stdout",
     "output_type": "stream",
     "text": [
      "yes\n"
     ]
    }
   ],
   "source": [
    "var = \"pie\"\n",
    "var2 = 5\n",
    "if var == \"pie\" && var2 ==5\n",
    "    println(\"yes\")\n",
    "end"
   ]
  },
  {
   "cell_type": "code",
   "execution_count": 142,
   "metadata": {},
   "outputs": [
    {
     "data": {
      "text/plain": [
       "179-element Vector{Any}:\n",
       " Any[String31(\"UnitedStates4569\"), -87.39, 30.47]\n",
       " Any[String31(\"UnitedStates4592\"), -87.961, 30.675]\n",
       " Any[String31(\"UnitedStates4593\"), -87.917, 30.604]\n",
       " Any[String31(\"UnitedStates4594\"), -87.911, 30.562]\n",
       " Any[String31(\"UnitedStates4595\"), -87.923, 30.521]\n",
       " Any[String31(\"UnitedStates4596\"), -87.944, 30.227]\n",
       " Any[String31(\"UnitedStates4599\"), -88.156, 30.324]\n",
       " Any[String31(\"UnitedStates4600\"), -88.063, 30.615]\n",
       " Any[String31(\"UnitedStates4601\"), -88.031, 30.679]\n",
       " Any[String31(\"UnitedStates4615\"), -88.443, 30.329]\n",
       " Any[String31(\"UnitedStates4603\"), -89.418, 30.212]\n",
       " Any[String31(\"UnitedStates4604\"), -89.26, 30.319]\n",
       " Any[String31(\"UnitedStates4605\"), -89.173, 30.335]\n",
       " ⋮\n",
       " Any[String31(\"UnitedStates4650\"), -94.923, 29.711]\n",
       " Any[String31(\"UnitedStates4651\"), -94.744, 29.374]\n",
       " Any[String31(\"UnitedStates4652\"), -93.935, 29.854]\n",
       " Any[String31(\"UnitedStates4653\"), -93.908, 29.896]\n",
       " Any[String31(\"UnitedStates4654\"), -93.885, 29.933]\n",
       " Any[String31(\"UnitedStates5591\"), -94.831, 29.332]\n",
       " Any[String31(\"UnitedStates5592\"), -94.82, 29.338]\n",
       " Any[String31(\"UnitedStates5593\"), -94.801, 29.328]\n",
       " Any[String31(\"UnitedStates5594\"), -94.783, 29.315]\n",
       " Any[String31(\"UnitedStates5595\"), -94.8, 29.298]\n",
       " Any[String31(\"UnitedStates5596\"), -94.821, 29.283]\n",
       " Any[String31(\"UnitedStates5597\"), -94.848, 29.263]"
      ]
     },
     "execution_count": 142,
     "metadata": {},
     "output_type": "execute_result"
    }
   ],
   "source": [
    "segment_gulf_list = []\n",
    "for i in range(1, size(segment_file,1))\n",
    "    lon = segment_file[i,3]\n",
    "    lat = segment_file[i,4]\n",
    "    name = segment_file[i,1]\n",
    "    if lon >= -98 && lon <= -80.551 && lat >= 25 && lat <= 31 && name[1:12] == \"UnitedStates\"\n",
    "        if !((lat >= 29.145 && lon >= -81.48) ||  (lat >= 28.069 && lon >= -80.961))\n",
    "            push!(segment_gulf_list, [name, lon, lat])\n",
    "        end\n",
    "    end\n",
    "end\n",
    "\n",
    "\n",
    "segment_gulf_list\n"
   ]
  },
  {
   "cell_type": "code",
   "execution_count": 148,
   "metadata": {},
   "outputs": [],
   "source": [
    "gulf_lat = []\n",
    "gulf_lon = []\n",
    "for n in segment_gulf_list\n",
    "    push!(gulf_lon, n[2])\n",
    "    push!(gulf_lat, n[3])\n",
    "end"
   ]
  },
  {
   "cell_type": "code",
   "execution_count": 149,
   "metadata": {},
   "outputs": [
    {
     "data": {
      "application/vnd.plotly.v1+json": {
       "config": {
        "editable": false,
        "responsive": true,
        "scrollZoom": true,
        "showLink": false,
        "staticPlot": false
       },
       "data": [
        {
         "lat": [
          30.47,
          30.675,
          30.604,
          30.562,
          30.521,
          30.227,
          30.324,
          30.615,
          30.679,
          30.329,
          30.212,
          30.319,
          30.335,
          30.366,
          30.418,
          30.417,
          30.415,
          30.394,
          30.348,
          30.361,
          30.349,
          30.338,
          30.169,
          30.023,
          30.245,
          30.364,
          30.26,
          29.271,
          30.064,
          30.218,
          29.706,
          29.986,
          29.645,
          30.221,
          30.133,
          30.288,
          30.207,
          30.147,
          30.13,
          30.121,
          30.108,
          30.034,
          30.088,
          29.715,
          30.426,
          30.284,
          30.375,
          30.434,
          30.503,
          30.456,
          30.368,
          30.395,
          30.413,
          30.419,
          30.417,
          30.415,
          30.42,
          30.441,
          30.462,
          30.486,
          30.388,
          30.321,
          30.343,
          30.379,
          30.404,
          30.409,
          30.411,
          30.397,
          30.4,
          30.399,
          30.395,
          30.364,
          30.337,
          30.325,
          29.399,
          26.703,
          26.673,
          26.636,
          26.61,
          26.568,
          26.511,
          26.498,
          26.485,
          26.468,
          26.449,
          26.382,
          26.271,
          26.188,
          26.12,
          26.02,
          25.949,
          25.422,
          27.546,
          27.521,
          27.478,
          27.421,
          27.354,
          27.319,
          27.277,
          27.229,
          27.188,
          27.015,
          26.785,
          26.957,
          26.896,
          26.875,
          26.702,
          26.533,
          26.563,
          26.602,
          26.623,
          26.673,
          26.706,
          28.11,
          27.909,
          27.66,
          27.728,
          27.883,
          27.981,
          28.003,
          27.978,
          27.964,
          27.948,
          27.924,
          27.847,
          27.769,
          27.646,
          28.354,
          28.329,
          28.287,
          28.239,
          28.183,
          26.097,
          29.083,
          29.544,
          29.563,
          29.604,
          29.667,
          29.715,
          29.716,
          28.641,
          27.955,
          28.02,
          28.333,
          28.611,
          28.687,
          27.909,
          27.891,
          27.821,
          27.844,
          27.873,
          27.803,
          27.753,
          27.668,
          27.239,
          28.128,
          28.393,
          27.841,
          27.197,
          29.221,
          29.175,
          29.396,
          29.431,
          29.469,
          29.518,
          29.697,
          29.711,
          29.374,
          29.854,
          29.896,
          29.933,
          29.332,
          29.338,
          29.328,
          29.315,
          29.298,
          29.283,
          29.263
         ],
         "lon": [
          -87.39,
          -87.961,
          -87.917,
          -87.911,
          -87.923,
          -87.944,
          -88.156,
          -88.063,
          -88.031,
          -88.443,
          -89.418,
          -89.26,
          -89.173,
          -89.061,
          -88.97,
          -88.946,
          -88.884,
          -88.809,
          -88.728,
          -88.625,
          -88.562,
          -88.528,
          -89.645,
          -90.124,
          -90.372,
          -90.082,
          -89.958,
          -89.648,
          -89.938,
          -89.803,
          -92.941,
          -93.846,
          -91.914,
          -85.88,
          -85.725,
          -85.834,
          -85.681,
          -85.649,
          -85.613,
          -85.592,
          -85.563,
          -85.409,
          -85.574,
          -85.097,
          -87.348,
          -87.492,
          -87.24,
          -87.179,
          -87.155,
          -86.941,
          -87.159,
          -86.962,
          -86.807,
          -86.723,
          -86.66,
          -86.624,
          -86.589,
          -86.549,
          -86.508,
          -86.459,
          -86.229,
          -87.272,
          -87.187,
          -86.959,
          -86.771,
          -86.688,
          -86.625,
          -86.528,
          -86.625,
          -86.688,
          -86.771,
          -86.959,
          -87.109,
          -87.193,
          -83.203,
          -81.789,
          -81.813,
          -81.842,
          -81.863,
          -81.896,
          -81.922,
          -81.957,
          -81.967,
          -81.935,
          -81.889,
          -81.855,
          -81.831,
          -81.82,
          -81.806,
          -81.758,
          -81.722,
          -81.151,
          -82.584,
          -82.588,
          -82.624,
          -82.603,
          -82.558,
          -82.545,
          -82.533,
          -82.514,
          -82.496,
          -82.421,
          -82.166,
          -82.067,
          -82.036,
          -82.042,
          -82.08,
          -81.996,
          -81.938,
          -81.92,
          -81.916,
          -81.861,
          -81.789,
          -82.768,
          -82.845,
          -82.72,
          -82.621,
          -82.634,
          -82.702,
          -82.625,
          -82.563,
          -82.527,
          -82.485,
          -82.433,
          -82.397,
          -82.417,
          -82.543,
          -82.697,
          -82.707,
          -82.724,
          -82.746,
          -82.757,
          -97.295,
          -95.134,
          -94.998,
          -95.014,
          -95.027,
          -95.046,
          -95.054,
          -95.013,
          -95.895,
          -97.085,
          -97.032,
          -96.783,
          -96.609,
          -96.255,
          -97.123,
          -97.138,
          -97.21,
          -97.313,
          -97.466,
          -97.435,
          -97.358,
          -97.287,
          -97.553,
          -96.859,
          -96.415,
          -97.051,
          -97.385,
          -94.978,
          -94.988,
          -94.891,
          -94.906,
          -94.938,
          -94.977,
          -94.957,
          -94.923,
          -94.744,
          -93.935,
          -93.908,
          -93.885,
          -94.831,
          -94.82,
          -94.801,
          -94.783,
          -94.8,
          -94.821,
          -94.848
         ],
         "marker": {
          "size": 10
         },
         "mode": "markers",
         "name": "Gulf Data",
         "type": "scattergeo"
        }
       ],
       "frames": [],
       "layout": {
        "geo": {
         "resolution": 50,
         "scope": "usa"
        },
        "height": 550,
        "margin": {
         "b": 0,
         "l": 0,
         "r": 0,
         "t": 10
        },
        "template": {
         "data": {
          "bar": [
           {
            "error_x": {
             "color": "#2a3f5f"
            },
            "error_y": {
             "color": "#2a3f5f"
            },
            "marker": {
             "line": {
              "color": "#E5ECF6",
              "width": 0.5
             }
            },
            "type": "bar"
           }
          ],
          "barpolar": [
           {
            "marker": {
             "line": {
              "color": "#E5ECF6",
              "width": 0.5
             }
            },
            "type": "barpolar"
           }
          ],
          "carpet": [
           {
            "aaxis": {
             "endlinecolor": "#2a3f5f",
             "gridcolor": "white",
             "linecolor": "white",
             "minorgridcolor": "white",
             "startlinecolor": "#2a3f5f"
            },
            "baxis": {
             "endlinecolor": "#2a3f5f",
             "gridcolor": "white",
             "linecolor": "white",
             "minorgridcolor": "white",
             "startlinecolor": "#2a3f5f"
            },
            "type": "carpet"
           }
          ],
          "choropleth": [
           {
            "colorbar": {
             "outlinewidth": 0,
             "ticks": ""
            },
            "type": "choropleth"
           }
          ],
          "contour": [
           {
            "colorbar": {
             "outlinewidth": 0,
             "ticks": ""
            },
            "colorscale": [
             [
              0,
              "#0d0887"
             ],
             [
              0.1111111111111111,
              "#46039f"
             ],
             [
              0.2222222222222222,
              "#7201a8"
             ],
             [
              0.3333333333333333,
              "#9c179e"
             ],
             [
              0.4444444444444444,
              "#bd3786"
             ],
             [
              0.5555555555555556,
              "#d8576b"
             ],
             [
              0.6666666666666666,
              "#ed7953"
             ],
             [
              0.7777777777777778,
              "#fb9f3a"
             ],
             [
              0.8888888888888888,
              "#fdca26"
             ],
             [
              1,
              "#f0f921"
             ]
            ],
            "type": "contour"
           }
          ],
          "contourcarpet": [
           {
            "colorbar": {
             "outlinewidth": 0,
             "ticks": ""
            },
            "type": "contourcarpet"
           }
          ],
          "heatmap": [
           {
            "colorbar": {
             "outlinewidth": 0,
             "ticks": ""
            },
            "colorscale": [
             [
              0,
              "#0d0887"
             ],
             [
              0.1111111111111111,
              "#46039f"
             ],
             [
              0.2222222222222222,
              "#7201a8"
             ],
             [
              0.3333333333333333,
              "#9c179e"
             ],
             [
              0.4444444444444444,
              "#bd3786"
             ],
             [
              0.5555555555555556,
              "#d8576b"
             ],
             [
              0.6666666666666666,
              "#ed7953"
             ],
             [
              0.7777777777777778,
              "#fb9f3a"
             ],
             [
              0.8888888888888888,
              "#fdca26"
             ],
             [
              1,
              "#f0f921"
             ]
            ],
            "type": "heatmap"
           }
          ],
          "heatmapgl": [
           {
            "colorbar": {
             "outlinewidth": 0,
             "ticks": ""
            },
            "colorscale": [
             [
              0,
              "#0d0887"
             ],
             [
              0.1111111111111111,
              "#46039f"
             ],
             [
              0.2222222222222222,
              "#7201a8"
             ],
             [
              0.3333333333333333,
              "#9c179e"
             ],
             [
              0.4444444444444444,
              "#bd3786"
             ],
             [
              0.5555555555555556,
              "#d8576b"
             ],
             [
              0.6666666666666666,
              "#ed7953"
             ],
             [
              0.7777777777777778,
              "#fb9f3a"
             ],
             [
              0.8888888888888888,
              "#fdca26"
             ],
             [
              1,
              "#f0f921"
             ]
            ],
            "type": "heatmapgl"
           }
          ],
          "histogram": [
           {
            "marker": {
             "colorbar": {
              "outlinewidth": 0,
              "ticks": ""
             }
            },
            "type": "histogram"
           }
          ],
          "histogram2d": [
           {
            "colorbar": {
             "outlinewidth": 0,
             "ticks": ""
            },
            "colorscale": [
             [
              0,
              "#0d0887"
             ],
             [
              0.1111111111111111,
              "#46039f"
             ],
             [
              0.2222222222222222,
              "#7201a8"
             ],
             [
              0.3333333333333333,
              "#9c179e"
             ],
             [
              0.4444444444444444,
              "#bd3786"
             ],
             [
              0.5555555555555556,
              "#d8576b"
             ],
             [
              0.6666666666666666,
              "#ed7953"
             ],
             [
              0.7777777777777778,
              "#fb9f3a"
             ],
             [
              0.8888888888888888,
              "#fdca26"
             ],
             [
              1,
              "#f0f921"
             ]
            ],
            "type": "histogram2d"
           }
          ],
          "histogram2dcontour": [
           {
            "colorbar": {
             "outlinewidth": 0,
             "ticks": ""
            },
            "colorscale": [
             [
              0,
              "#0d0887"
             ],
             [
              0.1111111111111111,
              "#46039f"
             ],
             [
              0.2222222222222222,
              "#7201a8"
             ],
             [
              0.3333333333333333,
              "#9c179e"
             ],
             [
              0.4444444444444444,
              "#bd3786"
             ],
             [
              0.5555555555555556,
              "#d8576b"
             ],
             [
              0.6666666666666666,
              "#ed7953"
             ],
             [
              0.7777777777777778,
              "#fb9f3a"
             ],
             [
              0.8888888888888888,
              "#fdca26"
             ],
             [
              1,
              "#f0f921"
             ]
            ],
            "type": "histogram2dcontour"
           }
          ],
          "mesh3d": [
           {
            "colorbar": {
             "outlinewidth": 0,
             "ticks": ""
            },
            "type": "mesh3d"
           }
          ],
          "parcoords": [
           {
            "line": {
             "colorbar": {
              "outlinewidth": 0,
              "ticks": ""
             }
            },
            "type": "parcoords"
           }
          ],
          "pie": [
           {
            "automargin": true,
            "type": "pie"
           }
          ],
          "scatter": [
           {
            "marker": {
             "colorbar": {
              "outlinewidth": 0,
              "ticks": ""
             }
            },
            "type": "scatter"
           }
          ],
          "scatter3d": [
           {
            "line": {
             "colorbar": {
              "outlinewidth": 0,
              "ticks": ""
             }
            },
            "marker": {
             "colorbar": {
              "outlinewidth": 0,
              "ticks": ""
             }
            },
            "type": "scatter3d"
           }
          ],
          "scattercarpet": [
           {
            "marker": {
             "colorbar": {
              "outlinewidth": 0,
              "ticks": ""
             }
            },
            "type": "scattercarpet"
           }
          ],
          "scattergeo": [
           {
            "marker": {
             "colorbar": {
              "outlinewidth": 0,
              "ticks": ""
             }
            },
            "type": "scattergeo"
           }
          ],
          "scattergl": [
           {
            "marker": {
             "colorbar": {
              "outlinewidth": 0,
              "ticks": ""
             }
            },
            "type": "scattergl"
           }
          ],
          "scattermapbox": [
           {
            "marker": {
             "colorbar": {
              "outlinewidth": 0,
              "ticks": ""
             }
            },
            "type": "scattermapbox"
           }
          ],
          "scatterpolar": [
           {
            "marker": {
             "colorbar": {
              "outlinewidth": 0,
              "ticks": ""
             }
            },
            "type": "scatterpolar"
           }
          ],
          "scatterpolargl": [
           {
            "marker": {
             "colorbar": {
              "outlinewidth": 0,
              "ticks": ""
             }
            },
            "type": "scatterpolargl"
           }
          ],
          "scatterternary": [
           {
            "marker": {
             "colorbar": {
              "outlinewidth": 0,
              "ticks": ""
             }
            },
            "type": "scatterternary"
           }
          ],
          "surface": [
           {
            "colorbar": {
             "outlinewidth": 0,
             "ticks": ""
            },
            "colorscale": [
             [
              0,
              "#0d0887"
             ],
             [
              0.1111111111111111,
              "#46039f"
             ],
             [
              0.2222222222222222,
              "#7201a8"
             ],
             [
              0.3333333333333333,
              "#9c179e"
             ],
             [
              0.4444444444444444,
              "#bd3786"
             ],
             [
              0.5555555555555556,
              "#d8576b"
             ],
             [
              0.6666666666666666,
              "#ed7953"
             ],
             [
              0.7777777777777778,
              "#fb9f3a"
             ],
             [
              0.8888888888888888,
              "#fdca26"
             ],
             [
              1,
              "#f0f921"
             ]
            ],
            "type": "surface"
           }
          ],
          "table": [
           {
            "cells": {
             "fill": {
              "color": "#EBF0F8"
             },
             "line": {
              "color": "white"
             }
            },
            "header": {
             "fill": {
              "color": "#C8D4E3"
             },
             "line": {
              "color": "white"
             }
            },
            "type": "table"
           }
          ]
         },
         "layout": {
          "annotationdefaults": {
           "arrowcolor": "#2a3f5f",
           "arrowhead": 0,
           "arrowwidth": 1
          },
          "autotypenumbers": "strict",
          "coloraxis": {
           "colorbar": {
            "outlinewidth": 0,
            "ticks": ""
           }
          },
          "colorscale": {
           "diverging": [
            [
             0,
             "#8e0152"
            ],
            [
             0.1,
             "#c51b7d"
            ],
            [
             0.2,
             "#de77ae"
            ],
            [
             0.3,
             "#f1b6da"
            ],
            [
             0.4,
             "#fde0ef"
            ],
            [
             0.5,
             "#f7f7f7"
            ],
            [
             0.6,
             "#e6f5d0"
            ],
            [
             0.7,
             "#b8e186"
            ],
            [
             0.8,
             "#7fbc41"
            ],
            [
             0.9,
             "#4d9221"
            ],
            [
             1,
             "#276419"
            ]
           ],
           "sequential": [
            [
             0,
             "#0d0887"
            ],
            [
             0.1111111111111111,
             "#46039f"
            ],
            [
             0.2222222222222222,
             "#7201a8"
            ],
            [
             0.3333333333333333,
             "#9c179e"
            ],
            [
             0.4444444444444444,
             "#bd3786"
            ],
            [
             0.5555555555555556,
             "#d8576b"
            ],
            [
             0.6666666666666666,
             "#ed7953"
            ],
            [
             0.7777777777777778,
             "#fb9f3a"
            ],
            [
             0.8888888888888888,
             "#fdca26"
            ],
            [
             1,
             "#f0f921"
            ]
           ],
           "sequentialminus": [
            [
             0,
             "#0d0887"
            ],
            [
             0.1111111111111111,
             "#46039f"
            ],
            [
             0.2222222222222222,
             "#7201a8"
            ],
            [
             0.3333333333333333,
             "#9c179e"
            ],
            [
             0.4444444444444444,
             "#bd3786"
            ],
            [
             0.5555555555555556,
             "#d8576b"
            ],
            [
             0.6666666666666666,
             "#ed7953"
            ],
            [
             0.7777777777777778,
             "#fb9f3a"
            ],
            [
             0.8888888888888888,
             "#fdca26"
            ],
            [
             1,
             "#f0f921"
            ]
           ]
          },
          "colorway": [
           "#636efa",
           "#EF553B",
           "#00cc96",
           "#ab63fa",
           "#FFA15A",
           "#19d3f3",
           "#FF6692",
           "#B6E880",
           "#FF97FF",
           "#FECB52"
          ],
          "font": {
           "color": "#2a3f5f"
          },
          "geo": {
           "bgcolor": "white",
           "lakecolor": "white",
           "landcolor": "#E5ECF6",
           "showlakes": true,
           "showland": true,
           "subunitcolor": "white"
          },
          "hoverlabel": {
           "align": "left"
          },
          "hovermode": "closest",
          "mapbox": {
           "style": "light"
          },
          "paper_bgcolor": "white",
          "plot_bgcolor": "#E5ECF6",
          "polar": {
           "angularaxis": {
            "gridcolor": "white",
            "linecolor": "white",
            "ticks": ""
           },
           "bgcolor": "#E5ECF6",
           "radialaxis": {
            "gridcolor": "white",
            "linecolor": "white",
            "ticks": ""
           }
          },
          "scene": {
           "xaxis": {
            "backgroundcolor": "#E5ECF6",
            "gridcolor": "white",
            "gridwidth": 2,
            "linecolor": "white",
            "showbackground": true,
            "ticks": "",
            "zerolinecolor": "white"
           },
           "yaxis": {
            "backgroundcolor": "#E5ECF6",
            "gridcolor": "white",
            "gridwidth": 2,
            "linecolor": "white",
            "showbackground": true,
            "ticks": "",
            "zerolinecolor": "white"
           },
           "zaxis": {
            "backgroundcolor": "#E5ECF6",
            "gridcolor": "white",
            "gridwidth": 2,
            "linecolor": "white",
            "showbackground": true,
            "ticks": "",
            "zerolinecolor": "white"
           }
          },
          "shapedefaults": {
           "line": {
            "color": "#2a3f5f"
           }
          },
          "ternary": {
           "aaxis": {
            "gridcolor": "white",
            "linecolor": "white",
            "ticks": ""
           },
           "baxis": {
            "gridcolor": "white",
            "linecolor": "white",
            "ticks": ""
           },
           "bgcolor": "#E5ECF6",
           "caxis": {
            "gridcolor": "white",
            "linecolor": "white",
            "ticks": ""
           }
          },
          "title": {
           "x": 0.05
          },
          "xaxis": {
           "automargin": true,
           "gridcolor": "white",
           "linecolor": "white",
           "ticks": "",
           "title": {
            "standoff": 15
           },
           "zerolinecolor": "white",
           "zerolinewidth": 2
          },
          "yaxis": {
           "automargin": true,
           "gridcolor": "white",
           "linecolor": "white",
           "ticks": "",
           "title": {
            "standoff": 15
           },
           "zerolinecolor": "white",
           "zerolinewidth": 2
          }
         }
        },
        "width": 500
       }
      },
      "text/html": [
       "<div\n",
       "    class=\"webio-mountpoint\"\n",
       "    data-webio-mountpoint=\"11554758821683737915\"\n",
       ">\n",
       "    <script>\n",
       "    (function(){\n",
       "    // Some integrations (namely, IJulia/Jupyter) use an alternate render pathway than\n",
       "    // just putting the html on the page. If WebIO isn't defined, then it's pretty likely\n",
       "    // that we're in one of those situations and the integration just isn't installed\n",
       "    // correctly.\n",
       "    if (typeof window.WebIO === \"undefined\") {\n",
       "        document\n",
       "            .querySelector('[data-webio-mountpoint=\"11554758821683737915\"]')\n",
       "            .innerHTML = (\n",
       "                '<div style=\"padding: 1em; background-color: #f8d6da; border: 1px solid #f5c6cb; font-weight: bold;\">' +\n",
       "                '<p><strong>WebIO not detected.</strong></p>' +\n",
       "                '<p>Please read ' +\n",
       "                '<a href=\"https://juliagizmos.github.io/WebIO.jl/latest/troubleshooting/not-detected/\" target=\"_blank\">the troubleshooting guide</a> ' +\n",
       "                'for more information on how to resolve this issue.</p>' +\n",
       "                '<p><a href=\"https://juliagizmos.github.io/WebIO.jl/latest/troubleshooting/not-detected/\" target=\"_blank\">https://juliagizmos.github.io/WebIO.jl/latest/troubleshooting/not-detected/</a></p>' +\n",
       "                '</div>'\n",
       "            );\n",
       "        return;\n",
       "    }\n",
       "    WebIO.mount(\n",
       "        document.querySelector('[data-webio-mountpoint=\"11554758821683737915\"]'),\n",
       "        {\"props\":{},\"nodeType\":\"Scope\",\"type\":\"node\",\"instanceArgs\":{\"imports\":{\"data\":[{\"name\":\"Plotly\",\"type\":\"js\",\"url\":\"\\/assetserver\\/d108ca0c36c41956657c77f7f8c85a31b6bcb23f-plotly.min.js\"},{\"name\":null,\"type\":\"js\",\"url\":\"\\/assetserver\\/799df427b8da150e739f02bd0a1d8d5950242fef-plotly_webio.bundle.js\"}],\"type\":\"async_block\"},\"id\":\"7050292838334188745\",\"handlers\":{\"_toImage\":[\"(function (options){return this.Plotly.toImage(this.plotElem,options).then((function (data){return WebIO.setval({\\\"name\\\":\\\"image\\\",\\\"scope\\\":\\\"7050292838334188745\\\",\\\"id\\\":\\\"2506640594413076213\\\",\\\"type\\\":\\\"observable\\\"},data)}))})\"],\"__get_gd_contents\":[\"(function (prop){prop==\\\"data\\\" ? (WebIO.setval({\\\"name\\\":\\\"__gd_contents\\\",\\\"scope\\\":\\\"7050292838334188745\\\",\\\"id\\\":\\\"11364506170416671970\\\",\\\"type\\\":\\\"observable\\\"},this.plotElem.data)) : undefined; return prop==\\\"layout\\\" ? (WebIO.setval({\\\"name\\\":\\\"__gd_contents\\\",\\\"scope\\\":\\\"7050292838334188745\\\",\\\"id\\\":\\\"11364506170416671970\\\",\\\"type\\\":\\\"observable\\\"},this.plotElem.layout)) : undefined})\"],\"_downloadImage\":[\"(function (options){return this.Plotly.downloadImage(this.plotElem,options)})\"],\"_commands\":[\"(function (args){var fn=args.shift(); var elem=this.plotElem; var Plotly=this.Plotly; args.unshift(elem); return Plotly[fn].apply(this,args)})\"]},\"systemjs_options\":null,\"mount_callbacks\":[\"function () {\\n    var handler = ((function (Plotly,PlotlyWebIO){PlotlyWebIO.init(WebIO); var gd=this.dom.querySelector(\\\"#plot-391ee09e-88af-42e4-90c2-a470063562d2\\\"); this.plotElem=gd; this.Plotly=Plotly; (window.Blink!==undefined) ? (gd.style.width=\\\"100%\\\", gd.style.height=\\\"100vh\\\", gd.style.marginLeft=\\\"0%\\\", gd.style.marginTop=\\\"0vh\\\") : undefined; window.onresize=(function (){return Plotly.Plots.resize(gd)}); Plotly.newPlot(gd,[{\\\"mode\\\":\\\"markers\\\",\\\"type\\\":\\\"scattergeo\\\",\\\"name\\\":\\\"Gulf Data\\\",\\\"lat\\\":[30.47,30.675,30.604,30.562,30.521,30.227,30.324,30.615,30.679,30.329,30.212,30.319,30.335,30.366,30.418,30.417,30.415,30.394,30.348,30.361,30.349,30.338,30.169,30.023,30.245,30.364,30.26,29.271,30.064,30.218,29.706,29.986,29.645,30.221,30.133,30.288,30.207,30.147,30.13,30.121,30.108,30.034,30.088,29.715,30.426,30.284,30.375,30.434,30.503,30.456,30.368,30.395,30.413,30.419,30.417,30.415,30.42,30.441,30.462,30.486,30.388,30.321,30.343,30.379,30.404,30.409,30.411,30.397,30.4,30.399,30.395,30.364,30.337,30.325,29.399,26.703,26.673,26.636,26.61,26.568,26.511,26.498,26.485,26.468,26.449,26.382,26.271,26.188,26.12,26.02,25.949,25.422,27.546,27.521,27.478,27.421,27.354,27.319,27.277,27.229,27.188,27.015,26.785,26.957,26.896,26.875,26.702,26.533,26.563,26.602,26.623,26.673,26.706,28.11,27.909,27.66,27.728,27.883,27.981,28.003,27.978,27.964,27.948,27.924,27.847,27.769,27.646,28.354,28.329,28.287,28.239,28.183,26.097,29.083,29.544,29.563,29.604,29.667,29.715,29.716,28.641,27.955,28.02,28.333,28.611,28.687,27.909,27.891,27.821,27.844,27.873,27.803,27.753,27.668,27.239,28.128,28.393,27.841,27.197,29.221,29.175,29.396,29.431,29.469,29.518,29.697,29.711,29.374,29.854,29.896,29.933,29.332,29.338,29.328,29.315,29.298,29.283,29.263],\\\"lon\\\":[-87.39,-87.961,-87.917,-87.911,-87.923,-87.944,-88.156,-88.063,-88.031,-88.443,-89.418,-89.26,-89.173,-89.061,-88.97,-88.946,-88.884,-88.809,-88.728,-88.625,-88.562,-88.528,-89.645,-90.124,-90.372,-90.082,-89.958,-89.648,-89.938,-89.803,-92.941,-93.846,-91.914,-85.88,-85.725,-85.834,-85.681,-85.649,-85.613,-85.592,-85.563,-85.409,-85.574,-85.097,-87.348,-87.492,-87.24,-87.179,-87.155,-86.941,-87.159,-86.962,-86.807,-86.723,-86.66,-86.624,-86.589,-86.549,-86.508,-86.459,-86.229,-87.272,-87.187,-86.959,-86.771,-86.688,-86.625,-86.528,-86.625,-86.688,-86.771,-86.959,-87.109,-87.193,-83.203,-81.789,-81.813,-81.842,-81.863,-81.896,-81.922,-81.957,-81.967,-81.935,-81.889,-81.855,-81.831,-81.82,-81.806,-81.758,-81.722,-81.151,-82.584,-82.588,-82.624,-82.603,-82.558,-82.545,-82.533,-82.514,-82.496,-82.421,-82.166,-82.067,-82.036,-82.042,-82.08,-81.996,-81.938,-81.92,-81.916,-81.861,-81.789,-82.768,-82.845,-82.72,-82.621,-82.634,-82.702,-82.625,-82.563,-82.527,-82.485,-82.433,-82.397,-82.417,-82.543,-82.697,-82.707,-82.724,-82.746,-82.757,-97.295,-95.134,-94.998,-95.014,-95.027,-95.046,-95.054,-95.013,-95.895,-97.085,-97.032,-96.783,-96.609,-96.255,-97.123,-97.138,-97.21,-97.313,-97.466,-97.435,-97.358,-97.287,-97.553,-96.859,-96.415,-97.051,-97.385,-94.978,-94.988,-94.891,-94.906,-94.938,-94.977,-94.957,-94.923,-94.744,-93.935,-93.908,-93.885,-94.831,-94.82,-94.801,-94.783,-94.8,-94.821,-94.848],\\\"marker\\\":{\\\"size\\\":10}}],{\\\"template\\\":{\\\"layout\\\":{\\\"coloraxis\\\":{\\\"colorbar\\\":{\\\"ticks\\\":\\\"\\\",\\\"outlinewidth\\\":0}},\\\"xaxis\\\":{\\\"gridcolor\\\":\\\"white\\\",\\\"zerolinewidth\\\":2,\\\"title\\\":{\\\"standoff\\\":15},\\\"ticks\\\":\\\"\\\",\\\"zerolinecolor\\\":\\\"white\\\",\\\"automargin\\\":true,\\\"linecolor\\\":\\\"white\\\"},\\\"hovermode\\\":\\\"closest\\\",\\\"paper_bgcolor\\\":\\\"white\\\",\\\"geo\\\":{\\\"showlakes\\\":true,\\\"showland\\\":true,\\\"landcolor\\\":\\\"#E5ECF6\\\",\\\"bgcolor\\\":\\\"white\\\",\\\"subunitcolor\\\":\\\"white\\\",\\\"lakecolor\\\":\\\"white\\\"},\\\"colorscale\\\":{\\\"sequential\\\":[[0.0,\\\"#0d0887\\\"],[0.1111111111111111,\\\"#46039f\\\"],[0.2222222222222222,\\\"#7201a8\\\"],[0.3333333333333333,\\\"#9c179e\\\"],[0.4444444444444444,\\\"#bd3786\\\"],[0.5555555555555556,\\\"#d8576b\\\"],[0.6666666666666666,\\\"#ed7953\\\"],[0.7777777777777778,\\\"#fb9f3a\\\"],[0.8888888888888888,\\\"#fdca26\\\"],[1.0,\\\"#f0f921\\\"]],\\\"diverging\\\":[[0,\\\"#8e0152\\\"],[0.1,\\\"#c51b7d\\\"],[0.2,\\\"#de77ae\\\"],[0.3,\\\"#f1b6da\\\"],[0.4,\\\"#fde0ef\\\"],[0.5,\\\"#f7f7f7\\\"],[0.6,\\\"#e6f5d0\\\"],[0.7,\\\"#b8e186\\\"],[0.8,\\\"#7fbc41\\\"],[0.9,\\\"#4d9221\\\"],[1,\\\"#276419\\\"]],\\\"sequentialminus\\\":[[0.0,\\\"#0d0887\\\"],[0.1111111111111111,\\\"#46039f\\\"],[0.2222222222222222,\\\"#7201a8\\\"],[0.3333333333333333,\\\"#9c179e\\\"],[0.4444444444444444,\\\"#bd3786\\\"],[0.5555555555555556,\\\"#d8576b\\\"],[0.6666666666666666,\\\"#ed7953\\\"],[0.7777777777777778,\\\"#fb9f3a\\\"],[0.8888888888888888,\\\"#fdca26\\\"],[1.0,\\\"#f0f921\\\"]]},\\\"yaxis\\\":{\\\"gridcolor\\\":\\\"white\\\",\\\"zerolinewidth\\\":2,\\\"title\\\":{\\\"standoff\\\":15},\\\"ticks\\\":\\\"\\\",\\\"zerolinecolor\\\":\\\"white\\\",\\\"automargin\\\":true,\\\"linecolor\\\":\\\"white\\\"},\\\"shapedefaults\\\":{\\\"line\\\":{\\\"color\\\":\\\"#2a3f5f\\\"}},\\\"hoverlabel\\\":{\\\"align\\\":\\\"left\\\"},\\\"mapbox\\\":{\\\"style\\\":\\\"light\\\"},\\\"polar\\\":{\\\"angularaxis\\\":{\\\"gridcolor\\\":\\\"white\\\",\\\"ticks\\\":\\\"\\\",\\\"linecolor\\\":\\\"white\\\"},\\\"bgcolor\\\":\\\"#E5ECF6\\\",\\\"radialaxis\\\":{\\\"gridcolor\\\":\\\"white\\\",\\\"ticks\\\":\\\"\\\",\\\"linecolor\\\":\\\"white\\\"}},\\\"autotypenumbers\\\":\\\"strict\\\",\\\"font\\\":{\\\"color\\\":\\\"#2a3f5f\\\"},\\\"ternary\\\":{\\\"baxis\\\":{\\\"gridcolor\\\":\\\"white\\\",\\\"ticks\\\":\\\"\\\",\\\"linecolor\\\":\\\"white\\\"},\\\"bgcolor\\\":\\\"#E5ECF6\\\",\\\"caxis\\\":{\\\"gridcolor\\\":\\\"white\\\",\\\"ticks\\\":\\\"\\\",\\\"linecolor\\\":\\\"white\\\"},\\\"aaxis\\\":{\\\"gridcolor\\\":\\\"white\\\",\\\"ticks\\\":\\\"\\\",\\\"linecolor\\\":\\\"white\\\"}},\\\"annotationdefaults\\\":{\\\"arrowhead\\\":0,\\\"arrowwidth\\\":1,\\\"arrowcolor\\\":\\\"#2a3f5f\\\"},\\\"plot_bgcolor\\\":\\\"#E5ECF6\\\",\\\"title\\\":{\\\"x\\\":0.05},\\\"scene\\\":{\\\"xaxis\\\":{\\\"gridcolor\\\":\\\"white\\\",\\\"gridwidth\\\":2,\\\"backgroundcolor\\\":\\\"#E5ECF6\\\",\\\"ticks\\\":\\\"\\\",\\\"showbackground\\\":true,\\\"zerolinecolor\\\":\\\"white\\\",\\\"linecolor\\\":\\\"white\\\"},\\\"zaxis\\\":{\\\"gridcolor\\\":\\\"white\\\",\\\"gridwidth\\\":2,\\\"backgroundcolor\\\":\\\"#E5ECF6\\\",\\\"ticks\\\":\\\"\\\",\\\"showbackground\\\":true,\\\"zerolinecolor\\\":\\\"white\\\",\\\"linecolor\\\":\\\"white\\\"},\\\"yaxis\\\":{\\\"gridcolor\\\":\\\"white\\\",\\\"gridwidth\\\":2,\\\"backgroundcolor\\\":\\\"#E5ECF6\\\",\\\"ticks\\\":\\\"\\\",\\\"showbackground\\\":true,\\\"zerolinecolor\\\":\\\"white\\\",\\\"linecolor\\\":\\\"white\\\"}},\\\"colorway\\\":[\\\"#636efa\\\",\\\"#EF553B\\\",\\\"#00cc96\\\",\\\"#ab63fa\\\",\\\"#FFA15A\\\",\\\"#19d3f3\\\",\\\"#FF6692\\\",\\\"#B6E880\\\",\\\"#FF97FF\\\",\\\"#FECB52\\\"]},\\\"data\\\":{\\\"barpolar\\\":[{\\\"type\\\":\\\"barpolar\\\",\\\"marker\\\":{\\\"line\\\":{\\\"color\\\":\\\"#E5ECF6\\\",\\\"width\\\":0.5}}}],\\\"carpet\\\":[{\\\"aaxis\\\":{\\\"gridcolor\\\":\\\"white\\\",\\\"endlinecolor\\\":\\\"#2a3f5f\\\",\\\"minorgridcolor\\\":\\\"white\\\",\\\"startlinecolor\\\":\\\"#2a3f5f\\\",\\\"linecolor\\\":\\\"white\\\"},\\\"type\\\":\\\"carpet\\\",\\\"baxis\\\":{\\\"gridcolor\\\":\\\"white\\\",\\\"endlinecolor\\\":\\\"#2a3f5f\\\",\\\"minorgridcolor\\\":\\\"white\\\",\\\"startlinecolor\\\":\\\"#2a3f5f\\\",\\\"linecolor\\\":\\\"white\\\"}}],\\\"scatterpolar\\\":[{\\\"type\\\":\\\"scatterpolar\\\",\\\"marker\\\":{\\\"colorbar\\\":{\\\"ticks\\\":\\\"\\\",\\\"outlinewidth\\\":0}}}],\\\"parcoords\\\":[{\\\"line\\\":{\\\"colorbar\\\":{\\\"ticks\\\":\\\"\\\",\\\"outlinewidth\\\":0}},\\\"type\\\":\\\"parcoords\\\"}],\\\"scatter\\\":[{\\\"type\\\":\\\"scatter\\\",\\\"marker\\\":{\\\"colorbar\\\":{\\\"ticks\\\":\\\"\\\",\\\"outlinewidth\\\":0}}}],\\\"histogram2dcontour\\\":[{\\\"colorbar\\\":{\\\"ticks\\\":\\\"\\\",\\\"outlinewidth\\\":0},\\\"type\\\":\\\"histogram2dcontour\\\",\\\"colorscale\\\":[[0.0,\\\"#0d0887\\\"],[0.1111111111111111,\\\"#46039f\\\"],[0.2222222222222222,\\\"#7201a8\\\"],[0.3333333333333333,\\\"#9c179e\\\"],[0.4444444444444444,\\\"#bd3786\\\"],[0.5555555555555556,\\\"#d8576b\\\"],[0.6666666666666666,\\\"#ed7953\\\"],[0.7777777777777778,\\\"#fb9f3a\\\"],[0.8888888888888888,\\\"#fdca26\\\"],[1.0,\\\"#f0f921\\\"]]}],\\\"contour\\\":[{\\\"colorbar\\\":{\\\"ticks\\\":\\\"\\\",\\\"outlinewidth\\\":0},\\\"type\\\":\\\"contour\\\",\\\"colorscale\\\":[[0.0,\\\"#0d0887\\\"],[0.1111111111111111,\\\"#46039f\\\"],[0.2222222222222222,\\\"#7201a8\\\"],[0.3333333333333333,\\\"#9c179e\\\"],[0.4444444444444444,\\\"#bd3786\\\"],[0.5555555555555556,\\\"#d8576b\\\"],[0.6666666666666666,\\\"#ed7953\\\"],[0.7777777777777778,\\\"#fb9f3a\\\"],[0.8888888888888888,\\\"#fdca26\\\"],[1.0,\\\"#f0f921\\\"]]}],\\\"scattercarpet\\\":[{\\\"type\\\":\\\"scattercarpet\\\",\\\"marker\\\":{\\\"colorbar\\\":{\\\"ticks\\\":\\\"\\\",\\\"outlinewidth\\\":0}}}],\\\"mesh3d\\\":[{\\\"colorbar\\\":{\\\"ticks\\\":\\\"\\\",\\\"outlinewidth\\\":0},\\\"type\\\":\\\"mesh3d\\\"}],\\\"surface\\\":[{\\\"colorbar\\\":{\\\"ticks\\\":\\\"\\\",\\\"outlinewidth\\\":0},\\\"type\\\":\\\"surface\\\",\\\"colorscale\\\":[[0.0,\\\"#0d0887\\\"],[0.1111111111111111,\\\"#46039f\\\"],[0.2222222222222222,\\\"#7201a8\\\"],[0.3333333333333333,\\\"#9c179e\\\"],[0.4444444444444444,\\\"#bd3786\\\"],[0.5555555555555556,\\\"#d8576b\\\"],[0.6666666666666666,\\\"#ed7953\\\"],[0.7777777777777778,\\\"#fb9f3a\\\"],[0.8888888888888888,\\\"#fdca26\\\"],[1.0,\\\"#f0f921\\\"]]}],\\\"scattermapbox\\\":[{\\\"type\\\":\\\"scattermapbox\\\",\\\"marker\\\":{\\\"colorbar\\\":{\\\"ticks\\\":\\\"\\\",\\\"outlinewidth\\\":0}}}],\\\"scattergeo\\\":[{\\\"type\\\":\\\"scattergeo\\\",\\\"marker\\\":{\\\"colorbar\\\":{\\\"ticks\\\":\\\"\\\",\\\"outlinewidth\\\":0}}}],\\\"histogram\\\":[{\\\"type\\\":\\\"histogram\\\",\\\"marker\\\":{\\\"colorbar\\\":{\\\"ticks\\\":\\\"\\\",\\\"outlinewidth\\\":0}}}],\\\"pie\\\":[{\\\"type\\\":\\\"pie\\\",\\\"automargin\\\":true}],\\\"choropleth\\\":[{\\\"colorbar\\\":{\\\"ticks\\\":\\\"\\\",\\\"outlinewidth\\\":0},\\\"type\\\":\\\"choropleth\\\"}],\\\"heatmapgl\\\":[{\\\"colorbar\\\":{\\\"ticks\\\":\\\"\\\",\\\"outlinewidth\\\":0},\\\"type\\\":\\\"heatmapgl\\\",\\\"colorscale\\\":[[0.0,\\\"#0d0887\\\"],[0.1111111111111111,\\\"#46039f\\\"],[0.2222222222222222,\\\"#7201a8\\\"],[0.3333333333333333,\\\"#9c179e\\\"],[0.4444444444444444,\\\"#bd3786\\\"],[0.5555555555555556,\\\"#d8576b\\\"],[0.6666666666666666,\\\"#ed7953\\\"],[0.7777777777777778,\\\"#fb9f3a\\\"],[0.8888888888888888,\\\"#fdca26\\\"],[1.0,\\\"#f0f921\\\"]]}],\\\"bar\\\":[{\\\"type\\\":\\\"bar\\\",\\\"error_y\\\":{\\\"color\\\":\\\"#2a3f5f\\\"},\\\"error_x\\\":{\\\"color\\\":\\\"#2a3f5f\\\"},\\\"marker\\\":{\\\"line\\\":{\\\"color\\\":\\\"#E5ECF6\\\",\\\"width\\\":0.5}}}],\\\"heatmap\\\":[{\\\"colorbar\\\":{\\\"ticks\\\":\\\"\\\",\\\"outlinewidth\\\":0},\\\"type\\\":\\\"heatmap\\\",\\\"colorscale\\\":[[0.0,\\\"#0d0887\\\"],[0.1111111111111111,\\\"#46039f\\\"],[0.2222222222222222,\\\"#7201a8\\\"],[0.3333333333333333,\\\"#9c179e\\\"],[0.4444444444444444,\\\"#bd3786\\\"],[0.5555555555555556,\\\"#d8576b\\\"],[0.6666666666666666,\\\"#ed7953\\\"],[0.7777777777777778,\\\"#fb9f3a\\\"],[0.8888888888888888,\\\"#fdca26\\\"],[1.0,\\\"#f0f921\\\"]]}],\\\"contourcarpet\\\":[{\\\"colorbar\\\":{\\\"ticks\\\":\\\"\\\",\\\"outlinewidth\\\":0},\\\"type\\\":\\\"contourcarpet\\\"}],\\\"table\\\":[{\\\"type\\\":\\\"table\\\",\\\"header\\\":{\\\"line\\\":{\\\"color\\\":\\\"white\\\"},\\\"fill\\\":{\\\"color\\\":\\\"#C8D4E3\\\"}},\\\"cells\\\":{\\\"line\\\":{\\\"color\\\":\\\"white\\\"},\\\"fill\\\":{\\\"color\\\":\\\"#EBF0F8\\\"}}}],\\\"scatter3d\\\":[{\\\"line\\\":{\\\"colorbar\\\":{\\\"ticks\\\":\\\"\\\",\\\"outlinewidth\\\":0}},\\\"type\\\":\\\"scatter3d\\\",\\\"marker\\\":{\\\"colorbar\\\":{\\\"ticks\\\":\\\"\\\",\\\"outlinewidth\\\":0}}}],\\\"scattergl\\\":[{\\\"type\\\":\\\"scattergl\\\",\\\"marker\\\":{\\\"colorbar\\\":{\\\"ticks\\\":\\\"\\\",\\\"outlinewidth\\\":0}}}],\\\"histogram2d\\\":[{\\\"colorbar\\\":{\\\"ticks\\\":\\\"\\\",\\\"outlinewidth\\\":0},\\\"type\\\":\\\"histogram2d\\\",\\\"colorscale\\\":[[0.0,\\\"#0d0887\\\"],[0.1111111111111111,\\\"#46039f\\\"],[0.2222222222222222,\\\"#7201a8\\\"],[0.3333333333333333,\\\"#9c179e\\\"],[0.4444444444444444,\\\"#bd3786\\\"],[0.5555555555555556,\\\"#d8576b\\\"],[0.6666666666666666,\\\"#ed7953\\\"],[0.7777777777777778,\\\"#fb9f3a\\\"],[0.8888888888888888,\\\"#fdca26\\\"],[1.0,\\\"#f0f921\\\"]]}],\\\"scatterternary\\\":[{\\\"type\\\":\\\"scatterternary\\\",\\\"marker\\\":{\\\"colorbar\\\":{\\\"ticks\\\":\\\"\\\",\\\"outlinewidth\\\":0}}}],\\\"scatterpolargl\\\":[{\\\"type\\\":\\\"scatterpolargl\\\",\\\"marker\\\":{\\\"colorbar\\\":{\\\"ticks\\\":\\\"\\\",\\\"outlinewidth\\\":0}}}]}},\\\"geo\\\":{\\\"resolution\\\":50,\\\"scope\\\":\\\"usa\\\"},\\\"margin\\\":{\\\"l\\\":0,\\\"b\\\":0,\\\"r\\\":0,\\\"t\\\":10},\\\"height\\\":550,\\\"width\\\":500},{\\\"showLink\\\":false,\\\"editable\\\":false,\\\"responsive\\\":true,\\\"staticPlot\\\":false,\\\"scrollZoom\\\":true}); gd.on(\\\"plotly_hover\\\",(function (data){var filtered_data=WebIO.PlotlyCommands.filterEventData(gd,data,\\\"hover\\\"); return !(filtered_data.isnil) ? (WebIO.setval({\\\"name\\\":\\\"hover\\\",\\\"scope\\\":\\\"7050292838334188745\\\",\\\"id\\\":\\\"189906150501070430\\\",\\\"type\\\":\\\"observable\\\"},filtered_data.out)) : undefined})); gd.on(\\\"plotly_unhover\\\",(function (){return WebIO.setval({\\\"name\\\":\\\"hover\\\",\\\"scope\\\":\\\"7050292838334188745\\\",\\\"id\\\":\\\"189906150501070430\\\",\\\"type\\\":\\\"observable\\\"},{})})); gd.on(\\\"plotly_selected\\\",(function (data){var filtered_data=WebIO.PlotlyCommands.filterEventData(gd,data,\\\"selected\\\"); return !(filtered_data.isnil) ? (WebIO.setval({\\\"name\\\":\\\"selected\\\",\\\"scope\\\":\\\"7050292838334188745\\\",\\\"id\\\":\\\"16383036348433784972\\\",\\\"type\\\":\\\"observable\\\"},filtered_data.out)) : undefined})); gd.on(\\\"plotly_deselect\\\",(function (){return WebIO.setval({\\\"name\\\":\\\"selected\\\",\\\"scope\\\":\\\"7050292838334188745\\\",\\\"id\\\":\\\"16383036348433784972\\\",\\\"type\\\":\\\"observable\\\"},{})})); gd.on(\\\"plotly_relayout\\\",(function (data){var filtered_data=WebIO.PlotlyCommands.filterEventData(gd,data,\\\"relayout\\\"); return !(filtered_data.isnil) ? (WebIO.setval({\\\"name\\\":\\\"relayout\\\",\\\"scope\\\":\\\"7050292838334188745\\\",\\\"id\\\":\\\"12696132683485507390\\\",\\\"type\\\":\\\"observable\\\"},filtered_data.out)) : undefined})); return gd.on(\\\"plotly_click\\\",(function (data){var filtered_data=WebIO.PlotlyCommands.filterEventData(gd,data,\\\"click\\\"); return !(filtered_data.isnil) ? (WebIO.setval({\\\"name\\\":\\\"click\\\",\\\"scope\\\":\\\"7050292838334188745\\\",\\\"id\\\":\\\"2442801422413798450\\\",\\\"type\\\":\\\"observable\\\"},filtered_data.out)) : undefined}))}));\\n    (WebIO.importBlock({\\\"data\\\":[{\\\"name\\\":\\\"Plotly\\\",\\\"type\\\":\\\"js\\\",\\\"url\\\":\\\"\\/assetserver\\/d108ca0c36c41956657c77f7f8c85a31b6bcb23f-plotly.min.js\\\"},{\\\"name\\\":null,\\\"type\\\":\\\"js\\\",\\\"url\\\":\\\"\\/assetserver\\/799df427b8da150e739f02bd0a1d8d5950242fef-plotly_webio.bundle.js\\\"}],\\\"type\\\":\\\"async_block\\\"})).then((imports) => handler.apply(this, imports));\\n}\\n\"],\"observables\":{\"_toImage\":{\"sync\":false,\"id\":\"17971092986381612982\",\"value\":{}},\"hover\":{\"sync\":false,\"id\":\"189906150501070430\",\"value\":{}},\"selected\":{\"sync\":false,\"id\":\"16383036348433784972\",\"value\":{}},\"__gd_contents\":{\"sync\":false,\"id\":\"11364506170416671970\",\"value\":{}},\"click\":{\"sync\":false,\"id\":\"2442801422413798450\",\"value\":{}},\"image\":{\"sync\":true,\"id\":\"2506640594413076213\",\"value\":\"\"},\"__get_gd_contents\":{\"sync\":false,\"id\":\"16885519955052251563\",\"value\":\"\"},\"_downloadImage\":{\"sync\":false,\"id\":\"9710516639073784260\",\"value\":{}},\"relayout\":{\"sync\":false,\"id\":\"12696132683485507390\",\"value\":{}},\"_commands\":{\"sync\":false,\"id\":\"13361550341319521669\",\"value\":[]}}},\"children\":[{\"props\":{\"id\":\"plot-391ee09e-88af-42e4-90c2-a470063562d2\"},\"nodeType\":\"DOM\",\"type\":\"node\",\"instanceArgs\":{\"namespace\":\"html\",\"tag\":\"div\"},\"children\":[]}]},\n",
       "        window,\n",
       "    );\n",
       "    })()\n",
       "    </script>\n",
       "</div>\n"
      ],
      "text/plain": [
       "data: [\n",
       "  \"scattergeo with fields lat, lon, marker, mode, name, and type\"\n",
       "]\n",
       "\n",
       "layout: \"layout with fields geo, height, margin, template, and width\"\n",
       "\n"
      ]
     },
     "execution_count": 149,
     "metadata": {},
     "output_type": "execute_result"
    }
   ],
   "source": [
    "using PlotlyJS, DataFrames, CSV\n",
    "function maps1()\n",
    "    marker = attr(size=10,\n",
    "                 \n",
    "                  )\n",
    "    trace = scattergeo(;mode=\"markers\", lat = gulf_lat, lon = gulf_lon,\n",
    "                        marker=marker, name=\"Gulf Data\")\n",
    "    layout = Layout(geo_scope=\"usa\", geo_resolution=50, width=500, height=550,\n",
    "                    margin=attr(l=0, r=0, t=10, b=0))\n",
    "    plot(trace, layout)\n",
    "end\n",
    "maps1()\n"
   ]
  },
  {
   "cell_type": "code",
   "execution_count": 145,
   "metadata": {},
   "outputs": [],
   "source": [
    "function delete_east_coast(gulf_list, lon, lat)\n",
    "    for i in range(1, length(gulf_list)-1)\n",
    "        if gulf_list[i][2] == lon && gulf_list[i][3] == lat\n",
    "            deleteat!(gulf_list, i)\n",
    "        end\n",
    "    end\n",
    "end\n",
    "\n",
    "delete_east_coast(segment_gulf_list, -80.551, 25.244)\n",
    "\n"
   ]
  },
  {
   "cell_type": "code",
   "execution_count": 152,
   "metadata": {},
   "outputs": [
    {
     "data": {
      "text/plain": [
       "178-element Vector{Any}:\n",
       " Any[String31(\"UnitedStates4569\"), -87.39, 30.47]\n",
       " Any[String31(\"UnitedStates4592\"), -87.961, 30.675]\n",
       " Any[String31(\"UnitedStates4593\"), -87.917, 30.604]\n",
       " Any[String31(\"UnitedStates4594\"), -87.911, 30.562]\n",
       " Any[String31(\"UnitedStates4595\"), -87.923, 30.521]\n",
       " Any[String31(\"UnitedStates4596\"), -87.944, 30.227]\n",
       " Any[String31(\"UnitedStates4599\"), -88.156, 30.324]\n",
       " Any[String31(\"UnitedStates4600\"), -88.063, 30.615]\n",
       " Any[String31(\"UnitedStates4601\"), -88.031, 30.679]\n",
       " Any[String31(\"UnitedStates4615\"), -88.443, 30.329]\n",
       " Any[String31(\"UnitedStates4603\"), -89.418, 30.212]\n",
       " Any[String31(\"UnitedStates4604\"), -89.26, 30.319]\n",
       " Any[String31(\"UnitedStates4605\"), -89.173, 30.335]\n",
       " ⋮\n",
       " Any[String31(\"UnitedStates4650\"), -94.923, 29.711]\n",
       " Any[String31(\"UnitedStates4651\"), -94.744, 29.374]\n",
       " Any[String31(\"UnitedStates4652\"), -93.935, 29.854]\n",
       " Any[String31(\"UnitedStates4653\"), -93.908, 29.896]\n",
       " Any[String31(\"UnitedStates4654\"), -93.885, 29.933]\n",
       " Any[String31(\"UnitedStates5591\"), -94.831, 29.332]\n",
       " Any[String31(\"UnitedStates5592\"), -94.82, 29.338]\n",
       " Any[String31(\"UnitedStates5593\"), -94.801, 29.328]\n",
       " Any[String31(\"UnitedStates5594\"), -94.783, 29.315]\n",
       " Any[String31(\"UnitedStates5595\"), -94.8, 29.298]\n",
       " Any[String31(\"UnitedStates5596\"), -94.821, 29.283]\n",
       " Any[String31(\"UnitedStates5597\"), -94.848, 29.263]"
      ]
     },
     "execution_count": 152,
     "metadata": {},
     "output_type": "execute_result"
    }
   ],
   "source": [
    "segment_gulf_list"
   ]
  },
  {
   "cell_type": "code",
   "execution_count": 153,
   "metadata": {},
   "outputs": [
    {
     "data": {
      "text/plain": [
       "178×1 Matrix{Vector{Any}}:\n",
       " [String31(\"UnitedStates4569\"), -87.39, 30.47]\n",
       " [String31(\"UnitedStates4592\"), -87.961, 30.675]\n",
       " [String31(\"UnitedStates4593\"), -87.917, 30.604]\n",
       " [String31(\"UnitedStates4594\"), -87.911, 30.562]\n",
       " [String31(\"UnitedStates4595\"), -87.923, 30.521]\n",
       " [String31(\"UnitedStates4596\"), -87.944, 30.227]\n",
       " [String31(\"UnitedStates4599\"), -88.156, 30.324]\n",
       " [String31(\"UnitedStates4600\"), -88.063, 30.615]\n",
       " [String31(\"UnitedStates4601\"), -88.031, 30.679]\n",
       " [String31(\"UnitedStates4615\"), -88.443, 30.329]\n",
       " [String31(\"UnitedStates4603\"), -89.418, 30.212]\n",
       " [String31(\"UnitedStates4604\"), -89.26, 30.319]\n",
       " [String31(\"UnitedStates4605\"), -89.173, 30.335]\n",
       " ⋮\n",
       " [String31(\"UnitedStates4650\"), -94.923, 29.711]\n",
       " [String31(\"UnitedStates4651\"), -94.744, 29.374]\n",
       " [String31(\"UnitedStates4652\"), -93.935, 29.854]\n",
       " [String31(\"UnitedStates4653\"), -93.908, 29.896]\n",
       " [String31(\"UnitedStates4654\"), -93.885, 29.933]\n",
       " [String31(\"UnitedStates5591\"), -94.831, 29.332]\n",
       " [String31(\"UnitedStates5592\"), -94.82, 29.338]\n",
       " [String31(\"UnitedStates5593\"), -94.801, 29.328]\n",
       " [String31(\"UnitedStates5594\"), -94.783, 29.315]\n",
       " [String31(\"UnitedStates5595\"), -94.8, 29.298]\n",
       " [String31(\"UnitedStates5596\"), -94.821, 29.283]\n",
       " [String31(\"UnitedStates5597\"), -94.848, 29.263]"
      ]
     },
     "execution_count": 153,
     "metadata": {},
     "output_type": "execute_result"
    }
   ],
   "source": [
    "hcat(segment_gulf_list)"
   ]
  },
  {
   "cell_type": "code",
   "execution_count": 159,
   "metadata": {},
   "outputs": [
    {
     "data": {
      "text/plain": [
       "\"gulf_segments.csv\""
      ]
     },
     "execution_count": 159,
     "metadata": {},
     "output_type": "execute_result"
    }
   ],
   "source": [
    "gulf_segments = []\n",
    "function add_name(entry)\n",
    "    push!(gulf_segments, entry[1])\n",
    "end\n",
    "\n",
    "\n",
    "add_name.(segment_gulf_list)\n",
    "\n",
    "CSV.write(\"gulf_segments.csv\", DataFrame(hcat(gulf_segments), :auto))\n"
   ]
  },
  {
   "cell_type": "code",
   "execution_count": null,
   "metadata": {},
   "outputs": [],
   "source": []
  }
 ],
 "metadata": {
  "kernelspec": {
   "display_name": "Julia 1.8.5",
   "language": "julia",
   "name": "julia-1.8"
  },
  "language_info": {
   "file_extension": ".jl",
   "mimetype": "application/julia",
   "name": "julia",
   "version": "1.8.5"
  },
  "orig_nbformat": 4
 },
 "nbformat": 4,
 "nbformat_minor": 2
}
