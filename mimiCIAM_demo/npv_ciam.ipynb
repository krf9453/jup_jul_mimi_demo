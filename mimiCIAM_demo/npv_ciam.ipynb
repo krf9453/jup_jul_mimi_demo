{
 "cells": [
  {
   "cell_type": "code",
   "execution_count": 265,
   "metadata": {},
   "outputs": [],
   "source": [
    "\n",
    "using MimiCIAM\n",
    "using Mimi\n",
    "using Plots\n",
    "using NetCDF\n",
    "using CSV\n",
    "using DataFrames"
   ]
  },
  {
   "cell_type": "code",
   "execution_count": 1,
   "metadata": {},
   "outputs": [
    {
     "data": {
      "text/html": [
       "<div><div style = \"float: left;\"><span>12148×4 DataFrame</span></div><div style = \"float: right;\"><span style = \"font-style: italic;\">12123 rows omitted</span></div><div style = \"clear: both;\"></div></div><div class = \"data-frame\" style = \"overflow-x: scroll;\"><table class = \"data-frame\" style = \"margin-bottom: 6px;\"><thead><tr class = \"header\"><th class = \"rowNumber\" style = \"font-weight: bold; text-align: right;\">Row</th><th style = \"text-align: left;\">segments</th><th style = \"text-align: left;\">segid</th><th style = \"text-align: left;\">longi</th><th style = \"text-align: left;\">lati</th></tr><tr class = \"subheader headerLastRow\"><th class = \"rowNumber\" style = \"font-weight: bold; text-align: right;\"></th><th title = \"String31\" style = \"text-align: left;\">String31</th><th title = \"Int64\" style = \"text-align: left;\">Int64</th><th title = \"Float64\" style = \"text-align: left;\">Float64</th><th title = \"Float64\" style = \"text-align: left;\">Float64</th></tr></thead><tbody><tr><td class = \"rowNumber\" style = \"font-weight: bold; text-align: right;\">1</td><td style = \"text-align: left;\">Canada5106</td><td style = \"text-align: right;\">5106</td><td style = \"text-align: right;\">-122.645</td><td style = \"text-align: right;\">75.918</td></tr><tr><td class = \"rowNumber\" style = \"font-weight: bold; text-align: right;\">2</td><td style = \"text-align: left;\">Canada5115</td><td style = \"text-align: right;\">5115</td><td style = \"text-align: right;\">-121.031</td><td style = \"text-align: right;\">75.891</td></tr><tr><td class = \"rowNumber\" style = \"font-weight: bold; text-align: right;\">3</td><td style = \"text-align: left;\">Canada5120</td><td style = \"text-align: right;\">5120</td><td style = \"text-align: right;\">-116.799</td><td style = \"text-align: right;\">77.534</td></tr><tr><td class = \"rowNumber\" style = \"font-weight: bold; text-align: right;\">4</td><td style = \"text-align: left;\">Canada5132</td><td style = \"text-align: right;\">5132</td><td style = \"text-align: right;\">-118.191</td><td style = \"text-align: right;\">75.968</td></tr><tr><td class = \"rowNumber\" style = \"font-weight: bold; text-align: right;\">5</td><td style = \"text-align: left;\">Canada5166</td><td style = \"text-align: right;\">5166</td><td style = \"text-align: right;\">-115.022</td><td style = \"text-align: right;\">74.963</td></tr><tr><td class = \"rowNumber\" style = \"font-weight: bold; text-align: right;\">6</td><td style = \"text-align: left;\">Canada5167</td><td style = \"text-align: right;\">5167</td><td style = \"text-align: right;\">-114.982</td><td style = \"text-align: right;\">75.853</td></tr><tr><td class = \"rowNumber\" style = \"font-weight: bold; text-align: right;\">7</td><td style = \"text-align: left;\">Canada5202</td><td style = \"text-align: right;\">5202</td><td style = \"text-align: right;\">-115.077</td><td style = \"text-align: right;\">77.939</td></tr><tr><td class = \"rowNumber\" style = \"font-weight: bold; text-align: right;\">8</td><td style = \"text-align: left;\">Canada5168</td><td style = \"text-align: right;\">5168</td><td style = \"text-align: right;\">-112.533</td><td style = \"text-align: right;\">74.995</td></tr><tr><td class = \"rowNumber\" style = \"font-weight: bold; text-align: right;\">9</td><td style = \"text-align: left;\">Canada5169</td><td style = \"text-align: right;\">5169</td><td style = \"text-align: right;\">-112.433</td><td style = \"text-align: right;\">76.163</td></tr><tr><td class = \"rowNumber\" style = \"font-weight: bold; text-align: right;\">10</td><td style = \"text-align: left;\">Canada5171</td><td style = \"text-align: right;\">5171</td><td style = \"text-align: right;\">-111.468</td><td style = \"text-align: right;\">75.838</td></tr><tr><td class = \"rowNumber\" style = \"font-weight: bold; text-align: right;\">11</td><td style = \"text-align: left;\">Canada5172</td><td style = \"text-align: right;\">5172</td><td style = \"text-align: right;\">-110.497</td><td style = \"text-align: right;\">75.569</td></tr><tr><td class = \"rowNumber\" style = \"font-weight: bold; text-align: right;\">12</td><td style = \"text-align: left;\">Canada5173</td><td style = \"text-align: right;\">5173</td><td style = \"text-align: right;\">-109.424</td><td style = \"text-align: right;\">75.518</td></tr><tr><td class = \"rowNumber\" style = \"font-weight: bold; text-align: right;\">13</td><td style = \"text-align: left;\">Canada5175</td><td style = \"text-align: right;\">5175</td><td style = \"text-align: right;\">-109.938</td><td style = \"text-align: right;\">75.857</td></tr><tr><td style = \"text-align: right;\">&vellip;</td><td style = \"text-align: right;\">&vellip;</td><td style = \"text-align: right;\">&vellip;</td><td style = \"text-align: right;\">&vellip;</td><td style = \"text-align: right;\">&vellip;</td></tr><tr><td class = \"rowNumber\" style = \"font-weight: bold; text-align: right;\">12137</td><td style = \"text-align: left;\">Peru3952</td><td style = \"text-align: right;\">3952</td><td style = \"text-align: right;\">-77.147</td><td style = \"text-align: right;\">-12.011</td></tr><tr><td class = \"rowNumber\" style = \"font-weight: bold; text-align: right;\">12138</td><td style = \"text-align: left;\">Peru3953</td><td style = \"text-align: right;\">3953</td><td style = \"text-align: right;\">-77.041</td><td style = \"text-align: right;\">-12.136</td></tr><tr><td class = \"rowNumber\" style = \"font-weight: bold; text-align: right;\">12139</td><td style = \"text-align: left;\">Peru3954</td><td style = \"text-align: right;\">3954</td><td style = \"text-align: right;\">-76.841</td><td style = \"text-align: right;\">-12.338</td></tr><tr><td class = \"rowNumber\" style = \"font-weight: bold; text-align: right;\">12140</td><td style = \"text-align: left;\">Peru3955</td><td style = \"text-align: right;\">3955</td><td style = \"text-align: right;\">-76.657</td><td style = \"text-align: right;\">-12.711</td></tr><tr><td class = \"rowNumber\" style = \"font-weight: bold; text-align: right;\">12141</td><td style = \"text-align: left;\">Peru3956</td><td style = \"text-align: right;\">3956</td><td style = \"text-align: right;\">-76.415</td><td style = \"text-align: right;\">-13.124</td></tr><tr><td class = \"rowNumber\" style = \"font-weight: bold; text-align: right;\">12142</td><td style = \"text-align: left;\">Peru3957</td><td style = \"text-align: right;\">3957</td><td style = \"text-align: right;\">-76.198</td><td style = \"text-align: right;\">-13.416</td></tr><tr><td class = \"rowNumber\" style = \"font-weight: bold; text-align: right;\">12143</td><td style = \"text-align: left;\">Peru3958</td><td style = \"text-align: right;\">3958</td><td style = \"text-align: right;\">-76.204</td><td style = \"text-align: right;\">-13.644</td></tr><tr><td class = \"rowNumber\" style = \"font-weight: bold; text-align: right;\">12144</td><td style = \"text-align: left;\">Peru3959</td><td style = \"text-align: right;\">3959</td><td style = \"text-align: right;\">-75.938</td><td style = \"text-align: right;\">-14.61</td></tr><tr><td class = \"rowNumber\" style = \"font-weight: bold; text-align: right;\">12145</td><td style = \"text-align: left;\">Peru3960</td><td style = \"text-align: right;\">3960</td><td style = \"text-align: right;\">-73.441</td><td style = \"text-align: right;\">-16.288</td></tr><tr><td class = \"rowNumber\" style = \"font-weight: bold; text-align: right;\">12146</td><td style = \"text-align: left;\">Peru3961</td><td style = \"text-align: right;\">3961</td><td style = \"text-align: right;\">-71.65</td><td style = \"text-align: right;\">-17.231</td></tr><tr><td class = \"rowNumber\" style = \"font-weight: bold; text-align: right;\">12147</td><td style = \"text-align: left;\">Peru3962</td><td style = \"text-align: right;\">3962</td><td style = \"text-align: right;\">-71.43</td><td style = \"text-align: right;\">-17.38</td></tr><tr><td class = \"rowNumber\" style = \"font-weight: bold; text-align: right;\">12148</td><td style = \"text-align: left;\">Peru3963</td><td style = \"text-align: right;\">3963</td><td style = \"text-align: right;\">-71.336</td><td style = \"text-align: right;\">-17.656</td></tr></tbody></table></div>"
      ],
      "text/latex": [
       "\\begin{tabular}{r|cccc}\n",
       "\t& segments & segid & longi & lati\\\\\n",
       "\t\\hline\n",
       "\t& String31 & Int64 & Float64 & Float64\\\\\n",
       "\t\\hline\n",
       "\t1 & Canada5106 & 5106 & -122.645 & 75.918 \\\\\n",
       "\t2 & Canada5115 & 5115 & -121.031 & 75.891 \\\\\n",
       "\t3 & Canada5120 & 5120 & -116.799 & 77.534 \\\\\n",
       "\t4 & Canada5132 & 5132 & -118.191 & 75.968 \\\\\n",
       "\t5 & Canada5166 & 5166 & -115.022 & 74.963 \\\\\n",
       "\t6 & Canada5167 & 5167 & -114.982 & 75.853 \\\\\n",
       "\t7 & Canada5202 & 5202 & -115.077 & 77.939 \\\\\n",
       "\t8 & Canada5168 & 5168 & -112.533 & 74.995 \\\\\n",
       "\t9 & Canada5169 & 5169 & -112.433 & 76.163 \\\\\n",
       "\t10 & Canada5171 & 5171 & -111.468 & 75.838 \\\\\n",
       "\t11 & Canada5172 & 5172 & -110.497 & 75.569 \\\\\n",
       "\t12 & Canada5173 & 5173 & -109.424 & 75.518 \\\\\n",
       "\t13 & Canada5175 & 5175 & -109.938 & 75.857 \\\\\n",
       "\t14 & Canada5177 & 5177 & -110.052 & 75.893 \\\\\n",
       "\t15 & Canada5178 & 5178 & -108.458 & 76.735 \\\\\n",
       "\t16 & Canada5179 & 5179 & -110.388 & 76.36 \\\\\n",
       "\t17 & Canada5180 & 5180 & -109.381 & 76.128 \\\\\n",
       "\t18 & Canada5181 & 5181 & -109.938 & 75.924 \\\\\n",
       "\t19 & Canada5203 & 5203 & -114.238 & 78.047 \\\\\n",
       "\t20 & Canada5204 & 5204 & -113.605 & 77.835 \\\\\n",
       "\t21 & Canada5218 & 5218 & -114.262 & 76.88 \\\\\n",
       "\t22 & Canada5221 & 5221 & -113.817 & 77.152 \\\\\n",
       "\t23 & Canada5265 & 5265 & -110.104 & 77.548 \\\\\n",
       "\t24 & Canada5266 & 5266 & -112.483 & 77.991 \\\\\n",
       "\t25 & Canada5267 & 5267 & -109.583 & 78.039 \\\\\n",
       "\t26 & Canada5268 & 5268 & -110.781 & 78.306 \\\\\n",
       "\t27 & Canada5269 & 5269 & -112.593 & 78.501 \\\\\n",
       "\t28 & Canada5270 & 5270 & -109.263 & 78.452 \\\\\n",
       "\t29 & Canada5170 & 5170 & -108.036 & 74.929 \\\\\n",
       "\t30 & Canada5353 & 5353 & -100.031 & 80.098 \\\\\n",
       "\t$\\dots$ & $\\dots$ & $\\dots$ & $\\dots$ & $\\dots$ \\\\\n",
       "\\end{tabular}\n"
      ],
      "text/plain": [
       "\u001b[1m12148×4 DataFrame\u001b[0m\n",
       "\u001b[1m   Row \u001b[0m│\u001b[1m segments   \u001b[0m\u001b[1m segid \u001b[0m\u001b[1m longi    \u001b[0m\u001b[1m lati    \u001b[0m\n",
       "       │\u001b[90m String31   \u001b[0m\u001b[90m Int64 \u001b[0m\u001b[90m Float64  \u001b[0m\u001b[90m Float64 \u001b[0m\n",
       "───────┼──────────────────────────────────────\n",
       "     1 │ Canada5106   5106  -122.645   75.918\n",
       "     2 │ Canada5115   5115  -121.031   75.891\n",
       "     3 │ Canada5120   5120  -116.799   77.534\n",
       "     4 │ Canada5132   5132  -118.191   75.968\n",
       "     5 │ Canada5166   5166  -115.022   74.963\n",
       "     6 │ Canada5167   5167  -114.982   75.853\n",
       "     7 │ Canada5202   5202  -115.077   77.939\n",
       "     8 │ Canada5168   5168  -112.533   74.995\n",
       "     9 │ Canada5169   5169  -112.433   76.163\n",
       "    10 │ Canada5171   5171  -111.468   75.838\n",
       "    11 │ Canada5172   5172  -110.497   75.569\n",
       "   ⋮   │     ⋮         ⋮       ⋮         ⋮\n",
       " 12139 │ Peru3954     3954   -76.841  -12.338\n",
       " 12140 │ Peru3955     3955   -76.657  -12.711\n",
       " 12141 │ Peru3956     3956   -76.415  -13.124\n",
       " 12142 │ Peru3957     3957   -76.198  -13.416\n",
       " 12143 │ Peru3958     3958   -76.204  -13.644\n",
       " 12144 │ Peru3959     3959   -75.938  -14.61\n",
       " 12145 │ Peru3960     3960   -73.441  -16.288\n",
       " 12146 │ Peru3961     3961   -71.65   -17.231\n",
       " 12147 │ Peru3962     3962   -71.43   -17.38\n",
       " 12148 │ Peru3963     3963   -71.336  -17.656\n",
       "\u001b[36m                            12127 rows omitted\u001b[0m"
      ]
     },
     "execution_count": 1,
     "metadata": {},
     "output_type": "execute_result"
    }
   ],
   "source": [
    "\n",
    "\n",
    "#reading the segment file\n",
    "segment_file = CSV.read(\"C:/Users/krfek/Downloads/gitdemo/mimiCIAM_demo/data/diva_segment_latlon.csv\", DataFrame)\n"
   ]
  },
  {
   "cell_type": "code",
   "execution_count": 142,
   "metadata": {},
   "outputs": [
    {
     "data": {
      "text/plain": [
       "179-element Vector{Any}:\n",
       " Any[String31(\"UnitedStates4569\"), -87.39, 30.47]\n",
       " Any[String31(\"UnitedStates4592\"), -87.961, 30.675]\n",
       " Any[String31(\"UnitedStates4593\"), -87.917, 30.604]\n",
       " Any[String31(\"UnitedStates4594\"), -87.911, 30.562]\n",
       " Any[String31(\"UnitedStates4595\"), -87.923, 30.521]\n",
       " Any[String31(\"UnitedStates4596\"), -87.944, 30.227]\n",
       " Any[String31(\"UnitedStates4599\"), -88.156, 30.324]\n",
       " Any[String31(\"UnitedStates4600\"), -88.063, 30.615]\n",
       " Any[String31(\"UnitedStates4601\"), -88.031, 30.679]\n",
       " Any[String31(\"UnitedStates4615\"), -88.443, 30.329]\n",
       " Any[String31(\"UnitedStates4603\"), -89.418, 30.212]\n",
       " Any[String31(\"UnitedStates4604\"), -89.26, 30.319]\n",
       " Any[String31(\"UnitedStates4605\"), -89.173, 30.335]\n",
       " ⋮\n",
       " Any[String31(\"UnitedStates4650\"), -94.923, 29.711]\n",
       " Any[String31(\"UnitedStates4651\"), -94.744, 29.374]\n",
       " Any[String31(\"UnitedStates4652\"), -93.935, 29.854]\n",
       " Any[String31(\"UnitedStates4653\"), -93.908, 29.896]\n",
       " Any[String31(\"UnitedStates4654\"), -93.885, 29.933]\n",
       " Any[String31(\"UnitedStates5591\"), -94.831, 29.332]\n",
       " Any[String31(\"UnitedStates5592\"), -94.82, 29.338]\n",
       " Any[String31(\"UnitedStates5593\"), -94.801, 29.328]\n",
       " Any[String31(\"UnitedStates5594\"), -94.783, 29.315]\n",
       " Any[String31(\"UnitedStates5595\"), -94.8, 29.298]\n",
       " Any[String31(\"UnitedStates5596\"), -94.821, 29.283]\n",
       " Any[String31(\"UnitedStates5597\"), -94.848, 29.263]"
      ]
     },
     "execution_count": 142,
     "metadata": {},
     "output_type": "execute_result"
    }
   ],
   "source": [
    "#get the segments on the gulf coast\n",
    "segment_gulf_list = []\n",
    "for i in range(1, size(segment_file,1))\n",
    "    lon = segment_file[i,3]\n",
    "    lat = segment_file[i,4]\n",
    "    name = segment_file[i,1]\n",
    "    if lon >= -98 && lon <= -80.551 && lat >= 25 && lat <= 31 && name[1:12] == \"UnitedStates\"\n",
    "        if !((lat >= 29.145 && lon >= -81.48) ||  (lat >= 28.069 && lon >= -80.961))\n",
    "            push!(segment_gulf_list, [name, lon, lat])\n",
    "        end\n",
    "    end\n",
    "end\n",
    "\n",
    "\n",
    "segment_gulf_list\n"
   ]
  },
  {
   "cell_type": "code",
   "execution_count": 148,
   "metadata": {},
   "outputs": [],
   "source": [
    "gulf_lat = []\n",
    "gulf_lon = []\n",
    "for n in segment_gulf_list\n",
    "    push!(gulf_lon, n[2])\n",
    "    push!(gulf_lat, n[3])\n",
    "end"
   ]
  },
  {
   "cell_type": "code",
   "execution_count": 149,
   "metadata": {},
   "outputs": [
    {
     "data": {
      "application/vnd.plotly.v1+json": {
       "config": {
        "editable": false,
        "responsive": true,
        "scrollZoom": true,
        "showLink": false,
        "staticPlot": false
       },
       "data": [
        {
         "lat": [
          30.47,
          30.675,
          30.604,
          30.562,
          30.521,
          30.227,
          30.324,
          30.615,
          30.679,
          30.329,
          30.212,
          30.319,
          30.335,
          30.366,
          30.418,
          30.417,
          30.415,
          30.394,
          30.348,
          30.361,
          30.349,
          30.338,
          30.169,
          30.023,
          30.245,
          30.364,
          30.26,
          29.271,
          30.064,
          30.218,
          29.706,
          29.986,
          29.645,
          30.221,
          30.133,
          30.288,
          30.207,
          30.147,
          30.13,
          30.121,
          30.108,
          30.034,
          30.088,
          29.715,
          30.426,
          30.284,
          30.375,
          30.434,
          30.503,
          30.456,
          30.368,
          30.395,
          30.413,
          30.419,
          30.417,
          30.415,
          30.42,
          30.441,
          30.462,
          30.486,
          30.388,
          30.321,
          30.343,
          30.379,
          30.404,
          30.409,
          30.411,
          30.397,
          30.4,
          30.399,
          30.395,
          30.364,
          30.337,
          30.325,
          29.399,
          26.703,
          26.673,
          26.636,
          26.61,
          26.568,
          26.511,
          26.498,
          26.485,
          26.468,
          26.449,
          26.382,
          26.271,
          26.188,
          26.12,
          26.02,
          25.949,
          25.422,
          27.546,
          27.521,
          27.478,
          27.421,
          27.354,
          27.319,
          27.277,
          27.229,
          27.188,
          27.015,
          26.785,
          26.957,
          26.896,
          26.875,
          26.702,
          26.533,
          26.563,
          26.602,
          26.623,
          26.673,
          26.706,
          28.11,
          27.909,
          27.66,
          27.728,
          27.883,
          27.981,
          28.003,
          27.978,
          27.964,
          27.948,
          27.924,
          27.847,
          27.769,
          27.646,
          28.354,
          28.329,
          28.287,
          28.239,
          28.183,
          26.097,
          29.083,
          29.544,
          29.563,
          29.604,
          29.667,
          29.715,
          29.716,
          28.641,
          27.955,
          28.02,
          28.333,
          28.611,
          28.687,
          27.909,
          27.891,
          27.821,
          27.844,
          27.873,
          27.803,
          27.753,
          27.668,
          27.239,
          28.128,
          28.393,
          27.841,
          27.197,
          29.221,
          29.175,
          29.396,
          29.431,
          29.469,
          29.518,
          29.697,
          29.711,
          29.374,
          29.854,
          29.896,
          29.933,
          29.332,
          29.338,
          29.328,
          29.315,
          29.298,
          29.283,
          29.263
         ],
         "lon": [
          -87.39,
          -87.961,
          -87.917,
          -87.911,
          -87.923,
          -87.944,
          -88.156,
          -88.063,
          -88.031,
          -88.443,
          -89.418,
          -89.26,
          -89.173,
          -89.061,
          -88.97,
          -88.946,
          -88.884,
          -88.809,
          -88.728,
          -88.625,
          -88.562,
          -88.528,
          -89.645,
          -90.124,
          -90.372,
          -90.082,
          -89.958,
          -89.648,
          -89.938,
          -89.803,
          -92.941,
          -93.846,
          -91.914,
          -85.88,
          -85.725,
          -85.834,
          -85.681,
          -85.649,
          -85.613,
          -85.592,
          -85.563,
          -85.409,
          -85.574,
          -85.097,
          -87.348,
          -87.492,
          -87.24,
          -87.179,
          -87.155,
          -86.941,
          -87.159,
          -86.962,
          -86.807,
          -86.723,
          -86.66,
          -86.624,
          -86.589,
          -86.549,
          -86.508,
          -86.459,
          -86.229,
          -87.272,
          -87.187,
          -86.959,
          -86.771,
          -86.688,
          -86.625,
          -86.528,
          -86.625,
          -86.688,
          -86.771,
          -86.959,
          -87.109,
          -87.193,
          -83.203,
          -81.789,
          -81.813,
          -81.842,
          -81.863,
          -81.896,
          -81.922,
          -81.957,
          -81.967,
          -81.935,
          -81.889,
          -81.855,
          -81.831,
          -81.82,
          -81.806,
          -81.758,
          -81.722,
          -81.151,
          -82.584,
          -82.588,
          -82.624,
          -82.603,
          -82.558,
          -82.545,
          -82.533,
          -82.514,
          -82.496,
          -82.421,
          -82.166,
          -82.067,
          -82.036,
          -82.042,
          -82.08,
          -81.996,
          -81.938,
          -81.92,
          -81.916,
          -81.861,
          -81.789,
          -82.768,
          -82.845,
          -82.72,
          -82.621,
          -82.634,
          -82.702,
          -82.625,
          -82.563,
          -82.527,
          -82.485,
          -82.433,
          -82.397,
          -82.417,
          -82.543,
          -82.697,
          -82.707,
          -82.724,
          -82.746,
          -82.757,
          -97.295,
          -95.134,
          -94.998,
          -95.014,
          -95.027,
          -95.046,
          -95.054,
          -95.013,
          -95.895,
          -97.085,
          -97.032,
          -96.783,
          -96.609,
          -96.255,
          -97.123,
          -97.138,
          -97.21,
          -97.313,
          -97.466,
          -97.435,
          -97.358,
          -97.287,
          -97.553,
          -96.859,
          -96.415,
          -97.051,
          -97.385,
          -94.978,
          -94.988,
          -94.891,
          -94.906,
          -94.938,
          -94.977,
          -94.957,
          -94.923,
          -94.744,
          -93.935,
          -93.908,
          -93.885,
          -94.831,
          -94.82,
          -94.801,
          -94.783,
          -94.8,
          -94.821,
          -94.848
         ],
         "marker": {
          "size": 10
         },
         "mode": "markers",
         "name": "Gulf Data",
         "type": "scattergeo"
        }
       ],
       "frames": [],
       "layout": {
        "geo": {
         "resolution": 50,
         "scope": "usa"
        },
        "height": 550,
        "margin": {
         "b": 0,
         "l": 0,
         "r": 0,
         "t": 10
        },
        "template": {
         "data": {
          "bar": [
           {
            "error_x": {
             "color": "#2a3f5f"
            },
            "error_y": {
             "color": "#2a3f5f"
            },
            "marker": {
             "line": {
              "color": "#E5ECF6",
              "width": 0.5
             }
            },
            "type": "bar"
           }
          ],
          "barpolar": [
           {
            "marker": {
             "line": {
              "color": "#E5ECF6",
              "width": 0.5
             }
            },
            "type": "barpolar"
           }
          ],
          "carpet": [
           {
            "aaxis": {
             "endlinecolor": "#2a3f5f",
             "gridcolor": "white",
             "linecolor": "white",
             "minorgridcolor": "white",
             "startlinecolor": "#2a3f5f"
            },
            "baxis": {
             "endlinecolor": "#2a3f5f",
             "gridcolor": "white",
             "linecolor": "white",
             "minorgridcolor": "white",
             "startlinecolor": "#2a3f5f"
            },
            "type": "carpet"
           }
          ],
          "choropleth": [
           {
            "colorbar": {
             "outlinewidth": 0,
             "ticks": ""
            },
            "type": "choropleth"
           }
          ],
          "contour": [
           {
            "colorbar": {
             "outlinewidth": 0,
             "ticks": ""
            },
            "colorscale": [
             [
              0,
              "#0d0887"
             ],
             [
              0.1111111111111111,
              "#46039f"
             ],
             [
              0.2222222222222222,
              "#7201a8"
             ],
             [
              0.3333333333333333,
              "#9c179e"
             ],
             [
              0.4444444444444444,
              "#bd3786"
             ],
             [
              0.5555555555555556,
              "#d8576b"
             ],
             [
              0.6666666666666666,
              "#ed7953"
             ],
             [
              0.7777777777777778,
              "#fb9f3a"
             ],
             [
              0.8888888888888888,
              "#fdca26"
             ],
             [
              1,
              "#f0f921"
             ]
            ],
            "type": "contour"
           }
          ],
          "contourcarpet": [
           {
            "colorbar": {
             "outlinewidth": 0,
             "ticks": ""
            },
            "type": "contourcarpet"
           }
          ],
          "heatmap": [
           {
            "colorbar": {
             "outlinewidth": 0,
             "ticks": ""
            },
            "colorscale": [
             [
              0,
              "#0d0887"
             ],
             [
              0.1111111111111111,
              "#46039f"
             ],
             [
              0.2222222222222222,
              "#7201a8"
             ],
             [
              0.3333333333333333,
              "#9c179e"
             ],
             [
              0.4444444444444444,
              "#bd3786"
             ],
             [
              0.5555555555555556,
              "#d8576b"
             ],
             [
              0.6666666666666666,
              "#ed7953"
             ],
             [
              0.7777777777777778,
              "#fb9f3a"
             ],
             [
              0.8888888888888888,
              "#fdca26"
             ],
             [
              1,
              "#f0f921"
             ]
            ],
            "type": "heatmap"
           }
          ],
          "heatmapgl": [
           {
            "colorbar": {
             "outlinewidth": 0,
             "ticks": ""
            },
            "colorscale": [
             [
              0,
              "#0d0887"
             ],
             [
              0.1111111111111111,
              "#46039f"
             ],
             [
              0.2222222222222222,
              "#7201a8"
             ],
             [
              0.3333333333333333,
              "#9c179e"
             ],
             [
              0.4444444444444444,
              "#bd3786"
             ],
             [
              0.5555555555555556,
              "#d8576b"
             ],
             [
              0.6666666666666666,
              "#ed7953"
             ],
             [
              0.7777777777777778,
              "#fb9f3a"
             ],
             [
              0.8888888888888888,
              "#fdca26"
             ],
             [
              1,
              "#f0f921"
             ]
            ],
            "type": "heatmapgl"
           }
          ],
          "histogram": [
           {
            "marker": {
             "colorbar": {
              "outlinewidth": 0,
              "ticks": ""
             }
            },
            "type": "histogram"
           }
          ],
          "histogram2d": [
           {
            "colorbar": {
             "outlinewidth": 0,
             "ticks": ""
            },
            "colorscale": [
             [
              0,
              "#0d0887"
             ],
             [
              0.1111111111111111,
              "#46039f"
             ],
             [
              0.2222222222222222,
              "#7201a8"
             ],
             [
              0.3333333333333333,
              "#9c179e"
             ],
             [
              0.4444444444444444,
              "#bd3786"
             ],
             [
              0.5555555555555556,
              "#d8576b"
             ],
             [
              0.6666666666666666,
              "#ed7953"
             ],
             [
              0.7777777777777778,
              "#fb9f3a"
             ],
             [
              0.8888888888888888,
              "#fdca26"
             ],
             [
              1,
              "#f0f921"
             ]
            ],
            "type": "histogram2d"
           }
          ],
          "histogram2dcontour": [
           {
            "colorbar": {
             "outlinewidth": 0,
             "ticks": ""
            },
            "colorscale": [
             [
              0,
              "#0d0887"
             ],
             [
              0.1111111111111111,
              "#46039f"
             ],
             [
              0.2222222222222222,
              "#7201a8"
             ],
             [
              0.3333333333333333,
              "#9c179e"
             ],
             [
              0.4444444444444444,
              "#bd3786"
             ],
             [
              0.5555555555555556,
              "#d8576b"
             ],
             [
              0.6666666666666666,
              "#ed7953"
             ],
             [
              0.7777777777777778,
              "#fb9f3a"
             ],
             [
              0.8888888888888888,
              "#fdca26"
             ],
             [
              1,
              "#f0f921"
             ]
            ],
            "type": "histogram2dcontour"
           }
          ],
          "mesh3d": [
           {
            "colorbar": {
             "outlinewidth": 0,
             "ticks": ""
            },
            "type": "mesh3d"
           }
          ],
          "parcoords": [
           {
            "line": {
             "colorbar": {
              "outlinewidth": 0,
              "ticks": ""
             }
            },
            "type": "parcoords"
           }
          ],
          "pie": [
           {
            "automargin": true,
            "type": "pie"
           }
          ],
          "scatter": [
           {
            "marker": {
             "colorbar": {
              "outlinewidth": 0,
              "ticks": ""
             }
            },
            "type": "scatter"
           }
          ],
          "scatter3d": [
           {
            "line": {
             "colorbar": {
              "outlinewidth": 0,
              "ticks": ""
             }
            },
            "marker": {
             "colorbar": {
              "outlinewidth": 0,
              "ticks": ""
             }
            },
            "type": "scatter3d"
           }
          ],
          "scattercarpet": [
           {
            "marker": {
             "colorbar": {
              "outlinewidth": 0,
              "ticks": ""
             }
            },
            "type": "scattercarpet"
           }
          ],
          "scattergeo": [
           {
            "marker": {
             "colorbar": {
              "outlinewidth": 0,
              "ticks": ""
             }
            },
            "type": "scattergeo"
           }
          ],
          "scattergl": [
           {
            "marker": {
             "colorbar": {
              "outlinewidth": 0,
              "ticks": ""
             }
            },
            "type": "scattergl"
           }
          ],
          "scattermapbox": [
           {
            "marker": {
             "colorbar": {
              "outlinewidth": 0,
              "ticks": ""
             }
            },
            "type": "scattermapbox"
           }
          ],
          "scatterpolar": [
           {
            "marker": {
             "colorbar": {
              "outlinewidth": 0,
              "ticks": ""
             }
            },
            "type": "scatterpolar"
           }
          ],
          "scatterpolargl": [
           {
            "marker": {
             "colorbar": {
              "outlinewidth": 0,
              "ticks": ""
             }
            },
            "type": "scatterpolargl"
           }
          ],
          "scatterternary": [
           {
            "marker": {
             "colorbar": {
              "outlinewidth": 0,
              "ticks": ""
             }
            },
            "type": "scatterternary"
           }
          ],
          "surface": [
           {
            "colorbar": {
             "outlinewidth": 0,
             "ticks": ""
            },
            "colorscale": [
             [
              0,
              "#0d0887"
             ],
             [
              0.1111111111111111,
              "#46039f"
             ],
             [
              0.2222222222222222,
              "#7201a8"
             ],
             [
              0.3333333333333333,
              "#9c179e"
             ],
             [
              0.4444444444444444,
              "#bd3786"
             ],
             [
              0.5555555555555556,
              "#d8576b"
             ],
             [
              0.6666666666666666,
              "#ed7953"
             ],
             [
              0.7777777777777778,
              "#fb9f3a"
             ],
             [
              0.8888888888888888,
              "#fdca26"
             ],
             [
              1,
              "#f0f921"
             ]
            ],
            "type": "surface"
           }
          ],
          "table": [
           {
            "cells": {
             "fill": {
              "color": "#EBF0F8"
             },
             "line": {
              "color": "white"
             }
            },
            "header": {
             "fill": {
              "color": "#C8D4E3"
             },
             "line": {
              "color": "white"
             }
            },
            "type": "table"
           }
          ]
         },
         "layout": {
          "annotationdefaults": {
           "arrowcolor": "#2a3f5f",
           "arrowhead": 0,
           "arrowwidth": 1
          },
          "autotypenumbers": "strict",
          "coloraxis": {
           "colorbar": {
            "outlinewidth": 0,
            "ticks": ""
           }
          },
          "colorscale": {
           "diverging": [
            [
             0,
             "#8e0152"
            ],
            [
             0.1,
             "#c51b7d"
            ],
            [
             0.2,
             "#de77ae"
            ],
            [
             0.3,
             "#f1b6da"
            ],
            [
             0.4,
             "#fde0ef"
            ],
            [
             0.5,
             "#f7f7f7"
            ],
            [
             0.6,
             "#e6f5d0"
            ],
            [
             0.7,
             "#b8e186"
            ],
            [
             0.8,
             "#7fbc41"
            ],
            [
             0.9,
             "#4d9221"
            ],
            [
             1,
             "#276419"
            ]
           ],
           "sequential": [
            [
             0,
             "#0d0887"
            ],
            [
             0.1111111111111111,
             "#46039f"
            ],
            [
             0.2222222222222222,
             "#7201a8"
            ],
            [
             0.3333333333333333,
             "#9c179e"
            ],
            [
             0.4444444444444444,
             "#bd3786"
            ],
            [
             0.5555555555555556,
             "#d8576b"
            ],
            [
             0.6666666666666666,
             "#ed7953"
            ],
            [
             0.7777777777777778,
             "#fb9f3a"
            ],
            [
             0.8888888888888888,
             "#fdca26"
            ],
            [
             1,
             "#f0f921"
            ]
           ],
           "sequentialminus": [
            [
             0,
             "#0d0887"
            ],
            [
             0.1111111111111111,
             "#46039f"
            ],
            [
             0.2222222222222222,
             "#7201a8"
            ],
            [
             0.3333333333333333,
             "#9c179e"
            ],
            [
             0.4444444444444444,
             "#bd3786"
            ],
            [
             0.5555555555555556,
             "#d8576b"
            ],
            [
             0.6666666666666666,
             "#ed7953"
            ],
            [
             0.7777777777777778,
             "#fb9f3a"
            ],
            [
             0.8888888888888888,
             "#fdca26"
            ],
            [
             1,
             "#f0f921"
            ]
           ]
          },
          "colorway": [
           "#636efa",
           "#EF553B",
           "#00cc96",
           "#ab63fa",
           "#FFA15A",
           "#19d3f3",
           "#FF6692",
           "#B6E880",
           "#FF97FF",
           "#FECB52"
          ],
          "font": {
           "color": "#2a3f5f"
          },
          "geo": {
           "bgcolor": "white",
           "lakecolor": "white",
           "landcolor": "#E5ECF6",
           "showlakes": true,
           "showland": true,
           "subunitcolor": "white"
          },
          "hoverlabel": {
           "align": "left"
          },
          "hovermode": "closest",
          "mapbox": {
           "style": "light"
          },
          "paper_bgcolor": "white",
          "plot_bgcolor": "#E5ECF6",
          "polar": {
           "angularaxis": {
            "gridcolor": "white",
            "linecolor": "white",
            "ticks": ""
           },
           "bgcolor": "#E5ECF6",
           "radialaxis": {
            "gridcolor": "white",
            "linecolor": "white",
            "ticks": ""
           }
          },
          "scene": {
           "xaxis": {
            "backgroundcolor": "#E5ECF6",
            "gridcolor": "white",
            "gridwidth": 2,
            "linecolor": "white",
            "showbackground": true,
            "ticks": "",
            "zerolinecolor": "white"
           },
           "yaxis": {
            "backgroundcolor": "#E5ECF6",
            "gridcolor": "white",
            "gridwidth": 2,
            "linecolor": "white",
            "showbackground": true,
            "ticks": "",
            "zerolinecolor": "white"
           },
           "zaxis": {
            "backgroundcolor": "#E5ECF6",
            "gridcolor": "white",
            "gridwidth": 2,
            "linecolor": "white",
            "showbackground": true,
            "ticks": "",
            "zerolinecolor": "white"
           }
          },
          "shapedefaults": {
           "line": {
            "color": "#2a3f5f"
           }
          },
          "ternary": {
           "aaxis": {
            "gridcolor": "white",
            "linecolor": "white",
            "ticks": ""
           },
           "baxis": {
            "gridcolor": "white",
            "linecolor": "white",
            "ticks": ""
           },
           "bgcolor": "#E5ECF6",
           "caxis": {
            "gridcolor": "white",
            "linecolor": "white",
            "ticks": ""
           }
          },
          "title": {
           "x": 0.05
          },
          "xaxis": {
           "automargin": true,
           "gridcolor": "white",
           "linecolor": "white",
           "ticks": "",
           "title": {
            "standoff": 15
           },
           "zerolinecolor": "white",
           "zerolinewidth": 2
          },
          "yaxis": {
           "automargin": true,
           "gridcolor": "white",
           "linecolor": "white",
           "ticks": "",
           "title": {
            "standoff": 15
           },
           "zerolinecolor": "white",
           "zerolinewidth": 2
          }
         }
        },
        "width": 500
       }
      },
      "text/html": [
       "<div\n",
       "    class=\"webio-mountpoint\"\n",
       "    data-webio-mountpoint=\"11554758821683737915\"\n",
       ">\n",
       "    <script>\n",
       "    (function(){\n",
       "    // Some integrations (namely, IJulia/Jupyter) use an alternate render pathway than\n",
       "    // just putting the html on the page. If WebIO isn't defined, then it's pretty likely\n",
       "    // that we're in one of those situations and the integration just isn't installed\n",
       "    // correctly.\n",
       "    if (typeof window.WebIO === \"undefined\") {\n",
       "        document\n",
       "            .querySelector('[data-webio-mountpoint=\"11554758821683737915\"]')\n",
       "            .innerHTML = (\n",
       "                '<div style=\"padding: 1em; background-color: #f8d6da; border: 1px solid #f5c6cb; font-weight: bold;\">' +\n",
       "                '<p><strong>WebIO not detected.</strong></p>' +\n",
       "                '<p>Please read ' +\n",
       "                '<a href=\"https://juliagizmos.github.io/WebIO.jl/latest/troubleshooting/not-detected/\" target=\"_blank\">the troubleshooting guide</a> ' +\n",
       "                'for more information on how to resolve this issue.</p>' +\n",
       "                '<p><a href=\"https://juliagizmos.github.io/WebIO.jl/latest/troubleshooting/not-detected/\" target=\"_blank\">https://juliagizmos.github.io/WebIO.jl/latest/troubleshooting/not-detected/</a></p>' +\n",
       "                '</div>'\n",
       "            );\n",
       "        return;\n",
       "    }\n",
       "    WebIO.mount(\n",
       "        document.querySelector('[data-webio-mountpoint=\"11554758821683737915\"]'),\n",
       "        {\"props\":{},\"nodeType\":\"Scope\",\"type\":\"node\",\"instanceArgs\":{\"imports\":{\"data\":[{\"name\":\"Plotly\",\"type\":\"js\",\"url\":\"\\/assetserver\\/d108ca0c36c41956657c77f7f8c85a31b6bcb23f-plotly.min.js\"},{\"name\":null,\"type\":\"js\",\"url\":\"\\/assetserver\\/799df427b8da150e739f02bd0a1d8d5950242fef-plotly_webio.bundle.js\"}],\"type\":\"async_block\"},\"id\":\"7050292838334188745\",\"handlers\":{\"_toImage\":[\"(function (options){return this.Plotly.toImage(this.plotElem,options).then((function (data){return WebIO.setval({\\\"name\\\":\\\"image\\\",\\\"scope\\\":\\\"7050292838334188745\\\",\\\"id\\\":\\\"2506640594413076213\\\",\\\"type\\\":\\\"observable\\\"},data)}))})\"],\"__get_gd_contents\":[\"(function (prop){prop==\\\"data\\\" ? (WebIO.setval({\\\"name\\\":\\\"__gd_contents\\\",\\\"scope\\\":\\\"7050292838334188745\\\",\\\"id\\\":\\\"11364506170416671970\\\",\\\"type\\\":\\\"observable\\\"},this.plotElem.data)) : undefined; return prop==\\\"layout\\\" ? (WebIO.setval({\\\"name\\\":\\\"__gd_contents\\\",\\\"scope\\\":\\\"7050292838334188745\\\",\\\"id\\\":\\\"11364506170416671970\\\",\\\"type\\\":\\\"observable\\\"},this.plotElem.layout)) : undefined})\"],\"_downloadImage\":[\"(function (options){return this.Plotly.downloadImage(this.plotElem,options)})\"],\"_commands\":[\"(function (args){var fn=args.shift(); var elem=this.plotElem; var Plotly=this.Plotly; args.unshift(elem); return Plotly[fn].apply(this,args)})\"]},\"systemjs_options\":null,\"mount_callbacks\":[\"function () {\\n    var handler = ((function (Plotly,PlotlyWebIO){PlotlyWebIO.init(WebIO); var gd=this.dom.querySelector(\\\"#plot-391ee09e-88af-42e4-90c2-a470063562d2\\\"); this.plotElem=gd; this.Plotly=Plotly; (window.Blink!==undefined) ? (gd.style.width=\\\"100%\\\", gd.style.height=\\\"100vh\\\", gd.style.marginLeft=\\\"0%\\\", gd.style.marginTop=\\\"0vh\\\") : undefined; window.onresize=(function (){return Plotly.Plots.resize(gd)}); Plotly.newPlot(gd,[{\\\"mode\\\":\\\"markers\\\",\\\"type\\\":\\\"scattergeo\\\",\\\"name\\\":\\\"Gulf Data\\\",\\\"lat\\\":[30.47,30.675,30.604,30.562,30.521,30.227,30.324,30.615,30.679,30.329,30.212,30.319,30.335,30.366,30.418,30.417,30.415,30.394,30.348,30.361,30.349,30.338,30.169,30.023,30.245,30.364,30.26,29.271,30.064,30.218,29.706,29.986,29.645,30.221,30.133,30.288,30.207,30.147,30.13,30.121,30.108,30.034,30.088,29.715,30.426,30.284,30.375,30.434,30.503,30.456,30.368,30.395,30.413,30.419,30.417,30.415,30.42,30.441,30.462,30.486,30.388,30.321,30.343,30.379,30.404,30.409,30.411,30.397,30.4,30.399,30.395,30.364,30.337,30.325,29.399,26.703,26.673,26.636,26.61,26.568,26.511,26.498,26.485,26.468,26.449,26.382,26.271,26.188,26.12,26.02,25.949,25.422,27.546,27.521,27.478,27.421,27.354,27.319,27.277,27.229,27.188,27.015,26.785,26.957,26.896,26.875,26.702,26.533,26.563,26.602,26.623,26.673,26.706,28.11,27.909,27.66,27.728,27.883,27.981,28.003,27.978,27.964,27.948,27.924,27.847,27.769,27.646,28.354,28.329,28.287,28.239,28.183,26.097,29.083,29.544,29.563,29.604,29.667,29.715,29.716,28.641,27.955,28.02,28.333,28.611,28.687,27.909,27.891,27.821,27.844,27.873,27.803,27.753,27.668,27.239,28.128,28.393,27.841,27.197,29.221,29.175,29.396,29.431,29.469,29.518,29.697,29.711,29.374,29.854,29.896,29.933,29.332,29.338,29.328,29.315,29.298,29.283,29.263],\\\"lon\\\":[-87.39,-87.961,-87.917,-87.911,-87.923,-87.944,-88.156,-88.063,-88.031,-88.443,-89.418,-89.26,-89.173,-89.061,-88.97,-88.946,-88.884,-88.809,-88.728,-88.625,-88.562,-88.528,-89.645,-90.124,-90.372,-90.082,-89.958,-89.648,-89.938,-89.803,-92.941,-93.846,-91.914,-85.88,-85.725,-85.834,-85.681,-85.649,-85.613,-85.592,-85.563,-85.409,-85.574,-85.097,-87.348,-87.492,-87.24,-87.179,-87.155,-86.941,-87.159,-86.962,-86.807,-86.723,-86.66,-86.624,-86.589,-86.549,-86.508,-86.459,-86.229,-87.272,-87.187,-86.959,-86.771,-86.688,-86.625,-86.528,-86.625,-86.688,-86.771,-86.959,-87.109,-87.193,-83.203,-81.789,-81.813,-81.842,-81.863,-81.896,-81.922,-81.957,-81.967,-81.935,-81.889,-81.855,-81.831,-81.82,-81.806,-81.758,-81.722,-81.151,-82.584,-82.588,-82.624,-82.603,-82.558,-82.545,-82.533,-82.514,-82.496,-82.421,-82.166,-82.067,-82.036,-82.042,-82.08,-81.996,-81.938,-81.92,-81.916,-81.861,-81.789,-82.768,-82.845,-82.72,-82.621,-82.634,-82.702,-82.625,-82.563,-82.527,-82.485,-82.433,-82.397,-82.417,-82.543,-82.697,-82.707,-82.724,-82.746,-82.757,-97.295,-95.134,-94.998,-95.014,-95.027,-95.046,-95.054,-95.013,-95.895,-97.085,-97.032,-96.783,-96.609,-96.255,-97.123,-97.138,-97.21,-97.313,-97.466,-97.435,-97.358,-97.287,-97.553,-96.859,-96.415,-97.051,-97.385,-94.978,-94.988,-94.891,-94.906,-94.938,-94.977,-94.957,-94.923,-94.744,-93.935,-93.908,-93.885,-94.831,-94.82,-94.801,-94.783,-94.8,-94.821,-94.848],\\\"marker\\\":{\\\"size\\\":10}}],{\\\"template\\\":{\\\"layout\\\":{\\\"coloraxis\\\":{\\\"colorbar\\\":{\\\"ticks\\\":\\\"\\\",\\\"outlinewidth\\\":0}},\\\"xaxis\\\":{\\\"gridcolor\\\":\\\"white\\\",\\\"zerolinewidth\\\":2,\\\"title\\\":{\\\"standoff\\\":15},\\\"ticks\\\":\\\"\\\",\\\"zerolinecolor\\\":\\\"white\\\",\\\"automargin\\\":true,\\\"linecolor\\\":\\\"white\\\"},\\\"hovermode\\\":\\\"closest\\\",\\\"paper_bgcolor\\\":\\\"white\\\",\\\"geo\\\":{\\\"showlakes\\\":true,\\\"showland\\\":true,\\\"landcolor\\\":\\\"#E5ECF6\\\",\\\"bgcolor\\\":\\\"white\\\",\\\"subunitcolor\\\":\\\"white\\\",\\\"lakecolor\\\":\\\"white\\\"},\\\"colorscale\\\":{\\\"sequential\\\":[[0.0,\\\"#0d0887\\\"],[0.1111111111111111,\\\"#46039f\\\"],[0.2222222222222222,\\\"#7201a8\\\"],[0.3333333333333333,\\\"#9c179e\\\"],[0.4444444444444444,\\\"#bd3786\\\"],[0.5555555555555556,\\\"#d8576b\\\"],[0.6666666666666666,\\\"#ed7953\\\"],[0.7777777777777778,\\\"#fb9f3a\\\"],[0.8888888888888888,\\\"#fdca26\\\"],[1.0,\\\"#f0f921\\\"]],\\\"diverging\\\":[[0,\\\"#8e0152\\\"],[0.1,\\\"#c51b7d\\\"],[0.2,\\\"#de77ae\\\"],[0.3,\\\"#f1b6da\\\"],[0.4,\\\"#fde0ef\\\"],[0.5,\\\"#f7f7f7\\\"],[0.6,\\\"#e6f5d0\\\"],[0.7,\\\"#b8e186\\\"],[0.8,\\\"#7fbc41\\\"],[0.9,\\\"#4d9221\\\"],[1,\\\"#276419\\\"]],\\\"sequentialminus\\\":[[0.0,\\\"#0d0887\\\"],[0.1111111111111111,\\\"#46039f\\\"],[0.2222222222222222,\\\"#7201a8\\\"],[0.3333333333333333,\\\"#9c179e\\\"],[0.4444444444444444,\\\"#bd3786\\\"],[0.5555555555555556,\\\"#d8576b\\\"],[0.6666666666666666,\\\"#ed7953\\\"],[0.7777777777777778,\\\"#fb9f3a\\\"],[0.8888888888888888,\\\"#fdca26\\\"],[1.0,\\\"#f0f921\\\"]]},\\\"yaxis\\\":{\\\"gridcolor\\\":\\\"white\\\",\\\"zerolinewidth\\\":2,\\\"title\\\":{\\\"standoff\\\":15},\\\"ticks\\\":\\\"\\\",\\\"zerolinecolor\\\":\\\"white\\\",\\\"automargin\\\":true,\\\"linecolor\\\":\\\"white\\\"},\\\"shapedefaults\\\":{\\\"line\\\":{\\\"color\\\":\\\"#2a3f5f\\\"}},\\\"hoverlabel\\\":{\\\"align\\\":\\\"left\\\"},\\\"mapbox\\\":{\\\"style\\\":\\\"light\\\"},\\\"polar\\\":{\\\"angularaxis\\\":{\\\"gridcolor\\\":\\\"white\\\",\\\"ticks\\\":\\\"\\\",\\\"linecolor\\\":\\\"white\\\"},\\\"bgcolor\\\":\\\"#E5ECF6\\\",\\\"radialaxis\\\":{\\\"gridcolor\\\":\\\"white\\\",\\\"ticks\\\":\\\"\\\",\\\"linecolor\\\":\\\"white\\\"}},\\\"autotypenumbers\\\":\\\"strict\\\",\\\"font\\\":{\\\"color\\\":\\\"#2a3f5f\\\"},\\\"ternary\\\":{\\\"baxis\\\":{\\\"gridcolor\\\":\\\"white\\\",\\\"ticks\\\":\\\"\\\",\\\"linecolor\\\":\\\"white\\\"},\\\"bgcolor\\\":\\\"#E5ECF6\\\",\\\"caxis\\\":{\\\"gridcolor\\\":\\\"white\\\",\\\"ticks\\\":\\\"\\\",\\\"linecolor\\\":\\\"white\\\"},\\\"aaxis\\\":{\\\"gridcolor\\\":\\\"white\\\",\\\"ticks\\\":\\\"\\\",\\\"linecolor\\\":\\\"white\\\"}},\\\"annotationdefaults\\\":{\\\"arrowhead\\\":0,\\\"arrowwidth\\\":1,\\\"arrowcolor\\\":\\\"#2a3f5f\\\"},\\\"plot_bgcolor\\\":\\\"#E5ECF6\\\",\\\"title\\\":{\\\"x\\\":0.05},\\\"scene\\\":{\\\"xaxis\\\":{\\\"gridcolor\\\":\\\"white\\\",\\\"gridwidth\\\":2,\\\"backgroundcolor\\\":\\\"#E5ECF6\\\",\\\"ticks\\\":\\\"\\\",\\\"showbackground\\\":true,\\\"zerolinecolor\\\":\\\"white\\\",\\\"linecolor\\\":\\\"white\\\"},\\\"zaxis\\\":{\\\"gridcolor\\\":\\\"white\\\",\\\"gridwidth\\\":2,\\\"backgroundcolor\\\":\\\"#E5ECF6\\\",\\\"ticks\\\":\\\"\\\",\\\"showbackground\\\":true,\\\"zerolinecolor\\\":\\\"white\\\",\\\"linecolor\\\":\\\"white\\\"},\\\"yaxis\\\":{\\\"gridcolor\\\":\\\"white\\\",\\\"gridwidth\\\":2,\\\"backgroundcolor\\\":\\\"#E5ECF6\\\",\\\"ticks\\\":\\\"\\\",\\\"showbackground\\\":true,\\\"zerolinecolor\\\":\\\"white\\\",\\\"linecolor\\\":\\\"white\\\"}},\\\"colorway\\\":[\\\"#636efa\\\",\\\"#EF553B\\\",\\\"#00cc96\\\",\\\"#ab63fa\\\",\\\"#FFA15A\\\",\\\"#19d3f3\\\",\\\"#FF6692\\\",\\\"#B6E880\\\",\\\"#FF97FF\\\",\\\"#FECB52\\\"]},\\\"data\\\":{\\\"barpolar\\\":[{\\\"type\\\":\\\"barpolar\\\",\\\"marker\\\":{\\\"line\\\":{\\\"color\\\":\\\"#E5ECF6\\\",\\\"width\\\":0.5}}}],\\\"carpet\\\":[{\\\"aaxis\\\":{\\\"gridcolor\\\":\\\"white\\\",\\\"endlinecolor\\\":\\\"#2a3f5f\\\",\\\"minorgridcolor\\\":\\\"white\\\",\\\"startlinecolor\\\":\\\"#2a3f5f\\\",\\\"linecolor\\\":\\\"white\\\"},\\\"type\\\":\\\"carpet\\\",\\\"baxis\\\":{\\\"gridcolor\\\":\\\"white\\\",\\\"endlinecolor\\\":\\\"#2a3f5f\\\",\\\"minorgridcolor\\\":\\\"white\\\",\\\"startlinecolor\\\":\\\"#2a3f5f\\\",\\\"linecolor\\\":\\\"white\\\"}}],\\\"scatterpolar\\\":[{\\\"type\\\":\\\"scatterpolar\\\",\\\"marker\\\":{\\\"colorbar\\\":{\\\"ticks\\\":\\\"\\\",\\\"outlinewidth\\\":0}}}],\\\"parcoords\\\":[{\\\"line\\\":{\\\"colorbar\\\":{\\\"ticks\\\":\\\"\\\",\\\"outlinewidth\\\":0}},\\\"type\\\":\\\"parcoords\\\"}],\\\"scatter\\\":[{\\\"type\\\":\\\"scatter\\\",\\\"marker\\\":{\\\"colorbar\\\":{\\\"ticks\\\":\\\"\\\",\\\"outlinewidth\\\":0}}}],\\\"histogram2dcontour\\\":[{\\\"colorbar\\\":{\\\"ticks\\\":\\\"\\\",\\\"outlinewidth\\\":0},\\\"type\\\":\\\"histogram2dcontour\\\",\\\"colorscale\\\":[[0.0,\\\"#0d0887\\\"],[0.1111111111111111,\\\"#46039f\\\"],[0.2222222222222222,\\\"#7201a8\\\"],[0.3333333333333333,\\\"#9c179e\\\"],[0.4444444444444444,\\\"#bd3786\\\"],[0.5555555555555556,\\\"#d8576b\\\"],[0.6666666666666666,\\\"#ed7953\\\"],[0.7777777777777778,\\\"#fb9f3a\\\"],[0.8888888888888888,\\\"#fdca26\\\"],[1.0,\\\"#f0f921\\\"]]}],\\\"contour\\\":[{\\\"colorbar\\\":{\\\"ticks\\\":\\\"\\\",\\\"outlinewidth\\\":0},\\\"type\\\":\\\"contour\\\",\\\"colorscale\\\":[[0.0,\\\"#0d0887\\\"],[0.1111111111111111,\\\"#46039f\\\"],[0.2222222222222222,\\\"#7201a8\\\"],[0.3333333333333333,\\\"#9c179e\\\"],[0.4444444444444444,\\\"#bd3786\\\"],[0.5555555555555556,\\\"#d8576b\\\"],[0.6666666666666666,\\\"#ed7953\\\"],[0.7777777777777778,\\\"#fb9f3a\\\"],[0.8888888888888888,\\\"#fdca26\\\"],[1.0,\\\"#f0f921\\\"]]}],\\\"scattercarpet\\\":[{\\\"type\\\":\\\"scattercarpet\\\",\\\"marker\\\":{\\\"colorbar\\\":{\\\"ticks\\\":\\\"\\\",\\\"outlinewidth\\\":0}}}],\\\"mesh3d\\\":[{\\\"colorbar\\\":{\\\"ticks\\\":\\\"\\\",\\\"outlinewidth\\\":0},\\\"type\\\":\\\"mesh3d\\\"}],\\\"surface\\\":[{\\\"colorbar\\\":{\\\"ticks\\\":\\\"\\\",\\\"outlinewidth\\\":0},\\\"type\\\":\\\"surface\\\",\\\"colorscale\\\":[[0.0,\\\"#0d0887\\\"],[0.1111111111111111,\\\"#46039f\\\"],[0.2222222222222222,\\\"#7201a8\\\"],[0.3333333333333333,\\\"#9c179e\\\"],[0.4444444444444444,\\\"#bd3786\\\"],[0.5555555555555556,\\\"#d8576b\\\"],[0.6666666666666666,\\\"#ed7953\\\"],[0.7777777777777778,\\\"#fb9f3a\\\"],[0.8888888888888888,\\\"#fdca26\\\"],[1.0,\\\"#f0f921\\\"]]}],\\\"scattermapbox\\\":[{\\\"type\\\":\\\"scattermapbox\\\",\\\"marker\\\":{\\\"colorbar\\\":{\\\"ticks\\\":\\\"\\\",\\\"outlinewidth\\\":0}}}],\\\"scattergeo\\\":[{\\\"type\\\":\\\"scattergeo\\\",\\\"marker\\\":{\\\"colorbar\\\":{\\\"ticks\\\":\\\"\\\",\\\"outlinewidth\\\":0}}}],\\\"histogram\\\":[{\\\"type\\\":\\\"histogram\\\",\\\"marker\\\":{\\\"colorbar\\\":{\\\"ticks\\\":\\\"\\\",\\\"outlinewidth\\\":0}}}],\\\"pie\\\":[{\\\"type\\\":\\\"pie\\\",\\\"automargin\\\":true}],\\\"choropleth\\\":[{\\\"colorbar\\\":{\\\"ticks\\\":\\\"\\\",\\\"outlinewidth\\\":0},\\\"type\\\":\\\"choropleth\\\"}],\\\"heatmapgl\\\":[{\\\"colorbar\\\":{\\\"ticks\\\":\\\"\\\",\\\"outlinewidth\\\":0},\\\"type\\\":\\\"heatmapgl\\\",\\\"colorscale\\\":[[0.0,\\\"#0d0887\\\"],[0.1111111111111111,\\\"#46039f\\\"],[0.2222222222222222,\\\"#7201a8\\\"],[0.3333333333333333,\\\"#9c179e\\\"],[0.4444444444444444,\\\"#bd3786\\\"],[0.5555555555555556,\\\"#d8576b\\\"],[0.6666666666666666,\\\"#ed7953\\\"],[0.7777777777777778,\\\"#fb9f3a\\\"],[0.8888888888888888,\\\"#fdca26\\\"],[1.0,\\\"#f0f921\\\"]]}],\\\"bar\\\":[{\\\"type\\\":\\\"bar\\\",\\\"error_y\\\":{\\\"color\\\":\\\"#2a3f5f\\\"},\\\"error_x\\\":{\\\"color\\\":\\\"#2a3f5f\\\"},\\\"marker\\\":{\\\"line\\\":{\\\"color\\\":\\\"#E5ECF6\\\",\\\"width\\\":0.5}}}],\\\"heatmap\\\":[{\\\"colorbar\\\":{\\\"ticks\\\":\\\"\\\",\\\"outlinewidth\\\":0},\\\"type\\\":\\\"heatmap\\\",\\\"colorscale\\\":[[0.0,\\\"#0d0887\\\"],[0.1111111111111111,\\\"#46039f\\\"],[0.2222222222222222,\\\"#7201a8\\\"],[0.3333333333333333,\\\"#9c179e\\\"],[0.4444444444444444,\\\"#bd3786\\\"],[0.5555555555555556,\\\"#d8576b\\\"],[0.6666666666666666,\\\"#ed7953\\\"],[0.7777777777777778,\\\"#fb9f3a\\\"],[0.8888888888888888,\\\"#fdca26\\\"],[1.0,\\\"#f0f921\\\"]]}],\\\"contourcarpet\\\":[{\\\"colorbar\\\":{\\\"ticks\\\":\\\"\\\",\\\"outlinewidth\\\":0},\\\"type\\\":\\\"contourcarpet\\\"}],\\\"table\\\":[{\\\"type\\\":\\\"table\\\",\\\"header\\\":{\\\"line\\\":{\\\"color\\\":\\\"white\\\"},\\\"fill\\\":{\\\"color\\\":\\\"#C8D4E3\\\"}},\\\"cells\\\":{\\\"line\\\":{\\\"color\\\":\\\"white\\\"},\\\"fill\\\":{\\\"color\\\":\\\"#EBF0F8\\\"}}}],\\\"scatter3d\\\":[{\\\"line\\\":{\\\"colorbar\\\":{\\\"ticks\\\":\\\"\\\",\\\"outlinewidth\\\":0}},\\\"type\\\":\\\"scatter3d\\\",\\\"marker\\\":{\\\"colorbar\\\":{\\\"ticks\\\":\\\"\\\",\\\"outlinewidth\\\":0}}}],\\\"scattergl\\\":[{\\\"type\\\":\\\"scattergl\\\",\\\"marker\\\":{\\\"colorbar\\\":{\\\"ticks\\\":\\\"\\\",\\\"outlinewidth\\\":0}}}],\\\"histogram2d\\\":[{\\\"colorbar\\\":{\\\"ticks\\\":\\\"\\\",\\\"outlinewidth\\\":0},\\\"type\\\":\\\"histogram2d\\\",\\\"colorscale\\\":[[0.0,\\\"#0d0887\\\"],[0.1111111111111111,\\\"#46039f\\\"],[0.2222222222222222,\\\"#7201a8\\\"],[0.3333333333333333,\\\"#9c179e\\\"],[0.4444444444444444,\\\"#bd3786\\\"],[0.5555555555555556,\\\"#d8576b\\\"],[0.6666666666666666,\\\"#ed7953\\\"],[0.7777777777777778,\\\"#fb9f3a\\\"],[0.8888888888888888,\\\"#fdca26\\\"],[1.0,\\\"#f0f921\\\"]]}],\\\"scatterternary\\\":[{\\\"type\\\":\\\"scatterternary\\\",\\\"marker\\\":{\\\"colorbar\\\":{\\\"ticks\\\":\\\"\\\",\\\"outlinewidth\\\":0}}}],\\\"scatterpolargl\\\":[{\\\"type\\\":\\\"scatterpolargl\\\",\\\"marker\\\":{\\\"colorbar\\\":{\\\"ticks\\\":\\\"\\\",\\\"outlinewidth\\\":0}}}]}},\\\"geo\\\":{\\\"resolution\\\":50,\\\"scope\\\":\\\"usa\\\"},\\\"margin\\\":{\\\"l\\\":0,\\\"b\\\":0,\\\"r\\\":0,\\\"t\\\":10},\\\"height\\\":550,\\\"width\\\":500},{\\\"showLink\\\":false,\\\"editable\\\":false,\\\"responsive\\\":true,\\\"staticPlot\\\":false,\\\"scrollZoom\\\":true}); gd.on(\\\"plotly_hover\\\",(function (data){var filtered_data=WebIO.PlotlyCommands.filterEventData(gd,data,\\\"hover\\\"); return !(filtered_data.isnil) ? (WebIO.setval({\\\"name\\\":\\\"hover\\\",\\\"scope\\\":\\\"7050292838334188745\\\",\\\"id\\\":\\\"189906150501070430\\\",\\\"type\\\":\\\"observable\\\"},filtered_data.out)) : undefined})); gd.on(\\\"plotly_unhover\\\",(function (){return WebIO.setval({\\\"name\\\":\\\"hover\\\",\\\"scope\\\":\\\"7050292838334188745\\\",\\\"id\\\":\\\"189906150501070430\\\",\\\"type\\\":\\\"observable\\\"},{})})); gd.on(\\\"plotly_selected\\\",(function (data){var filtered_data=WebIO.PlotlyCommands.filterEventData(gd,data,\\\"selected\\\"); return !(filtered_data.isnil) ? (WebIO.setval({\\\"name\\\":\\\"selected\\\",\\\"scope\\\":\\\"7050292838334188745\\\",\\\"id\\\":\\\"16383036348433784972\\\",\\\"type\\\":\\\"observable\\\"},filtered_data.out)) : undefined})); gd.on(\\\"plotly_deselect\\\",(function (){return WebIO.setval({\\\"name\\\":\\\"selected\\\",\\\"scope\\\":\\\"7050292838334188745\\\",\\\"id\\\":\\\"16383036348433784972\\\",\\\"type\\\":\\\"observable\\\"},{})})); gd.on(\\\"plotly_relayout\\\",(function (data){var filtered_data=WebIO.PlotlyCommands.filterEventData(gd,data,\\\"relayout\\\"); return !(filtered_data.isnil) ? (WebIO.setval({\\\"name\\\":\\\"relayout\\\",\\\"scope\\\":\\\"7050292838334188745\\\",\\\"id\\\":\\\"12696132683485507390\\\",\\\"type\\\":\\\"observable\\\"},filtered_data.out)) : undefined})); return gd.on(\\\"plotly_click\\\",(function (data){var filtered_data=WebIO.PlotlyCommands.filterEventData(gd,data,\\\"click\\\"); return !(filtered_data.isnil) ? (WebIO.setval({\\\"name\\\":\\\"click\\\",\\\"scope\\\":\\\"7050292838334188745\\\",\\\"id\\\":\\\"2442801422413798450\\\",\\\"type\\\":\\\"observable\\\"},filtered_data.out)) : undefined}))}));\\n    (WebIO.importBlock({\\\"data\\\":[{\\\"name\\\":\\\"Plotly\\\",\\\"type\\\":\\\"js\\\",\\\"url\\\":\\\"\\/assetserver\\/d108ca0c36c41956657c77f7f8c85a31b6bcb23f-plotly.min.js\\\"},{\\\"name\\\":null,\\\"type\\\":\\\"js\\\",\\\"url\\\":\\\"\\/assetserver\\/799df427b8da150e739f02bd0a1d8d5950242fef-plotly_webio.bundle.js\\\"}],\\\"type\\\":\\\"async_block\\\"})).then((imports) => handler.apply(this, imports));\\n}\\n\"],\"observables\":{\"_toImage\":{\"sync\":false,\"id\":\"17971092986381612982\",\"value\":{}},\"hover\":{\"sync\":false,\"id\":\"189906150501070430\",\"value\":{}},\"selected\":{\"sync\":false,\"id\":\"16383036348433784972\",\"value\":{}},\"__gd_contents\":{\"sync\":false,\"id\":\"11364506170416671970\",\"value\":{}},\"click\":{\"sync\":false,\"id\":\"2442801422413798450\",\"value\":{}},\"image\":{\"sync\":true,\"id\":\"2506640594413076213\",\"value\":\"\"},\"__get_gd_contents\":{\"sync\":false,\"id\":\"16885519955052251563\",\"value\":\"\"},\"_downloadImage\":{\"sync\":false,\"id\":\"9710516639073784260\",\"value\":{}},\"relayout\":{\"sync\":false,\"id\":\"12696132683485507390\",\"value\":{}},\"_commands\":{\"sync\":false,\"id\":\"13361550341319521669\",\"value\":[]}}},\"children\":[{\"props\":{\"id\":\"plot-391ee09e-88af-42e4-90c2-a470063562d2\"},\"nodeType\":\"DOM\",\"type\":\"node\",\"instanceArgs\":{\"namespace\":\"html\",\"tag\":\"div\"},\"children\":[]}]},\n",
       "        window,\n",
       "    );\n",
       "    })()\n",
       "    </script>\n",
       "</div>\n"
      ],
      "text/plain": [
       "data: [\n",
       "  \"scattergeo with fields lat, lon, marker, mode, name, and type\"\n",
       "]\n",
       "\n",
       "layout: \"layout with fields geo, height, margin, template, and width\"\n",
       "\n"
      ]
     },
     "execution_count": 149,
     "metadata": {},
     "output_type": "execute_result"
    }
   ],
   "source": [
    "using PlotlyJS, DataFrames, CSV\n",
    "#create a map of the segments\n",
    "function maps1()\n",
    "    marker = attr(size=10,\n",
    "                 \n",
    "                  )\n",
    "    trace = scattergeo(;mode=\"markers\", lat = gulf_lat, lon = gulf_lon,\n",
    "                        marker=marker, name=\"Gulf Data\")\n",
    "    layout = Layout(geo_scope=\"usa\", geo_resolution=50, width=500, height=550,\n",
    "                    margin=attr(l=0, r=0, t=10, b=0))\n",
    "    plot(trace, layout)\n",
    "end\n",
    "maps1()\n"
   ]
  },
  {
   "cell_type": "code",
   "execution_count": 145,
   "metadata": {},
   "outputs": [],
   "source": [
    "#get rid of invalid segments\n",
    "function delete_east_coast(gulf_list, lon, lat)\n",
    "    for i in range(1, length(gulf_list)-1)\n",
    "        if gulf_list[i][2] == lon && gulf_list[i][3] == lat\n",
    "            deleteat!(gulf_list, i)\n",
    "        end\n",
    "    end\n",
    "end\n",
    "\n",
    "delete_east_coast(segment_gulf_list, -80.551, 25.244)\n",
    "\n"
   ]
  },
  {
   "cell_type": "code",
   "execution_count": 152,
   "metadata": {},
   "outputs": [
    {
     "data": {
      "text/plain": [
       "178-element Vector{Any}:\n",
       " Any[String31(\"UnitedStates4569\"), -87.39, 30.47]\n",
       " Any[String31(\"UnitedStates4592\"), -87.961, 30.675]\n",
       " Any[String31(\"UnitedStates4593\"), -87.917, 30.604]\n",
       " Any[String31(\"UnitedStates4594\"), -87.911, 30.562]\n",
       " Any[String31(\"UnitedStates4595\"), -87.923, 30.521]\n",
       " Any[String31(\"UnitedStates4596\"), -87.944, 30.227]\n",
       " Any[String31(\"UnitedStates4599\"), -88.156, 30.324]\n",
       " Any[String31(\"UnitedStates4600\"), -88.063, 30.615]\n",
       " Any[String31(\"UnitedStates4601\"), -88.031, 30.679]\n",
       " Any[String31(\"UnitedStates4615\"), -88.443, 30.329]\n",
       " Any[String31(\"UnitedStates4603\"), -89.418, 30.212]\n",
       " Any[String31(\"UnitedStates4604\"), -89.26, 30.319]\n",
       " Any[String31(\"UnitedStates4605\"), -89.173, 30.335]\n",
       " ⋮\n",
       " Any[String31(\"UnitedStates4650\"), -94.923, 29.711]\n",
       " Any[String31(\"UnitedStates4651\"), -94.744, 29.374]\n",
       " Any[String31(\"UnitedStates4652\"), -93.935, 29.854]\n",
       " Any[String31(\"UnitedStates4653\"), -93.908, 29.896]\n",
       " Any[String31(\"UnitedStates4654\"), -93.885, 29.933]\n",
       " Any[String31(\"UnitedStates5591\"), -94.831, 29.332]\n",
       " Any[String31(\"UnitedStates5592\"), -94.82, 29.338]\n",
       " Any[String31(\"UnitedStates5593\"), -94.801, 29.328]\n",
       " Any[String31(\"UnitedStates5594\"), -94.783, 29.315]\n",
       " Any[String31(\"UnitedStates5595\"), -94.8, 29.298]\n",
       " Any[String31(\"UnitedStates5596\"), -94.821, 29.283]\n",
       " Any[String31(\"UnitedStates5597\"), -94.848, 29.263]"
      ]
     },
     "execution_count": 152,
     "metadata": {},
     "output_type": "execute_result"
    }
   ],
   "source": [
    "segment_gulf_list"
   ]
  },
  {
   "cell_type": "code",
   "execution_count": 153,
   "metadata": {},
   "outputs": [
    {
     "data": {
      "text/plain": [
       "178×1 Matrix{Vector{Any}}:\n",
       " [String31(\"UnitedStates4569\"), -87.39, 30.47]\n",
       " [String31(\"UnitedStates4592\"), -87.961, 30.675]\n",
       " [String31(\"UnitedStates4593\"), -87.917, 30.604]\n",
       " [String31(\"UnitedStates4594\"), -87.911, 30.562]\n",
       " [String31(\"UnitedStates4595\"), -87.923, 30.521]\n",
       " [String31(\"UnitedStates4596\"), -87.944, 30.227]\n",
       " [String31(\"UnitedStates4599\"), -88.156, 30.324]\n",
       " [String31(\"UnitedStates4600\"), -88.063, 30.615]\n",
       " [String31(\"UnitedStates4601\"), -88.031, 30.679]\n",
       " [String31(\"UnitedStates4615\"), -88.443, 30.329]\n",
       " [String31(\"UnitedStates4603\"), -89.418, 30.212]\n",
       " [String31(\"UnitedStates4604\"), -89.26, 30.319]\n",
       " [String31(\"UnitedStates4605\"), -89.173, 30.335]\n",
       " ⋮\n",
       " [String31(\"UnitedStates4650\"), -94.923, 29.711]\n",
       " [String31(\"UnitedStates4651\"), -94.744, 29.374]\n",
       " [String31(\"UnitedStates4652\"), -93.935, 29.854]\n",
       " [String31(\"UnitedStates4653\"), -93.908, 29.896]\n",
       " [String31(\"UnitedStates4654\"), -93.885, 29.933]\n",
       " [String31(\"UnitedStates5591\"), -94.831, 29.332]\n",
       " [String31(\"UnitedStates5592\"), -94.82, 29.338]\n",
       " [String31(\"UnitedStates5593\"), -94.801, 29.328]\n",
       " [String31(\"UnitedStates5594\"), -94.783, 29.315]\n",
       " [String31(\"UnitedStates5595\"), -94.8, 29.298]\n",
       " [String31(\"UnitedStates5596\"), -94.821, 29.283]\n",
       " [String31(\"UnitedStates5597\"), -94.848, 29.263]"
      ]
     },
     "execution_count": 153,
     "metadata": {},
     "output_type": "execute_result"
    }
   ],
   "source": [
    "hcat(segment_gulf_list)"
   ]
  },
  {
   "cell_type": "code",
   "execution_count": 159,
   "metadata": {},
   "outputs": [
    {
     "data": {
      "text/plain": [
       "\"gulf_segments.csv\""
      ]
     },
     "execution_count": 159,
     "metadata": {},
     "output_type": "execute_result"
    }
   ],
   "source": [
    "#create csv of segment names\n",
    "gulf_segments = []\n",
    "function add_name(entry)\n",
    "    push!(gulf_segments, entry[1])\n",
    "end\n",
    "\n",
    "\n",
    "add_name.(segment_gulf_list)\n",
    "\n",
    "CSV.write(\"gulf_segments.csv\", DataFrame(hcat(gulf_segments), :auto))\n"
   ]
  },
  {
   "cell_type": "code",
   "execution_count": null,
   "metadata": {},
   "outputs": [],
   "source": [
    "gulf = CSV.read(\"gulf_segments.csv\", DataFrame)"
   ]
  },
  {
   "cell_type": "code",
   "execution_count": 160,
   "metadata": {},
   "outputs": [
    {
     "data": {
      "text/plain": [
       "178-element Vector{Vector{Any}}:\n",
       " [(-87.39, 30.47), (-87.961, 30.675), (-87.917, 30.604), (-87.911, 30.562), (-87.923, 30.521), (-87.944, 30.227), (-88.156, 30.324), (-88.063, 30.615), (-88.031, 30.679), (-88.443, 30.329)  …  (-93.935, 29.854), (-93.908, 29.896), (-93.885, 29.933), (-94.831, 29.332), (-94.82, 29.338), (-94.801, 29.328), (-94.783, 29.315), (-94.8, 29.298), (-94.821, 29.283), (-94.848, 29.263)]\n",
       " [(-87.39, 30.47), (-87.961, 30.675), (-87.917, 30.604), (-87.911, 30.562), (-87.923, 30.521), (-87.944, 30.227), (-88.156, 30.324), (-88.063, 30.615), (-88.031, 30.679), (-88.443, 30.329)  …  (-93.935, 29.854), (-93.908, 29.896), (-93.885, 29.933), (-94.831, 29.332), (-94.82, 29.338), (-94.801, 29.328), (-94.783, 29.315), (-94.8, 29.298), (-94.821, 29.283), (-94.848, 29.263)]\n",
       " [(-87.39, 30.47), (-87.961, 30.675), (-87.917, 30.604), (-87.911, 30.562), (-87.923, 30.521), (-87.944, 30.227), (-88.156, 30.324), (-88.063, 30.615), (-88.031, 30.679), (-88.443, 30.329)  …  (-93.935, 29.854), (-93.908, 29.896), (-93.885, 29.933), (-94.831, 29.332), (-94.82, 29.338), (-94.801, 29.328), (-94.783, 29.315), (-94.8, 29.298), (-94.821, 29.283), (-94.848, 29.263)]\n",
       " [(-87.39, 30.47), (-87.961, 30.675), (-87.917, 30.604), (-87.911, 30.562), (-87.923, 30.521), (-87.944, 30.227), (-88.156, 30.324), (-88.063, 30.615), (-88.031, 30.679), (-88.443, 30.329)  …  (-93.935, 29.854), (-93.908, 29.896), (-93.885, 29.933), (-94.831, 29.332), (-94.82, 29.338), (-94.801, 29.328), (-94.783, 29.315), (-94.8, 29.298), (-94.821, 29.283), (-94.848, 29.263)]\n",
       " [(-87.39, 30.47), (-87.961, 30.675), (-87.917, 30.604), (-87.911, 30.562), (-87.923, 30.521), (-87.944, 30.227), (-88.156, 30.324), (-88.063, 30.615), (-88.031, 30.679), (-88.443, 30.329)  …  (-93.935, 29.854), (-93.908, 29.896), (-93.885, 29.933), (-94.831, 29.332), (-94.82, 29.338), (-94.801, 29.328), (-94.783, 29.315), (-94.8, 29.298), (-94.821, 29.283), (-94.848, 29.263)]\n",
       " [(-87.39, 30.47), (-87.961, 30.675), (-87.917, 30.604), (-87.911, 30.562), (-87.923, 30.521), (-87.944, 30.227), (-88.156, 30.324), (-88.063, 30.615), (-88.031, 30.679), (-88.443, 30.329)  …  (-93.935, 29.854), (-93.908, 29.896), (-93.885, 29.933), (-94.831, 29.332), (-94.82, 29.338), (-94.801, 29.328), (-94.783, 29.315), (-94.8, 29.298), (-94.821, 29.283), (-94.848, 29.263)]\n",
       " [(-87.39, 30.47), (-87.961, 30.675), (-87.917, 30.604), (-87.911, 30.562), (-87.923, 30.521), (-87.944, 30.227), (-88.156, 30.324), (-88.063, 30.615), (-88.031, 30.679), (-88.443, 30.329)  …  (-93.935, 29.854), (-93.908, 29.896), (-93.885, 29.933), (-94.831, 29.332), (-94.82, 29.338), (-94.801, 29.328), (-94.783, 29.315), (-94.8, 29.298), (-94.821, 29.283), (-94.848, 29.263)]\n",
       " [(-87.39, 30.47), (-87.961, 30.675), (-87.917, 30.604), (-87.911, 30.562), (-87.923, 30.521), (-87.944, 30.227), (-88.156, 30.324), (-88.063, 30.615), (-88.031, 30.679), (-88.443, 30.329)  …  (-93.935, 29.854), (-93.908, 29.896), (-93.885, 29.933), (-94.831, 29.332), (-94.82, 29.338), (-94.801, 29.328), (-94.783, 29.315), (-94.8, 29.298), (-94.821, 29.283), (-94.848, 29.263)]\n",
       " [(-87.39, 30.47), (-87.961, 30.675), (-87.917, 30.604), (-87.911, 30.562), (-87.923, 30.521), (-87.944, 30.227), (-88.156, 30.324), (-88.063, 30.615), (-88.031, 30.679), (-88.443, 30.329)  …  (-93.935, 29.854), (-93.908, 29.896), (-93.885, 29.933), (-94.831, 29.332), (-94.82, 29.338), (-94.801, 29.328), (-94.783, 29.315), (-94.8, 29.298), (-94.821, 29.283), (-94.848, 29.263)]\n",
       " [(-87.39, 30.47), (-87.961, 30.675), (-87.917, 30.604), (-87.911, 30.562), (-87.923, 30.521), (-87.944, 30.227), (-88.156, 30.324), (-88.063, 30.615), (-88.031, 30.679), (-88.443, 30.329)  …  (-93.935, 29.854), (-93.908, 29.896), (-93.885, 29.933), (-94.831, 29.332), (-94.82, 29.338), (-94.801, 29.328), (-94.783, 29.315), (-94.8, 29.298), (-94.821, 29.283), (-94.848, 29.263)]\n",
       " [(-87.39, 30.47), (-87.961, 30.675), (-87.917, 30.604), (-87.911, 30.562), (-87.923, 30.521), (-87.944, 30.227), (-88.156, 30.324), (-88.063, 30.615), (-88.031, 30.679), (-88.443, 30.329)  …  (-93.935, 29.854), (-93.908, 29.896), (-93.885, 29.933), (-94.831, 29.332), (-94.82, 29.338), (-94.801, 29.328), (-94.783, 29.315), (-94.8, 29.298), (-94.821, 29.283), (-94.848, 29.263)]\n",
       " [(-87.39, 30.47), (-87.961, 30.675), (-87.917, 30.604), (-87.911, 30.562), (-87.923, 30.521), (-87.944, 30.227), (-88.156, 30.324), (-88.063, 30.615), (-88.031, 30.679), (-88.443, 30.329)  …  (-93.935, 29.854), (-93.908, 29.896), (-93.885, 29.933), (-94.831, 29.332), (-94.82, 29.338), (-94.801, 29.328), (-94.783, 29.315), (-94.8, 29.298), (-94.821, 29.283), (-94.848, 29.263)]\n",
       " [(-87.39, 30.47), (-87.961, 30.675), (-87.917, 30.604), (-87.911, 30.562), (-87.923, 30.521), (-87.944, 30.227), (-88.156, 30.324), (-88.063, 30.615), (-88.031, 30.679), (-88.443, 30.329)  …  (-93.935, 29.854), (-93.908, 29.896), (-93.885, 29.933), (-94.831, 29.332), (-94.82, 29.338), (-94.801, 29.328), (-94.783, 29.315), (-94.8, 29.298), (-94.821, 29.283), (-94.848, 29.263)]\n",
       " ⋮\n",
       " [(-87.39, 30.47), (-87.961, 30.675), (-87.917, 30.604), (-87.911, 30.562), (-87.923, 30.521), (-87.944, 30.227), (-88.156, 30.324), (-88.063, 30.615), (-88.031, 30.679), (-88.443, 30.329)  …  (-93.935, 29.854), (-93.908, 29.896), (-93.885, 29.933), (-94.831, 29.332), (-94.82, 29.338), (-94.801, 29.328), (-94.783, 29.315), (-94.8, 29.298), (-94.821, 29.283), (-94.848, 29.263)]\n",
       " [(-87.39, 30.47), (-87.961, 30.675), (-87.917, 30.604), (-87.911, 30.562), (-87.923, 30.521), (-87.944, 30.227), (-88.156, 30.324), (-88.063, 30.615), (-88.031, 30.679), (-88.443, 30.329)  …  (-93.935, 29.854), (-93.908, 29.896), (-93.885, 29.933), (-94.831, 29.332), (-94.82, 29.338), (-94.801, 29.328), (-94.783, 29.315), (-94.8, 29.298), (-94.821, 29.283), (-94.848, 29.263)]\n",
       " [(-87.39, 30.47), (-87.961, 30.675), (-87.917, 30.604), (-87.911, 30.562), (-87.923, 30.521), (-87.944, 30.227), (-88.156, 30.324), (-88.063, 30.615), (-88.031, 30.679), (-88.443, 30.329)  …  (-93.935, 29.854), (-93.908, 29.896), (-93.885, 29.933), (-94.831, 29.332), (-94.82, 29.338), (-94.801, 29.328), (-94.783, 29.315), (-94.8, 29.298), (-94.821, 29.283), (-94.848, 29.263)]\n",
       " [(-87.39, 30.47), (-87.961, 30.675), (-87.917, 30.604), (-87.911, 30.562), (-87.923, 30.521), (-87.944, 30.227), (-88.156, 30.324), (-88.063, 30.615), (-88.031, 30.679), (-88.443, 30.329)  …  (-93.935, 29.854), (-93.908, 29.896), (-93.885, 29.933), (-94.831, 29.332), (-94.82, 29.338), (-94.801, 29.328), (-94.783, 29.315), (-94.8, 29.298), (-94.821, 29.283), (-94.848, 29.263)]\n",
       " [(-87.39, 30.47), (-87.961, 30.675), (-87.917, 30.604), (-87.911, 30.562), (-87.923, 30.521), (-87.944, 30.227), (-88.156, 30.324), (-88.063, 30.615), (-88.031, 30.679), (-88.443, 30.329)  …  (-93.935, 29.854), (-93.908, 29.896), (-93.885, 29.933), (-94.831, 29.332), (-94.82, 29.338), (-94.801, 29.328), (-94.783, 29.315), (-94.8, 29.298), (-94.821, 29.283), (-94.848, 29.263)]\n",
       " [(-87.39, 30.47), (-87.961, 30.675), (-87.917, 30.604), (-87.911, 30.562), (-87.923, 30.521), (-87.944, 30.227), (-88.156, 30.324), (-88.063, 30.615), (-88.031, 30.679), (-88.443, 30.329)  …  (-93.935, 29.854), (-93.908, 29.896), (-93.885, 29.933), (-94.831, 29.332), (-94.82, 29.338), (-94.801, 29.328), (-94.783, 29.315), (-94.8, 29.298), (-94.821, 29.283), (-94.848, 29.263)]\n",
       " [(-87.39, 30.47), (-87.961, 30.675), (-87.917, 30.604), (-87.911, 30.562), (-87.923, 30.521), (-87.944, 30.227), (-88.156, 30.324), (-88.063, 30.615), (-88.031, 30.679), (-88.443, 30.329)  …  (-93.935, 29.854), (-93.908, 29.896), (-93.885, 29.933), (-94.831, 29.332), (-94.82, 29.338), (-94.801, 29.328), (-94.783, 29.315), (-94.8, 29.298), (-94.821, 29.283), (-94.848, 29.263)]\n",
       " [(-87.39, 30.47), (-87.961, 30.675), (-87.917, 30.604), (-87.911, 30.562), (-87.923, 30.521), (-87.944, 30.227), (-88.156, 30.324), (-88.063, 30.615), (-88.031, 30.679), (-88.443, 30.329)  …  (-93.935, 29.854), (-93.908, 29.896), (-93.885, 29.933), (-94.831, 29.332), (-94.82, 29.338), (-94.801, 29.328), (-94.783, 29.315), (-94.8, 29.298), (-94.821, 29.283), (-94.848, 29.263)]\n",
       " [(-87.39, 30.47), (-87.961, 30.675), (-87.917, 30.604), (-87.911, 30.562), (-87.923, 30.521), (-87.944, 30.227), (-88.156, 30.324), (-88.063, 30.615), (-88.031, 30.679), (-88.443, 30.329)  …  (-93.935, 29.854), (-93.908, 29.896), (-93.885, 29.933), (-94.831, 29.332), (-94.82, 29.338), (-94.801, 29.328), (-94.783, 29.315), (-94.8, 29.298), (-94.821, 29.283), (-94.848, 29.263)]\n",
       " [(-87.39, 30.47), (-87.961, 30.675), (-87.917, 30.604), (-87.911, 30.562), (-87.923, 30.521), (-87.944, 30.227), (-88.156, 30.324), (-88.063, 30.615), (-88.031, 30.679), (-88.443, 30.329)  …  (-93.935, 29.854), (-93.908, 29.896), (-93.885, 29.933), (-94.831, 29.332), (-94.82, 29.338), (-94.801, 29.328), (-94.783, 29.315), (-94.8, 29.298), (-94.821, 29.283), (-94.848, 29.263)]\n",
       " [(-87.39, 30.47), (-87.961, 30.675), (-87.917, 30.604), (-87.911, 30.562), (-87.923, 30.521), (-87.944, 30.227), (-88.156, 30.324), (-88.063, 30.615), (-88.031, 30.679), (-88.443, 30.329)  …  (-93.935, 29.854), (-93.908, 29.896), (-93.885, 29.933), (-94.831, 29.332), (-94.82, 29.338), (-94.801, 29.328), (-94.783, 29.315), (-94.8, 29.298), (-94.821, 29.283), (-94.848, 29.263)]\n",
       " [(-87.39, 30.47), (-87.961, 30.675), (-87.917, 30.604), (-87.911, 30.562), (-87.923, 30.521), (-87.944, 30.227), (-88.156, 30.324), (-88.063, 30.615), (-88.031, 30.679), (-88.443, 30.329)  …  (-93.935, 29.854), (-93.908, 29.896), (-93.885, 29.933), (-94.831, 29.332), (-94.82, 29.338), (-94.801, 29.328), (-94.783, 29.315), (-94.8, 29.298), (-94.821, 29.283), (-94.848, 29.263)]"
      ]
     },
     "execution_count": 160,
     "metadata": {},
     "output_type": "execute_result"
    }
   ],
   "source": [
    "lonlat_gulf = []\n",
    "function lonlat_tuples(entry)\n",
    "    push!(lonlat_gulf, (entry[2], entry[3]))\n",
    "end\n",
    "\n",
    "lonlat_tuples.(segment_gulf_list)\n",
    "\n",
    "\n"
   ]
  },
  {
   "cell_type": "code",
   "execution_count": 187,
   "metadata": {},
   "outputs": [
    {
     "data": {
      "text/plain": [
       "101-element Vector{Any}:\n",
       " 2000\n",
       " 2001\n",
       " 2002\n",
       " 2003\n",
       " 2004\n",
       " 2005\n",
       " 2006\n",
       " 2007\n",
       " 2008\n",
       " 2009\n",
       " 2010\n",
       " 2011\n",
       " 2012\n",
       "    ⋮\n",
       " 2089\n",
       " 2090\n",
       " 2091\n",
       " 2092\n",
       " 2093\n",
       " 2094\n",
       " 2095\n",
       " 2096\n",
       " 2097\n",
       " 2098\n",
       " 2099\n",
       " 2100"
      ]
     },
     "execution_count": 187,
     "metadata": {},
     "output_type": "execute_result"
    }
   ],
   "source": [
    "years = []\n",
    "for i in range(2000, 2100)\n",
    "    push!(years, i)\n",
    "end\n",
    "years"
   ]
  },
  {
   "cell_type": "code",
   "execution_count": 188,
   "metadata": {},
   "outputs": [
    {
     "data": {
      "text/plain": [
       "(Any[2000, 2001, 2002, 2003, 2004, 2005, 2006, 2007, 2008, 2009  …  2091, 2092, 2093, 2094, 2095, 2096, 2097, 2098, 2099, 2100], [0.0 0.0 … 0.0 0.0; 0.0003260374 0.0002537924 … 0.00024710596 0.00038808212; … ; 0.04555356 -0.07675396 … -0.03303323 0.052680783; 0.0459697 -0.07868025 … -0.034135573 0.053264655], [0.0 0.0 … 0.0 0.0; 0.0014742017 0.0011917129 … 0.0004845634 0.0005354062; … ; 0.29003167 0.2646354 … 0.11849396 0.19064906; 0.2946288 0.26862592 … 0.12048447 0.19371164], [0.0 0.0 … 0.0 0.0; 0.000864625 0.0006325841 … 0.00041811168 0.0006416142; … ; 0.20649433 0.19500552 … 0.09636293 0.18350585; 0.213119 0.1998982 … 0.0984565 0.18839173], [0.0 0.0 … 0.0 0.0; 0.0011696294 0.0013360195 … 0.0009175278 0.0008236617; … ; 0.37342414 0.34341833 … 0.28293064 0.3863412; 0.37943107 0.3488977 … 0.28767407 0.39364475], [0.0 0.0 … 0.0 0.0; 0.0003678553341318006 0.0003678553341318006 … 0.0003678553341318006 0.0003678553341318006; … ; 0.047035541871397274 0.047035541871397274 … 0.047035541871397274 0.047035541871397274; 0.047620088303331254 0.047620088303331254 … 0.047620088303331254 0.047620088303331254], [0.0 0.0 … 0.0 0.0; 0.004383087 0.0036663115 … 0.002460122 0.0028095096; … ; 0.9923077 0.75056535 … 0.512982 0.8701382; 1.0111195 0.763139 … 0.5213159 0.8867563])"
      ]
     },
     "execution_count": 188,
     "metadata": {},
     "output_type": "execute_result"
    }
   ],
   "source": [
    "\n",
    "ais_126_f = CSV.read(\"SLR_Manip/ais_126_f.csv\", DataFrame)\n",
    "ais_245_f = CSV.read(\"SLR_Manip/ais_245_f.csv\", DataFrame)\n",
    "ais_585_f = CSV.read(\"SLR_Manip/ais_585_f.csv\", DataFrame)\n",
    "\n",
    "gsic_126_f = CSV.read(\"SLR_Manip/gsic_126_f.csv\", DataFrame)\n",
    "gsic_245_f = CSV.read(\"SLR_Manip/gsic_245_f.csv\", DataFrame)\n",
    "gsic_585_f = CSV.read(\"SLR_Manip/gsic_585_f.csv\", DataFrame)\n",
    "\n",
    "gis_126_f = CSV.read(\"SLR_Manip/gis_126_f.csv\", DataFrame)\n",
    "gis_245_f = CSV.read(\"SLR_Manip/gis_245_f.csv\", DataFrame)\n",
    "gis_585_f = CSV.read(\"SLR_Manip/gis_585_f.csv\", DataFrame)\n",
    "\n",
    "te_126_f = CSV.read(\"SLR_Manip/te_126_f.csv\", DataFrame)\n",
    "te_245_f = CSV.read(\"SLR_Manip/te_245_f.csv\", DataFrame)\n",
    "te_585_f = CSV.read(\"SLR_Manip/te_585_f.csv\", DataFrame)\n",
    "\n",
    "lws_126_f = CSV.read(\"SLR_Manip/lws_126_f.csv\", DataFrame)\n",
    "lws_245_f = CSV.read(\"SLR_Manip/lws_245_f.csv\", DataFrame)\n",
    "lws_585_f = CSV.read(\"SLR_Manip/lws_585_f.csv\", DataFrame)\n",
    "\n",
    "gmsl_126_f = CSV.read(\"SLR_Manip/gmsl_126_f.csv\", DataFrame)\n",
    "gmsl_245_f = CSV.read(\"SLR_Manip/gmsl_245_f.csv\", DataFrame)\n",
    "gmsl_585_f = CSV.read(\"SLR_Manip/gmsl_585_f.csv\", DataFrame)\n",
    "\n",
    "comp_126_f = (years, Matrix(ais_126_f), Matrix(gsic_126_f), Matrix(gis_126_f), Matrix(te_126_f), Matrix(lws_126_f), Matrix(gmsl_126_f))\n",
    "comp_245_f = (years, Matrix(ais_245_f), Matrix(gsic_245_f), Matrix(gis_245_f), Matrix(te_245_f), Matrix(lws_245_f), Matrix(gmsl_245_f))\n",
    "comp_585_f = (years, Matrix(ais_585_f), Matrix(gsic_585_f), Matrix(gis_585_f), Matrix(te_585_f), Matrix(lws_585_f), Matrix(gmsl_585_f))\n",
    "\n",
    "\n"
   ]
  },
  {
   "cell_type": "code",
   "execution_count": 179,
   "metadata": {},
   "outputs": [
    {
     "name": "stderr",
     "output_type": "stream",
     "text": [
      "WARNING: using StatsBase.var in module Main conflicts with an existing identifier.\n"
     ]
    },
    {
     "data": {
      "text/plain": [
       "downscale_brick (generic function with 4 methods)"
      ]
     },
     "execution_count": 179,
     "metadata": {},
     "output_type": "execute_result"
    }
   ],
   "source": [
    "include(\"downscaling.jl\")"
   ]
  },
  {
   "attachments": {},
   "cell_type": "markdown",
   "metadata": {},
   "source": [
    "Testing with smaller segment list of size 10 (downscale + NPV Optimal)"
   ]
  },
  {
   "cell_type": "code",
   "execution_count": 262,
   "metadata": {},
   "outputs": [
    {
     "data": {
      "text/plain": [
       "200000×11 Matrix{Float64}:\n",
       " 0.0  0.0350941  0.080411   0.136169   …  0.500921  0.584177  0.669606\n",
       " 0.0  0.0422987  0.0827127  0.132987      0.408144  0.464899  0.525093\n",
       " 0.0  0.0249345  0.063229   0.111671      0.476952  0.56746   0.660453\n",
       " 0.0  0.0271551  0.0615151  0.102147      0.359151  0.417764  0.475192\n",
       " 0.0  0.0314169  0.0685198  0.111001      0.376613  0.436782  0.492838\n",
       " 0.0  0.0312099  0.0710677  0.118176   …  0.45604   0.541209  0.630248\n",
       " 0.0  0.0396245  0.0883291  0.143877      0.482134  0.55727   0.632866\n",
       " 0.0  0.0331653  0.0792602  0.131044      0.451935  0.521624  0.595553\n",
       " 0.0  0.0301396  0.0740255  0.12106       0.435707  0.51023   0.586886\n",
       " 0.0  0.0415876  0.09383    0.153228      0.557282  0.655315  0.755859\n",
       " 0.0  0.0286687  0.059986   0.0984578  …  0.323025  0.36981   0.415786\n",
       " 0.0  0.030515   0.0601962  0.0981188     0.29532   0.336343  0.377785\n",
       " 0.0  0.0381986  0.0791879  0.126181      0.436644  0.508213  0.579457\n",
       " ⋮                                     ⋱                      ⋮\n",
       " 0.0  0.0250362  0.0631204  0.105058      0.395868  0.465935  0.538216\n",
       " 0.0  0.0306083  0.0675283  0.10766       0.359146  0.414767  0.469234\n",
       " 0.0  0.0239041  0.050321   0.0837973  …  0.293658  0.340699  0.388259\n",
       " 0.0  0.022702   0.0445763  0.0725385     0.205558  0.231278  0.256854\n",
       " 0.0  0.0334484  0.0685456  0.109676      0.386482  0.451438  0.516291\n",
       " 0.0  0.0265829  0.0618101  0.106745      0.413293  0.486545  0.563469\n",
       " 0.0  0.026841   0.064512   0.104102      0.390073  0.457297  0.528162\n",
       " 0.0  0.0307601  0.0645003  0.107583   …  0.385523  0.453011  0.521229\n",
       " 0.0  0.0268842  0.0620244  0.0993725     0.338077  0.389865  0.43755\n",
       " 0.0  0.0272501  0.0621579  0.101         0.356485  0.420605  0.483263\n",
       " 0.0  0.0229846  0.0520567  0.0847286     0.270519  0.307847  0.347485\n",
       " 0.0  0.0310116  0.070607   0.119874      0.455556  0.533612  0.613253"
      ]
     },
     "execution_count": 262,
     "metadata": {},
     "output_type": "execute_result"
    }
   ],
   "source": [
    "#testing downscaling with smaller segment list\n",
    "lonlat_test = lonlat_gulf[1:10]\n",
    "segments_test = gulf_segments[1:10]\n",
    "\n",
    "CSV.write(\"gulf_segments_test.csv\", DataFrame(hcat(gulf_segments[1:10]), :auto))\n",
    "\n",
    "result_245_test = downscale_brick(comp_245_f, lonlat_test4, ensembles_run, 2000, 2100, 10)\n",
    "lslr_245_test = result_245_test[1]\n",
    "file_test_downscale_245 = lslr_245_test[:,:,1]\n",
    "for i in range(2, 10)\n",
    "    file_test_downscale_245 = vcat(file_test_downscale_245, lslr_245_test[:,:,i])\n",
    "end\n",
    "\n",
    "\n",
    "file_test_downscale_245\n",
    "\n"
   ]
  },
  {
   "cell_type": "code",
   "execution_count": 279,
   "metadata": {},
   "outputs": [
    {
     "data": {
      "text/plain": [
       "200000×20 Matrix{Float64}:\n",
       " 0.0  0.0350941  0.080411   0.136169   …  0.0  0.0  0.0  0.0  0.0  0.0  0.0\n",
       " 0.0  0.0422987  0.0827127  0.132987      0.0  0.0  0.0  0.0  0.0  0.0  0.0\n",
       " 0.0  0.0249345  0.063229   0.111671      0.0  0.0  0.0  0.0  0.0  0.0  0.0\n",
       " 0.0  0.0271551  0.0615151  0.102147      0.0  0.0  0.0  0.0  0.0  0.0  0.0\n",
       " 0.0  0.0314169  0.0685198  0.111001      0.0  0.0  0.0  0.0  0.0  0.0  0.0\n",
       " 0.0  0.0312099  0.0710677  0.118176   …  0.0  0.0  0.0  0.0  0.0  0.0  0.0\n",
       " 0.0  0.0396245  0.0883291  0.143877      0.0  0.0  0.0  0.0  0.0  0.0  0.0\n",
       " 0.0  0.0331653  0.0792602  0.131044      0.0  0.0  0.0  0.0  0.0  0.0  0.0\n",
       " 0.0  0.0301396  0.0740255  0.12106       0.0  0.0  0.0  0.0  0.0  0.0  0.0\n",
       " 0.0  0.0415876  0.09383    0.153228      0.0  0.0  0.0  0.0  0.0  0.0  0.0\n",
       " 0.0  0.0286687  0.059986   0.0984578  …  0.0  0.0  0.0  0.0  0.0  0.0  0.0\n",
       " 0.0  0.030515   0.0601962  0.0981188     0.0  0.0  0.0  0.0  0.0  0.0  0.0\n",
       " 0.0  0.0381986  0.0791879  0.126181      0.0  0.0  0.0  0.0  0.0  0.0  0.0\n",
       " ⋮                                     ⋱            ⋮                   \n",
       " 0.0  0.0250362  0.0631204  0.105058      0.0  0.0  0.0  0.0  0.0  0.0  0.0\n",
       " 0.0  0.0306083  0.0675283  0.10766       0.0  0.0  0.0  0.0  0.0  0.0  0.0\n",
       " 0.0  0.0239041  0.050321   0.0837973  …  0.0  0.0  0.0  0.0  0.0  0.0  0.0\n",
       " 0.0  0.022702   0.0445763  0.0725385     0.0  0.0  0.0  0.0  0.0  0.0  0.0\n",
       " 0.0  0.0334484  0.0685456  0.109676      0.0  0.0  0.0  0.0  0.0  0.0  0.0\n",
       " 0.0  0.0265829  0.0618101  0.106745      0.0  0.0  0.0  0.0  0.0  0.0  0.0\n",
       " 0.0  0.026841   0.064512   0.104102      0.0  0.0  0.0  0.0  0.0  0.0  0.0\n",
       " 0.0  0.0307601  0.0645003  0.107583   …  0.0  0.0  0.0  0.0  0.0  0.0  0.0\n",
       " 0.0  0.0268842  0.0620244  0.0993725     0.0  0.0  0.0  0.0  0.0  0.0  0.0\n",
       " 0.0  0.0272501  0.0621579  0.101         0.0  0.0  0.0  0.0  0.0  0.0  0.0\n",
       " 0.0  0.0229846  0.0520567  0.0847286     0.0  0.0  0.0  0.0  0.0  0.0  0.0\n",
       " 0.0  0.0310116  0.070607   0.119874      0.0  0.0  0.0  0.0  0.0  0.0  0.0"
      ]
     },
     "execution_count": 279,
     "metadata": {},
     "output_type": "execute_result"
    }
   ],
   "source": [
    "\n",
    " lslr_gulf_test_245 = hcat(file_test_downscale_245, zeros(200000, 9))\n"
   ]
  },
  {
   "cell_type": "code",
   "execution_count": 258,
   "metadata": {},
   "outputs": [
    {
     "data": {
      "text/plain": [
       "\"lslr_245_downscale_gulf_test.csv\""
      ]
     },
     "execution_count": 258,
     "metadata": {},
     "output_type": "execute_result"
    }
   ],
   "source": [
    "CSV.write(\"lslr_245_downscale_gulf_test.csv\", DataFrame(file_test_downscale, :auto))"
   ]
  },
  {
   "cell_type": "code",
   "execution_count": 325,
   "metadata": {},
   "outputs": [
    {
     "data": {
      "text/plain": [
       "run_ciam_npv (generic function with 1 method)"
      ]
     },
     "execution_count": 325,
     "metadata": {},
     "output_type": "execute_result"
    }
   ],
   "source": [
    "#function to get npv \n",
    "function run_ciam_npv(model, model_name, lslr, segments)\n",
    "\n",
    "    NPV_array = []\n",
    "    sub_array = []\n",
    "    #array with columsn being models/trials (model 1 trial 1, model 2 trial 1, etc..)\n",
    "    #cols are segments\n",
    "    update_param!(model, :slrcost, :ntsteps, 11)\n",
    "    update_param!(model, :slrcost, :at, [0; 0; 0; 1; 5])\n",
    "    MimiCIAM.run(model)\n",
    "\n",
    "    \n",
    "    \n",
    "        for i in range(1,20000)\n",
    "            lslr_trial = lslr[i, :]\n",
    "            for k in range(1, length(segments)-1)\n",
    "                lslr_trial = hcat(lslr_trial, lslr[(20000 * k) + i, :])\n",
    "            end\n",
    "            update_param!(model, :slrcost, :lslr, lslr_trial)\n",
    "            run(model)\n",
    "            if i == 1\n",
    "                NPV_array = model[:slrcost, :NPVOptimal]\n",
    "            else\n",
    "                NPV_array = hcat(NPV_array,  model[:slrcost, :NPVOptimal])\n",
    "                \n",
    "            end\n",
    "        end\n",
    "    \n",
    "\n",
    "    #NPV_array rows = trials, columns = models\n",
    "\n",
    "    CSV.write(string(model_name, \".csv\"), DataFrame(NPV_array, :auto))\n",
    "    return NPV_array\n",
    "end\n",
    "\n",
    "\n"
   ]
  },
  {
   "cell_type": "code",
   "execution_count": 326,
   "metadata": {},
   "outputs": [
    {
     "data": {
      "text/plain": [
       "10×20000 Matrix{Float64}:\n",
       " 0.00310401  0.00281804  0.0029461   …  0.00265511  0.00253387  0.00289488\n",
       " 0.137591    0.126298    0.13181        0.115914    0.103371    0.130321\n",
       " 0.00739788  0.00651376  0.00701277     0.00577956  0.00477179  0.00687085\n",
       " 0.00605721  0.00529013  0.00572077     0.00465098  0.00377806  0.0055985\n",
       " 0.011819    0.0103437   0.011187       0.00913408  0.00745806  0.0109455\n",
       " 0.548317    0.418033    0.513198    …  0.34723     0.24069     0.478986\n",
       " 0.548126    0.499596    0.523594       0.455279    0.523179    0.517094\n",
       " 0.0913857   0.0834226   0.0872759      0.0761187   0.0674113   0.0862081\n",
       " 0.0509196   0.0467603   0.048763       0.0429405   0.0384118   0.0482073\n",
       " 0.370998    0.308634    0.345788       0.25919     0.187872    0.334219"
      ]
     },
     "execution_count": 326,
     "metadata": {},
     "output_type": "execute_result"
    }
   ],
   "source": [
    "run_name = \"NPV_Gulf_test_245\"\n",
    "subset_name = \"C:/Users/krfek/Downloads/gitdemo/mimiCIAM_demo/gulf_segments_test.csv\"\n",
    "\n",
    "init_settings = Dict(\n",
    "        :init_filename   => string(\"$run_name\", \"_init.csv\"),\n",
    "        :lslrfile        => \"lsl_rcp85_p50.csv\",\n",
    "        :subset          => subset_name,\n",
    "        :ssp             => \"IIASAGDP_SSP2_v9_130219\",\n",
    "        :ssp_simplified  => 2\n",
    "    )\n",
    "\n",
    "MimiCIAM.write_init_file(run_name, \"..\", init_settings)\n",
    "\n",
    "\n",
    "model_245 = MimiCIAM.get_model(initfile=\"../NPV_Gulf_test_245_init.csv\")\n",
    "MimiCIAM.run(model_245)\n",
    "\n",
    "npv_245_test = run_ciam_npv(model_245, \"NPVOptimal_245_Gulf_test\", lslr_gulf_test_245, segments_test)"
   ]
  },
  {
   "attachments": {},
   "cell_type": "markdown",
   "metadata": {},
   "source": [
    "Run all segments in the Gulf Coast"
   ]
  },
  {
   "cell_type": "code",
   "execution_count": 328,
   "metadata": {},
   "outputs": [
    {
     "data": {
      "text/plain": [
       "\"lslr_585_downscale_gulf.csv\""
      ]
     },
     "execution_count": 328,
     "metadata": {},
     "output_type": "execute_result"
    }
   ],
   "source": [
    "#downscaling (all gulf segments)\n",
    "\n",
    "\n",
    "ensembles_run = 1:20000\n",
    "\n",
    "\n",
    "result_126_gulf = downscale_brick(comp_126_f, lonlat_gulf, ensembles_run, 2000, 2100, 10)\n",
    "run_126_gulf = result_126_gulf[1]\n",
    "lslr_126_gulf = run_126_gulf[:,:,1]\n",
    "for i in range(2, length(gulf_segments))\n",
    "    lslr_126_gulf = vcat(lslr_126_gulf, run_126_gulf[:,:,i])\n",
    "end\n",
    "CSV.write(\"lslr_126_downscale_gulf.csv\", DataFrame(lslr_126_gulf, :auto))\n",
    "\n",
    "\n",
    "result_245_gulf = downscale_brick(comp_245_f, lonlat_gulf, ensembles_run, 2000, 2100, 10)\n",
    "run_245_gulf = result_245_gulf[1]\n",
    "lslr_245_gulf = run_245_gulf[:,:,1]\n",
    "for i in range(2, length(gulf_segments))\n",
    "    lslr_245_gulf = vcat(lslr_245_gulf, run_245_gulf[:,:,i])\n",
    "end\n",
    "CSV.write(\"lslr_245_downscale_gulf.csv\", DataFrame(lslr_245_gulf, :auto))\n",
    "\n",
    "\n",
    "result_585_gulf = downscale_brick(comp_585_f, lonlat_gulf, ensembles_run, 2000, 2100, 10)\n",
    "run_585_gulf = result_585_gulf[1]\n",
    "lslr_585_gulf = run_585_gulf[:,:,1]\n",
    "for i in range(2, length(gulf_segments))\n",
    "    lslr_585_gulf = vcat(lslr_585_gulf, run_585_gulf[:,:,i])\n",
    "end\n",
    "CSV.write(\"lslr_585_downscale_gulf.csv\", DataFrame(lslr_585_gulf, :auto))\n"
   ]
  },
  {
   "cell_type": "code",
   "execution_count": 330,
   "metadata": {},
   "outputs": [
    {
     "data": {
      "text/plain": [
       "3560000×11 Matrix{Float64}:\n",
       " 0.0  0.0350941  0.080411   0.136169   …  0.500921  0.584177  0.669606\n",
       " 0.0  0.0422987  0.0827127  0.132987      0.408144  0.464899  0.525093\n",
       " 0.0  0.0249345  0.063229   0.111671      0.476952  0.56746   0.660453\n",
       " 0.0  0.0271551  0.0615151  0.102147      0.359151  0.417764  0.475192\n",
       " 0.0  0.0314169  0.0685198  0.111001      0.376613  0.436782  0.492838\n",
       " 0.0  0.0312099  0.0710677  0.118176   …  0.45604   0.541209  0.630248\n",
       " 0.0  0.0396245  0.0883291  0.143877      0.482134  0.55727   0.632866\n",
       " 0.0  0.0331653  0.0792602  0.131044      0.451935  0.521624  0.595553\n",
       " 0.0  0.0301396  0.0740255  0.12106       0.435707  0.51023   0.586886\n",
       " 0.0  0.0415876  0.09383    0.153228      0.557282  0.655315  0.755859\n",
       " 0.0  0.0286687  0.059986   0.0984578  …  0.323025  0.36981   0.415786\n",
       " 0.0  0.030515   0.0601962  0.0981188     0.29532   0.336343  0.377785\n",
       " 0.0  0.0381986  0.0791879  0.126181      0.436644  0.508213  0.579457\n",
       " ⋮                                     ⋱                      ⋮\n",
       " 0.0  0.0249638  0.0629418  0.104768      0.394849  0.464752  0.536871\n",
       " 0.0  0.0304882  0.067309   0.107355      0.358864  0.414589  0.469198\n",
       " 0.0  0.0238365  0.0501721  0.0835298  …  0.2926    0.339456  0.386824\n",
       " 0.0  0.0226292  0.0444718  0.0723825     0.205328  0.231074  0.256691\n",
       " 0.0  0.0333809  0.0683943  0.10943       0.385704  0.450576  0.515357\n",
       " 0.0  0.0264826  0.0615832  0.106334      0.411415  0.484287  0.560805\n",
       " 0.0  0.0267361  0.0642673  0.103682      0.388301  0.455168  0.525653\n",
       " 0.0  0.0306797  0.0643073  0.107226   …  0.383861  0.45101   0.518862\n",
       " 0.0  0.0267866  0.0618452  0.0990864     0.337339  0.389063  0.436695\n",
       " 0.0  0.0271599  0.0619215  0.10063       0.355005  0.418839  0.481194\n",
       " 0.0  0.0229247  0.0519232  0.0845568     0.270225  0.307566  0.347235\n",
       " 0.0  0.0308742  0.0703292  0.11943       0.454235  0.532141  0.611644"
      ]
     },
     "execution_count": 330,
     "metadata": {},
     "output_type": "execute_result"
    }
   ],
   "source": [
    "lslr_245_gulf"
   ]
  },
  {
   "cell_type": "code",
   "execution_count": 351,
   "metadata": {},
   "outputs": [
    {
     "data": {
      "text/plain": [
       "3560000×20 Matrix{Float64}:\n",
       " 0.0  0.0433786  0.0903373  0.149018   …  0.0  0.0  0.0  0.0  0.0  0.0  0.0\n",
       " 0.0  0.0382319  0.0796949  0.131742      0.0  0.0  0.0  0.0  0.0  0.0  0.0\n",
       " 0.0  0.0297117  0.0698332  0.12245       0.0  0.0  0.0  0.0  0.0  0.0  0.0\n",
       " 0.0  0.0340152  0.0678793  0.112909      0.0  0.0  0.0  0.0  0.0  0.0  0.0\n",
       " 0.0  0.0361237  0.0737898  0.120489      0.0  0.0  0.0  0.0  0.0  0.0  0.0\n",
       " 0.0  0.0342238  0.0740326  0.123319   …  0.0  0.0  0.0  0.0  0.0  0.0  0.0\n",
       " 0.0  0.0411705  0.0903472  0.148705      0.0  0.0  0.0  0.0  0.0  0.0  0.0\n",
       " 0.0  0.0396064  0.0855681  0.136849      0.0  0.0  0.0  0.0  0.0  0.0  0.0\n",
       " 0.0  0.0360523  0.0792902  0.128054      0.0  0.0  0.0  0.0  0.0  0.0  0.0\n",
       " 0.0  0.0501849  0.104336   0.166025      0.0  0.0  0.0  0.0  0.0  0.0  0.0\n",
       " 0.0  0.0272168  0.0609361  0.102562   …  0.0  0.0  0.0  0.0  0.0  0.0  0.0\n",
       " 0.0  0.0292357  0.0615669  0.101233      0.0  0.0  0.0  0.0  0.0  0.0  0.0\n",
       " 0.0  0.0397024  0.0826066  0.133475      0.0  0.0  0.0  0.0  0.0  0.0  0.0\n",
       " ⋮                                     ⋱            ⋮                   \n",
       " 0.0  0.0287514  0.0663073  0.109653      0.0  0.0  0.0  0.0  0.0  0.0  0.0\n",
       " 0.0  0.0370454  0.0755719  0.117862      0.0  0.0  0.0  0.0  0.0  0.0  0.0\n",
       " 0.0  0.0222841  0.0504856  0.08621    …  0.0  0.0  0.0  0.0  0.0  0.0  0.0\n",
       " 0.0  0.0224536  0.04668    0.0752544     0.0  0.0  0.0  0.0  0.0  0.0  0.0\n",
       " 0.0  0.0323197  0.0688451  0.114007      0.0  0.0  0.0  0.0  0.0  0.0  0.0\n",
       " 0.0  0.0281906  0.0648924  0.109514      0.0  0.0  0.0  0.0  0.0  0.0  0.0\n",
       " 0.0  0.0274738  0.0650572  0.106816      0.0  0.0  0.0  0.0  0.0  0.0  0.0\n",
       " 0.0  0.0252677  0.0583028  0.0985924  …  0.0  0.0  0.0  0.0  0.0  0.0  0.0\n",
       " 0.0  0.0330034  0.0688481  0.11211       0.0  0.0  0.0  0.0  0.0  0.0  0.0\n",
       " 0.0  0.0245851  0.058119   0.0972533     0.0  0.0  0.0  0.0  0.0  0.0  0.0\n",
       " 0.0  0.0251698  0.0513487  0.0895036     0.0  0.0  0.0  0.0  0.0  0.0  0.0\n",
       " 0.0  0.0308885  0.0709278  0.121818      0.0  0.0  0.0  0.0  0.0  0.0  0.0"
      ]
     },
     "execution_count": 351,
     "metadata": {},
     "output_type": "execute_result"
    }
   ],
   "source": [
    "\n",
    "lslr_126_gulf = Matrix(CSV.read(\"lslr_126_downscale_gulf.csv\", DataFrame))\n",
    "lslr_245_gulf = Matrix(CSV.read(\"lslr_245_downscale_gulf.csv\", DataFrame))\n",
    "lslr_585_gulf = Matrix(CSV.read(\"lslr_585_downscale_gulf.csv\", DataFrame))\n",
    "\n",
    "lslr_126_gulf = hcat(lslr_126_gulf, zeros(3560000, 9))\n",
    "lslr_245_gulf = hcat(lslr_245_gulf, zeros(3560000, 9))\n",
    "lslr_585_gulf = hcat(lslr_585_gulf, zeros(3560000, 9))\n"
   ]
  },
  {
   "cell_type": "code",
   "execution_count": 352,
   "metadata": {},
   "outputs": [
    {
     "ename": "LoadError",
     "evalue": "ReadOnlyMemoryError()",
     "output_type": "error",
     "traceback": [
      "ReadOnlyMemoryError()",
      "",
      "Stacktrace:",
      "  [1] Array",
      "    @ .\\boot.jl:459 [inlined]",
      "  [2] Array",
      "    @ .\\boot.jl:468 [inlined]",
      "  [3] similar",
      "    @ .\\abstractarray.jl:841 [inlined]",
      "  [4] similar",
      "    @ .\\abstractarray.jl:840 [inlined]",
      "  [5] _array_for",
      "    @ .\\array.jl:676 [inlined]",
      "  [6] _array_for",
      "    @ .\\array.jl:679 [inlined]",
      "  [7] match(re::Regex, str::String, idx::Int64, add_opts::UInt32)",
      "    @ Base .\\regex.jl:396",
      "  [8] match",
      "    @ .\\regex.jl:383 [inlined]",
      "  [9] match",
      "    @ .\\regex.jl:402 [inlined]",
      " [10] is_abspath",
      "    @ C:\\Users\\krfek\\.julia\\packages\\Mimi\\OClro\\src\\core\\paths.jl:197 [inlined]",
      " [11] find_comp(obj::Mimi.ModelDef, path::Mimi.ComponentPath)",
      "    @ Mimi C:\\Users\\krfek\\.julia\\packages\\Mimi\\OClro\\src\\core\\paths.jl:124",
      " [12] _get_leaf_level_epcs(md::Mimi.ModelDef, epc::Mimi.ExternalParameterConnection)",
      "    @ Mimi C:\\Users\\krfek\\.julia\\packages\\Mimi\\OClro\\src\\core\\build.jl:222",
      " [13] _collect_params(md::Mimi.ModelDef, var_dict::Dict{Mimi.ComponentPath, Any})",
      "    @ Mimi C:\\Users\\krfek\\.julia\\packages\\Mimi\\OClro\\src\\core\\build.jl:272",
      " [14] _build(md::Mimi.ModelDef)",
      "    @ Mimi C:\\Users\\krfek\\.julia\\packages\\Mimi\\OClro\\src\\core\\build.jl:417",
      " [15] build",
      "    @ C:\\Users\\krfek\\.julia\\packages\\Mimi\\OClro\\src\\core\\build.jl:440 [inlined]",
      " [16] build!",
      "    @ C:\\Users\\krfek\\.julia\\packages\\Mimi\\OClro\\src\\core\\build.jl:450 [inlined]",
      " [17] run(m::Model; ntimesteps::Int64, rebuild::Bool, dim_keys::Nothing)",
      "    @ Mimi C:\\Users\\krfek\\.julia\\packages\\Mimi\\OClro\\src\\core\\model.jl:534",
      " [18] run",
      "    @ C:\\Users\\krfek\\.julia\\packages\\Mimi\\OClro\\src\\core\\model.jl:527 [inlined]",
      " [19] run_ciam_npv(model::Model, model_name::String, lslr::Matrix{Float64}, segments::Vector{Any})",
      "    @ Main .\\In[325]:20",
      " [20] top-level scope",
      "    @ In[352]:18"
     ]
    }
   ],
   "source": [
    "run_name = \"NPV_Gulf_126\"\n",
    "subset_name = \"C:/Users/krfek/Downloads/gitdemo/mimiCIAM_demo/gulf_segments.csv\"\n",
    "\n",
    "init_settings = Dict(\n",
    "        :init_filename   => string(\"$run_name\", \"_init.csv\"),\n",
    "        :lslrfile        => \"lsl_rcp85_p50.csv\",\n",
    "        :subset          => subset_name,\n",
    "        :ssp             => \"IIASAGDP_SSP1_v9_130219\",\n",
    "        :ssp_simplified  => 1\n",
    "    )\n",
    "\n",
    "MimiCIAM.write_init_file(run_name, \"..\", init_settings)\n",
    "\n",
    "\n",
    "model_126_gulf = MimiCIAM.get_model(initfile=\"../NPV_Gulf_126_init.csv\")\n",
    "MimiCIAM.run(model_126_gulf)   \n",
    "\n",
    "npv_126_gulf = run_ciam_npv(model_126_gulf, \"NPVOptimal_126_Gulf\", lslr_126_gulf, gulf_segments)"
   ]
  },
  {
   "cell_type": "code",
   "execution_count": null,
   "metadata": {},
   "outputs": [],
   "source": [
    "run_name = \"NPV_Gulf_245\"\n",
    "subset_name = \"C:/Users/krfek/Downloads/gitdemo/mimiCIAM_demo/gulf_segments.csv\"\n",
    "\n",
    "init_settings = Dict(\n",
    "        :init_filename   => string(\"$run_name\", \"_init.csv\"),\n",
    "        :lslrfile        => \"lsl_rcp85_p50.csv\",\n",
    "        :subset          => subset_name,\n",
    "        :ssp             => \"IIASAGDP_SSP2_v9_130219\",\n",
    "        :ssp_simplified  => 2\n",
    "    )\n",
    "\n",
    "MimiCIAM.write_init_file(run_name, \"..\", init_settings)\n",
    "\n",
    "\n",
    "model_245_gulf = MimiCIAM.get_model(initfile=\"../NPV_Gulf_245_init.csv\")\n",
    "MimiCIAM.run(model_245_gulf)   \n",
    "\n",
    "npv_245_gulf = run_ciam_npv(model_245_gulf, \"NPVOptimal_245_Gulf\", lslr_245_gulf, gulf_segments)"
   ]
  },
  {
   "cell_type": "code",
   "execution_count": null,
   "metadata": {},
   "outputs": [],
   "source": [
    "run_name = \"NPV_Gulf_245\"\n",
    "subset_name = \"C:/Users/krfek/Downloads/gitdemo/mimiCIAM_demo/gulf_segments.csv\"\n",
    "\n",
    "init_settings = Dict(\n",
    "        :init_filename   => string(\"$run_name\", \"_init.csv\"),\n",
    "        :lslrfile        => \"lsl_rcp85_p50.csv\",\n",
    "        :subset          => subset_name,\n",
    "        :ssp             => \"IIASAGDP_SSP2_v9_130219\",\n",
    "        :ssp_simplified  => 2\n",
    "    )\n",
    "\n",
    "MimiCIAM.write_init_file(run_name, \"..\", init_settings)\n",
    "\n",
    "\n",
    "model_245_gulf = MimiCIAM.get_model(initfile=\"../NPV_Gulf_245_init.csv\")\n",
    "MimiCIAM.run(model_245_gulf)   \n",
    "\n",
    "npv_245_gulf = run_ciam_npv(model_245_gulf, \"NPVOptimal_245_Gulf\", lslr_245_gulf, gulf_segments)"
   ]
  },
  {
   "cell_type": "code",
   "execution_count": null,
   "metadata": {},
   "outputs": [],
   "source": [
    "run_name = \"NPV_Gulf_585\"\n",
    "subset_name = \"C:/Users/krfek/Downloads/gitdemo/mimiCIAM_demo/gulf_segments.csv\"\n",
    "\n",
    "init_settings = Dict(\n",
    "        :init_filename   => string(\"$run_name\", \"_init.csv\"),\n",
    "        :lslrfile        => \"lsl_rcp85_p50.csv\",\n",
    "        :subset          => subset_name,\n",
    "        :ssp             => \"IIASAGDP_SSP5_v9_130219\",\n",
    "        :ssp_simplified  => 5\n",
    "    )\n",
    "\n",
    "MimiCIAM.write_init_file(run_name, \"..\", init_settings)\n",
    "\n",
    "\n",
    "model_585_gulf = MimiCIAM.get_model(initfile=\"../NPV_Gulf_585_init.csv\")\n",
    "MimiCIAM.run(model_585_gulf)   \n",
    "\n",
    "npv_585_gulf = run_ciam_npv(model_585_gulf, \"NPVOptimal_585_Gulf\", lslr_585_gulf, gulf_segments)"
   ]
  },
  {
   "cell_type": "code",
   "execution_count": 350,
   "metadata": {},
   "outputs": [
    {
     "data": {
      "text/plain": [
       "3560000×9 Matrix{Float64}:\n",
       " 0.0  0.0  0.0  0.0  0.0  0.0  0.0  0.0  0.0\n",
       " 0.0  0.0  0.0  0.0  0.0  0.0  0.0  0.0  0.0\n",
       " 0.0  0.0  0.0  0.0  0.0  0.0  0.0  0.0  0.0\n",
       " 0.0  0.0  0.0  0.0  0.0  0.0  0.0  0.0  0.0\n",
       " 0.0  0.0  0.0  0.0  0.0  0.0  0.0  0.0  0.0\n",
       " 0.0  0.0  0.0  0.0  0.0  0.0  0.0  0.0  0.0\n",
       " 0.0  0.0  0.0  0.0  0.0  0.0  0.0  0.0  0.0\n",
       " 0.0  0.0  0.0  0.0  0.0  0.0  0.0  0.0  0.0\n",
       " 0.0  0.0  0.0  0.0  0.0  0.0  0.0  0.0  0.0\n",
       " 0.0  0.0  0.0  0.0  0.0  0.0  0.0  0.0  0.0\n",
       " 0.0  0.0  0.0  0.0  0.0  0.0  0.0  0.0  0.0\n",
       " 0.0  0.0  0.0  0.0  0.0  0.0  0.0  0.0  0.0\n",
       " 0.0  0.0  0.0  0.0  0.0  0.0  0.0  0.0  0.0\n",
       " ⋮                        ⋮              \n",
       " 0.0  0.0  0.0  0.0  0.0  0.0  0.0  0.0  0.0\n",
       " 0.0  0.0  0.0  0.0  0.0  0.0  0.0  0.0  0.0\n",
       " 0.0  0.0  0.0  0.0  0.0  0.0  0.0  0.0  0.0\n",
       " 0.0  0.0  0.0  0.0  0.0  0.0  0.0  0.0  0.0\n",
       " 0.0  0.0  0.0  0.0  0.0  0.0  0.0  0.0  0.0\n",
       " 0.0  0.0  0.0  0.0  0.0  0.0  0.0  0.0  0.0\n",
       " 0.0  0.0  0.0  0.0  0.0  0.0  0.0  0.0  0.0\n",
       " 0.0  0.0  0.0  0.0  0.0  0.0  0.0  0.0  0.0\n",
       " 0.0  0.0  0.0  0.0  0.0  0.0  0.0  0.0  0.0\n",
       " 0.0  0.0  0.0  0.0  0.0  0.0  0.0  0.0  0.0\n",
       " 0.0  0.0  0.0  0.0  0.0  0.0  0.0  0.0  0.0\n",
       " 0.0  0.0  0.0  0.0  0.0  0.0  0.0  0.0  0.0"
      ]
     },
     "execution_count": 350,
     "metadata": {},
     "output_type": "execute_result"
    }
   ],
   "source": [
    "zeros(3560000, 9)"
   ]
  }
 ],
 "metadata": {
  "kernelspec": {
   "display_name": "Julia 1.8.5",
   "language": "julia",
   "name": "julia-1.8"
  },
  "language_info": {
   "file_extension": ".jl",
   "mimetype": "application/julia",
   "name": "julia",
   "version": "1.8.5"
  },
  "orig_nbformat": 4
 },
 "nbformat": 4,
 "nbformat_minor": 2
}
