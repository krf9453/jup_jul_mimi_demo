{
 "cells": [
  {
   "attachments": {},
   "cell_type": "markdown",
   "metadata": {},
   "source": [
    "Guide from julia tutorial"
   ]
  },
  {
   "cell_type": "code",
   "execution_count": 2,
   "metadata": {},
   "outputs": [
    {
     "name": "stdout",
     "output_type": "stream",
     "text": [
      "Will this print?\n"
     ]
    }
   ],
   "source": [
    "#testing print\n",
    "println(\"Will this print?\")"
   ]
  },
  {
   "cell_type": "code",
   "execution_count": 5,
   "metadata": {},
   "outputs": [
    {
     "data": {
      "text/plain": [
       "String"
      ]
     },
     "execution_count": 5,
     "metadata": {},
     "output_type": "execute_result"
    }
   ],
   "source": [
    "#how variables work\n",
    "var = 4\n",
    "typeof(var)\n",
    "piVar = 3.1415\n",
    "typeof(piVar)\n",
    "cat = \"smile cat!\"\n",
    "typeof(cat)\n",
    "\n"
   ]
  },
  {
   "cell_type": "code",
   "execution_count": 13,
   "metadata": {},
   "outputs": [
    {
     "name": "stdout",
     "output_type": "stream",
     "text": [
      " \" uh oh ' \" \n"
     ]
    }
   ],
   "source": [
    "#hows strings work\n",
    "s1 = \"wow a crazy stribg\"\n",
    "s2 = \" \\\" uh oh ' \\\" \"\n",
    "println(s2)"
   ]
  },
  {
   "cell_type": "code",
   "execution_count": 2,
   "metadata": {},
   "outputs": [
    {
     "name": "stdout",
     "output_type": "stream",
     "text": [
      "hi Kelly\n",
      "hi Kelly\n"
     ]
    },
    {
     "data": {
      "text/plain": [
       "\"hi Kelly\""
      ]
     },
     "execution_count": 2,
     "metadata": {},
     "output_type": "execute_result"
    }
   ],
   "source": [
    "#STRINGS can be concatenated with s1*s2, $s1$s2, or string(s1,s2)\n",
    "str1 = \"hi\"\n",
    "str2 = \" Kelly\"\n",
    "println(str1*str2) \n",
    "str3 = \"$str1$str2\"\n",
    "println(str3)\n",
    "string(str1, str2)"
   ]
  },
  {
   "cell_type": "code",
   "execution_count": 3,
   "metadata": {},
   "outputs": [
    {
     "data": {
      "text/plain": [
       "Dict{String, String} with 2 entries:\n",
       "  \"Kelly\" => \"44-cat\"\n",
       "  \"Dan\"   => \"turtle\""
      ]
     },
     "execution_count": 3,
     "metadata": {},
     "output_type": "execute_result"
    }
   ],
   "source": [
    "#a look at dictionaries\n",
    "dictionary = Dict(\"Kelly\" => \"44-cat\", \"Mike\" => \"55-dog\")\n",
    "dictionary[\"Dan\"] = \"turtle\"\n",
    "dictionary\n",
    "dictionary[\"Kelly\"]\n",
    "pop!(dictionary, \"Mike\")\n",
    "#pop! returns value\n",
    "dictionary"
   ]
  },
  {
   "cell_type": "code",
   "execution_count": 46,
   "metadata": {},
   "outputs": [
    {
     "data": {
      "text/plain": [
       "\"cat\""
      ]
     },
     "execution_count": 46,
     "metadata": {},
     "output_type": "execute_result"
    }
   ],
   "source": [
    "tuple_list = (\"cat\", \"dog\", \"horse\")\n",
    "tuple_list[1]\n",
    "# cant update tuples\n",
    "# use ()\n"
   ]
  },
  {
   "cell_type": "code",
   "execution_count": 11,
   "metadata": {},
   "outputs": [
    {
     "name": "stdout",
     "output_type": "stream",
     "text": [
      "horse\n",
      "cat\n",
      "Any[\"horse\", \"kitty\", \"dog\", 1, \"a\"]\n",
      "[1, 2, 4, 5, 7, 8, 9]\n"
     ]
    },
    {
     "data": {
      "text/plain": [
       "6-element Vector{Int64}:\n",
       " 1\n",
       " 2\n",
       " 4\n",
       " 5\n",
       " 7\n",
       " 8"
      ]
     },
     "execution_count": 11,
     "metadata": {},
     "output_type": "execute_result"
    }
   ],
   "source": [
    "#array lists \n",
    "array_list = [\"horse\", \"cat\", \"dog\", 1, \"a\"]\n",
    "array_again = [1, 2, 4, 5, 7]\n",
    "println(array_list[1])\n",
    "println(array_list[2])\n",
    "array_list[2] = \"kitty\"\n",
    "println(array_list)\n",
    "push!(array_again, 8, 9)\n",
    "println(array_again)\n",
    "pop!(array_again)\n",
    "array_again\n",
    "\n"
   ]
  },
  {
   "cell_type": "code",
   "execution_count": 57,
   "metadata": {},
   "outputs": [
    {
     "data": {
      "text/plain": [
       "4×2 Matrix{Float64}:\n",
       " 0.0326094  0.899572\n",
       " 0.611359   0.7999\n",
       " 0.417042   0.0217788\n",
       " 0.949969   0.957467"
      ]
     },
     "execution_count": 57,
     "metadata": {},
     "output_type": "execute_result"
    }
   ],
   "source": [
    "#creating random matrix of size params, values 0-1\n",
    "rand(4,2)"
   ]
  },
  {
   "cell_type": "code",
   "execution_count": 12,
   "metadata": {},
   "outputs": [
    {
     "name": "stdout",
     "output_type": "stream",
     "text": [
      "1\n",
      "2\n",
      "3\n",
      "4\n",
      "5\n",
      "6\n",
      "7\n",
      "8\n",
      "9\n",
      "10\n",
      "Hi horse\n",
      "Hi kitty\n",
      "Hi dog\n",
      "Hi 1\n",
      "Hi a\n"
     ]
    }
   ],
   "source": [
    "#while loop\n",
    "n = 0\n",
    "while n < 10\n",
    "    n+=1\n",
    "    println(n)\n",
    "end\n",
    "\n",
    "i = 1\n",
    "while i <= length(array_list)\n",
    "    friend = array_list[i]\n",
    "    println(\"Hi $friend\")\n",
    "    i = i + 1\n",
    "end"
   ]
  },
  {
   "cell_type": "code",
   "execution_count": 9,
   "metadata": {},
   "outputs": [
    {
     "name": "stdout",
     "output_type": "stream",
     "text": [
      "1\n",
      "2\n",
      "3\n",
      "4\n"
     ]
    },
    {
     "ename": "LoadError",
     "evalue": "UndefVarError: array_list not defined",
     "output_type": "error",
     "traceback": [
      "UndefVarError: array_list not defined",
      "",
      "Stacktrace:",
      " [1] top-level scope",
      "   @ .\\In[9]:5"
     ]
    }
   ],
   "source": [
    "#for loop\n",
    "for n in 1:4\n",
    "    println(n)\n",
    "end\n",
    "\n",
    "for n in array_list\n",
    "    println(n)\n",
    "end"
   ]
  },
  {
   "cell_type": "code",
   "execution_count": null,
   "metadata": {},
   "outputs": [],
   "source": [
    "#init array\n",
    "A = zeros(4, 4)\n",
    "for i in 1:4, j in 1:4\n",
    "    A[i,j] = i + j\n",
    "end\n",
    "println(A)\n",
    "\n",
    "c = [i+j for i in 1:4, j in 1:4]"
   ]
  },
  {
   "cell_type": "code",
   "execution_count": null,
   "metadata": {},
   "outputs": [],
   "source": [
    "#=\n",
    "***using '#==#' comments out a whole block of text\n",
    "conditional shorthand\n",
    "a ? b : c\n",
    "if a \n",
    "    b\n",
    "else \n",
    "    c\n",
    "end\n",
    "\n",
    "(x>y) && println(jijij)\n",
    "=#"
   ]
  },
  {
   "cell_type": "code",
   "execution_count": 5,
   "metadata": {},
   "outputs": [
    {
     "data": {
      "text/plain": [
       "8"
      ]
     },
     "execution_count": 5,
     "metadata": {},
     "output_type": "execute_result"
    }
   ],
   "source": [
    "#basic functions\n",
    "function hiii(x)\n",
    "    x+x\n",
    "end\n",
    "\n",
    "hiii(4)"
   ]
  },
  {
   "cell_type": "code",
   "execution_count": 13,
   "metadata": {},
   "outputs": [
    {
     "name": "stdout",
     "output_type": "stream",
     "text": [
      "hi 8\n"
     ]
    }
   ],
   "source": [
    "#returns\n",
    "hello = hiii(4)\n",
    "println(\"hi $hello\")\n"
   ]
  },
  {
   "cell_type": "code",
   "execution_count": null,
   "metadata": {},
   "outputs": [],
   "source": [
    "# f.(x) is to do something for every element in an array"
   ]
  }
 ],
 "metadata": {
  "kernelspec": {
   "display_name": "Julia 1.8.5",
   "language": "julia",
   "name": "julia-1.8"
  },
  "language_info": {
   "file_extension": ".jl",
   "mimetype": "application/julia",
   "name": "julia",
   "version": "1.8.5"
  },
  "orig_nbformat": 4,
  "vscode": {
   "interpreter": {
    "hash": "7758bbe6aa9e747320b3158a3fec6e8a36895e8899bd88f591a68af9620ad383"
   }
  }
 },
 "nbformat": 4,
 "nbformat_minor": 2
}
