{
 "cells": [
  {
   "attachments": {},
   "cell_type": "markdown",
   "metadata": {},
   "source": [
    "Tutorial 1-2, running a model (MimiFUND) accessing results\n"
   ]
  },
  {
   "cell_type": "code",
   "execution_count": 3,
   "metadata": {},
   "outputs": [
    {
     "data": {
      "text/plain": [
       "20980.834204000927"
      ]
     },
     "execution_count": 3,
     "metadata": {},
     "output_type": "execute_result"
    }
   ],
   "source": [
    "#basic format for running mimi and getting results\n",
    "#m[:ComponentName, :VariableName][index/NULL]\n",
    "using MimiFUND\n",
    "m = MimiFUND.get_model()\n",
    "run(m)\n",
    "using Mimi\n",
    "m[:socioeconomic, :income][100]"
   ]
  },
  {
   "cell_type": "code",
   "execution_count": null,
   "metadata": {},
   "outputs": [],
   "source": [
    "#access explore feature\n",
    "explore(m)"
   ]
  },
  {
   "cell_type": "code",
   "execution_count": null,
   "metadata": {},
   "outputs": [],
   "source": [
    "#getting the full data frame of a category\n",
    "getdataframe(m, :socioeconomic=>:income)"
   ]
  },
  {
   "cell_type": "code",
   "execution_count": null,
   "metadata": {},
   "outputs": [],
   "source": [
    "#plotting specific component/param to a file\n",
    "p = Mimi.plot(m, :socioeconomic, :income)\n",
    "save(\"MyFilePath.png\", p)"
   ]
  },
  {
   "cell_type": "code",
   "execution_count": 4,
   "metadata": {},
   "outputs": [],
   "source": [
    "#example of updated a param\n",
    "#code for testing \n",
    "#graphs showing expected output below\n",
    "using MimiDICE2010\n",
    "n = MimiDICE2010.get_model()\n",
    "run(n)\n",
    "explore(n)\n",
    "using Mimi\n",
    "before_change = Mimi.plot(n,:radiativeforcing, :FORC);\n",
    "save(\"BeforeChangeC02.png\", before_change);\n",
    "update_param!(n, :fco22x, 3.000)\n",
    "run(n)\n",
    "after_change = Mimi.plot(n, :radiativeforcing, :FORC);\n",
    "save(\"AfterChangeC02.png\", after_change);\n"
   ]
  },
  {
   "attachments": {},
   "cell_type": "markdown",
   "metadata": {},
   "source": [
    "![Before Change](BeforeChangeC02.png)"
   ]
  },
  {
   "attachments": {},
   "cell_type": "markdown",
   "metadata": {},
   "source": [
    "![After Change](AfterChangeC02.png)"
   ]
  },
  {
   "cell_type": "code",
   "execution_count": null,
   "metadata": {},
   "outputs": [],
   "source": [
    "#changing time / time steps\n",
    "const ts = 10\n",
    "const years = collect(1995:ts:2505)\n",
    "nyears = length(years)\n",
    "set_dimension!(n, :time, years)\n"
   ]
  },
  {
   "cell_type": "code",
   "execution_count": null,
   "metadata": {},
   "outputs": [],
   "source": [
    "#testing \n",
    "println(\"using mimi fund, change times\")\n",
    "model = MimiFUND.get_model()\n",
    "run(model)\n",
    "using Mimi\n",
    "println(model[:socioeconomic, :income][100])\n",
    "update_param(model, )\n",
    "\n"
   ]
  },
  {
   "cell_type": "markdown",
   "metadata": {},
   "source": [
    "#shared params dict\n",
    "params = Dict{Any, Any}()\n",
    "params[:a1] = 0.00008162\n",
    "params[:a2] = 0.00204626\n",
    "...\n",
    "params[:S] = repeat([0.23], nyears)\n"
   ]
  },
  {
   "cell_type": "markdown",
   "metadata": {},
   "source": [
    "#unshared params dict\n",
    "params_u = Dict{Any, Any}()\n",
    "params_u[(:comp1, :a1)] = 0.00008162\n",
    "params_u[(:comp1, :a2)] = 0.00204626\n",
    "...\n",
    "params_u[(:comp2. :S)] = repeat([0.23], nyears)"
   ]
  }
 ],
 "metadata": {
  "kernelspec": {
   "display_name": "Julia 1.8.5",
   "language": "julia",
   "name": "julia-1.8"
  },
  "language_info": {
   "file_extension": ".jl",
   "mimetype": "application/julia",
   "name": "julia",
   "version": "1.8.5"
  },
  "orig_nbformat": 4
 },
 "nbformat": 4,
 "nbformat_minor": 2
}
