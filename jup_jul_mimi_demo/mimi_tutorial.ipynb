{
 "cells": [
  {
   "attachments": {},
   "cell_type": "markdown",
   "metadata": {},
   "source": [
    "Tutorial 1-2, running a model (MimiFUND) accessing results\n",
    "m[:ComponentName, :VariableName][index/NULL]"
   ]
  },
  {
   "cell_type": "code",
   "execution_count": 3,
   "metadata": {},
   "outputs": [
    {
     "data": {
      "text/plain": [
       "20980.834204000927"
      ]
     },
     "execution_count": 3,
     "metadata": {},
     "output_type": "execute_result"
    }
   ],
   "source": [
    "using MimiFUND\n",
    "m = MimiFUND.get_model()\n",
    "run(m)\n",
    "using Mimi\n",
    "m[:socioeconomic, :income][100]"
   ]
  },
  {
   "cell_type": "code",
   "execution_count": null,
   "metadata": {},
   "outputs": [],
   "source": [
    "explore(m)"
   ]
  },
  {
   "cell_type": "code",
   "execution_count": null,
   "metadata": {},
   "outputs": [],
   "source": [
    "#getting the full data frame of a category\n",
    "getdataframe(m, :socioeconomic=>:income)"
   ]
  },
  {
   "cell_type": "code",
   "execution_count": null,
   "metadata": {},
   "outputs": [],
   "source": [
    "#explore(m)\n",
    "p = Mimi.plot(m, :socioeconomic, :income)\n",
    "save(\"MyFilePath.png\", p)"
   ]
  },
  {
   "cell_type": "code",
   "execution_count": 1,
   "metadata": {},
   "outputs": [],
   "source": [
    "using MimiDICE2010\n",
    "n = MimiDICE2010.get_model()\n",
    "run(n)\n",
    "using Mimi\n",
    "update_param!(n, :fco22x, 3.000)\n",
    "run(n)\n"
   ]
  },
  {
   "cell_type": "code",
   "execution_count": null,
   "metadata": {},
   "outputs": [],
   "source": [
    "const ts = 10\n",
    "const years = collect(1995:ts:2505)\n",
    "nyears = length(years)\n",
    "set_dimension!(n, :time, years)"
   ]
  },
  {
   "cell_type": "code",
   "execution_count": null,
   "metadata": {},
   "outputs": [],
   "source": [
    "#shared params dict\n",
    "params = Dict{Any, Any}()\n",
    "params[:a1] = 0.00008162\n",
    "params[:a2] = 0.00204626\n",
    "...\n",
    "params[:S] = repeat([0.23], nyears)\n"
   ]
  },
  {
   "cell_type": "code",
   "execution_count": null,
   "metadata": {},
   "outputs": [],
   "source": [
    "#unshared params dict\n",
    "params_u = Dict{Any, Any}()\n",
    "params_u[(:comp1, :a1)] = 0.00008162\n",
    "params_u[(:comp1, :a2)] = 0.00204626\n",
    "...\n",
    "params_u[(:comp2. :S)] = repeat([0.23], nyears)"
   ]
  }
 ],
 "metadata": {
  "kernelspec": {
   "display_name": "Julia 1.8.5",
   "language": "julia",
   "name": "julia-1.8"
  },
  "language_info": {
   "file_extension": ".jl",
   "mimetype": "application/julia",
   "name": "julia",
   "version": "1.8.5"
  },
  "orig_nbformat": 4
 },
 "nbformat": 4,
 "nbformat_minor": 2
}
